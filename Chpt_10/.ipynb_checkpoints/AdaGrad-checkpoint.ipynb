{
 "cells": [
  {
   "cell_type": "markdown",
   "id": "21dc9755-d07a-48a5-ad67-1c6f0ddf52a0",
   "metadata": {},
   "source": [
    "# Stochastic Gradient Descent (SGD) "
   ]
  },
  {
   "cell_type": "markdown",
   "id": "4b56e061-1759-4123-97bf-593a3a9ddd76",
   "metadata": {},
   "source": [
    "## Using AdaGrad (Adaptive Gradient)"
   ]
  },
  {
   "cell_type": "code",
   "execution_count": 1,
   "id": "2191ddf0-c322-464c-ad55-b4acbde97c3f",
   "metadata": {},
   "outputs": [],
   "source": [
    "import nnfs\n",
    "import numpy as np\n",
    "from nnfs.datasets import spiral_data"
   ]
  },
  {
   "cell_type": "code",
   "execution_count": 2,
   "id": "f0bce0bd-fd61-46e1-9ac8-203b4aa88d22",
   "metadata": {},
   "outputs": [],
   "source": [
    "nnfs.init()"
   ]
  },
  {
   "cell_type": "code",
   "execution_count": 3,
   "id": "a53bce3d-4dd5-45ea-859a-dd2dd518df69",
   "metadata": {},
   "outputs": [],
   "source": [
    "import os\n",
    "import sys\n",
    "\n",
    "module = os.path.abspath(os.path.join(\"..\"))\n",
    "if module not in sys.path:\n",
    "    sys.path.append(module)"
   ]
  },
  {
   "cell_type": "code",
   "execution_count": 4,
   "id": "d1744015-4091-4aef-ad7b-ee57f203f21f",
   "metadata": {},
   "outputs": [],
   "source": [
    "from Chpt_9.NN_Classes import *"
   ]
  },
  {
   "cell_type": "code",
   "execution_count": 5,
   "id": "9b8dcb02-749e-4379-a9a2-1cf9788ea14c",
   "metadata": {},
   "outputs": [],
   "source": [
    "%run AdaGrad_Class.ipynb"
   ]
  },
  {
   "cell_type": "code",
   "execution_count": 6,
   "id": "07f61aa0-3059-4090-938b-841f1d2e758f",
   "metadata": {},
   "outputs": [],
   "source": [
    "X, y = spiral_data(samples=100, classes=3)"
   ]
  },
  {
   "cell_type": "code",
   "execution_count": 7,
   "id": "f7a49df0-89ec-4afe-b4b3-681933a92853",
   "metadata": {},
   "outputs": [],
   "source": [
    "dense1 = Layer_Dense(2, 64)\n",
    "activation1 = Activation_ReLU()\n",
    "dense2 = Layer_Dense(64, 3)\n",
    "loss_activation = Activation_Softmax_Loss_CategoricalCrossentropy()"
   ]
  },
  {
   "cell_type": "code",
   "execution_count": 8,
   "id": "787aeece-e44b-49f4-afbb-120e82040efa",
   "metadata": {},
   "outputs": [],
   "source": [
    "optimizer = Optimizer_AdaGrad(decay=1e-4)"
   ]
  },
  {
   "cell_type": "code",
   "execution_count": 9,
   "id": "493739e0-d462-4a9b-8a86-ee65ce4cc213",
   "metadata": {},
   "outputs": [
    {
     "name": "stdout",
     "output_type": "stream",
     "text": [
      "epoch: 0, acc: 0.360, loss: 1.099, lr: 1.0\n",
      "epoch: 100, acc: 0.457, loss: 1.012, lr: 0.9901970492127933\n",
      "epoch: 200, acc: 0.527, loss: 0.936, lr: 0.9804882831650161\n",
      "epoch: 300, acc: 0.600, loss: 0.874, lr: 0.9709680551509855\n",
      "epoch: 400, acc: 0.623, loss: 0.830, lr: 0.9616309260505818\n",
      "epoch: 500, acc: 0.617, loss: 0.791, lr: 0.9524716639679969\n",
      "epoch: 600, acc: 0.663, loss: 0.761, lr: 0.9434852344560807\n",
      "epoch: 700, acc: 0.667, loss: 0.733, lr: 0.9346667912889054\n",
      "epoch: 800, acc: 0.680, loss: 0.704, lr: 0.9260116677470135\n",
      "epoch: 900, acc: 0.687, loss: 0.686, lr: 0.9175153683824203\n",
      "epoch: 1000, acc: 0.683, loss: 0.669, lr: 0.9091735612328392\n",
      "epoch: 1100, acc: 0.703, loss: 0.653, lr: 0.9009820704567978\n",
      "epoch: 1200, acc: 0.700, loss: 0.640, lr: 0.892936869363336\n",
      "epoch: 1300, acc: 0.717, loss: 0.629, lr: 0.8850340738118416\n",
      "epoch: 1400, acc: 0.713, loss: 0.615, lr: 0.8772699359592947\n",
      "epoch: 1500, acc: 0.727, loss: 0.601, lr: 0.8696408383337683\n",
      "epoch: 1600, acc: 0.737, loss: 0.589, lr: 0.8621432882145013\n",
      "epoch: 1700, acc: 0.750, loss: 0.579, lr: 0.8547739123001966\n",
      "epoch: 1800, acc: 0.750, loss: 0.571, lr: 0.8475294516484448\n",
      "epoch: 1900, acc: 0.750, loss: 0.562, lr: 0.8404067568703253\n",
      "epoch: 2000, acc: 0.760, loss: 0.557, lr: 0.8334027835652972\n",
      "epoch: 2100, acc: 0.757, loss: 0.548, lr: 0.8265145879824779\n",
      "epoch: 2200, acc: 0.757, loss: 0.543, lr: 0.8197393228953193\n",
      "epoch: 2300, acc: 0.763, loss: 0.537, lr: 0.8130742336775347\n",
      "epoch: 2400, acc: 0.763, loss: 0.532, lr: 0.8065166545689169\n",
      "epoch: 2500, acc: 0.763, loss: 0.527, lr: 0.8000640051204096\n",
      "epoch: 2600, acc: 0.767, loss: 0.522, lr: 0.7937137868084768\n",
      "epoch: 2700, acc: 0.773, loss: 0.519, lr: 0.7874635798094338\n",
      "epoch: 2800, acc: 0.780, loss: 0.514, lr: 0.7813110399249941\n",
      "epoch: 2900, acc: 0.780, loss: 0.510, lr: 0.7752538956508256\n",
      "epoch: 3000, acc: 0.780, loss: 0.508, lr: 0.7692899453804138\n",
      "epoch: 3100, acc: 0.777, loss: 0.503, lr: 0.7634170547370028\n",
      "epoch: 3200, acc: 0.780, loss: 0.500, lr: 0.7576331540268202\n",
      "epoch: 3300, acc: 0.780, loss: 0.497, lr: 0.7519362358072035\n",
      "epoch: 3400, acc: 0.783, loss: 0.492, lr: 0.7463243525636241\n",
      "epoch: 3500, acc: 0.780, loss: 0.490, lr: 0.7407956144899621\n",
      "epoch: 3600, acc: 0.777, loss: 0.487, lr: 0.735348187366718\n",
      "epoch: 3700, acc: 0.780, loss: 0.484, lr: 0.7299802905321557\n",
      "epoch: 3800, acc: 0.780, loss: 0.482, lr: 0.7246901949416624\n",
      "epoch: 3900, acc: 0.777, loss: 0.479, lr: 0.7194762213108857\n",
      "epoch: 4000, acc: 0.777, loss: 0.477, lr: 0.7143367383384527\n",
      "epoch: 4100, acc: 0.777, loss: 0.475, lr: 0.7092701610043266\n",
      "epoch: 4200, acc: 0.783, loss: 0.472, lr: 0.7042749489400663\n",
      "epoch: 4300, acc: 0.787, loss: 0.470, lr: 0.6993496048674733\n",
      "epoch: 4400, acc: 0.790, loss: 0.468, lr: 0.6944926731022988\n",
      "epoch: 4500, acc: 0.790, loss: 0.467, lr: 0.6897027381198704\n",
      "epoch: 4600, acc: 0.797, loss: 0.464, lr: 0.6849784231796698\n",
      "epoch: 4700, acc: 0.800, loss: 0.464, lr: 0.6803183890060548\n",
      "epoch: 4800, acc: 0.803, loss: 0.461, lr: 0.6757213325224677\n",
      "epoch: 4900, acc: 0.803, loss: 0.458, lr: 0.6711859856366199\n",
      "epoch: 5000, acc: 0.807, loss: 0.457, lr: 0.6667111140742716\n",
      "epoch: 5100, acc: 0.810, loss: 0.454, lr: 0.6622955162593549\n",
      "epoch: 5200, acc: 0.810, loss: 0.452, lr: 0.6579380222383051\n",
      "epoch: 5300, acc: 0.813, loss: 0.450, lr: 0.6536374926465782\n",
      "epoch: 5400, acc: 0.810, loss: 0.448, lr: 0.649392817715436\n",
      "epoch: 5500, acc: 0.810, loss: 0.446, lr: 0.6452029163171817\n",
      "epoch: 5600, acc: 0.810, loss: 0.445, lr: 0.6410667350471184\n",
      "epoch: 5700, acc: 0.810, loss: 0.443, lr: 0.6369832473405949\n",
      "epoch: 5800, acc: 0.810, loss: 0.441, lr: 0.6329514526235838\n",
      "epoch: 5900, acc: 0.810, loss: 0.439, lr: 0.6289703754953141\n",
      "epoch: 6000, acc: 0.813, loss: 0.437, lr: 0.6250390649415589\n",
      "epoch: 6100, acc: 0.807, loss: 0.435, lr: 0.6211565935772407\n",
      "epoch: 6200, acc: 0.810, loss: 0.433, lr: 0.6173220569170937\n",
      "epoch: 6300, acc: 0.810, loss: 0.432, lr: 0.6135345726731701\n",
      "epoch: 6400, acc: 0.810, loss: 0.431, lr: 0.6097932800780536\n",
      "epoch: 6500, acc: 0.817, loss: 0.429, lr: 0.6060973392326807\n",
      "epoch: 6600, acc: 0.817, loss: 0.427, lr: 0.6024459304777396\n",
      "epoch: 6700, acc: 0.820, loss: 0.426, lr: 0.5988382537876519\n",
      "epoch: 6800, acc: 0.820, loss: 0.424, lr: 0.5952735281862016\n",
      "epoch: 6900, acc: 0.823, loss: 0.422, lr: 0.5917509911829102\n",
      "epoch: 7000, acc: 0.820, loss: 0.421, lr: 0.5882698982293076\n",
      "epoch: 7100, acc: 0.820, loss: 0.419, lr: 0.5848295221942803\n",
      "epoch: 7200, acc: 0.820, loss: 0.418, lr: 0.5814291528577243\n",
      "epoch: 7300, acc: 0.827, loss: 0.416, lr: 0.5780680964217585\n",
      "epoch: 7400, acc: 0.827, loss: 0.415, lr: 0.5747456750387954\n",
      "epoch: 7500, acc: 0.830, loss: 0.412, lr: 0.5714612263557918\n",
      "epoch: 7600, acc: 0.830, loss: 0.412, lr: 0.5682141030740383\n",
      "epoch: 7700, acc: 0.830, loss: 0.410, lr: 0.5650036725238714\n",
      "epoch: 7800, acc: 0.827, loss: 0.408, lr: 0.5618293162537221\n",
      "epoch: 7900, acc: 0.830, loss: 0.406, lr: 0.5586904296329404\n",
      "epoch: 8000, acc: 0.833, loss: 0.405, lr: 0.5555864214678593\n",
      "epoch: 8100, acc: 0.837, loss: 0.404, lr: 0.5525167136305873\n",
      "epoch: 8200, acc: 0.833, loss: 0.403, lr: 0.5494807407000385\n",
      "epoch: 8300, acc: 0.837, loss: 0.401, lr: 0.5464779496147331\n",
      "epoch: 8400, acc: 0.837, loss: 0.399, lr: 0.5435077993369205\n",
      "epoch: 8500, acc: 0.837, loss: 0.398, lr: 0.5405697605275961\n",
      "epoch: 8600, acc: 0.837, loss: 0.396, lr: 0.5376633152320017\n",
      "epoch: 8700, acc: 0.837, loss: 0.395, lr: 0.5347879565752179\n",
      "epoch: 8800, acc: 0.837, loss: 0.394, lr: 0.5319431884674717\n",
      "epoch: 8900, acc: 0.837, loss: 0.392, lr: 0.5291285253188\n",
      "epoch: 9000, acc: 0.837, loss: 0.390, lr: 0.5263434917627243\n",
      "epoch: 9100, acc: 0.843, loss: 0.389, lr: 0.5235876223886068\n",
      "epoch: 9200, acc: 0.843, loss: 0.389, lr: 0.5208604614823689\n",
      "epoch: 9300, acc: 0.843, loss: 0.387, lr: 0.5181615627752734\n",
      "epoch: 9400, acc: 0.843, loss: 0.386, lr: 0.5154904892004742\n",
      "epoch: 9500, acc: 0.843, loss: 0.385, lr: 0.5128468126570593\n",
      "epoch: 9600, acc: 0.843, loss: 0.384, lr: 0.5102301137813153\n",
      "epoch: 9700, acc: 0.843, loss: 0.383, lr: 0.5076399817249606\n",
      "epoch: 9800, acc: 0.847, loss: 0.382, lr: 0.5050760139400979\n",
      "epoch: 9900, acc: 0.847, loss: 0.381, lr: 0.5025378159706518\n",
      "epoch: 10000, acc: 0.847, loss: 0.379, lr: 0.5000250012500626\n"
     ]
    }
   ],
   "source": [
    "for epoch in range(10001):\n",
    "\n",
    "    dense1.forward(X)\n",
    "    activation1.forward(dense1.output)\n",
    "    dense2.forward(activation1.output)\n",
    "    loss = loss_activation.forward(dense2.output, y)\n",
    "\n",
    "    predictions = np.argmax(loss_activation.output, axis=1)\n",
    "    if len(y.shape) == 2:\n",
    "        y = np.argmax(y, axis=1)\n",
    "    accuracy = np.mean(predictions == y)\n",
    "\n",
    "    if not epoch % 100:\n",
    "        print(\n",
    "            f\"epoch: {epoch}, \"\n",
    "            + f\"acc: {accuracy:.3f}, \"\n",
    "            + f\"loss: {loss:.3f}, \"\n",
    "            + f\"lr: {optimizer.current_learning_rate}\"\n",
    "        )\n",
    "\n",
    "    loss_activation.backward(loss_activation.output, y)\n",
    "    dense2.backward(loss_activation.dinputs)\n",
    "    activation1.backward(dense2.dinputs)\n",
    "    dense1.backward(activation1.dinputs)\n",
    "\n",
    "    optimizer.pre_update_params()\n",
    "    optimizer.update_params(dense1)\n",
    "    optimizer.update_params(dense2)\n",
    "    optimizer.post_update_params()"
   ]
  }
 ],
 "metadata": {
  "kernelspec": {
   "display_name": "Python 3",
   "language": "python",
   "name": "python3"
  },
  "language_info": {
   "codemirror_mode": {
    "name": "ipython",
    "version": 3
   },
   "file_extension": ".py",
   "mimetype": "text/x-python",
   "name": "python",
   "nbconvert_exporter": "python",
   "pygments_lexer": "ipython3",
   "version": "3.8.5"
  }
 },
 "nbformat": 4,
 "nbformat_minor": 5
}
