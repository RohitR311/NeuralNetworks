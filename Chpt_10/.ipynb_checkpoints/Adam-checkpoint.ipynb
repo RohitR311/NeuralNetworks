{
 "cells": [
  {
   "cell_type": "markdown",
   "id": "21dc9755-d07a-48a5-ad67-1c6f0ddf52a0",
   "metadata": {},
   "source": [
    "# Stochastic Gradient Descent (SGD) "
   ]
  },
  {
   "cell_type": "markdown",
   "id": "4b56e061-1759-4123-97bf-593a3a9ddd76",
   "metadata": {},
   "source": [
    "## Using Adam (Adaptive Momentum)"
   ]
  },
  {
   "cell_type": "code",
   "execution_count": 1,
   "id": "2191ddf0-c322-464c-ad55-b4acbde97c3f",
   "metadata": {},
   "outputs": [],
   "source": [
    "import nnfs\n",
    "import numpy as np\n",
    "from nnfs.datasets import spiral_data"
   ]
  },
  {
   "cell_type": "code",
   "execution_count": 2,
   "id": "f0bce0bd-fd61-46e1-9ac8-203b4aa88d22",
   "metadata": {},
   "outputs": [],
   "source": [
    "nnfs.init()"
   ]
  },
  {
   "cell_type": "code",
   "execution_count": 3,
   "id": "a53bce3d-4dd5-45ea-859a-dd2dd518df69",
   "metadata": {},
   "outputs": [],
   "source": [
    "import os\n",
    "import sys\n",
    "\n",
    "module = os.path.abspath(os.path.join(\"..\"))\n",
    "if module not in sys.path:\n",
    "    sys.path.append(module)"
   ]
  },
  {
   "cell_type": "code",
   "execution_count": 4,
   "id": "d1744015-4091-4aef-ad7b-ee57f203f21f",
   "metadata": {},
   "outputs": [],
   "source": [
    "from Chpt_9.NN_Classes import *"
   ]
  },
  {
   "cell_type": "code",
   "execution_count": 5,
   "id": "9b8dcb02-749e-4379-a9a2-1cf9788ea14c",
   "metadata": {},
   "outputs": [],
   "source": [
    "%run Adam_Class.ipynb"
   ]
  },
  {
   "cell_type": "code",
   "execution_count": 6,
   "id": "07f61aa0-3059-4090-938b-841f1d2e758f",
   "metadata": {},
   "outputs": [],
   "source": [
    "X, y = spiral_data(samples=100, classes=3)"
   ]
  },
  {
   "cell_type": "code",
   "execution_count": 7,
   "id": "f7a49df0-89ec-4afe-b4b3-681933a92853",
   "metadata": {},
   "outputs": [],
   "source": [
    "dense1 = Layer_Dense(2, 64)\n",
    "activation1 = Activation_ReLU()\n",
    "dense2 = Layer_Dense(64, 3)\n",
    "loss_activation = Activation_Softmax_Loss_CategoricalCrossentropy()"
   ]
  },
  {
   "cell_type": "code",
   "execution_count": 8,
   "id": "787aeece-e44b-49f4-afbb-120e82040efa",
   "metadata": {},
   "outputs": [],
   "source": [
    "optimizer = Optimizer_Adam(learning_rate=0.05, decay=5e-7)"
   ]
  },
  {
   "cell_type": "code",
   "execution_count": 9,
   "id": "493739e0-d462-4a9b-8a86-ee65ce4cc213",
   "metadata": {},
   "outputs": [
    {
     "name": "stdout",
     "output_type": "stream",
     "text": [
      "epoch: 0, acc: 0.360, loss: 1.099, lr: 0.05\n",
      "epoch: 100, acc: 0.713, loss: 0.684, lr: 0.04999752512250644\n",
      "epoch: 200, acc: 0.827, loss: 0.511, lr: 0.04999502549496326\n",
      "epoch: 300, acc: 0.847, loss: 0.426, lr: 0.049992526117345455\n",
      "epoch: 400, acc: 0.873, loss: 0.367, lr: 0.04999002698961558\n",
      "epoch: 500, acc: 0.883, loss: 0.325, lr: 0.049987528111736124\n",
      "epoch: 600, acc: 0.897, loss: 0.307, lr: 0.049985029483669646\n",
      "epoch: 700, acc: 0.907, loss: 0.264, lr: 0.049982531105378675\n",
      "epoch: 800, acc: 0.897, loss: 0.278, lr: 0.04998003297682575\n",
      "epoch: 900, acc: 0.923, loss: 0.230, lr: 0.049977535097973466\n",
      "epoch: 1000, acc: 0.920, loss: 0.218, lr: 0.049975037468784345\n",
      "epoch: 1100, acc: 0.920, loss: 0.208, lr: 0.049972540089220974\n",
      "epoch: 1200, acc: 0.927, loss: 0.203, lr: 0.04997004295924593\n",
      "epoch: 1300, acc: 0.913, loss: 0.203, lr: 0.04996754607882181\n",
      "epoch: 1400, acc: 0.927, loss: 0.193, lr: 0.049965049447911185\n",
      "epoch: 1500, acc: 0.927, loss: 0.185, lr: 0.04996255306647668\n",
      "epoch: 1600, acc: 0.927, loss: 0.181, lr: 0.049960056934480884\n",
      "epoch: 1700, acc: 0.927, loss: 0.178, lr: 0.04995756105188642\n",
      "epoch: 1800, acc: 0.927, loss: 0.175, lr: 0.049955065418655915\n",
      "epoch: 1900, acc: 0.927, loss: 0.172, lr: 0.04995257003475201\n",
      "epoch: 2000, acc: 0.930, loss: 0.170, lr: 0.04995007490013731\n",
      "epoch: 2100, acc: 0.930, loss: 0.167, lr: 0.0499475800147745\n",
      "epoch: 2200, acc: 0.930, loss: 0.164, lr: 0.0499450853786262\n",
      "epoch: 2300, acc: 0.930, loss: 0.161, lr: 0.0499425909916551\n",
      "epoch: 2400, acc: 0.933, loss: 0.158, lr: 0.04994009685382384\n",
      "epoch: 2500, acc: 0.943, loss: 0.156, lr: 0.04993760296509512\n",
      "epoch: 2600, acc: 0.947, loss: 0.157, lr: 0.049935109325431604\n",
      "epoch: 2700, acc: 0.940, loss: 0.153, lr: 0.049932615934796004\n",
      "epoch: 2800, acc: 0.943, loss: 0.149, lr: 0.04993012279315098\n",
      "epoch: 2900, acc: 0.943, loss: 0.146, lr: 0.049927629900459285\n",
      "epoch: 3000, acc: 0.943, loss: 0.143, lr: 0.049925137256683606\n",
      "epoch: 3100, acc: 0.943, loss: 0.141, lr: 0.04992264486178666\n",
      "epoch: 3200, acc: 0.947, loss: 0.139, lr: 0.04992015271573119\n",
      "epoch: 3300, acc: 0.950, loss: 0.136, lr: 0.04991766081847992\n",
      "epoch: 3400, acc: 0.953, loss: 0.134, lr: 0.049915169169995596\n",
      "epoch: 3500, acc: 0.963, loss: 0.137, lr: 0.049912677770240964\n",
      "epoch: 3600, acc: 0.960, loss: 0.131, lr: 0.049910186619178794\n",
      "epoch: 3700, acc: 0.927, loss: 0.205, lr: 0.04990769571677183\n",
      "epoch: 3800, acc: 0.953, loss: 0.129, lr: 0.04990520506298287\n",
      "epoch: 3900, acc: 0.953, loss: 0.127, lr: 0.04990271465777467\n",
      "epoch: 4000, acc: 0.953, loss: 0.125, lr: 0.049900224501110035\n",
      "epoch: 4100, acc: 0.957, loss: 0.124, lr: 0.04989773459295174\n",
      "epoch: 4200, acc: 0.957, loss: 0.123, lr: 0.04989524493326262\n",
      "epoch: 4300, acc: 0.953, loss: 0.122, lr: 0.04989275552200545\n",
      "epoch: 4400, acc: 0.957, loss: 0.121, lr: 0.04989026635914307\n",
      "epoch: 4500, acc: 0.957, loss: 0.119, lr: 0.04988777744463829\n",
      "epoch: 4600, acc: 0.957, loss: 0.118, lr: 0.049885288778453954\n",
      "epoch: 4700, acc: 0.957, loss: 0.117, lr: 0.049882800360552884\n",
      "epoch: 4800, acc: 0.957, loss: 0.116, lr: 0.04988031219089794\n",
      "epoch: 4900, acc: 0.957, loss: 0.115, lr: 0.049877824269451976\n",
      "epoch: 5000, acc: 0.957, loss: 0.114, lr: 0.04987533659617785\n",
      "epoch: 5100, acc: 0.957, loss: 0.113, lr: 0.04987284917103844\n",
      "epoch: 5200, acc: 0.960, loss: 0.111, lr: 0.04987036199399661\n",
      "epoch: 5300, acc: 0.953, loss: 0.113, lr: 0.04986787506501525\n",
      "epoch: 5400, acc: 0.960, loss: 0.111, lr: 0.04986538838405724\n",
      "epoch: 5500, acc: 0.963, loss: 0.108, lr: 0.049862901951085496\n",
      "epoch: 5600, acc: 0.967, loss: 0.109, lr: 0.049860415766062906\n",
      "epoch: 5700, acc: 0.963, loss: 0.106, lr: 0.0498579298289524\n",
      "epoch: 5800, acc: 0.960, loss: 0.102, lr: 0.04985544413971689\n",
      "epoch: 5900, acc: 0.963, loss: 0.103, lr: 0.049852958698319315\n",
      "epoch: 6000, acc: 0.963, loss: 0.107, lr: 0.04985047350472258\n",
      "epoch: 6100, acc: 0.963, loss: 0.104, lr: 0.04984798855888967\n",
      "epoch: 6200, acc: 0.903, loss: 0.284, lr: 0.049845503860783506\n",
      "epoch: 6300, acc: 0.963, loss: 0.100, lr: 0.049843019410367055\n",
      "epoch: 6400, acc: 0.960, loss: 0.099, lr: 0.04984053520760327\n",
      "epoch: 6500, acc: 0.960, loss: 0.097, lr: 0.049838051252455155\n",
      "epoch: 6600, acc: 0.963, loss: 0.096, lr: 0.049835567544885655\n",
      "epoch: 6700, acc: 0.963, loss: 0.096, lr: 0.04983308408485778\n",
      "epoch: 6800, acc: 0.963, loss: 0.095, lr: 0.0498306008723345\n",
      "epoch: 6900, acc: 0.963, loss: 0.094, lr: 0.04982811790727884\n",
      "epoch: 7000, acc: 0.963, loss: 0.094, lr: 0.04982563518965381\n",
      "epoch: 7100, acc: 0.967, loss: 0.093, lr: 0.049823152719422406\n",
      "epoch: 7200, acc: 0.967, loss: 0.093, lr: 0.049820670496547675\n",
      "epoch: 7300, acc: 0.967, loss: 0.092, lr: 0.04981818852099264\n",
      "epoch: 7400, acc: 0.967, loss: 0.091, lr: 0.049815706792720335\n",
      "epoch: 7500, acc: 0.967, loss: 0.090, lr: 0.0498132253116938\n",
      "epoch: 7600, acc: 0.967, loss: 0.090, lr: 0.04981074407787611\n",
      "epoch: 7700, acc: 0.967, loss: 0.089, lr: 0.049808263091230306\n",
      "epoch: 7800, acc: 0.973, loss: 0.089, lr: 0.04980578235171948\n",
      "epoch: 7900, acc: 0.970, loss: 0.089, lr: 0.04980330185930667\n",
      "epoch: 8000, acc: 0.980, loss: 0.088, lr: 0.04980082161395499\n",
      "epoch: 8100, acc: 0.967, loss: 0.091, lr: 0.04979834161562752\n",
      "epoch: 8200, acc: 0.980, loss: 0.087, lr: 0.04979586186428736\n",
      "epoch: 8300, acc: 0.967, loss: 0.086, lr: 0.04979338235989761\n",
      "epoch: 8400, acc: 0.967, loss: 0.089, lr: 0.04979090310242139\n",
      "epoch: 8500, acc: 0.980, loss: 0.084, lr: 0.049788424091821805\n",
      "epoch: 8600, acc: 0.973, loss: 0.082, lr: 0.049785945328062006\n",
      "epoch: 8700, acc: 0.980, loss: 0.084, lr: 0.0497834668111051\n",
      "epoch: 8800, acc: 0.973, loss: 0.082, lr: 0.049780988540914256\n",
      "epoch: 8900, acc: 0.977, loss: 0.080, lr: 0.0497785105174526\n",
      "epoch: 9000, acc: 0.973, loss: 0.079, lr: 0.04977603274068329\n",
      "epoch: 9100, acc: 0.967, loss: 0.083, lr: 0.04977355521056952\n",
      "epoch: 9200, acc: 0.967, loss: 0.084, lr: 0.049771077927074414\n",
      "epoch: 9300, acc: 0.970, loss: 0.079, lr: 0.0497686008901612\n",
      "epoch: 9400, acc: 0.980, loss: 0.079, lr: 0.04976612409979302\n",
      "epoch: 9500, acc: 0.977, loss: 0.079, lr: 0.0497636475559331\n",
      "epoch: 9600, acc: 0.977, loss: 0.075, lr: 0.049761171258544616\n",
      "epoch: 9700, acc: 0.963, loss: 0.103, lr: 0.0497586952075908\n",
      "epoch: 9800, acc: 0.983, loss: 0.075, lr: 0.04975621940303483\n",
      "epoch: 9900, acc: 0.983, loss: 0.074, lr: 0.049753743844839965\n",
      "epoch: 10000, acc: 0.983, loss: 0.074, lr: 0.04975126853296942\n"
     ]
    }
   ],
   "source": [
    "for epoch in range(10001):\n",
    "\n",
    "    dense1.forward(X)\n",
    "    activation1.forward(dense1.output)\n",
    "    dense2.forward(activation1.output)\n",
    "    loss = loss_activation.forward(dense2.output, y)\n",
    "\n",
    "    predictions = np.argmax(loss_activation.output, axis=1)\n",
    "    if len(y.shape) == 2:\n",
    "        y = np.argmax(y, axis=1)\n",
    "    accuracy = np.mean(predictions == y)\n",
    "\n",
    "    if not epoch % 100:\n",
    "        print(\n",
    "            f\"epoch: {epoch}, \"\n",
    "            + f\"acc: {accuracy:.3f}, \"\n",
    "            + f\"loss: {loss:.3f}, \"\n",
    "            + f\"lr: {optimizer.current_learning_rate}\"\n",
    "        )\n",
    "\n",
    "    loss_activation.backward(loss_activation.output, y)\n",
    "    dense2.backward(loss_activation.dinputs)\n",
    "    activation1.backward(dense2.dinputs)\n",
    "    dense1.backward(activation1.dinputs)\n",
    "\n",
    "    optimizer.pre_update_params()\n",
    "    optimizer.update_params(dense1)\n",
    "    optimizer.update_params(dense2)\n",
    "    optimizer.post_update_params()"
   ]
  }
 ],
 "metadata": {
  "kernelspec": {
   "display_name": "Python 3",
   "language": "python",
   "name": "python3"
  },
  "language_info": {
   "codemirror_mode": {
    "name": "ipython",
    "version": 3
   },
   "file_extension": ".py",
   "mimetype": "text/x-python",
   "name": "python",
   "nbconvert_exporter": "python",
   "pygments_lexer": "ipython3",
   "version": "3.8.5"
  }
 },
 "nbformat": 4,
 "nbformat_minor": 5
}
