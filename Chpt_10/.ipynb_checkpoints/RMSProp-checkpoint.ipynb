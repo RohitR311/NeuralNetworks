{
 "cells": [
  {
   "cell_type": "markdown",
   "id": "21dc9755-d07a-48a5-ad67-1c6f0ddf52a0",
   "metadata": {},
   "source": [
    "# Stochastic Gradient Descent (SGD) "
   ]
  },
  {
   "cell_type": "markdown",
   "id": "4b56e061-1759-4123-97bf-593a3a9ddd76",
   "metadata": {},
   "source": [
    "## Using RMSProp (Root Mean Square Propagation)"
   ]
  },
  {
   "cell_type": "code",
   "execution_count": 1,
   "id": "2191ddf0-c322-464c-ad55-b4acbde97c3f",
   "metadata": {},
   "outputs": [],
   "source": [
    "import nnfs\n",
    "import numpy as np\n",
    "from nnfs.datasets import spiral_data"
   ]
  },
  {
   "cell_type": "code",
   "execution_count": 2,
   "id": "f0bce0bd-fd61-46e1-9ac8-203b4aa88d22",
   "metadata": {},
   "outputs": [],
   "source": [
    "nnfs.init()"
   ]
  },
  {
   "cell_type": "code",
   "execution_count": 3,
   "id": "a53bce3d-4dd5-45ea-859a-dd2dd518df69",
   "metadata": {},
   "outputs": [],
   "source": [
    "import os\n",
    "import sys\n",
    "\n",
    "module = os.path.abspath(os.path.join(\"..\"))\n",
    "if module not in sys.path:\n",
    "    sys.path.append(module)"
   ]
  },
  {
   "cell_type": "code",
   "execution_count": 4,
   "id": "d1744015-4091-4aef-ad7b-ee57f203f21f",
   "metadata": {},
   "outputs": [],
   "source": [
    "from Chpt_9.NN_Classes import *"
   ]
  },
  {
   "cell_type": "code",
   "execution_count": 5,
   "id": "9b8dcb02-749e-4379-a9a2-1cf9788ea14c",
   "metadata": {},
   "outputs": [],
   "source": [
    "%run RMSProp_Class.ipynb"
   ]
  },
  {
   "cell_type": "code",
   "execution_count": 6,
   "id": "07f61aa0-3059-4090-938b-841f1d2e758f",
   "metadata": {},
   "outputs": [],
   "source": [
    "X, y = spiral_data(samples=100, classes=3)"
   ]
  },
  {
   "cell_type": "code",
   "execution_count": 7,
   "id": "f7a49df0-89ec-4afe-b4b3-681933a92853",
   "metadata": {},
   "outputs": [],
   "source": [
    "dense1 = Layer_Dense(2, 64)\n",
    "activation1 = Activation_ReLU()\n",
    "dense2 = Layer_Dense(64, 3)\n",
    "loss_activation = Activation_Softmax_Loss_CategoricalCrossentropy()"
   ]
  },
  {
   "cell_type": "code",
   "execution_count": 8,
   "id": "787aeece-e44b-49f4-afbb-120e82040efa",
   "metadata": {},
   "outputs": [],
   "source": [
    "optimizer = Optimizer_RMSProp(learning_rate=0.02, decay=1e-5, rho=0.999)"
   ]
  },
  {
   "cell_type": "code",
   "execution_count": 9,
   "id": "493739e0-d462-4a9b-8a86-ee65ce4cc213",
   "metadata": {},
   "outputs": [
    {
     "name": "stdout",
     "output_type": "stream",
     "text": [
      "epoch: 0, acc: 0.360, loss: 1.099, lr: 0.02\n",
      "epoch: 100, acc: 0.467, loss: 1.014, lr: 0.01998021958261321\n",
      "epoch: 200, acc: 0.530, loss: 0.959, lr: 0.019960279044701046\n",
      "epoch: 300, acc: 0.563, loss: 0.891, lr: 0.019940378268975763\n",
      "epoch: 400, acc: 0.587, loss: 0.839, lr: 0.01992051713662487\n",
      "epoch: 500, acc: 0.593, loss: 0.805, lr: 0.01990069552930875\n",
      "epoch: 600, acc: 0.623, loss: 0.762, lr: 0.019880913329158343\n",
      "epoch: 700, acc: 0.653, loss: 0.750, lr: 0.019861170418772778\n",
      "epoch: 800, acc: 0.597, loss: 0.897, lr: 0.019841466681217078\n",
      "epoch: 900, acc: 0.670, loss: 0.736, lr: 0.01982180200001982\n",
      "epoch: 1000, acc: 0.710, loss: 0.634, lr: 0.019802176259170884\n",
      "epoch: 1100, acc: 0.767, loss: 0.612, lr: 0.01978258934311912\n",
      "epoch: 1200, acc: 0.760, loss: 0.566, lr: 0.01976304113677013\n",
      "epoch: 1300, acc: 0.733, loss: 0.607, lr: 0.019743531525483964\n",
      "epoch: 1400, acc: 0.777, loss: 0.537, lr: 0.01972406039507293\n",
      "epoch: 1500, acc: 0.797, loss: 0.528, lr: 0.019704627631799327\n",
      "epoch: 1600, acc: 0.777, loss: 0.544, lr: 0.019685233122373254\n",
      "epoch: 1700, acc: 0.780, loss: 0.498, lr: 0.019665876753950384\n",
      "epoch: 1800, acc: 0.810, loss: 0.475, lr: 0.01964655841412981\n",
      "epoch: 1900, acc: 0.817, loss: 0.473, lr: 0.019627277990951823\n",
      "epoch: 2000, acc: 0.797, loss: 0.469, lr: 0.019608035372895814\n",
      "epoch: 2100, acc: 0.773, loss: 0.468, lr: 0.01958883044887805\n",
      "epoch: 2200, acc: 0.793, loss: 0.450, lr: 0.019569663108249594\n",
      "epoch: 2300, acc: 0.817, loss: 0.434, lr: 0.01955053324079414\n",
      "epoch: 2400, acc: 0.823, loss: 0.407, lr: 0.019531440736725945\n",
      "epoch: 2500, acc: 0.827, loss: 0.414, lr: 0.019512385486687673\n",
      "epoch: 2600, acc: 0.830, loss: 0.412, lr: 0.019493367381748363\n",
      "epoch: 2700, acc: 0.813, loss: 0.395, lr: 0.019474386313401298\n",
      "epoch: 2800, acc: 0.823, loss: 0.400, lr: 0.019455442173562\n",
      "epoch: 2900, acc: 0.830, loss: 0.393, lr: 0.019436534854566128\n",
      "epoch: 3000, acc: 0.563, loss: 1.322, lr: 0.01941766424916747\n",
      "epoch: 3100, acc: 0.837, loss: 0.379, lr: 0.019398830250535893\n",
      "epoch: 3200, acc: 0.843, loss: 0.378, lr: 0.019380032752255354\n",
      "epoch: 3300, acc: 0.843, loss: 0.374, lr: 0.01936127164832186\n",
      "epoch: 3400, acc: 0.833, loss: 0.366, lr: 0.01934254683314152\n",
      "epoch: 3500, acc: 0.830, loss: 0.367, lr: 0.019323858201528515\n",
      "epoch: 3600, acc: 0.843, loss: 0.342, lr: 0.019305205648703173\n",
      "epoch: 3700, acc: 0.847, loss: 0.351, lr: 0.01928658907028997\n",
      "epoch: 3800, acc: 0.850, loss: 0.351, lr: 0.01926800836231563\n",
      "epoch: 3900, acc: 0.853, loss: 0.347, lr: 0.019249463421207133\n",
      "epoch: 4000, acc: 0.770, loss: 0.517, lr: 0.019230954143789846\n",
      "epoch: 4100, acc: 0.847, loss: 0.328, lr: 0.019212480427285565\n",
      "epoch: 4200, acc: 0.850, loss: 0.331, lr: 0.019194042169310647\n",
      "epoch: 4300, acc: 0.853, loss: 0.331, lr: 0.019175639267874092\n",
      "epoch: 4400, acc: 0.857, loss: 0.329, lr: 0.019157271621375684\n",
      "epoch: 4500, acc: 0.857, loss: 0.344, lr: 0.0191389391286041\n",
      "epoch: 4600, acc: 0.847, loss: 0.324, lr: 0.019120641688735073\n",
      "epoch: 4700, acc: 0.850, loss: 0.324, lr: 0.019102379201329525\n",
      "epoch: 4800, acc: 0.870, loss: 0.298, lr: 0.01908415156633174\n",
      "epoch: 4900, acc: 0.860, loss: 0.306, lr: 0.01906595868406753\n",
      "epoch: 5000, acc: 0.860, loss: 0.311, lr: 0.01904780045524243\n",
      "epoch: 5100, acc: 0.857, loss: 0.312, lr: 0.019029676780939874\n",
      "epoch: 5200, acc: 0.857, loss: 0.311, lr: 0.019011587562619416\n",
      "epoch: 5300, acc: 0.857, loss: 0.307, lr: 0.01899353270211493\n",
      "epoch: 5400, acc: 0.887, loss: 0.300, lr: 0.018975512101632844\n",
      "epoch: 5500, acc: 0.887, loss: 0.301, lr: 0.018957525663750367\n",
      "epoch: 5600, acc: 0.883, loss: 0.300, lr: 0.018939573291413745\n",
      "epoch: 5700, acc: 0.887, loss: 0.277, lr: 0.018921654887936498\n",
      "epoch: 5800, acc: 0.890, loss: 0.285, lr: 0.018903770356997706\n",
      "epoch: 5900, acc: 0.890, loss: 0.291, lr: 0.018885919602640248\n",
      "epoch: 6000, acc: 0.887, loss: 0.289, lr: 0.018868102529269144\n",
      "epoch: 6100, acc: 0.893, loss: 0.290, lr: 0.018850319041649778\n",
      "epoch: 6200, acc: 0.870, loss: 0.286, lr: 0.018832569044906263\n",
      "epoch: 6300, acc: 0.873, loss: 0.287, lr: 0.018814852444519702\n",
      "epoch: 6400, acc: 0.877, loss: 0.287, lr: 0.018797169146326564\n",
      "epoch: 6500, acc: 0.887, loss: 0.270, lr: 0.01877951905651696\n",
      "epoch: 6600, acc: 0.903, loss: 0.262, lr: 0.018761902081633034\n",
      "epoch: 6700, acc: 0.893, loss: 0.267, lr: 0.018744318128567278\n",
      "epoch: 6800, acc: 0.897, loss: 0.274, lr: 0.018726767104560903\n",
      "epoch: 6900, acc: 0.897, loss: 0.275, lr: 0.018709248917202218\n",
      "epoch: 7000, acc: 0.897, loss: 0.275, lr: 0.018691763474424996\n",
      "epoch: 7100, acc: 0.900, loss: 0.274, lr: 0.018674310684506857\n",
      "epoch: 7200, acc: 0.900, loss: 0.273, lr: 0.01865689045606769\n",
      "epoch: 7300, acc: 0.873, loss: 0.266, lr: 0.01863950269806802\n",
      "epoch: 7400, acc: 0.873, loss: 0.271, lr: 0.018622147319807447\n",
      "epoch: 7500, acc: 0.880, loss: 0.270, lr: 0.018604824230923075\n",
      "epoch: 7600, acc: 0.880, loss: 0.269, lr: 0.01858753334138793\n",
      "epoch: 7700, acc: 0.877, loss: 0.267, lr: 0.018570274561509396\n",
      "epoch: 7800, acc: 0.877, loss: 0.268, lr: 0.018553047801927663\n",
      "epoch: 7900, acc: 0.910, loss: 0.245, lr: 0.018535852973614212\n",
      "epoch: 8000, acc: 0.903, loss: 0.253, lr: 0.01851868998787026\n",
      "epoch: 8100, acc: 0.903, loss: 0.255, lr: 0.018501558756325222\n",
      "epoch: 8200, acc: 0.903, loss: 0.254, lr: 0.01848445919093522\n",
      "epoch: 8300, acc: 0.873, loss: 0.353, lr: 0.018467391203981567\n",
      "epoch: 8400, acc: 0.897, loss: 0.239, lr: 0.018450354708069265\n",
      "epoch: 8500, acc: 0.890, loss: 0.248, lr: 0.018433349616125496\n",
      "epoch: 8600, acc: 0.887, loss: 0.251, lr: 0.018416375841398172\n",
      "epoch: 8700, acc: 0.887, loss: 0.251, lr: 0.01839943329745444\n",
      "epoch: 8800, acc: 0.887, loss: 0.252, lr: 0.01838252189817921\n",
      "epoch: 8900, acc: 0.887, loss: 0.250, lr: 0.018365641557773718\n",
      "epoch: 9000, acc: 0.900, loss: 0.220, lr: 0.018348792190754044\n",
      "epoch: 9100, acc: 0.900, loss: 0.238, lr: 0.0183319737119497\n",
      "epoch: 9200, acc: 0.890, loss: 0.242, lr: 0.018315186036502167\n",
      "epoch: 9300, acc: 0.890, loss: 0.244, lr: 0.018298429079863496\n",
      "epoch: 9400, acc: 0.890, loss: 0.245, lr: 0.018281702757794862\n",
      "epoch: 9500, acc: 0.890, loss: 0.244, lr: 0.018265006986365174\n",
      "epoch: 9600, acc: 0.893, loss: 0.241, lr: 0.018248341681949654\n",
      "epoch: 9700, acc: 0.743, loss: 0.794, lr: 0.018231706761228456\n",
      "epoch: 9800, acc: 0.917, loss: 0.213, lr: 0.018215102141185255\n",
      "epoch: 9900, acc: 0.907, loss: 0.225, lr: 0.018198527739105907\n",
      "epoch: 10000, acc: 0.910, loss: 0.221, lr: 0.018181983472577025\n"
     ]
    }
   ],
   "source": [
    "for epoch in range(10001):\n",
    "\n",
    "    dense1.forward(X)\n",
    "    activation1.forward(dense1.output)\n",
    "    dense2.forward(activation1.output)\n",
    "    loss = loss_activation.forward(dense2.output, y)\n",
    "\n",
    "    predictions = np.argmax(loss_activation.output, axis=1)\n",
    "    if len(y.shape) == 2:\n",
    "        y = np.argmax(y, axis=1)\n",
    "    accuracy = np.mean(predictions == y)\n",
    "\n",
    "    if not epoch % 100:\n",
    "        print(\n",
    "            f\"epoch: {epoch}, \"\n",
    "            + f\"acc: {accuracy:.3f}, \"\n",
    "            + f\"loss: {loss:.3f}, \"\n",
    "            + f\"lr: {optimizer.current_learning_rate}\"\n",
    "        )\n",
    "\n",
    "    loss_activation.backward(loss_activation.output, y)\n",
    "    dense2.backward(loss_activation.dinputs)\n",
    "    activation1.backward(dense2.dinputs)\n",
    "    dense1.backward(activation1.dinputs)\n",
    "\n",
    "    optimizer.pre_update_params()\n",
    "    optimizer.update_params(dense1)\n",
    "    optimizer.update_params(dense2)\n",
    "    optimizer.post_update_params()"
   ]
  }
 ],
 "metadata": {
  "kernelspec": {
   "display_name": "Python 3",
   "language": "python",
   "name": "python3"
  },
  "language_info": {
   "codemirror_mode": {
    "name": "ipython",
    "version": 3
   },
   "file_extension": ".py",
   "mimetype": "text/x-python",
   "name": "python",
   "nbconvert_exporter": "python",
   "pygments_lexer": "ipython3",
   "version": "3.8.5"
  }
 },
 "nbformat": 4,
 "nbformat_minor": 5
}
