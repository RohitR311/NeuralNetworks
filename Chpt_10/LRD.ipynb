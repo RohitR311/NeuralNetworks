{
 "cells": [
  {
   "cell_type": "markdown",
   "id": "56e16c03-0a1c-409f-9724-1e6667a20681",
   "metadata": {},
   "source": [
    "# Learning Rate Decay "
   ]
  },
  {
   "cell_type": "markdown",
   "id": "63810bea-8a14-46b0-81ea-6895ed729bf4",
   "metadata": {},
   "source": [
    "## Without loops "
   ]
  },
  {
   "cell_type": "code",
   "execution_count": 1,
   "id": "1924e687-bd5e-4950-9500-bc006f5db64a",
   "metadata": {},
   "outputs": [],
   "source": [
    "starting_learning_rate = 1.0\n",
    "learning_rate_decay = 0.1\n",
    "step = 20"
   ]
  },
  {
   "cell_type": "code",
   "execution_count": 2,
   "id": "055d0c2f-5b0c-4b4d-b275-8109bbca8595",
   "metadata": {},
   "outputs": [
    {
     "name": "stdout",
     "output_type": "stream",
     "text": [
      "0.3333333333333333\n"
     ]
    }
   ],
   "source": [
    "learning_rate = starting_learning_rate * (1.0 / (1.0 + learning_rate_decay * step))\n",
    "print(learning_rate)"
   ]
  },
  {
   "cell_type": "markdown",
   "id": "329c119d-a029-4b58-bcc5-36e0d70ee3a4",
   "metadata": {},
   "source": [
    "## With loops"
   ]
  },
  {
   "cell_type": "code",
   "execution_count": 3,
   "id": "c800899b-2791-48f6-b105-b89ab439987d",
   "metadata": {},
   "outputs": [
    {
     "name": "stdout",
     "output_type": "stream",
     "text": [
      "1.0\n",
      "0.9090909090909091\n",
      "0.8333333333333334\n",
      "0.7692307692307692\n",
      "0.7142857142857143\n",
      "0.6666666666666666\n",
      "0.625\n",
      "0.588235294117647\n",
      "0.5555555555555556\n",
      "0.5263157894736842\n",
      "0.5\n",
      "0.47619047619047616\n",
      "0.45454545454545453\n",
      "0.4347826086956522\n",
      "0.41666666666666663\n",
      "0.4\n",
      "0.3846153846153846\n",
      "0.37037037037037035\n",
      "0.35714285714285715\n",
      "0.3448275862068965\n"
     ]
    }
   ],
   "source": [
    "for epoch in range(20):\n",
    "    learning_rate = starting_learning_rate * (1.0 / (1.0 + learning_rate_decay * epoch))\n",
    "    print(learning_rate)"
   ]
  },
  {
   "cell_type": "code",
   "execution_count": null,
   "id": "6bf35ecb-7f87-4d67-97e5-e8a11c005c5c",
   "metadata": {},
   "outputs": [],
   "source": []
  }
 ],
 "metadata": {
  "kernelspec": {
   "display_name": "Python 3",
   "language": "python",
   "name": "python3"
  },
  "language_info": {
   "codemirror_mode": {
    "name": "ipython",
    "version": 3
   },
   "file_extension": ".py",
   "mimetype": "text/x-python",
   "name": "python",
   "nbconvert_exporter": "python",
   "pygments_lexer": "ipython3",
   "version": "3.8.5"
  }
 },
 "nbformat": 4,
 "nbformat_minor": 5
}
