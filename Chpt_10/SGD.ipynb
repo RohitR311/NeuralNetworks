{
 "cells": [
  {
   "cell_type": "markdown",
   "id": "9541a67c-d14c-43ed-a99d-4180b3db4dae",
   "metadata": {},
   "source": [
    "# Stochastic Gradient Descent (SGD)"
   ]
  },
  {
   "cell_type": "markdown",
   "id": "ea35daf4-6ea1-4ff2-a67d-6dec643b2d6e",
   "metadata": {},
   "source": [
    "## Without Epochs"
   ]
  },
  {
   "cell_type": "code",
   "execution_count": 1,
   "id": "c6abed0d-16dd-4df7-b807-e61645525441",
   "metadata": {},
   "outputs": [],
   "source": [
    "import numpy as np\n",
    "import nnfs\n",
    "from nnfs.datasets import spiral_data"
   ]
  },
  {
   "cell_type": "code",
   "execution_count": 2,
   "id": "84bc1aa7-6b55-435f-9a71-ed2afe723a98",
   "metadata": {},
   "outputs": [],
   "source": [
    "nnfs.init()"
   ]
  },
  {
   "cell_type": "code",
   "execution_count": 3,
   "id": "fc988faf-0ab0-4425-92b4-51622b071eaa",
   "metadata": {},
   "outputs": [],
   "source": [
    "import os\n",
    "import sys\n",
    "\n",
    "module = os.path.abspath(os.path.join(\"..\"))\n",
    "if module not in sys.path:\n",
    "    sys.path.append(module)"
   ]
  },
  {
   "cell_type": "code",
   "execution_count": 4,
   "id": "2023302a-0fc1-4ae6-8d2d-a99dc8de1f3f",
   "metadata": {},
   "outputs": [],
   "source": [
    "from Chpt_9.NN_Classes import *"
   ]
  },
  {
   "cell_type": "code",
   "execution_count": 5,
   "id": "2ae3f63f-97df-4c4a-a434-0eb7b9af4884",
   "metadata": {},
   "outputs": [],
   "source": [
    "class Optimizer_SGD:\n",
    "    \n",
    "    def __init__(self, learning_rate=1.0):\n",
    "        self.learning_rate = learning_rate\n",
    "        \n",
    "    def update_params(self, layer):\n",
    "        layer.weights += -self.learning_rate * layer.dweights\n",
    "        layer.biases += -self.learning_rate * layer.dbiases        "
   ]
  },
  {
   "cell_type": "code",
   "execution_count": 6,
   "id": "b20a2a15-a5be-42cd-8c0a-841f46290baa",
   "metadata": {},
   "outputs": [],
   "source": [
    "X, y = spiral_data(samples=100, classes=3)"
   ]
  },
  {
   "cell_type": "code",
   "execution_count": 7,
   "id": "f61a53a6-4fce-4947-9f46-0a963358443b",
   "metadata": {},
   "outputs": [],
   "source": [
    "dense1 = Layer_Dense(2, 64)\n",
    "activation1 = Activation_ReLU()\n",
    "dense2 = Layer_Dense(64, 3)\n",
    "loss_activation = Activation_Softmax_Loss_CategoricalCrossentropy()"
   ]
  },
  {
   "cell_type": "code",
   "execution_count": 8,
   "id": "a8f79185-cbd0-4d28-9b03-54d6c7d8f250",
   "metadata": {},
   "outputs": [],
   "source": [
    "optimizer = Optimizer_SGD()"
   ]
  },
  {
   "cell_type": "code",
   "execution_count": 9,
   "id": "b29538b4-fcaa-4873-8d86-0ba0b3e9a8f1",
   "metadata": {},
   "outputs": [],
   "source": [
    "dense1.forward(X)\n",
    "activation1.forward(dense1.output)\n",
    "dense2.forward(activation1.output)\n",
    "loss = loss_activation.forward(dense2.output, y)"
   ]
  },
  {
   "cell_type": "code",
   "execution_count": 10,
   "id": "d2ccdd0d-de10-446f-ae1a-50abe6f0744e",
   "metadata": {},
   "outputs": [
    {
     "name": "stdout",
     "output_type": "stream",
     "text": [
      "loss: 1.0985943\n"
     ]
    }
   ],
   "source": [
    "print('loss:', loss)"
   ]
  },
  {
   "cell_type": "code",
   "execution_count": 11,
   "id": "57fc4578-a9f8-4bb0-b9ac-c6d186616185",
   "metadata": {},
   "outputs": [],
   "source": [
    "predictions = np.argmax(loss_activation.output, axis=1)\n",
    "if len(y.shape) == 2:\n",
    "    y = np.argmax(y, axis=1)\n",
    "accuracy = np.mean(predictions == y)"
   ]
  },
  {
   "cell_type": "code",
   "execution_count": 12,
   "id": "292f6a0d-22d5-4000-9ddb-262ab5717de2",
   "metadata": {},
   "outputs": [
    {
     "name": "stdout",
     "output_type": "stream",
     "text": [
      "acc: 0.36\n"
     ]
    }
   ],
   "source": [
    "print('acc:', accuracy)"
   ]
  },
  {
   "cell_type": "code",
   "execution_count": 13,
   "id": "4197d3d5-f6d8-42f9-914f-e2327bfb6137",
   "metadata": {},
   "outputs": [],
   "source": [
    "loss_activation.backward(loss_activation.output, y)\n",
    "dense2.backward(loss_activation.dinputs)\n",
    "activation1.backward(dense2.dinputs)\n",
    "dense1.backward(activation1.dinputs)"
   ]
  },
  {
   "cell_type": "code",
   "execution_count": 14,
   "id": "3818942f-4e67-4207-9235-68a0ff2da852",
   "metadata": {},
   "outputs": [],
   "source": [
    "optimizer.update_params(dense1)\n",
    "optimizer.update_params(dense2)"
   ]
  }
 ],
 "metadata": {
  "kernelspec": {
   "display_name": "Python 3",
   "language": "python",
   "name": "python3"
  },
  "language_info": {
   "codemirror_mode": {
    "name": "ipython",
    "version": 3
   },
   "file_extension": ".py",
   "mimetype": "text/x-python",
   "name": "python",
   "nbconvert_exporter": "python",
   "pygments_lexer": "ipython3",
   "version": "3.8.5"
  }
 },
 "nbformat": 4,
 "nbformat_minor": 5
}
