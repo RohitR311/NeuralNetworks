{
 "cells": [
  {
   "cell_type": "markdown",
   "id": "d4408c71-7fb9-457e-b480-fc64e2f70f2a",
   "metadata": {},
   "source": [
    "# L1 and L2 Regularization"
   ]
  },
  {
   "cell_type": "markdown",
   "id": "9992be0c-cac4-4eee-8104-a4b217dc527c",
   "metadata": {},
   "source": [
    "## Implementation "
   ]
  },
  {
   "cell_type": "code",
   "execution_count": null,
   "id": "09f11ef0-8c90-45cb-b588-7468901e995d",
   "metadata": {},
   "outputs": [],
   "source": [
    "import nnfs\n",
    "import numpy as np\n",
    "from nnfs.datasets import spiral_data"
   ]
  },
  {
   "cell_type": "code",
   "execution_count": null,
   "id": "e9fb9c02-33b1-44f6-b2e4-960e652b6062",
   "metadata": {},
   "outputs": [],
   "source": [
    "nnfs.init()"
   ]
  },
  {
   "cell_type": "code",
   "execution_count": null,
   "id": "39e5938b-813b-4d2d-ba8f-b3eb02e793d4",
   "metadata": {},
   "outputs": [],
   "source": [
    "import os\n",
    "import sys\n",
    "\n",
    "module = os.path.abspath(os.path.join(\"..\"))\n",
    "if module not in sys.path:\n",
    "    sys.path.append(module)"
   ]
  },
  {
   "cell_type": "code",
   "execution_count": null,
   "id": "2a4d2fac-9566-4ae0-b494-84c3836885ed",
   "metadata": {},
   "outputs": [],
   "source": [
    "from Updated_Classes import *"
   ]
  },
  {
   "cell_type": "code",
   "execution_count": null,
   "id": "b9d14611-a6be-46f8-b732-e16d605cd5cc",
   "metadata": {},
   "outputs": [],
   "source": [
    "X, y = spiral_data(samples=1000, classes=3)"
   ]
  },
  {
   "cell_type": "code",
   "execution_count": null,
   "id": "992a77ef-3ffa-4f0c-bd6a-75842cb2022e",
   "metadata": {},
   "outputs": [],
   "source": [
    "dense1 = Layer_Dense(2, 512, weight_regularizer_l2=5e-4, bias_regularizer_l2=5e-4)\n",
    "activation1 = Activation_ReLU()\n",
    "dense2 = Layer_Dense(512, 3)\n",
    "loss_activation = Activation_Softmax_Loss_CategoricalCrossentropy()"
   ]
  },
  {
   "cell_type": "code",
   "execution_count": null,
   "id": "de2bde00-2ebd-4203-b6bb-e0dc80123844",
   "metadata": {},
   "outputs": [],
   "source": [
    "from Chpt_10.Optimizers import Optimizer_Adam"
   ]
  },
  {
   "cell_type": "code",
   "execution_count": null,
   "id": "b25f4705-aa77-4dab-9b91-e74bbe9f1752",
   "metadata": {},
   "outputs": [],
   "source": [
    "optimizer = Optimizer_Adam(learning_rate=0.02, decay=5e-7)"
   ]
  },
  {
   "cell_type": "code",
   "execution_count": null,
   "id": "b961cb90-7748-4a6a-9b74-b4b7a848145c",
   "metadata": {},
   "outputs": [],
   "source": [
    "for epoch in range(10001):\n",
    "\n",
    "    dense1.forward(X)\n",
    "    activation1.forward(dense1.outputs)\n",
    "    dense2.forward(activation1.output)\n",
    "    data_loss = loss_activation.forward(dense2.outputs, y)\n",
    "\n",
    "    regularization_loss = loss_activation.loss.regularization_loss(\n",
    "        dense1\n",
    "    ) + loss_activation.loss.regularization_loss(dense2)\n",
    "\n",
    "    loss = data_loss + regularization_loss\n",
    "\n",
    "    predictions = np.argmax(loss_activation.output, axis=1)\n",
    "    if len(y.shape) == 2:\n",
    "        y = np.argmax(y, axis=1)\n",
    "    accuracy = np.mean(predictions == y)\n",
    "\n",
    "    if not epoch % 100:\n",
    "        print(\n",
    "            f\"epoch: {epoch}, \"\n",
    "            + f\"acc: {accuracy:.3f}, \"\n",
    "            + f\"loss: {loss:.3f} (\"\n",
    "            + f\"data_loss: {data_loss:.3f}, \"\n",
    "            + f\"reg_loss: {regularization_loss:.3f}), \"\n",
    "            + f\"lr: {optimizer.current_learning_rate}\"\n",
    "        )\n",
    "\n",
    "    loss_activation.backward(loss_activation.output, y)\n",
    "    dense2.backward(loss_activation.dinputs)\n",
    "    activation1.backward(dense2.dinputs)\n",
    "    dense1.backward(activation1.dinputs)\n",
    "\n",
    "    optimizer.pre_update_params()\n",
    "    optimizer.update_params(dense1)\n",
    "    optimizer.update_params(dense2)\n",
    "    optimizer.post_update_params()"
   ]
  },
  {
   "cell_type": "markdown",
   "id": "ff50b450-94c2-4c72-bcf1-55892b4ff3a8",
   "metadata": {},
   "source": [
    "## Validation"
   ]
  },
  {
   "cell_type": "code",
   "execution_count": null,
   "id": "ad5313ed-b245-4612-9f35-2f0486c1621d",
   "metadata": {},
   "outputs": [],
   "source": [
    "X_test, y_test = spiral_data(samples=100, classes=3)"
   ]
  },
  {
   "cell_type": "code",
   "execution_count": null,
   "id": "dea208bf-621e-4a29-a590-db128d9e5d2e",
   "metadata": {},
   "outputs": [],
   "source": [
    "dense1.forward(X_test)\n",
    "activation1.forward(dense1.outputs)\n",
    "dense2.forward(activation1.output)\n",
    "loss = loss_activation.forward(dense2.outputs, y_test)"
   ]
  },
  {
   "cell_type": "code",
   "execution_count": null,
   "id": "cc4958a8-5548-4dae-8491-cab02c816420",
   "metadata": {},
   "outputs": [],
   "source": [
    "predictions = np.argmax(loss_activation.output, axis=1)\n",
    "if len(y.shape) == 2:\n",
    "    y_test = np.argmax(y_test, axis=1)\n",
    "accuracy = np.mean(predictions == y_test)"
   ]
  },
  {
   "cell_type": "code",
   "execution_count": null,
   "id": "c0ac10c4-9bb4-4567-ae7a-acc0b39ec79c",
   "metadata": {},
   "outputs": [],
   "source": [
    "print(f'validation, acc: {accuracy:.3f}, loss: {loss:.3f}')"
   ]
  }
 ],
 "metadata": {
  "kernelspec": {
   "display_name": "Python 3",
   "language": "python",
   "name": "python3"
  },
  "language_info": {
   "codemirror_mode": {
    "name": "ipython",
    "version": 3
   },
   "file_extension": ".py",
   "mimetype": "text/x-python",
   "name": "python",
   "nbconvert_exporter": "python",
   "pygments_lexer": "ipython3",
   "version": "3.8.5"
  }
 },
 "nbformat": 4,
 "nbformat_minor": 5
}
