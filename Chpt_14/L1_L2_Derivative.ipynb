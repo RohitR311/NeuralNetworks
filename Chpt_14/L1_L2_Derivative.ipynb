{
 "cells": [
  {
   "cell_type": "markdown",
   "id": "55cfa35e-1c0b-4d7e-b117-d9b3c14946fa",
   "metadata": {},
   "source": [
    "# L1 Regularization Derivative"
   ]
  },
  {
   "cell_type": "markdown",
   "id": "631ddf4c-5f14-4ce0-9d36-0e7e0d2bf354",
   "metadata": {},
   "source": [
    "## One Neuron"
   ]
  },
  {
   "cell_type": "code",
   "execution_count": 1,
   "id": "8a0d53a3-d14e-47bb-850d-2a2651a16d1f",
   "metadata": {},
   "outputs": [],
   "source": [
    "weights_one = [0.4, -0.8, 0.3]\n",
    "dL1_O = []"
   ]
  },
  {
   "cell_type": "code",
   "execution_count": 2,
   "id": "8913c3a6-4d28-40c2-874e-ecf7fa36d831",
   "metadata": {},
   "outputs": [],
   "source": [
    "for weight in weights_one:\n",
    "    if weight >= 0:\n",
    "        dL1_O.append(1)\n",
    "    else:\n",
    "        dL1_O.append(-1)"
   ]
  },
  {
   "cell_type": "code",
   "execution_count": 3,
   "id": "958e62ad-b762-4cd4-b34e-1e62e2808334",
   "metadata": {},
   "outputs": [
    {
     "name": "stdout",
     "output_type": "stream",
     "text": [
      "[1, -1, 1]\n"
     ]
    }
   ],
   "source": [
    "print(dL1_O)"
   ]
  },
  {
   "cell_type": "markdown",
   "id": "5fbf957f-7622-44e4-b805-b2f38965bf97",
   "metadata": {},
   "source": [
    "## Multiple Neurons"
   ]
  },
  {
   "cell_type": "code",
   "execution_count": 4,
   "id": "895aab9d-8558-462c-8b20-9e69218d95c6",
   "metadata": {},
   "outputs": [],
   "source": [
    "import numpy as np"
   ]
  },
  {
   "cell_type": "code",
   "execution_count": 5,
   "id": "21cf397f-0bbd-49fd-b84e-ea570061d8d5",
   "metadata": {},
   "outputs": [
    {
     "name": "stdout",
     "output_type": "stream",
     "text": [
      "[[-1.20190807 -1.54363367  0.32084418  1.1392938 ]\n",
      " [ 1.61970583 -0.98500925  0.63638373  1.57497548]\n",
      " [-0.81374372 -1.70169008  0.50043017  0.70032793]]\n"
     ]
    }
   ],
   "source": [
    "weights_m = np.random.randn(3, 4)\n",
    "dL1_M = []\n",
    "\n",
    "print(weights_m)"
   ]
  },
  {
   "cell_type": "code",
   "execution_count": 6,
   "id": "d1d02065-baef-46e6-bc59-9cb7a930c20e",
   "metadata": {},
   "outputs": [],
   "source": [
    "for neuron in weights_m:\n",
    "    neuron_dL1 = []\n",
    "    for weight in neuron:\n",
    "        if weight >= 0:\n",
    "            neuron_dL1.append(1)\n",
    "        else:\n",
    "            neuron_dL1.append(-1)\n",
    "    dL1_M.append(neuron_dL1)"
   ]
  },
  {
   "cell_type": "code",
   "execution_count": 7,
   "id": "81e0fe5a-b93e-4614-8d94-56a130077764",
   "metadata": {},
   "outputs": [
    {
     "name": "stdout",
     "output_type": "stream",
     "text": [
      "[[-1, -1, 1, 1], [1, -1, 1, 1], [-1, -1, 1, 1]]\n"
     ]
    }
   ],
   "source": [
    "print(dL1_M)"
   ]
  },
  {
   "cell_type": "markdown",
   "id": "cb9faa46-01e8-463d-b594-5332cc59c65b",
   "metadata": {},
   "source": [
    "## Using Numpy"
   ]
  },
  {
   "cell_type": "code",
   "execution_count": 8,
   "id": "99aaf45c-3d78-47f3-92e5-be430217e636",
   "metadata": {},
   "outputs": [
    {
     "name": "stdout",
     "output_type": "stream",
     "text": [
      "[[1. 1. 1. 1.]\n",
      " [1. 1. 1. 1.]\n",
      " [1. 1. 1. 1.]]\n"
     ]
    }
   ],
   "source": [
    "dL1_np = np.ones_like(weights_m)"
   ]
  },
  {
   "cell_type": "code",
   "execution_count": 9,
   "id": "db526c38-5de8-4bfd-a3a0-20f4518162a2",
   "metadata": {},
   "outputs": [],
   "source": [
    "dL1_np[weights_m < 0] = -1"
   ]
  },
  {
   "cell_type": "code",
   "execution_count": 11,
   "id": "b273dc0c-cf59-49f6-8c6b-92f5fa8ddf45",
   "metadata": {},
   "outputs": [
    {
     "name": "stdout",
     "output_type": "stream",
     "text": [
      "[[-1. -1.  1.  1.]\n",
      " [ 1. -1.  1.  1.]\n",
      " [-1. -1.  1.  1.]]\n"
     ]
    }
   ],
   "source": [
    "print(dL1_np)"
   ]
  },
  {
   "cell_type": "markdown",
   "id": "a32ae202-068e-4a2f-a1b9-f06a722ce293",
   "metadata": {},
   "source": [
    "# L2 Regularization Derivative"
   ]
  },
  {
   "cell_type": "markdown",
   "id": "8cff7710-5e76-45f1-bcce-5a0428893c0c",
   "metadata": {},
   "source": [
    "### $\\frac{\\partial \\mathbf{L_w}}{\\partial w}$ = 2$\\lambda$w"
   ]
  },
  {
   "cell_type": "code",
   "execution_count": 17,
   "id": "d32964a9-1fe3-446c-ac0b-69056a013fb9",
   "metadata": {},
   "outputs": [],
   "source": [
    "def l2_deriv(weights, lam=1):\n",
    "    l2_result = []\n",
    "    for weight in weights:\n",
    "        l2_result.append(2 * lam * weight)\n",
    "    return l2_result"
   ]
  },
  {
   "cell_type": "code",
   "execution_count": 21,
   "id": "76f1b89e-15a4-4c9a-a157-eb6aa8bc02e7",
   "metadata": {},
   "outputs": [
    {
     "data": {
      "text/plain": [
       "[0.16000000000000003, -0.32000000000000006, 0.12]"
      ]
     },
     "execution_count": 21,
     "metadata": {},
     "output_type": "execute_result"
    }
   ],
   "source": [
    "l2_deriv(weights_one, lam=0.2)"
   ]
  }
 ],
 "metadata": {
  "kernelspec": {
   "display_name": "Python 3",
   "language": "python",
   "name": "python3"
  },
  "language_info": {
   "codemirror_mode": {
    "name": "ipython",
    "version": 3
   },
   "file_extension": ".py",
   "mimetype": "text/x-python",
   "name": "python",
   "nbconvert_exporter": "python",
   "pygments_lexer": "ipython3",
   "version": "3.8.5"
  }
 },
 "nbformat": 4,
 "nbformat_minor": 5
}
