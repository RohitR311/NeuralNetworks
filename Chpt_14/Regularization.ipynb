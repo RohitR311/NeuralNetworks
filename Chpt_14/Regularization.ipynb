{
 "cells": [
  {
   "cell_type": "markdown",
   "id": "d4408c71-7fb9-457e-b480-fc64e2f70f2a",
   "metadata": {},
   "source": [
    "# L1 and L2 Regularization"
   ]
  },
  {
   "cell_type": "markdown",
   "id": "9992be0c-cac4-4eee-8104-a4b217dc527c",
   "metadata": {},
   "source": [
    "## Implementation "
   ]
  },
  {
   "cell_type": "code",
   "execution_count": 1,
   "id": "09f11ef0-8c90-45cb-b588-7468901e995d",
   "metadata": {},
   "outputs": [],
   "source": [
    "import nnfs\n",
    "import numpy as np\n",
    "from nnfs.datasets import spiral_data"
   ]
  },
  {
   "cell_type": "code",
   "execution_count": 2,
   "id": "e9fb9c02-33b1-44f6-b2e4-960e652b6062",
   "metadata": {},
   "outputs": [],
   "source": [
    "nnfs.init()"
   ]
  },
  {
   "cell_type": "code",
   "execution_count": 3,
   "id": "39e5938b-813b-4d2d-ba8f-b3eb02e793d4",
   "metadata": {},
   "outputs": [],
   "source": [
    "import os\n",
    "import sys\n",
    "\n",
    "module = os.path.abspath(os.path.join(\"..\"))\n",
    "if module not in sys.path:\n",
    "    sys.path.append(module)"
   ]
  },
  {
   "cell_type": "code",
   "execution_count": 4,
   "id": "2a4d2fac-9566-4ae0-b494-84c3836885ed",
   "metadata": {},
   "outputs": [],
   "source": [
    "from Updated_Classes import *"
   ]
  },
  {
   "cell_type": "code",
   "execution_count": 5,
   "id": "b9d14611-a6be-46f8-b732-e16d605cd5cc",
   "metadata": {},
   "outputs": [],
   "source": [
    "X, y = spiral_data(samples=1000, classes=3)"
   ]
  },
  {
   "cell_type": "code",
   "execution_count": 6,
   "id": "992a77ef-3ffa-4f0c-bd6a-75842cb2022e",
   "metadata": {},
   "outputs": [],
   "source": [
    "dense1 = Layer_Dense(2, 512, weight_regularizer_l2=5e-4, bias_regularizer_l2=5e-4)\n",
    "activation1 = Activation_ReLU()\n",
    "dense2 = Layer_Dense(512, 3)\n",
    "loss_activation = Activation_Softmax_Loss_CategoricalCrossentropy()"
   ]
  },
  {
   "cell_type": "code",
   "execution_count": 7,
   "id": "de2bde00-2ebd-4203-b6bb-e0dc80123844",
   "metadata": {},
   "outputs": [],
   "source": [
    "from Chpt_10.Optimizers import Optimizer_Adam"
   ]
  },
  {
   "cell_type": "code",
   "execution_count": 8,
   "id": "b25f4705-aa77-4dab-9b91-e74bbe9f1752",
   "metadata": {},
   "outputs": [],
   "source": [
    "optimizer = Optimizer_Adam(learning_rate=0.02, decay=5e-7)"
   ]
  },
  {
   "cell_type": "code",
   "execution_count": 9,
   "id": "b961cb90-7748-4a6a-9b74-b4b7a848145c",
   "metadata": {},
   "outputs": [
    {
     "name": "stdout",
     "output_type": "stream",
     "text": [
      "epoch: 0, acc: 0.381, loss: 1.099 (data_loss: 1.099, reg_loss: 0.000), lr: 0.02\n",
      "epoch: 100, acc: 0.759, loss: 0.734 (data_loss: 0.680, reg_loss: 0.054), lr: 0.019999010049002574\n",
      "epoch: 200, acc: 0.825, loss: 0.562 (data_loss: 0.474, reg_loss: 0.088), lr: 0.019998010197985302\n",
      "epoch: 300, acc: 0.856, loss: 0.488 (data_loss: 0.389, reg_loss: 0.098), lr: 0.019997010446938183\n",
      "epoch: 400, acc: 0.862, loss: 0.452 (data_loss: 0.353, reg_loss: 0.099), lr: 0.01999601079584623\n",
      "epoch: 500, acc: 0.891, loss: 0.422 (data_loss: 0.325, reg_loss: 0.097), lr: 0.01999501124469445\n",
      "epoch: 600, acc: 0.895, loss: 0.396 (data_loss: 0.303, reg_loss: 0.093), lr: 0.01999401179346786\n",
      "epoch: 700, acc: 0.903, loss: 0.380 (data_loss: 0.290, reg_loss: 0.090), lr: 0.01999301244215147\n",
      "epoch: 800, acc: 0.898, loss: 0.370 (data_loss: 0.284, reg_loss: 0.086), lr: 0.0199920131907303\n",
      "epoch: 900, acc: 0.808, loss: 0.605 (data_loss: 0.516, reg_loss: 0.088), lr: 0.019991014039189386\n",
      "epoch: 1000, acc: 0.908, loss: 0.357 (data_loss: 0.267, reg_loss: 0.090), lr: 0.019990014987513734\n",
      "epoch: 1100, acc: 0.909, loss: 0.350 (data_loss: 0.264, reg_loss: 0.087), lr: 0.01998901603568839\n",
      "epoch: 1200, acc: 0.908, loss: 0.344 (data_loss: 0.260, reg_loss: 0.084), lr: 0.019988017183698373\n",
      "epoch: 1300, acc: 0.908, loss: 0.339 (data_loss: 0.259, reg_loss: 0.081), lr: 0.01998701843152872\n",
      "epoch: 1400, acc: 0.908, loss: 0.333 (data_loss: 0.255, reg_loss: 0.078), lr: 0.019986019779164473\n",
      "epoch: 1500, acc: 0.908, loss: 0.331 (data_loss: 0.255, reg_loss: 0.076), lr: 0.019985021226590672\n",
      "epoch: 1600, acc: 0.909, loss: 0.325 (data_loss: 0.251, reg_loss: 0.074), lr: 0.01998402277379235\n",
      "epoch: 1700, acc: 0.910, loss: 0.321 (data_loss: 0.249, reg_loss: 0.072), lr: 0.01998302442075457\n",
      "epoch: 1800, acc: 0.911, loss: 0.317 (data_loss: 0.246, reg_loss: 0.071), lr: 0.019982026167462367\n",
      "epoch: 1900, acc: 0.909, loss: 0.315 (data_loss: 0.246, reg_loss: 0.069), lr: 0.019981028013900805\n",
      "epoch: 2000, acc: 0.906, loss: 0.315 (data_loss: 0.248, reg_loss: 0.068), lr: 0.019980029960054924\n",
      "epoch: 2100, acc: 0.904, loss: 0.316 (data_loss: 0.249, reg_loss: 0.066), lr: 0.019979032005909798\n",
      "epoch: 2200, acc: 0.914, loss: 0.305 (data_loss: 0.240, reg_loss: 0.065), lr: 0.01997803415145048\n",
      "epoch: 2300, acc: 0.909, loss: 0.309 (data_loss: 0.245, reg_loss: 0.064), lr: 0.019977036396662037\n",
      "epoch: 2400, acc: 0.914, loss: 0.300 (data_loss: 0.237, reg_loss: 0.063), lr: 0.019976038741529537\n",
      "epoch: 2500, acc: 0.912, loss: 0.302 (data_loss: 0.240, reg_loss: 0.062), lr: 0.01997504118603805\n",
      "epoch: 2600, acc: 0.910, loss: 0.301 (data_loss: 0.240, reg_loss: 0.061), lr: 0.01997404373017264\n",
      "epoch: 2700, acc: 0.910, loss: 0.298 (data_loss: 0.238, reg_loss: 0.060), lr: 0.0199730463739184\n",
      "epoch: 2800, acc: 0.908, loss: 0.297 (data_loss: 0.238, reg_loss: 0.059), lr: 0.019972049117260395\n",
      "epoch: 2900, acc: 0.912, loss: 0.290 (data_loss: 0.232, reg_loss: 0.058), lr: 0.019971051960183714\n",
      "epoch: 3000, acc: 0.915, loss: 0.286 (data_loss: 0.229, reg_loss: 0.057), lr: 0.019970054902673444\n",
      "epoch: 3100, acc: 0.909, loss: 0.292 (data_loss: 0.236, reg_loss: 0.056), lr: 0.019969057944714663\n",
      "epoch: 3200, acc: 0.800, loss: 0.568 (data_loss: 0.496, reg_loss: 0.072), lr: 0.019968061086292475\n",
      "epoch: 3300, acc: 0.914, loss: 0.308 (data_loss: 0.237, reg_loss: 0.071), lr: 0.019967064327391967\n",
      "epoch: 3400, acc: 0.914, loss: 0.302 (data_loss: 0.234, reg_loss: 0.069), lr: 0.019966067667998237\n",
      "epoch: 3500, acc: 0.914, loss: 0.299 (data_loss: 0.232, reg_loss: 0.067), lr: 0.019965071108096383\n",
      "epoch: 3600, acc: 0.915, loss: 0.296 (data_loss: 0.231, reg_loss: 0.065), lr: 0.01996407464767152\n",
      "epoch: 3700, acc: 0.915, loss: 0.294 (data_loss: 0.230, reg_loss: 0.064), lr: 0.019963078286708732\n",
      "epoch: 3800, acc: 0.915, loss: 0.292 (data_loss: 0.229, reg_loss: 0.063), lr: 0.019962082025193145\n",
      "epoch: 3900, acc: 0.915, loss: 0.289 (data_loss: 0.228, reg_loss: 0.062), lr: 0.019961085863109868\n",
      "epoch: 4000, acc: 0.916, loss: 0.287 (data_loss: 0.227, reg_loss: 0.060), lr: 0.019960089800444013\n",
      "epoch: 4100, acc: 0.918, loss: 0.286 (data_loss: 0.226, reg_loss: 0.059), lr: 0.019959093837180697\n",
      "epoch: 4200, acc: 0.915, loss: 0.287 (data_loss: 0.229, reg_loss: 0.058), lr: 0.01995809797330505\n",
      "epoch: 4300, acc: 0.917, loss: 0.282 (data_loss: 0.224, reg_loss: 0.057), lr: 0.01995710220880218\n",
      "epoch: 4400, acc: 0.916, loss: 0.285 (data_loss: 0.228, reg_loss: 0.056), lr: 0.019956106543657228\n",
      "epoch: 4500, acc: 0.914, loss: 0.284 (data_loss: 0.228, reg_loss: 0.056), lr: 0.019955110977855316\n",
      "epoch: 4600, acc: 0.919, loss: 0.277 (data_loss: 0.222, reg_loss: 0.055), lr: 0.01995411551138158\n",
      "epoch: 4700, acc: 0.918, loss: 0.276 (data_loss: 0.222, reg_loss: 0.054), lr: 0.019953120144221154\n",
      "epoch: 4800, acc: 0.910, loss: 0.282 (data_loss: 0.229, reg_loss: 0.053), lr: 0.019952124876359174\n",
      "epoch: 4900, acc: 0.920, loss: 0.274 (data_loss: 0.221, reg_loss: 0.053), lr: 0.01995112970778079\n",
      "epoch: 5000, acc: 0.913, loss: 0.278 (data_loss: 0.226, reg_loss: 0.052), lr: 0.019950134638471142\n",
      "epoch: 5100, acc: 0.920, loss: 0.272 (data_loss: 0.220, reg_loss: 0.051), lr: 0.019949139668415376\n",
      "epoch: 5200, acc: 0.919, loss: 0.269 (data_loss: 0.218, reg_loss: 0.051), lr: 0.01994814479759864\n",
      "epoch: 5300, acc: 0.921, loss: 0.268 (data_loss: 0.217, reg_loss: 0.050), lr: 0.019947150026006097\n",
      "epoch: 5400, acc: 0.920, loss: 0.267 (data_loss: 0.217, reg_loss: 0.050), lr: 0.019946155353622895\n",
      "epoch: 5500, acc: 0.921, loss: 0.267 (data_loss: 0.217, reg_loss: 0.049), lr: 0.019945160780434196\n",
      "epoch: 5600, acc: 0.921, loss: 0.264 (data_loss: 0.216, reg_loss: 0.049), lr: 0.019944166306425162\n",
      "epoch: 5700, acc: 0.918, loss: 0.268 (data_loss: 0.219, reg_loss: 0.048), lr: 0.01994317193158096\n",
      "epoch: 5800, acc: 0.916, loss: 0.269 (data_loss: 0.221, reg_loss: 0.048), lr: 0.019942177655886757\n",
      "epoch: 5900, acc: 0.916, loss: 0.265 (data_loss: 0.218, reg_loss: 0.047), lr: 0.019941183479327725\n",
      "epoch: 6000, acc: 0.913, loss: 0.268 (data_loss: 0.221, reg_loss: 0.047), lr: 0.019940189401889033\n",
      "epoch: 6100, acc: 0.916, loss: 0.270 (data_loss: 0.224, reg_loss: 0.047), lr: 0.01993919542355587\n",
      "epoch: 6200, acc: 0.920, loss: 0.259 (data_loss: 0.213, reg_loss: 0.046), lr: 0.019938201544313403\n",
      "epoch: 6300, acc: 0.921, loss: 0.259 (data_loss: 0.213, reg_loss: 0.046), lr: 0.01993720776414682\n",
      "epoch: 6400, acc: 0.921, loss: 0.259 (data_loss: 0.214, reg_loss: 0.045), lr: 0.019936214083041307\n",
      "epoch: 6500, acc: 0.916, loss: 0.260 (data_loss: 0.215, reg_loss: 0.045), lr: 0.01993522050098206\n",
      "epoch: 6600, acc: 0.912, loss: 0.296 (data_loss: 0.232, reg_loss: 0.064), lr: 0.019934227017954262\n",
      "epoch: 6700, acc: 0.917, loss: 0.281 (data_loss: 0.222, reg_loss: 0.059), lr: 0.01993323363394311\n",
      "epoch: 6800, acc: 0.920, loss: 0.275 (data_loss: 0.219, reg_loss: 0.056), lr: 0.0199322403489338\n",
      "epoch: 6900, acc: 0.921, loss: 0.272 (data_loss: 0.218, reg_loss: 0.055), lr: 0.019931247162911534\n",
      "epoch: 7000, acc: 0.922, loss: 0.271 (data_loss: 0.217, reg_loss: 0.053), lr: 0.019930254075861523\n",
      "epoch: 7100, acc: 0.922, loss: 0.269 (data_loss: 0.216, reg_loss: 0.052), lr: 0.019929261087768962\n",
      "epoch: 7200, acc: 0.923, loss: 0.267 (data_loss: 0.215, reg_loss: 0.051), lr: 0.01992826819861907\n",
      "epoch: 7300, acc: 0.921, loss: 0.265 (data_loss: 0.214, reg_loss: 0.051), lr: 0.019927275408397054\n",
      "epoch: 7400, acc: 0.924, loss: 0.265 (data_loss: 0.215, reg_loss: 0.050), lr: 0.019926282717088132\n",
      "epoch: 7500, acc: 0.922, loss: 0.262 (data_loss: 0.213, reg_loss: 0.049), lr: 0.01992529012467752\n",
      "epoch: 7600, acc: 0.923, loss: 0.260 (data_loss: 0.212, reg_loss: 0.048), lr: 0.019924297631150445\n",
      "epoch: 7700, acc: 0.916, loss: 0.265 (data_loss: 0.218, reg_loss: 0.048), lr: 0.019923305236492123\n",
      "epoch: 7800, acc: 0.919, loss: 0.259 (data_loss: 0.212, reg_loss: 0.047), lr: 0.01992231294068779\n",
      "epoch: 7900, acc: 0.917, loss: 0.260 (data_loss: 0.213, reg_loss: 0.046), lr: 0.019921320743722666\n",
      "epoch: 8000, acc: 0.918, loss: 0.263 (data_loss: 0.217, reg_loss: 0.046), lr: 0.019920328645582\n",
      "epoch: 8100, acc: 0.923, loss: 0.256 (data_loss: 0.211, reg_loss: 0.045), lr: 0.019919336646251007\n",
      "epoch: 8200, acc: 0.914, loss: 0.261 (data_loss: 0.216, reg_loss: 0.045), lr: 0.019918344745714942\n",
      "epoch: 8300, acc: 0.904, loss: 0.301 (data_loss: 0.241, reg_loss: 0.060), lr: 0.019917352943959042\n",
      "epoch: 8400, acc: 0.916, loss: 0.272 (data_loss: 0.218, reg_loss: 0.054), lr: 0.019916361240968555\n",
      "epoch: 8500, acc: 0.917, loss: 0.269 (data_loss: 0.217, reg_loss: 0.052), lr: 0.01991536963672872\n",
      "epoch: 8600, acc: 0.918, loss: 0.267 (data_loss: 0.215, reg_loss: 0.051), lr: 0.019914378131224802\n",
      "epoch: 8700, acc: 0.918, loss: 0.265 (data_loss: 0.214, reg_loss: 0.050), lr: 0.01991338672444204\n",
      "epoch: 8800, acc: 0.918, loss: 0.263 (data_loss: 0.214, reg_loss: 0.050), lr: 0.0199123954163657\n",
      "epoch: 8900, acc: 0.919, loss: 0.262 (data_loss: 0.213, reg_loss: 0.049), lr: 0.019911404206981037\n",
      "epoch: 9000, acc: 0.920, loss: 0.261 (data_loss: 0.212, reg_loss: 0.048), lr: 0.019910413096273318\n",
      "epoch: 9100, acc: 0.920, loss: 0.259 (data_loss: 0.212, reg_loss: 0.047), lr: 0.019909422084227805\n",
      "epoch: 9200, acc: 0.917, loss: 0.261 (data_loss: 0.215, reg_loss: 0.047), lr: 0.019908431170829768\n",
      "epoch: 9300, acc: 0.919, loss: 0.257 (data_loss: 0.211, reg_loss: 0.046), lr: 0.01990744035606448\n",
      "epoch: 9400, acc: 0.918, loss: 0.257 (data_loss: 0.211, reg_loss: 0.046), lr: 0.01990644963991721\n",
      "epoch: 9500, acc: 0.919, loss: 0.257 (data_loss: 0.211, reg_loss: 0.045), lr: 0.01990545902237324\n",
      "epoch: 9600, acc: 0.919, loss: 0.256 (data_loss: 0.211, reg_loss: 0.045), lr: 0.019904468503417844\n",
      "epoch: 9700, acc: 0.920, loss: 0.257 (data_loss: 0.213, reg_loss: 0.044), lr: 0.019903478083036316\n",
      "epoch: 9800, acc: 0.921, loss: 0.255 (data_loss: 0.211, reg_loss: 0.044), lr: 0.019902487761213932\n",
      "epoch: 9900, acc: 0.920, loss: 0.252 (data_loss: 0.209, reg_loss: 0.043), lr: 0.019901497537935988\n",
      "epoch: 10000, acc: 0.918, loss: 0.253 (data_loss: 0.210, reg_loss: 0.043), lr: 0.019900507413187767\n"
     ]
    }
   ],
   "source": [
    "for epoch in range(10001):\n",
    "\n",
    "    dense1.forward(X)\n",
    "    activation1.forward(dense1.output)\n",
    "    dense2.forward(activation1.output)\n",
    "    data_loss = loss_activation.forward(dense2.output, y)\n",
    "\n",
    "    regularization_loss = loss_activation.loss.regularization_loss(\n",
    "        dense1\n",
    "    ) + loss_activation.loss.regularization_loss(dense2)\n",
    "\n",
    "    loss = data_loss + regularization_loss\n",
    "\n",
    "    predictions = np.argmax(loss_activation.output, axis=1)\n",
    "    if len(y.shape) == 2:\n",
    "        y = np.argmax(y, axis=1)\n",
    "    accuracy = np.mean(predictions == y)\n",
    "\n",
    "    if not epoch % 100:\n",
    "        print(\n",
    "            f\"epoch: {epoch}, \"\n",
    "            + f\"acc: {accuracy:.3f}, \"\n",
    "            + f\"loss: {loss:.3f} (\"\n",
    "            + f\"data_loss: {data_loss:.3f}, \"\n",
    "            + f\"reg_loss: {regularization_loss:.3f}), \"\n",
    "            + f\"lr: {optimizer.current_learning_rate}\"\n",
    "        )\n",
    "\n",
    "    loss_activation.backward(loss_activation.output, y)\n",
    "    dense2.backward(loss_activation.dinputs)\n",
    "    activation1.backward(dense2.dinputs)\n",
    "    dense1.backward(activation1.dinputs)\n",
    "\n",
    "    optimizer.pre_update_params()\n",
    "    optimizer.update_params(dense1)\n",
    "    optimizer.update_params(dense2)\n",
    "    optimizer.post_update_params()"
   ]
  },
  {
   "cell_type": "markdown",
   "id": "ff50b450-94c2-4c72-bcf1-55892b4ff3a8",
   "metadata": {},
   "source": [
    "## Validation"
   ]
  },
  {
   "cell_type": "code",
   "execution_count": 10,
   "id": "ad5313ed-b245-4612-9f35-2f0486c1621d",
   "metadata": {},
   "outputs": [],
   "source": [
    "X_test, y_test = spiral_data(samples=100, classes=3)"
   ]
  },
  {
   "cell_type": "code",
   "execution_count": 12,
   "id": "dea208bf-621e-4a29-a590-db128d9e5d2e",
   "metadata": {},
   "outputs": [],
   "source": [
    "dense1.forward(X_test)\n",
    "activation1.forward(dense1.output)\n",
    "dense2.forward(activation1.output)\n",
    "loss = loss_activation.forward(dense2.output, y_test)"
   ]
  },
  {
   "cell_type": "code",
   "execution_count": 13,
   "id": "cc4958a8-5548-4dae-8491-cab02c816420",
   "metadata": {},
   "outputs": [],
   "source": [
    "predictions = np.argmax(loss_activation.output, axis=1)\n",
    "if len(y.shape) == 2:\n",
    "    y_test = np.argmax(y_test, axis=1)\n",
    "accuracy = np.mean(predictions == y_test)"
   ]
  },
  {
   "cell_type": "code",
   "execution_count": 14,
   "id": "c0ac10c4-9bb4-4567-ae7a-acc0b39ec79c",
   "metadata": {},
   "outputs": [
    {
     "name": "stdout",
     "output_type": "stream",
     "text": [
      "validation, acc: 0.920, loss: 0.256\n"
     ]
    }
   ],
   "source": [
    "print(f'validation, acc: {accuracy:.3f}, loss: {loss:.3f}')"
   ]
  }
 ],
 "metadata": {
  "kernelspec": {
   "display_name": "Python 3",
   "language": "python",
   "name": "python3"
  },
  "language_info": {
   "codemirror_mode": {
    "name": "ipython",
    "version": 3
   },
   "file_extension": ".py",
   "mimetype": "text/x-python",
   "name": "python",
   "nbconvert_exporter": "python",
   "pygments_lexer": "ipython3",
   "version": "3.8.5"
  }
 },
 "nbformat": 4,
 "nbformat_minor": 5
}
