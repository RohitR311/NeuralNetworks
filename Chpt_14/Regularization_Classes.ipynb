{
 "cells": [
  {
   "cell_type": "markdown",
   "id": "aa370352-90e5-472f-8845-539bcb554e95",
   "metadata": {},
   "source": [
    "# L1 and L2 Regularization\n",
    "###### -----------------------------------------------------------------------------------------------------------------------------------------"
   ]
  },
  {
   "cell_type": "markdown",
   "id": "93eb651e-8d5f-4637-a687-3997ad7fb371",
   "metadata": {},
   "source": [
    "### L1 weight regularization:"
   ]
  },
  {
   "cell_type": "markdown",
   "id": "0f03a1d9-fe25-4491-852a-8fc45ef8a53c",
   "metadata": {},
   "source": [
    "#### $L_{1w}$ = $\\lambda \\sum_{m}$ |$w_{m}$|\n",
    "###### ------------------------------------------------------------------------------------------"
   ]
  },
  {
   "cell_type": "markdown",
   "id": "7a555026-c14f-4ccd-89a1-9629af896f43",
   "metadata": {},
   "source": [
    "### L1 bias regularization:"
   ]
  },
  {
   "cell_type": "markdown",
   "id": "0def2781-edab-4f7f-a90c-5be58a6e24ff",
   "metadata": {},
   "source": [
    "#### $L_{1b}$ = $\\lambda \\sum_{n}$ |$b_{n}$| \n",
    "###### ------------------------------------------------------------------------------------------"
   ]
  },
  {
   "cell_type": "markdown",
   "id": "8183a959-0981-4d01-878b-baf78e3b6a38",
   "metadata": {},
   "source": [
    "### L2 weight regularization:"
   ]
  },
  {
   "cell_type": "markdown",
   "id": "6208a2e7-1d07-4035-a1db-71ea09cbd7e5",
   "metadata": {},
   "source": [
    "#### $L_{2w}$ = $\\lambda \\sum_{m}$ $w_{m}^2$\n",
    "###### ------------------------------------------------------------------------------------------"
   ]
  },
  {
   "cell_type": "markdown",
   "id": "4074f51f-0a28-40b6-90df-231e92aaf9e8",
   "metadata": {},
   "source": [
    "### L2 bias regularization:"
   ]
  },
  {
   "cell_type": "markdown",
   "id": "02cda0b0-6dca-4ac6-a4f7-c226e60cbb28",
   "metadata": {},
   "source": [
    "#### $L_{2b}$ = $\\lambda \\sum_{n}$ $b_{n}^2$ \n",
    "###### ------------------------------------------------------------------------------------------"
   ]
  },
  {
   "cell_type": "markdown",
   "id": "076f3e8b-661a-4598-a6a6-ceae8a6f43c0",
   "metadata": {},
   "source": [
    "### Overall loss:"
   ]
  },
  {
   "cell_type": "markdown",
   "id": "db7afc3d-aeff-4d2f-a0d0-f2fec3a16ed3",
   "metadata": {},
   "source": [
    "#### Loss = DataLoss + $L_{1w}$ + $L_{1b}$ + $L_{2w}$ + $L_{2b}$"
   ]
  },
  {
   "cell_type": "markdown",
   "id": "771e04d7-fc75-426e-b33a-67edf428f139",
   "metadata": {},
   "source": [
    "## Updated Layer_Dense Class"
   ]
  },
  {
   "cell_type": "code",
   "execution_count": 1,
   "id": "cc03378b-5303-4af5-8dbe-2236c1d38b5e",
   "metadata": {},
   "outputs": [],
   "source": [
    "import numpy as np\n",
    "\n",
    "\n",
    "class Layer_Dense:\n",
    "    def __init__(\n",
    "        self,\n",
    "        n_inputs,\n",
    "        n_neurons,\n",
    "        weight_regularizer_l1=0,\n",
    "        weight_regularizer_l2=0,\n",
    "        bias_regularizer_l1=0,\n",
    "        bias_regularizer_l2=0,\n",
    "    ):\n",
    "        self.weights = 0.01 * np.random.randn(n_inputs, n_neurons)\n",
    "        self.biases = np.zeros((1, n_neurons))\n",
    "\n",
    "        self.weight_regularizer_l1 = weight_regularizer_l1\n",
    "        self.weight_regularizer_l2 = weight_regularizer_l2\n",
    "        self.bias_regularizer_l1 = bias_regularizer_l1\n",
    "        self.bias_regularizer_l2 = bias_regularizer_l2\n",
    "\n",
    "    def forward(self, inputs):\n",
    "        self.inputs = inputs\n",
    "        self.output = np.dot(inputs, self.weights) + self.biases\n",
    "\n",
    "    def backward(self, dvalues):\n",
    "        self.dweights = np.dot(self.inputs.T, dvalues)\n",
    "        self.dbiases = np.sum(dvalues, axis=0, keepdims=True)\n",
    "\n",
    "        if self.weight_regularizer_l1 > 0:\n",
    "            dL1 = np.ones_like(self.weights)\n",
    "            dL1[self.weights < 0] = -1\n",
    "            self.dweights += self.weight_regularizer_l1 * dL1\n",
    "\n",
    "        if self.weight_regularizer_l2 > 0:\n",
    "            self.dweights += 2 * self.weight_regularizer_l2 * self.weights\n",
    "\n",
    "        if self.bias_regularizer_l1 > 0:\n",
    "            dL1 = np.ones_like(self.biases)\n",
    "            dL1[self.biases < 0] = -1\n",
    "            self.dbiases += self.bias_regularizer_l1 * dL1\n",
    "\n",
    "        if self.bias_regularizer_l2 > 0:\n",
    "            self.dbiases += 2 * self.bias_regularizer_l2 * self.biases\n",
    "\n",
    "        self.dinputs = np.dot(dvalues, self.weights.T)"
   ]
  },
  {
   "cell_type": "markdown",
   "id": "f1b75b1d-543f-4efe-bf9c-8a32d8cab6a2",
   "metadata": {},
   "source": [
    "## Updated Loss Class"
   ]
  },
  {
   "cell_type": "code",
   "execution_count": 2,
   "id": "1c57eb6a-f893-4f54-ac66-616348d651ba",
   "metadata": {},
   "outputs": [],
   "source": [
    "class Loss:\n",
    "    def regularization_loss(self, layer):\n",
    "        regularization_loss = 0\n",
    "\n",
    "        if layer.weight_regularizer_l1 > 0:\n",
    "            regularization_loss += layer.weight_regularizer_l1 * np.sum(\n",
    "                np.abs(layer.weights)\n",
    "            )\n",
    "\n",
    "        if layer.weight_regularizer_l2 > 0:\n",
    "            regularization_loss += layer.weight_regularizer_l2 * np.sum(\n",
    "                layer.weights * layer.weights\n",
    "            )\n",
    "\n",
    "        if layer.bias_regularizer_l1 > 0:\n",
    "            regularization_loss += layer.bias_regularizer_l1 * np.sum(\n",
    "                np.abs(layer.biases)\n",
    "            )\n",
    "\n",
    "        if layer.bias_regularizer_l2 > 0:\n",
    "            regularization_loss += layer.bias_regularizer_l2 * np.sum(\n",
    "                layer.biases * layer.biases\n",
    "            )\n",
    "\n",
    "        return regularization_loss\n",
    "\n",
    "    def calculate(self, output, y):\n",
    "        sample_losses = self.forward(output, y)\n",
    "        data_loss = np.mean(sample_losses)\n",
    "        return data_loss"
   ]
  }
 ],
 "metadata": {
  "kernelspec": {
   "display_name": "Python 3",
   "language": "python",
   "name": "python3"
  },
  "language_info": {
   "codemirror_mode": {
    "name": "ipython",
    "version": 3
   },
   "file_extension": ".py",
   "mimetype": "text/x-python",
   "name": "python",
   "nbconvert_exporter": "python",
   "pygments_lexer": "ipython3",
   "version": "3.8.5"
  }
 },
 "nbformat": 4,
 "nbformat_minor": 5
}
