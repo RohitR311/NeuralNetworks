{
 "cells": [
  {
   "cell_type": "markdown",
   "id": "75a3e2ec-b394-46b1-9614-1eee91f857bc",
   "metadata": {},
   "source": [
    "# Dropout "
   ]
  },
  {
   "cell_type": "markdown",
   "id": "4b15821a-7702-4e5c-862d-fa1946e76c69",
   "metadata": {},
   "source": [
    "## Implementation "
   ]
  },
  {
   "cell_type": "code",
   "execution_count": 1,
   "id": "71966c85-963b-4649-abed-bf0665d274ec",
   "metadata": {},
   "outputs": [],
   "source": [
    "import nnfs\n",
    "import numpy as np\n",
    "from nnfs.datasets import spiral_data"
   ]
  },
  {
   "cell_type": "code",
   "execution_count": 2,
   "id": "c1865266-b235-4041-a9ed-cd8f9168a76d",
   "metadata": {},
   "outputs": [],
   "source": [
    "nnfs.init()"
   ]
  },
  {
   "cell_type": "code",
   "execution_count": 3,
   "id": "f292c69d-1548-4300-ba0c-07f66d18877a",
   "metadata": {},
   "outputs": [],
   "source": [
    "import os\n",
    "import sys\n",
    "\n",
    "module = os.path.abspath(os.path.join(\"..\"))\n",
    "if module not in sys.path:\n",
    "    sys.path.append(module)"
   ]
  },
  {
   "cell_type": "code",
   "execution_count": 4,
   "id": "aaee95f3-00cb-4f94-9211-db47641887a9",
   "metadata": {},
   "outputs": [],
   "source": [
    "from Chpt_14.Updated_Classes import *"
   ]
  },
  {
   "cell_type": "code",
   "execution_count": 5,
   "id": "42d75c50-cf9d-490b-a0bb-43c70602c803",
   "metadata": {},
   "outputs": [],
   "source": [
    "%run Dropout_Class.ipynb"
   ]
  },
  {
   "cell_type": "code",
   "execution_count": 6,
   "id": "f0cf5de9-58d8-42dd-b8cf-f8560742329f",
   "metadata": {},
   "outputs": [],
   "source": [
    "X, y = spiral_data(samples=1000, classes=3)"
   ]
  },
  {
   "cell_type": "code",
   "execution_count": 7,
   "id": "4b4a95a2-a866-406a-93d5-99eee2124bee",
   "metadata": {},
   "outputs": [],
   "source": [
    "dense1 = Layer_Dense(2, 512, weight_regularizer_l2=5e-4, bias_regularizer_l2=5e-4)\n",
    "activation1 = Activation_ReLU()"
   ]
  },
  {
   "cell_type": "code",
   "execution_count": 8,
   "id": "93279c36-3928-4c4a-adfd-491cb7d80e30",
   "metadata": {},
   "outputs": [],
   "source": [
    "dropout1 = Layer_Dropout(0.2)"
   ]
  },
  {
   "cell_type": "code",
   "execution_count": 9,
   "id": "2ddb58be-34a2-483b-b1b0-2ccb064608bb",
   "metadata": {},
   "outputs": [],
   "source": [
    "dense2 = Layer_Dense(512, 3)\n",
    "loss_activation = Activation_Softmax_Loss_CategoricalCrossentropy()"
   ]
  },
  {
   "cell_type": "code",
   "execution_count": 10,
   "id": "fbeed674-a645-4b68-9c9f-c1fb3c747cba",
   "metadata": {},
   "outputs": [],
   "source": [
    "from Chpt_10.Optimizers import Optimizer_Adam"
   ]
  },
  {
   "cell_type": "code",
   "execution_count": 11,
   "id": "56c46e5a-80aa-4a3f-9355-04cc512ffa9c",
   "metadata": {},
   "outputs": [],
   "source": [
    "optimizer = Optimizer_Adam(learning_rate=0.05, decay=5e-5)"
   ]
  },
  {
   "cell_type": "code",
   "execution_count": 12,
   "id": "87a9cff2-42cf-4c6f-b914-bf727442ca84",
   "metadata": {},
   "outputs": [
    {
     "name": "stdout",
     "output_type": "stream",
     "text": [
      "epoch: 0, acc: 0.379, loss: 1.099 (data_loss: 1.099, reg_loss: 0.000), lr: 0.05\n",
      "epoch: 100, acc: 0.694, loss: 0.762 (data_loss: 0.703, reg_loss: 0.059), lr: 0.04975371909050202\n",
      "epoch: 200, acc: 0.748, loss: 0.670 (data_loss: 0.596, reg_loss: 0.074), lr: 0.049507401356502806\n",
      "epoch: 300, acc: 0.771, loss: 0.623 (data_loss: 0.544, reg_loss: 0.078), lr: 0.0492635105177595\n",
      "epoch: 400, acc: 0.781, loss: 0.633 (data_loss: 0.554, reg_loss: 0.079), lr: 0.04902201088288642\n",
      "epoch: 500, acc: 0.799, loss: 0.582 (data_loss: 0.504, reg_loss: 0.078), lr: 0.048782867456949125\n",
      "epoch: 600, acc: 0.811, loss: 0.571 (data_loss: 0.495, reg_loss: 0.076), lr: 0.04854604592455945\n",
      "epoch: 700, acc: 0.822, loss: 0.559 (data_loss: 0.478, reg_loss: 0.080), lr: 0.048311512633460556\n",
      "epoch: 800, acc: 0.819, loss: 0.558 (data_loss: 0.484, reg_loss: 0.074), lr: 0.04807923457858551\n",
      "epoch: 900, acc: 0.810, loss: 0.596 (data_loss: 0.521, reg_loss: 0.075), lr: 0.04784917938657352\n",
      "epoch: 1000, acc: 0.826, loss: 0.531 (data_loss: 0.458, reg_loss: 0.073), lr: 0.04762131530072861\n",
      "epoch: 1100, acc: 0.801, loss: 0.581 (data_loss: 0.510, reg_loss: 0.071), lr: 0.04739561116640599\n",
      "epoch: 1200, acc: 0.818, loss: 0.548 (data_loss: 0.477, reg_loss: 0.070), lr: 0.04717203641681212\n",
      "epoch: 1300, acc: 0.802, loss: 0.557 (data_loss: 0.487, reg_loss: 0.070), lr: 0.04695056105920466\n",
      "epoch: 1400, acc: 0.838, loss: 0.527 (data_loss: 0.457, reg_loss: 0.070), lr: 0.04673115566147951\n",
      "epoch: 1500, acc: 0.825, loss: 0.528 (data_loss: 0.460, reg_loss: 0.069), lr: 0.046513791339132055\n",
      "epoch: 1600, acc: 0.810, loss: 0.539 (data_loss: 0.470, reg_loss: 0.069), lr: 0.04629843974258068\n",
      "epoch: 1700, acc: 0.818, loss: 0.532 (data_loss: 0.464, reg_loss: 0.067), lr: 0.046085073044840774\n",
      "epoch: 1800, acc: 0.817, loss: 0.511 (data_loss: 0.444, reg_loss: 0.066), lr: 0.04587366392953806\n",
      "epoch: 1900, acc: 0.848, loss: 0.488 (data_loss: 0.423, reg_loss: 0.065), lr: 0.04566418557925019\n",
      "epoch: 2000, acc: 0.813, loss: 0.535 (data_loss: 0.471, reg_loss: 0.064), lr: 0.045456611664166556\n",
      "epoch: 2100, acc: 0.832, loss: 0.529 (data_loss: 0.465, reg_loss: 0.064), lr: 0.045250916331055706\n",
      "epoch: 2200, acc: 0.823, loss: 0.518 (data_loss: 0.452, reg_loss: 0.066), lr: 0.0450470741925312\n",
      "epoch: 2300, acc: 0.833, loss: 0.536 (data_loss: 0.470, reg_loss: 0.066), lr: 0.04484506031660612\n",
      "epoch: 2400, acc: 0.845, loss: 0.505 (data_loss: 0.438, reg_loss: 0.067), lr: 0.04464485021652753\n",
      "epoch: 2500, acc: 0.845, loss: 0.493 (data_loss: 0.429, reg_loss: 0.064), lr: 0.044446419840881816\n",
      "epoch: 2600, acc: 0.840, loss: 0.498 (data_loss: 0.434, reg_loss: 0.063), lr: 0.04424974556396301\n",
      "epoch: 2700, acc: 0.835, loss: 0.497 (data_loss: 0.435, reg_loss: 0.062), lr: 0.04405480417639544\n",
      "epoch: 2800, acc: 0.844, loss: 0.482 (data_loss: 0.421, reg_loss: 0.061), lr: 0.04386157287600334\n",
      "epoch: 2900, acc: 0.836, loss: 0.507 (data_loss: 0.442, reg_loss: 0.066), lr: 0.04367002925891961\n",
      "epoch: 3000, acc: 0.833, loss: 0.493 (data_loss: 0.429, reg_loss: 0.064), lr: 0.043480151310926564\n",
      "epoch: 3100, acc: 0.840, loss: 0.525 (data_loss: 0.461, reg_loss: 0.063), lr: 0.04329191739902161\n",
      "epoch: 3200, acc: 0.848, loss: 0.475 (data_loss: 0.411, reg_loss: 0.063), lr: 0.043105306263201\n",
      "epoch: 3300, acc: 0.832, loss: 0.510 (data_loss: 0.446, reg_loss: 0.064), lr: 0.0429202970084553\n",
      "epoch: 3400, acc: 0.850, loss: 0.494 (data_loss: 0.429, reg_loss: 0.065), lr: 0.04273686909696996\n",
      "epoch: 3500, acc: 0.840, loss: 0.488 (data_loss: 0.425, reg_loss: 0.062), lr: 0.04255500234052514\n",
      "epoch: 3600, acc: 0.844, loss: 0.490 (data_loss: 0.428, reg_loss: 0.062), lr: 0.042374676893088686\n",
      "epoch: 3700, acc: 0.834, loss: 0.501 (data_loss: 0.439, reg_loss: 0.061), lr: 0.042195873243596776\n",
      "epoch: 3800, acc: 0.836, loss: 0.482 (data_loss: 0.421, reg_loss: 0.061), lr: 0.04201857220891634\n",
      "epoch: 3900, acc: 0.843, loss: 0.498 (data_loss: 0.436, reg_loss: 0.062), lr: 0.041842754926984395\n",
      "epoch: 4000, acc: 0.859, loss: 0.479 (data_loss: 0.419, reg_loss: 0.061), lr: 0.04166840285011875\n",
      "epoch: 4100, acc: 0.832, loss: 0.476 (data_loss: 0.415, reg_loss: 0.061), lr: 0.041495497738495375\n",
      "epoch: 4200, acc: 0.839, loss: 0.479 (data_loss: 0.419, reg_loss: 0.060), lr: 0.041324021653787346\n",
      "epoch: 4300, acc: 0.835, loss: 0.495 (data_loss: 0.432, reg_loss: 0.063), lr: 0.041153956952961035\n",
      "epoch: 4400, acc: 0.857, loss: 0.474 (data_loss: 0.412, reg_loss: 0.062), lr: 0.040985286282224684\n",
      "epoch: 4500, acc: 0.846, loss: 0.473 (data_loss: 0.413, reg_loss: 0.060), lr: 0.04081799257112535\n",
      "epoch: 4600, acc: 0.857, loss: 0.474 (data_loss: 0.415, reg_loss: 0.059), lr: 0.04065205902678971\n",
      "epoch: 4700, acc: 0.853, loss: 0.463 (data_loss: 0.401, reg_loss: 0.061), lr: 0.04048746912830479\n",
      "epoch: 4800, acc: 0.850, loss: 0.479 (data_loss: 0.418, reg_loss: 0.061), lr: 0.04032420662123473\n",
      "epoch: 4900, acc: 0.838, loss: 0.476 (data_loss: 0.417, reg_loss: 0.059), lr: 0.04016225551226957\n",
      "epoch: 5000, acc: 0.854, loss: 0.469 (data_loss: 0.409, reg_loss: 0.060), lr: 0.04000160006400256\n",
      "epoch: 5100, acc: 0.829, loss: 0.507 (data_loss: 0.449, reg_loss: 0.058), lr: 0.039842224789832265\n",
      "epoch: 5200, acc: 0.842, loss: 0.471 (data_loss: 0.412, reg_loss: 0.060), lr: 0.03968411444898608\n",
      "epoch: 5300, acc: 0.834, loss: 0.497 (data_loss: 0.438, reg_loss: 0.059), lr: 0.03952725404166173\n",
      "epoch: 5400, acc: 0.849, loss: 0.479 (data_loss: 0.421, reg_loss: 0.058), lr: 0.03937162880428363\n",
      "epoch: 5500, acc: 0.852, loss: 0.470 (data_loss: 0.412, reg_loss: 0.058), lr: 0.03921722420487078\n",
      "epoch: 5600, acc: 0.850, loss: 0.473 (data_loss: 0.415, reg_loss: 0.058), lr: 0.03906402593851323\n",
      "epoch: 5700, acc: 0.839, loss: 0.482 (data_loss: 0.423, reg_loss: 0.059), lr: 0.038912019922954205\n",
      "epoch: 5800, acc: 0.843, loss: 0.528 (data_loss: 0.470, reg_loss: 0.058), lr: 0.038761192294274965\n",
      "epoch: 5900, acc: 0.851, loss: 0.468 (data_loss: 0.410, reg_loss: 0.059), lr: 0.038611529402679645\n",
      "epoch: 6000, acc: 0.825, loss: 0.502 (data_loss: 0.444, reg_loss: 0.058), lr: 0.03846301780837725\n",
      "epoch: 6100, acc: 0.837, loss: 0.491 (data_loss: 0.432, reg_loss: 0.059), lr: 0.03831564427755853\n",
      "epoch: 6200, acc: 0.833, loss: 0.482 (data_loss: 0.423, reg_loss: 0.059), lr: 0.03816939577846483\n",
      "epoch: 6300, acc: 0.847, loss: 0.473 (data_loss: 0.414, reg_loss: 0.059), lr: 0.038024259477546674\n",
      "epoch: 6400, acc: 0.841, loss: 0.487 (data_loss: 0.429, reg_loss: 0.058), lr: 0.03788022273570969\n",
      "epoch: 6500, acc: 0.850, loss: 0.475 (data_loss: 0.418, reg_loss: 0.057), lr: 0.03773727310464546\n",
      "epoch: 6600, acc: 0.849, loss: 0.473 (data_loss: 0.417, reg_loss: 0.056), lr: 0.03759539832324524\n",
      "epoch: 6700, acc: 0.836, loss: 0.512 (data_loss: 0.455, reg_loss: 0.057), lr: 0.03745458631409416\n",
      "epoch: 6800, acc: 0.854, loss: 0.495 (data_loss: 0.438, reg_loss: 0.056), lr: 0.03731482518004403\n",
      "epoch: 6900, acc: 0.825, loss: 0.497 (data_loss: 0.439, reg_loss: 0.058), lr: 0.03717610320086248\n",
      "epoch: 7000, acc: 0.854, loss: 0.460 (data_loss: 0.403, reg_loss: 0.058), lr: 0.03703840882995667\n",
      "epoch: 7100, acc: 0.830, loss: 0.488 (data_loss: 0.431, reg_loss: 0.056), lr: 0.036901730691169414\n",
      "epoch: 7200, acc: 0.849, loss: 0.453 (data_loss: 0.398, reg_loss: 0.055), lr: 0.03676605757564617\n",
      "epoch: 7300, acc: 0.842, loss: 0.460 (data_loss: 0.404, reg_loss: 0.055), lr: 0.03663137843877066\n",
      "epoch: 7400, acc: 0.843, loss: 0.459 (data_loss: 0.403, reg_loss: 0.056), lr: 0.03649768239716778\n",
      "epoch: 7500, acc: 0.851, loss: 0.463 (data_loss: 0.406, reg_loss: 0.057), lr: 0.03636495872577185\n",
      "epoch: 7600, acc: 0.849, loss: 0.487 (data_loss: 0.429, reg_loss: 0.059), lr: 0.03623319685495851\n",
      "epoch: 7700, acc: 0.853, loss: 0.465 (data_loss: 0.408, reg_loss: 0.056), lr: 0.03610238636773891\n",
      "epoch: 7800, acc: 0.834, loss: 0.499 (data_loss: 0.441, reg_loss: 0.058), lr: 0.03597251699701428\n",
      "epoch: 7900, acc: 0.838, loss: 0.471 (data_loss: 0.413, reg_loss: 0.057), lr: 0.035843578622889706\n",
      "epoch: 8000, acc: 0.839, loss: 0.460 (data_loss: 0.403, reg_loss: 0.057), lr: 0.03571556127004536\n",
      "epoch: 8100, acc: 0.852, loss: 0.449 (data_loss: 0.392, reg_loss: 0.056), lr: 0.03558845510516389\n",
      "epoch: 8200, acc: 0.853, loss: 0.483 (data_loss: 0.426, reg_loss: 0.057), lr: 0.03546225043441257\n",
      "epoch: 8300, acc: 0.841, loss: 0.463 (data_loss: 0.408, reg_loss: 0.055), lr: 0.035336937700978836\n",
      "epoch: 8400, acc: 0.787, loss: 0.581 (data_loss: 0.502, reg_loss: 0.079), lr: 0.03521250748265784\n",
      "epoch: 8500, acc: 0.825, loss: 0.532 (data_loss: 0.457, reg_loss: 0.075), lr: 0.035088950489490865\n",
      "epoch: 8600, acc: 0.815, loss: 0.536 (data_loss: 0.465, reg_loss: 0.071), lr: 0.0349662575614532\n",
      "epoch: 8700, acc: 0.825, loss: 0.527 (data_loss: 0.459, reg_loss: 0.068), lr: 0.034844419666190465\n",
      "epoch: 8800, acc: 0.823, loss: 0.526 (data_loss: 0.459, reg_loss: 0.067), lr: 0.034723427896801974\n",
      "epoch: 8900, acc: 0.829, loss: 0.515 (data_loss: 0.450, reg_loss: 0.065), lr: 0.03460327346967023\n",
      "epoch: 9000, acc: 0.827, loss: 0.497 (data_loss: 0.435, reg_loss: 0.062), lr: 0.034483947722335255\n",
      "epoch: 9100, acc: 0.822, loss: 0.545 (data_loss: 0.484, reg_loss: 0.061), lr: 0.034365442111412764\n",
      "epoch: 9200, acc: 0.833, loss: 0.513 (data_loss: 0.453, reg_loss: 0.060), lr: 0.03424774821055516\n",
      "epoch: 9300, acc: 0.836, loss: 0.494 (data_loss: 0.436, reg_loss: 0.059), lr: 0.03413085770845422\n",
      "epoch: 9400, acc: 0.832, loss: 0.488 (data_loss: 0.431, reg_loss: 0.057), lr: 0.034014762406884586\n",
      "epoch: 9500, acc: 0.828, loss: 0.498 (data_loss: 0.442, reg_loss: 0.057), lr: 0.03389945421878708\n",
      "epoch: 9600, acc: 0.839, loss: 0.499 (data_loss: 0.439, reg_loss: 0.060), lr: 0.033784925166390756\n",
      "epoch: 9700, acc: 0.837, loss: 0.485 (data_loss: 0.428, reg_loss: 0.057), lr: 0.03367116737937304\n",
      "epoch: 9800, acc: 0.828, loss: 0.492 (data_loss: 0.436, reg_loss: 0.056), lr: 0.033558173093056816\n",
      "epoch: 9900, acc: 0.788, loss: 0.619 (data_loss: 0.548, reg_loss: 0.071), lr: 0.0334459346466437\n",
      "epoch: 10000, acc: 0.835, loss: 0.516 (data_loss: 0.450, reg_loss: 0.066), lr: 0.03333444448148271\n"
     ]
    }
   ],
   "source": [
    "for epoch in range(10001):\n",
    "\n",
    "    dense1.forward(X)\n",
    "    activation1.forward(dense1.outputs)\n",
    "    \n",
    "    dropout1.forward(activation1.output)\n",
    "    \n",
    "    dense2.forward(dropout1.output)\n",
    "    data_loss = loss_activation.forward(dense2.outputs, y)\n",
    "\n",
    "    regularization_loss = loss_activation.loss.regularization_loss(\n",
    "        dense1\n",
    "    ) + loss_activation.loss.regularization_loss(dense2)\n",
    "\n",
    "    loss = data_loss + regularization_loss\n",
    "\n",
    "    predictions = np.argmax(loss_activation.output, axis=1)\n",
    "    if len(y.shape) == 2:\n",
    "        y = np.argmax(y, axis=1)\n",
    "    accuracy = np.mean(predictions == y)\n",
    "\n",
    "    if not epoch % 100:\n",
    "        print(\n",
    "            f\"epoch: {epoch}, \"\n",
    "            + f\"acc: {accuracy:.3f}, \"\n",
    "            + f\"loss: {loss:.3f} (\"\n",
    "            + f\"data_loss: {data_loss:.3f}, \"\n",
    "            + f\"reg_loss: {regularization_loss:.3f}), \"\n",
    "            + f\"lr: {optimizer.current_learning_rate}\"\n",
    "        )\n",
    "\n",
    "    loss_activation.backward(loss_activation.output, y)\n",
    "    dense2.backward(loss_activation.dinputs)\n",
    "    \n",
    "    dropout1.backward(dense2.dinputs)\n",
    "    \n",
    "    activation1.backward(dropout1.dinputs)\n",
    "    dense1.backward(activation1.dinputs)\n",
    "    \n",
    "\n",
    "    optimizer.pre_update_params()\n",
    "    optimizer.update_params(dense1)\n",
    "    optimizer.update_params(dense2)\n",
    "    optimizer.post_update_params()"
   ]
  },
  {
   "cell_type": "markdown",
   "id": "12fd1bf7-01b4-4d84-a8dd-ff59573a922f",
   "metadata": {},
   "source": [
    "## Validation"
   ]
  },
  {
   "cell_type": "code",
   "execution_count": 13,
   "id": "15f8230d-b869-45d2-a08a-3df19a8d969a",
   "metadata": {},
   "outputs": [],
   "source": [
    "X_test, y_test = spiral_data(samples=100, classes=3)"
   ]
  },
  {
   "cell_type": "code",
   "execution_count": 14,
   "id": "57a94f33-0e34-4e51-b1a2-e68c0ffa225c",
   "metadata": {},
   "outputs": [],
   "source": [
    "dense1.forward(X_test)\n",
    "activation1.forward(dense1.outputs)\n",
    "dense2.forward(activation1.output)\n",
    "loss = loss_activation.forward(dense2.outputs, y_test)"
   ]
  },
  {
   "cell_type": "code",
   "execution_count": 15,
   "id": "ca625392-3094-4620-8e37-3b48cfd5ccd0",
   "metadata": {},
   "outputs": [],
   "source": [
    "predictions = np.argmax(loss_activation.output, axis=1)\n",
    "if len(y.shape) == 2:\n",
    "    y_test = np.argmax(y_test, axis=1)\n",
    "accuracy = np.mean(predictions == y_test)"
   ]
  },
  {
   "cell_type": "code",
   "execution_count": 16,
   "id": "63aa8feb-19d1-47a9-96f2-d9f600a7800c",
   "metadata": {},
   "outputs": [
    {
     "name": "stdout",
     "output_type": "stream",
     "text": [
      "validation, acc: 0.847, loss: 0.436\n"
     ]
    }
   ],
   "source": [
    "print(f'validation, acc: {accuracy:.3f}, loss: {loss:.3f}')"
   ]
  }
 ],
 "metadata": {
  "kernelspec": {
   "display_name": "Python 3",
   "language": "python",
   "name": "python3"
  },
  "language_info": {
   "codemirror_mode": {
    "name": "ipython",
    "version": 3
   },
   "file_extension": ".py",
   "mimetype": "text/x-python",
   "name": "python",
   "nbconvert_exporter": "python",
   "pygments_lexer": "ipython3",
   "version": "3.8.5"
  }
 },
 "nbformat": 4,
 "nbformat_minor": 5
}
