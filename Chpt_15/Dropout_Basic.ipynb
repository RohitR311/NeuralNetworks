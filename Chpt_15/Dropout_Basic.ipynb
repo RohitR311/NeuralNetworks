{
 "cells": [
  {
   "cell_type": "markdown",
   "id": "1bf7d89c-a86c-4787-8de7-2a34ce3ac3f9",
   "metadata": {},
   "source": [
    "# Dropout ( NN Regularization Method )"
   ]
  },
  {
   "cell_type": "markdown",
   "id": "c317f2cb-f7f4-4346-98b6-ea4cff6daf59",
   "metadata": {},
   "source": [
    "## Without NumPy "
   ]
  },
  {
   "cell_type": "code",
   "execution_count": 1,
   "id": "a621e002-f482-4e5a-9295-22e6e769ba74",
   "metadata": {},
   "outputs": [],
   "source": [
    "import random"
   ]
  },
  {
   "cell_type": "code",
   "execution_count": 2,
   "id": "b47a53ec-14a4-45ed-8d88-b4706fd5879a",
   "metadata": {},
   "outputs": [],
   "source": [
    "dropout_rate = 0.2"
   ]
  },
  {
   "cell_type": "code",
   "execution_count": 3,
   "id": "acfede69-6d68-4009-a59f-8484553f6f96",
   "metadata": {},
   "outputs": [],
   "source": [
    "example_output = [0.63, -0.23, 0.43, 0.89, -0.12, -0.33, 1.89, -0.43, 2.29, -0.19]"
   ]
  },
  {
   "cell_type": "code",
   "execution_count": 4,
   "id": "6a38880f-657c-43cb-8c0c-7c3fed37cc30",
   "metadata": {},
   "outputs": [],
   "source": [
    "while True:  \n",
    "    index = random.randint(0, len(example_output) - 1)\n",
    "    example_output[index] = 0\n",
    "    \n",
    "    dropped_out = 0\n",
    "    for value in example_output:\n",
    "        if value == 0:\n",
    "            dropped_out += 1\n",
    "        \n",
    "    if dropped_out / len(example_output) >= dropout_rate:\n",
    "        break"
   ]
  },
  {
   "cell_type": "code",
   "execution_count": 5,
   "id": "e730b0c0-b022-4b78-a6c3-b1ba8d41ab10",
   "metadata": {},
   "outputs": [
    {
     "name": "stdout",
     "output_type": "stream",
     "text": [
      "[0.63, -0.23, 0.43, 0.89, -0.12, -0.33, 0, -0.43, 2.29, 0]\n"
     ]
    }
   ],
   "source": [
    "print(example_output)"
   ]
  },
  {
   "cell_type": "markdown",
   "id": "76b9e4e4-a25d-476c-a5ef-2814ea00de65",
   "metadata": {},
   "source": [
    "## With NumPy"
   ]
  },
  {
   "cell_type": "markdown",
   "id": "27c07043-a376-4f3a-af14-86d5d67b9b53",
   "metadata": {},
   "source": [
    "### For training purpose"
   ]
  },
  {
   "cell_type": "code",
   "execution_count": 6,
   "id": "87677499-2d35-4ec8-939b-fcc99ba7c5ce",
   "metadata": {},
   "outputs": [],
   "source": [
    "import numpy as np"
   ]
  },
  {
   "cell_type": "code",
   "execution_count": 7,
   "id": "e2b139c1-c3fa-4ceb-8655-06e141c68916",
   "metadata": {},
   "outputs": [],
   "source": [
    "neuron_outputT = np.array([0.63, -0.23, 0.43, 0.89, -0.12, -0.33, 1.89, -0.43, 2.29, -0.19])"
   ]
  },
  {
   "cell_type": "code",
   "execution_count": 8,
   "id": "1c508976-67ee-4292-a8ea-d9ea6c788697",
   "metadata": {},
   "outputs": [],
   "source": [
    "neuron_outputT *= np.random.binomial(1, 1-dropout_rate, neuron_outputT.shape)"
   ]
  },
  {
   "cell_type": "code",
   "execution_count": 9,
   "id": "fd82b6ce-c581-4e4f-941e-19656cba93d5",
   "metadata": {},
   "outputs": [
    {
     "name": "stdout",
     "output_type": "stream",
     "text": [
      "[ 0.63 -0.23  0.43  0.89 -0.   -0.33  1.89 -0.43  0.   -0.19]\n"
     ]
    }
   ],
   "source": [
    "print(neuron_outputT)"
   ]
  },
  {
   "cell_type": "markdown",
   "id": "15ba679a-d7cd-4990-89b7-eab02578c39e",
   "metadata": {},
   "source": [
    "### For prediction purpose"
   ]
  },
  {
   "cell_type": "code",
   "execution_count": 18,
   "id": "b134422d-8572-4241-8478-bc5a6e6ca09c",
   "metadata": {},
   "outputs": [
    {
     "name": "stdout",
     "output_type": "stream",
     "text": [
      "Initial sum: 4.829999999999999\n"
     ]
    }
   ],
   "source": [
    "neuron_outputP = np.array([0.63, -0.23, 0.43, 0.89, -0.12, -0.33, 1.89, -0.43, 2.29, -0.19])\n",
    "print(f'Initial sum: {sum(neuron_outputP)}')"
   ]
  },
  {
   "cell_type": "code",
   "execution_count": 19,
   "id": "14adeb9b-8706-42c4-93cf-730e32e04661",
   "metadata": {},
   "outputs": [],
   "source": [
    "sums = []\n",
    "for i in range(10000):\n",
    "    neuron_outputP2 = neuron_outputP * np.random.binomial(1, 1-dropout_rate, neuron_outputT.shape) / (1-dropout_rate)\n",
    "    sums.append(sum(neuron_outputP2))"
   ]
  },
  {
   "cell_type": "code",
   "execution_count": 20,
   "id": "5ed52d1b-1eff-445c-bb86-8882a098cb9d",
   "metadata": {},
   "outputs": [
    {
     "name": "stdout",
     "output_type": "stream",
     "text": [
      "mean sum: 4.82464375\n"
     ]
    }
   ],
   "source": [
    "print(f'mean sum: {np.mean(sums)}')"
   ]
  }
 ],
 "metadata": {
  "kernelspec": {
   "display_name": "Python 3",
   "language": "python",
   "name": "python3"
  },
  "language_info": {
   "codemirror_mode": {
    "name": "ipython",
    "version": 3
   },
   "file_extension": ".py",
   "mimetype": "text/x-python",
   "name": "python",
   "nbconvert_exporter": "python",
   "pygments_lexer": "ipython3",
   "version": "3.8.5"
  }
 },
 "nbformat": 4,
 "nbformat_minor": 5
}
