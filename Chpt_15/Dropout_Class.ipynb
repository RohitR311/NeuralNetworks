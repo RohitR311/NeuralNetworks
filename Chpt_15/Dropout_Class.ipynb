{
 "cells": [
  {
   "cell_type": "markdown",
   "id": "c94b01b9-bc14-4bb0-afc7-43190c99cb4a",
   "metadata": {},
   "source": [
    "# Layer Dropout Class"
   ]
  },
  {
   "cell_type": "code",
   "execution_count": 1,
   "id": "957af6f6-34f8-4745-8525-2ecd65310504",
   "metadata": {},
   "outputs": [],
   "source": [
    "class Layer_Dropout:\n",
    "    def __init__(self, rate):\n",
    "        self.rate = 1 - rate \n",
    "        \n",
    "    def forward(self, inputs):\n",
    "        self.inputs = inputs\n",
    "        self.binary_mask = np.random.binomial(1, self.rate, size=inputs.shape) / self.rate\n",
    "        self.output = inputs * self.binary_mask\n",
    "        \n",
    "    def backward(self, dvalues):\n",
    "        self.dinputs = dvalues * self.binary_mask"
   ]
  }
 ],
 "metadata": {
  "kernelspec": {
   "display_name": "Python 3",
   "language": "python",
   "name": "python3"
  },
  "language_info": {
   "codemirror_mode": {
    "name": "ipython",
    "version": 3
   },
   "file_extension": ".py",
   "mimetype": "text/x-python",
   "name": "python",
   "nbconvert_exporter": "python",
   "pygments_lexer": "ipython3",
   "version": "3.8.5"
  }
 },
 "nbformat": 4,
 "nbformat_minor": 5
}
