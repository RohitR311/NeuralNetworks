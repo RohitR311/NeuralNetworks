{
 "cells": [
  {
   "cell_type": "markdown",
   "id": "85b0e54e-bf10-4942-9ddb-2a611ef72afc",
   "metadata": {},
   "source": [
    "# Binary Cross Entropy Loss Class"
   ]
  },
  {
   "cell_type": "code",
   "execution_count": 2,
   "id": "87633caf-5891-40bf-8294-4fbf97b9ccf2",
   "metadata": {},
   "outputs": [],
   "source": [
    "import os\n",
    "import sys\n",
    "\n",
    "module = os.path.abspath(os.path.join(\"..\"))\n",
    "if module not in sys.path:\n",
    "    sys.path.append(module)"
   ]
  },
  {
   "cell_type": "code",
   "execution_count": 3,
   "id": "ea8d5fa5-b0ef-4a7a-8ecc-7de72f77b553",
   "metadata": {},
   "outputs": [],
   "source": [
    "from Chpt_14.Updated_Classes import Loss"
   ]
  },
  {
   "cell_type": "code",
   "execution_count": 4,
   "id": "82dcc17b-2ee8-491a-bae2-e1318c3df25c",
   "metadata": {},
   "outputs": [],
   "source": [
    "class BinaryCrossentropy_Loss(Loss):\n",
    "    def forward(self, y_pred, y_true):\n",
    "        y_pred_clipped = np.clip(y_pred, 1e-7, 1 - 1e-7)\n",
    "\n",
    "        sample_losses = -(\n",
    "            y_true * np.log(y_pred_clipped) + (1 - y_true) * np.log(1 - y_pred_clipped)\n",
    "        )\n",
    "        sample_losses = np.mean(sample_losses, axis=-1)\n",
    "\n",
    "        return sample_losses\n",
    "\n",
    "    def backward(self, dvalues, y_true):\n",
    "        samples = len(dvalues)\n",
    "\n",
    "        outputs = len(dvalues[0])\n",
    "\n",
    "        clipped_dvalues = np.clip(dvalues, 1e-7, 1 - 1e-7)\n",
    "\n",
    "        self.dinputs = (\n",
    "            -(y_true / clipped_dvalues - (1 - y_true) / (1 - clipped_dvalues)) / outputs\n",
    "        )\n",
    "        self.dinputs = self.dinputs / samples"
   ]
  }
 ],
 "metadata": {
  "kernelspec": {
   "display_name": "Python 3",
   "language": "python",
   "name": "python3"
  },
  "language_info": {
   "codemirror_mode": {
    "name": "ipython",
    "version": 3
   },
   "file_extension": ".py",
   "mimetype": "text/x-python",
   "name": "python",
   "nbconvert_exporter": "python",
   "pygments_lexer": "ipython3",
   "version": "3.8.5"
  }
 },
 "nbformat": 4,
 "nbformat_minor": 5
}
