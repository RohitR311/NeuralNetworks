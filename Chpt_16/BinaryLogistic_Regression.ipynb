{
 "cells": [
  {
   "cell_type": "markdown",
   "id": "f98d68e9-dc1b-4051-bf52-8d9f93858c22",
   "metadata": {},
   "source": [
    "# Binary Logistic Regression "
   ]
  },
  {
   "cell_type": "markdown",
   "id": "e375b4f6-23ba-46c3-97ff-6ade8ade4907",
   "metadata": {},
   "source": [
    "## Implementation "
   ]
  },
  {
   "cell_type": "code",
   "execution_count": 1,
   "id": "3520c0bd-57ea-444f-b99d-d89074504733",
   "metadata": {},
   "outputs": [],
   "source": [
    "import nnfs\n",
    "import numpy as np\n",
    "from nnfs.datasets import spiral_data"
   ]
  },
  {
   "cell_type": "code",
   "execution_count": 2,
   "id": "00c9a75f-9632-484c-983b-fbb85545508a",
   "metadata": {},
   "outputs": [],
   "source": [
    "nnfs.init()"
   ]
  },
  {
   "cell_type": "code",
   "execution_count": 3,
   "id": "d50330dc-6d43-4bd5-bcf3-1f66a9442f61",
   "metadata": {},
   "outputs": [],
   "source": [
    "import os\n",
    "import sys\n",
    "\n",
    "module = os.path.abspath(os.path.join(\"..\"))\n",
    "if module not in sys.path:\n",
    "    sys.path.append(module)"
   ]
  },
  {
   "cell_type": "code",
   "execution_count": 4,
   "id": "76e9eb2f-3624-4509-8a1b-8ff887e56955",
   "metadata": {},
   "outputs": [],
   "source": [
    "from Chpt_14.Updated_Classes import *"
   ]
  },
  {
   "cell_type": "code",
   "execution_count": 5,
   "id": "fbcaa64a-7dba-4a6c-a1b8-cfcd4e8920e0",
   "metadata": {},
   "outputs": [],
   "source": [
    "%run Sigmoid_Class.ipynb"
   ]
  },
  {
   "cell_type": "code",
   "execution_count": 6,
   "id": "580f7a9c-096d-4bc9-9a2e-d69df6082c75",
   "metadata": {},
   "outputs": [],
   "source": [
    "%run BinaryEntropy_Class.ipynb"
   ]
  },
  {
   "cell_type": "code",
   "execution_count": 7,
   "id": "a7135f53-097c-40dc-b75b-1e87db9dfd11",
   "metadata": {},
   "outputs": [],
   "source": [
    "X, y = spiral_data(samples=100, classes=2)"
   ]
  },
  {
   "cell_type": "code",
   "execution_count": 8,
   "id": "cee99a9d-74d0-45f4-af6c-847eb04027cf",
   "metadata": {},
   "outputs": [],
   "source": [
    "y = y.reshape(-1, 1)"
   ]
  },
  {
   "cell_type": "code",
   "execution_count": 9,
   "id": "ad447365-bdf8-42cc-acee-5e05875a718c",
   "metadata": {},
   "outputs": [],
   "source": [
    "dense1 = Layer_Dense(2, 64, weight_regularizer_l2=5e-4, bias_regularizer_l2=5e-4)\n",
    "activation1 = Activation_ReLU()\n",
    "dense2 = Layer_Dense(64, 1)\n",
    "activation2 = Activation_Sigmoid()"
   ]
  },
  {
   "cell_type": "code",
   "execution_count": 10,
   "id": "86a6b286-71c8-4e8e-8bcc-a3ab39aeef84",
   "metadata": {},
   "outputs": [],
   "source": [
    "loss_activation = BinaryCrossentropy_Loss()"
   ]
  },
  {
   "cell_type": "code",
   "execution_count": 11,
   "id": "2634231e-7609-4f05-a701-92ab8ceae8d8",
   "metadata": {},
   "outputs": [],
   "source": [
    "from Chpt_10.Optimizers import Optimizer_Adam"
   ]
  },
  {
   "cell_type": "code",
   "execution_count": 12,
   "id": "c5c5689c-697d-4361-9e55-3fdbb8a7e0e2",
   "metadata": {},
   "outputs": [],
   "source": [
    "optimizer = Optimizer_Adam(decay=5e-7)"
   ]
  },
  {
   "cell_type": "code",
   "execution_count": 13,
   "id": "eb68d4f5-5aa2-4fb4-8a10-bbe92b362b80",
   "metadata": {},
   "outputs": [
    {
     "name": "stdout",
     "output_type": "stream",
     "text": [
      "epoch: 0, acc: 0.500, loss: 0.693 (data_loss: 0.693, reg_loss: 0.000), lr: 0.001\n",
      "epoch: 100, acc: 0.630, loss: 0.674 (data_loss: 0.673, reg_loss: 0.001), lr: 0.0009999505024501287\n",
      "epoch: 200, acc: 0.625, loss: 0.669 (data_loss: 0.668, reg_loss: 0.001), lr: 0.0009999005098992651\n",
      "epoch: 300, acc: 0.650, loss: 0.664 (data_loss: 0.663, reg_loss: 0.002), lr: 0.000999850522346909\n",
      "epoch: 400, acc: 0.650, loss: 0.659 (data_loss: 0.657, reg_loss: 0.002), lr: 0.0009998005397923115\n",
      "epoch: 500, acc: 0.675, loss: 0.647 (data_loss: 0.644, reg_loss: 0.004), lr: 0.0009997505622347225\n",
      "epoch: 600, acc: 0.720, loss: 0.632 (data_loss: 0.625, reg_loss: 0.006), lr: 0.0009997005896733929\n",
      "epoch: 700, acc: 0.770, loss: 0.614 (data_loss: 0.603, reg_loss: 0.010), lr: 0.0009996506221075735\n",
      "epoch: 800, acc: 0.775, loss: 0.593 (data_loss: 0.579, reg_loss: 0.015), lr: 0.000999600659536515\n",
      "epoch: 900, acc: 0.785, loss: 0.575 (data_loss: 0.555, reg_loss: 0.020), lr: 0.0009995507019594694\n",
      "epoch: 1000, acc: 0.785, loss: 0.559 (data_loss: 0.535, reg_loss: 0.024), lr: 0.000999500749375687\n",
      "epoch: 1100, acc: 0.790, loss: 0.546 (data_loss: 0.519, reg_loss: 0.028), lr: 0.0009994508017844195\n",
      "epoch: 1200, acc: 0.790, loss: 0.534 (data_loss: 0.503, reg_loss: 0.031), lr: 0.0009994008591849186\n",
      "epoch: 1300, acc: 0.790, loss: 0.524 (data_loss: 0.490, reg_loss: 0.034), lr: 0.0009993509215764362\n",
      "epoch: 1400, acc: 0.790, loss: 0.513 (data_loss: 0.476, reg_loss: 0.037), lr: 0.0009993009889582235\n",
      "epoch: 1500, acc: 0.805, loss: 0.503 (data_loss: 0.464, reg_loss: 0.039), lr: 0.0009992510613295335\n",
      "epoch: 1600, acc: 0.805, loss: 0.494 (data_loss: 0.453, reg_loss: 0.041), lr: 0.0009992011386896176\n",
      "epoch: 1700, acc: 0.820, loss: 0.483 (data_loss: 0.440, reg_loss: 0.043), lr: 0.0009991512210377285\n",
      "epoch: 1800, acc: 0.820, loss: 0.475 (data_loss: 0.431, reg_loss: 0.044), lr: 0.0009991013083731183\n",
      "epoch: 1900, acc: 0.825, loss: 0.468 (data_loss: 0.422, reg_loss: 0.046), lr: 0.0009990514006950402\n",
      "epoch: 2000, acc: 0.825, loss: 0.462 (data_loss: 0.415, reg_loss: 0.047), lr: 0.0009990014980027463\n",
      "epoch: 2100, acc: 0.835, loss: 0.455 (data_loss: 0.407, reg_loss: 0.048), lr: 0.0009989516002954898\n",
      "epoch: 2200, acc: 0.835, loss: 0.449 (data_loss: 0.401, reg_loss: 0.049), lr: 0.000998901707572524\n",
      "epoch: 2300, acc: 0.835, loss: 0.444 (data_loss: 0.394, reg_loss: 0.050), lr: 0.0009988518198331018\n",
      "epoch: 2400, acc: 0.840, loss: 0.438 (data_loss: 0.387, reg_loss: 0.051), lr: 0.0009988019370764769\n",
      "epoch: 2500, acc: 0.855, loss: 0.430 (data_loss: 0.379, reg_loss: 0.052), lr: 0.0009987520593019025\n",
      "epoch: 2600, acc: 0.860, loss: 0.425 (data_loss: 0.373, reg_loss: 0.053), lr: 0.000998702186508632\n",
      "epoch: 2700, acc: 0.860, loss: 0.421 (data_loss: 0.368, reg_loss: 0.053), lr: 0.00099865231869592\n",
      "epoch: 2800, acc: 0.860, loss: 0.417 (data_loss: 0.363, reg_loss: 0.054), lr: 0.0009986024558630198\n",
      "epoch: 2900, acc: 0.860, loss: 0.413 (data_loss: 0.358, reg_loss: 0.054), lr: 0.0009985525980091856\n",
      "epoch: 3000, acc: 0.865, loss: 0.409 (data_loss: 0.354, reg_loss: 0.055), lr: 0.000998502745133672\n",
      "epoch: 3100, acc: 0.870, loss: 0.405 (data_loss: 0.350, reg_loss: 0.055), lr: 0.0009984528972357331\n",
      "epoch: 3200, acc: 0.870, loss: 0.401 (data_loss: 0.345, reg_loss: 0.056), lr: 0.0009984030543146237\n",
      "epoch: 3300, acc: 0.870, loss: 0.396 (data_loss: 0.339, reg_loss: 0.056), lr: 0.0009983532163695982\n",
      "epoch: 3400, acc: 0.870, loss: 0.392 (data_loss: 0.335, reg_loss: 0.057), lr: 0.000998303383399912\n",
      "epoch: 3500, acc: 0.870, loss: 0.389 (data_loss: 0.331, reg_loss: 0.058), lr: 0.0009982535554048193\n",
      "epoch: 3600, acc: 0.875, loss: 0.383 (data_loss: 0.326, reg_loss: 0.058), lr: 0.000998203732383576\n",
      "epoch: 3700, acc: 0.885, loss: 0.379 (data_loss: 0.321, reg_loss: 0.058), lr: 0.0009981539143354365\n",
      "epoch: 3800, acc: 0.890, loss: 0.376 (data_loss: 0.317, reg_loss: 0.059), lr: 0.0009981041012596574\n",
      "epoch: 3900, acc: 0.890, loss: 0.373 (data_loss: 0.313, reg_loss: 0.059), lr: 0.0009980542931554933\n",
      "epoch: 4000, acc: 0.890, loss: 0.370 (data_loss: 0.310, reg_loss: 0.060), lr: 0.0009980044900222008\n",
      "epoch: 4100, acc: 0.890, loss: 0.367 (data_loss: 0.306, reg_loss: 0.060), lr: 0.0009979546918590348\n",
      "epoch: 4200, acc: 0.890, loss: 0.363 (data_loss: 0.302, reg_loss: 0.060), lr: 0.0009979048986652524\n",
      "epoch: 4300, acc: 0.890, loss: 0.359 (data_loss: 0.298, reg_loss: 0.061), lr: 0.000997855110440109\n",
      "epoch: 4400, acc: 0.895, loss: 0.355 (data_loss: 0.293, reg_loss: 0.061), lr: 0.0009978053271828614\n",
      "epoch: 4500, acc: 0.910, loss: 0.346 (data_loss: 0.285, reg_loss: 0.061), lr: 0.0009977555488927658\n",
      "epoch: 4600, acc: 0.905, loss: 0.340 (data_loss: 0.278, reg_loss: 0.062), lr: 0.000997705775569079\n",
      "epoch: 4700, acc: 0.910, loss: 0.330 (data_loss: 0.268, reg_loss: 0.062), lr: 0.0009976560072110577\n",
      "epoch: 4800, acc: 0.920, loss: 0.326 (data_loss: 0.263, reg_loss: 0.063), lr: 0.0009976062438179587\n",
      "epoch: 4900, acc: 0.920, loss: 0.322 (data_loss: 0.259, reg_loss: 0.064), lr: 0.0009975564853890394\n",
      "epoch: 5000, acc: 0.920, loss: 0.319 (data_loss: 0.255, reg_loss: 0.065), lr: 0.000997506731923557\n",
      "epoch: 5100, acc: 0.920, loss: 0.316 (data_loss: 0.251, reg_loss: 0.065), lr: 0.0009974569834207687\n",
      "epoch: 5200, acc: 0.930, loss: 0.313 (data_loss: 0.247, reg_loss: 0.066), lr: 0.0009974072398799322\n",
      "epoch: 5300, acc: 0.935, loss: 0.310 (data_loss: 0.244, reg_loss: 0.066), lr: 0.0009973575013003048\n",
      "epoch: 5400, acc: 0.935, loss: 0.308 (data_loss: 0.241, reg_loss: 0.067), lr: 0.0009973077676811448\n",
      "epoch: 5500, acc: 0.935, loss: 0.305 (data_loss: 0.238, reg_loss: 0.067), lr: 0.00099725803902171\n",
      "epoch: 5600, acc: 0.935, loss: 0.303 (data_loss: 0.235, reg_loss: 0.067), lr: 0.0009972083153212581\n",
      "epoch: 5700, acc: 0.935, loss: 0.300 (data_loss: 0.233, reg_loss: 0.068), lr: 0.000997158596579048\n",
      "epoch: 5800, acc: 0.935, loss: 0.298 (data_loss: 0.230, reg_loss: 0.068), lr: 0.0009971088827943377\n",
      "epoch: 5900, acc: 0.935, loss: 0.296 (data_loss: 0.227, reg_loss: 0.068), lr: 0.0009970591739663862\n",
      "epoch: 6000, acc: 0.935, loss: 0.293 (data_loss: 0.225, reg_loss: 0.068), lr: 0.0009970094700944517\n",
      "epoch: 6100, acc: 0.940, loss: 0.291 (data_loss: 0.223, reg_loss: 0.069), lr: 0.0009969597711777935\n",
      "epoch: 6200, acc: 0.940, loss: 0.289 (data_loss: 0.220, reg_loss: 0.069), lr: 0.00099691007721567\n",
      "epoch: 6300, acc: 0.940, loss: 0.287 (data_loss: 0.218, reg_loss: 0.068), lr: 0.000996860388207341\n",
      "epoch: 6400, acc: 0.945, loss: 0.284 (data_loss: 0.216, reg_loss: 0.068), lr: 0.0009968107041520655\n",
      "epoch: 6500, acc: 0.945, loss: 0.282 (data_loss: 0.214, reg_loss: 0.068), lr: 0.000996761025049103\n",
      "epoch: 6600, acc: 0.950, loss: 0.279 (data_loss: 0.211, reg_loss: 0.068), lr: 0.000996711350897713\n",
      "epoch: 6700, acc: 0.955, loss: 0.272 (data_loss: 0.203, reg_loss: 0.069), lr: 0.0009966616816971556\n",
      "epoch: 6800, acc: 0.955, loss: 0.269 (data_loss: 0.200, reg_loss: 0.069), lr: 0.00099661201744669\n",
      "epoch: 6900, acc: 0.960, loss: 0.266 (data_loss: 0.197, reg_loss: 0.069), lr: 0.0009965623581455767\n",
      "epoch: 7000, acc: 0.960, loss: 0.264 (data_loss: 0.195, reg_loss: 0.069), lr: 0.000996512703793076\n",
      "epoch: 7100, acc: 0.960, loss: 0.262 (data_loss: 0.193, reg_loss: 0.069), lr: 0.0009964630543884481\n",
      "epoch: 7200, acc: 0.960, loss: 0.261 (data_loss: 0.191, reg_loss: 0.069), lr: 0.0009964134099309536\n",
      "epoch: 7300, acc: 0.960, loss: 0.259 (data_loss: 0.190, reg_loss: 0.069), lr: 0.0009963637704198528\n",
      "epoch: 7400, acc: 0.960, loss: 0.257 (data_loss: 0.188, reg_loss: 0.069), lr: 0.0009963141358544066\n",
      "epoch: 7500, acc: 0.965, loss: 0.256 (data_loss: 0.187, reg_loss: 0.069), lr: 0.000996264506233876\n",
      "epoch: 7600, acc: 0.965, loss: 0.254 (data_loss: 0.186, reg_loss: 0.068), lr: 0.0009962148815575223\n",
      "epoch: 7700, acc: 0.965, loss: 0.253 (data_loss: 0.185, reg_loss: 0.068), lr: 0.000996165261824606\n",
      "epoch: 7800, acc: 0.965, loss: 0.251 (data_loss: 0.183, reg_loss: 0.068), lr: 0.0009961156470343895\n",
      "epoch: 7900, acc: 0.965, loss: 0.250 (data_loss: 0.182, reg_loss: 0.067), lr: 0.0009960660371861334\n",
      "epoch: 8000, acc: 0.965, loss: 0.248 (data_loss: 0.181, reg_loss: 0.067), lr: 0.0009960164322790998\n",
      "epoch: 8100, acc: 0.965, loss: 0.247 (data_loss: 0.180, reg_loss: 0.067), lr: 0.0009959668323125503\n",
      "epoch: 8200, acc: 0.965, loss: 0.246 (data_loss: 0.179, reg_loss: 0.066), lr: 0.000995917237285747\n",
      "epoch: 8300, acc: 0.960, loss: 0.244 (data_loss: 0.179, reg_loss: 0.066), lr: 0.000995867647197952\n",
      "epoch: 8400, acc: 0.960, loss: 0.243 (data_loss: 0.178, reg_loss: 0.065), lr: 0.0009958180620484277\n",
      "epoch: 8500, acc: 0.960, loss: 0.242 (data_loss: 0.177, reg_loss: 0.065), lr: 0.0009957684818364362\n",
      "epoch: 8600, acc: 0.960, loss: 0.240 (data_loss: 0.176, reg_loss: 0.065), lr: 0.0009957189065612402\n",
      "epoch: 8700, acc: 0.960, loss: 0.236 (data_loss: 0.171, reg_loss: 0.065), lr: 0.000995669336222102\n",
      "epoch: 8800, acc: 0.960, loss: 0.234 (data_loss: 0.169, reg_loss: 0.065), lr: 0.000995619770818285\n",
      "epoch: 8900, acc: 0.965, loss: 0.233 (data_loss: 0.168, reg_loss: 0.065), lr: 0.0009955702103490519\n",
      "epoch: 9000, acc: 0.965, loss: 0.231 (data_loss: 0.166, reg_loss: 0.065), lr: 0.000995520654813666\n",
      "epoch: 9100, acc: 0.965, loss: 0.230 (data_loss: 0.165, reg_loss: 0.065), lr: 0.0009954711042113903\n",
      "epoch: 9200, acc: 0.965, loss: 0.229 (data_loss: 0.164, reg_loss: 0.064), lr: 0.0009954215585414883\n",
      "epoch: 9300, acc: 0.965, loss: 0.227 (data_loss: 0.163, reg_loss: 0.064), lr: 0.000995372017803224\n",
      "epoch: 9400, acc: 0.965, loss: 0.226 (data_loss: 0.162, reg_loss: 0.064), lr: 0.0009953224819958604\n",
      "epoch: 9500, acc: 0.965, loss: 0.225 (data_loss: 0.161, reg_loss: 0.064), lr: 0.000995272951118662\n",
      "epoch: 9600, acc: 0.965, loss: 0.224 (data_loss: 0.160, reg_loss: 0.064), lr: 0.0009952234251708924\n",
      "epoch: 9700, acc: 0.965, loss: 0.223 (data_loss: 0.159, reg_loss: 0.064), lr: 0.000995173904151816\n",
      "epoch: 9800, acc: 0.965, loss: 0.222 (data_loss: 0.158, reg_loss: 0.063), lr: 0.0009951243880606966\n",
      "epoch: 9900, acc: 0.965, loss: 0.221 (data_loss: 0.157, reg_loss: 0.063), lr: 0.0009950748768967994\n",
      "epoch: 10000, acc: 0.965, loss: 0.219 (data_loss: 0.156, reg_loss: 0.063), lr: 0.0009950253706593885\n"
     ]
    }
   ],
   "source": [
    "for epoch in range(10001):\n",
    "\n",
    "    dense1.forward(X)\n",
    "    activation1.forward(dense1.output)\n",
    "    \n",
    "    dense2.forward(activation1.output)\n",
    "    activation2.forward(dense2.output)\n",
    "    \n",
    "    data_loss = loss_activation.calculate(activation2.output, y)\n",
    "\n",
    "    regularization_loss = loss_activation.regularization_loss(\n",
    "        dense1\n",
    "    ) + loss_activation.regularization_loss(dense2)\n",
    "\n",
    "    loss = data_loss + regularization_loss\n",
    "\n",
    "    predictions = (activation2.output > 0.5) * 1\n",
    "    accuracy = np.mean(predictions == y)\n",
    "\n",
    "    if not epoch % 100:\n",
    "        print(\n",
    "            f\"epoch: {epoch}, \"\n",
    "            + f\"acc: {accuracy:.3f}, \"\n",
    "            + f\"loss: {loss:.3f} (\"\n",
    "            + f\"data_loss: {data_loss:.3f}, \"\n",
    "            + f\"reg_loss: {regularization_loss:.3f}), \"\n",
    "            + f\"lr: {optimizer.current_learning_rate}\"\n",
    "        )\n",
    "\n",
    "    loss_activation.backward(activation2.output, y)\n",
    "    activation2.backward(loss_activation.dinputs)\n",
    "    dense2.backward(activation2.dinputs)\n",
    "    activation1.backward(dense2.dinputs)\n",
    "    dense1.backward(activation1.dinputs)\n",
    "\n",
    "    optimizer.pre_update_params()\n",
    "    optimizer.update_params(dense1)\n",
    "    optimizer.update_params(dense2)\n",
    "    optimizer.post_update_params()"
   ]
  },
  {
   "cell_type": "markdown",
   "id": "2693b795-efc5-4a8e-8f01-693b88bb72d7",
   "metadata": {},
   "source": [
    "## Validation"
   ]
  },
  {
   "cell_type": "code",
   "execution_count": 14,
   "id": "c2633c19-71bd-4897-b878-8ee58172d8da",
   "metadata": {},
   "outputs": [],
   "source": [
    "X_test, y_test = spiral_data(samples=100, classes=2)"
   ]
  },
  {
   "cell_type": "code",
   "execution_count": 15,
   "id": "e7f93051-cb0e-4d07-acd9-9358823c08a5",
   "metadata": {},
   "outputs": [],
   "source": [
    "y_test = y_test.reshape(-1, 1)"
   ]
  },
  {
   "cell_type": "code",
   "execution_count": 16,
   "id": "f7a8109f-b7d4-4892-9400-92e04feb749e",
   "metadata": {},
   "outputs": [
    {
     "ename": "AttributeError",
     "evalue": "'Layer_Dense' object has no attribute 'outputs'",
     "output_type": "error",
     "traceback": [
      "\u001b[1;31m---------------------------------------------------------------------------\u001b[0m",
      "\u001b[1;31mAttributeError\u001b[0m                            Traceback (most recent call last)",
      "\u001b[1;32m<ipython-input-16-8eeaf2ab67e8>\u001b[0m in \u001b[0;36m<module>\u001b[1;34m\u001b[0m\n\u001b[0;32m      1\u001b[0m \u001b[0mdense1\u001b[0m\u001b[1;33m.\u001b[0m\u001b[0mforward\u001b[0m\u001b[1;33m(\u001b[0m\u001b[0mX_test\u001b[0m\u001b[1;33m)\u001b[0m\u001b[1;33m\u001b[0m\u001b[1;33m\u001b[0m\u001b[0m\n\u001b[1;32m----> 2\u001b[1;33m \u001b[0mactivation1\u001b[0m\u001b[1;33m.\u001b[0m\u001b[0mforward\u001b[0m\u001b[1;33m(\u001b[0m\u001b[0mdense1\u001b[0m\u001b[1;33m.\u001b[0m\u001b[0moutputs\u001b[0m\u001b[1;33m)\u001b[0m\u001b[1;33m\u001b[0m\u001b[1;33m\u001b[0m\u001b[0m\n\u001b[0m\u001b[0;32m      3\u001b[0m \u001b[0mdense2\u001b[0m\u001b[1;33m.\u001b[0m\u001b[0mforward\u001b[0m\u001b[1;33m(\u001b[0m\u001b[0mactivation1\u001b[0m\u001b[1;33m.\u001b[0m\u001b[0moutput\u001b[0m\u001b[1;33m)\u001b[0m\u001b[1;33m\u001b[0m\u001b[1;33m\u001b[0m\u001b[0m\n\u001b[0;32m      4\u001b[0m \u001b[0mactivation2\u001b[0m\u001b[1;33m.\u001b[0m\u001b[0mforward\u001b[0m\u001b[1;33m(\u001b[0m\u001b[0mdense2\u001b[0m\u001b[1;33m.\u001b[0m\u001b[0moutputs\u001b[0m\u001b[1;33m)\u001b[0m\u001b[1;33m\u001b[0m\u001b[1;33m\u001b[0m\u001b[0m\n",
      "\u001b[1;31mAttributeError\u001b[0m: 'Layer_Dense' object has no attribute 'outputs'"
     ]
    }
   ],
   "source": [
    "dense1.forward(X_test)\n",
    "activation1.forward(dense1.outputs)\n",
    "dense2.forward(activation1.output)\n",
    "activation2.forward(dense2.outputs)"
   ]
  },
  {
   "cell_type": "code",
   "execution_count": null,
   "id": "d6cb88c8-3d6c-4835-964c-43c0668df04a",
   "metadata": {},
   "outputs": [],
   "source": [
    "loss = loss_activation.calculate(activation2.output, y_test)"
   ]
  },
  {
   "cell_type": "code",
   "execution_count": null,
   "id": "48068603-de3d-4aa5-8e01-07427d33b499",
   "metadata": {},
   "outputs": [],
   "source": [
    "predictions = (activation2.output > 0.5) * 1\n",
    "accuracy = np.mean(predictions == y_test)"
   ]
  },
  {
   "cell_type": "code",
   "execution_count": null,
   "id": "a8010916-a137-487e-846b-108772f73298",
   "metadata": {},
   "outputs": [],
   "source": [
    "print(f'validation, acc: {accuracy:.3f}, loss: {loss:.3f}')"
   ]
  }
 ],
 "metadata": {
  "kernelspec": {
   "display_name": "Python 3",
   "language": "python",
   "name": "python3"
  },
  "language_info": {
   "codemirror_mode": {
    "name": "ipython",
    "version": 3
   },
   "file_extension": ".py",
   "mimetype": "text/x-python",
   "name": "python",
   "nbconvert_exporter": "python",
   "pygments_lexer": "ipython3",
   "version": "3.8.5"
  }
 },
 "nbformat": 4,
 "nbformat_minor": 5
}
