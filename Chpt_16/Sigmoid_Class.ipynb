{
 "cells": [
  {
   "cell_type": "markdown",
   "id": "a4cec9f2-8e1a-464f-b870-cb398746ef4f",
   "metadata": {},
   "source": [
    "# Sigmoid Activation Function Class"
   ]
  },
  {
   "cell_type": "code",
   "execution_count": 1,
   "id": "94a598c9-c0b5-45ac-ae91-f9f9754680f0",
   "metadata": {},
   "outputs": [],
   "source": [
    "class Activation_Sigmoid:\n",
    "    def forward(self, inputs):\n",
    "        self.inputs = inputs\n",
    "        self.output = 1 / (1 + np.exp(-inputs))\n",
    "        \n",
    "    def backward(self, dvalues):\n",
    "        self.dinputs = dvalues * (1 - self.output) * self.output"
   ]
  }
 ],
 "metadata": {
  "kernelspec": {
   "display_name": "Python 3",
   "language": "python",
   "name": "python3"
  },
  "language_info": {
   "codemirror_mode": {
    "name": "ipython",
    "version": 3
   },
   "file_extension": ".py",
   "mimetype": "text/x-python",
   "name": "python",
   "nbconvert_exporter": "python",
   "pygments_lexer": "ipython3",
   "version": "3.8.5"
  }
 },
 "nbformat": 4,
 "nbformat_minor": 5
}
