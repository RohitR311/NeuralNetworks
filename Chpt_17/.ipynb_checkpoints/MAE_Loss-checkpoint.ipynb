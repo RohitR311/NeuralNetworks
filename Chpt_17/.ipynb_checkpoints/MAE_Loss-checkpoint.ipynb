{
 "cells": [
  {
   "cell_type": "markdown",
   "id": "cd66ed57-73da-4c00-92ad-4a205a06df7a",
   "metadata": {},
   "source": [
    "# Mean Squared Error Loss (MSE)"
   ]
  },
  {
   "cell_type": "markdown",
   "id": "268b33b4-e018-4573-89f3-6900cc6ee1a2",
   "metadata": {},
   "source": [
    "## Formula "
   ]
  },
  {
   "cell_type": "markdown",
   "id": "144c5d2c-3d35-4f9f-8c6f-e461a4636e24",
   "metadata": {},
   "source": [
    "### $L_{i}$ = $\\frac{1}{J}.\\sum_{j}$ $({y_{i,j} - \\hat{y}_{i,j}})^2$\n",
    "###### ------------------------------------------------------------------------------------------"
   ]
  },
  {
   "cell_type": "markdown",
   "id": "a4a15590-025c-483f-a55d-7a15d82f82f5",
   "metadata": {},
   "source": [
    "### y --> Target value\n",
    "### $\\hat{y}$ --> Predicted value\n",
    "### i --> Index of current sample\n",
    "### j --> Index of current output\n",
    "### J --> Number of outputs\n",
    "###### ------------------------------------------------------------------------------------------"
   ]
  },
  {
   "cell_type": "markdown",
   "id": "19a4e25d-729a-43a7-a7ed-e45878a6cdd8",
   "metadata": {},
   "source": [
    "## MSE Loss Class "
   ]
  },
  {
   "cell_type": "code",
   "execution_count": 1,
   "id": "6dfeed02-a3f0-44c7-8007-b409c0c7f7c0",
   "metadata": {},
   "outputs": [],
   "source": [
    "import os\n",
    "import sys\n",
    "\n",
    "module = os.path.abspath(os.path.join(\"..\"))\n",
    "if module not in sys.path:\n",
    "    sys.path.append(module)"
   ]
  },
  {
   "cell_type": "code",
   "execution_count": 2,
   "id": "cafeb1f4-7de8-45b4-a9ac-192f054e172d",
   "metadata": {},
   "outputs": [],
   "source": [
    "from Chpt_14.Updated_Classes import Loss"
   ]
  },
  {
   "cell_type": "code",
   "execution_count": 3,
   "id": "f606b463-95af-4714-a47c-9fdc8a465690",
   "metadata": {},
   "outputs": [],
   "source": [
    "class MeanSquaredError_Loss(Loss):\n",
    "    def forward(self, y_pred, y_true):\n",
    "        sample_losses = np.mean((y_true - y_pred) ** 2, axis=-1)\n",
    "\n",
    "        return sample_losses\n",
    "\n",
    "    def backward(self, dvalues, y_true):\n",
    "        samples = len(dvalues)\n",
    "\n",
    "        outputs = len(dvalues[0])\n",
    "\n",
    "        self.dinputs = -2 * (y_true - dvalues) / outputs\n",
    "\n",
    "        self.dinputs = self.dinputs / samples"
   ]
  }
 ],
 "metadata": {
  "kernelspec": {
   "display_name": "Python 3",
   "language": "python",
   "name": "python3"
  },
  "language_info": {
   "codemirror_mode": {
    "name": "ipython",
    "version": 3
   },
   "file_extension": ".py",
   "mimetype": "text/x-python",
   "name": "python",
   "nbconvert_exporter": "python",
   "pygments_lexer": "ipython3",
   "version": "3.8.5"
  }
 },
 "nbformat": 4,
 "nbformat_minor": 5
}
