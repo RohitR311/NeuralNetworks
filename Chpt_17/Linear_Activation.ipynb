{
 "cells": [
  {
   "cell_type": "markdown",
   "id": "fa594a81-6b5c-4735-aa50-85b83444367e",
   "metadata": {
    "tags": []
   },
   "source": [
    "# Linear Activation Class"
   ]
  },
  {
   "cell_type": "markdown",
   "id": "82d1b6da-5dd3-488e-a1e8-e2466cbe890e",
   "metadata": {},
   "source": [
    "## Based on the premise (y = x)"
   ]
  },
  {
   "cell_type": "code",
   "execution_count": 1,
   "id": "88b8e330-9dfa-4e65-a9fb-fc71b9a19047",
   "metadata": {},
   "outputs": [],
   "source": [
    "class Activation_Linear:\n",
    "    def forward(self, inputs):\n",
    "        self.inputs = inputs\n",
    "        self.output = inputs\n",
    "        \n",
    "    def backward(self, dvalues):\n",
    "        self.dinputs = dvalues.copy()"
   ]
  }
 ],
 "metadata": {
  "kernelspec": {
   "display_name": "Python 3",
   "language": "python",
   "name": "python3"
  },
  "language_info": {
   "codemirror_mode": {
    "name": "ipython",
    "version": 3
   },
   "file_extension": ".py",
   "mimetype": "text/x-python",
   "name": "python",
   "nbconvert_exporter": "python",
   "pygments_lexer": "ipython3",
   "version": "3.8.5"
  }
 },
 "nbformat": 4,
 "nbformat_minor": 5
}
