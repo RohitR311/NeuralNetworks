{
 "cells": [
  {
   "cell_type": "markdown",
   "id": "0e1217a2-b383-441d-960b-8aa63e33a583",
   "metadata": {},
   "source": [
    "# Regression"
   ]
  },
  {
   "cell_type": "markdown",
   "id": "8d729a7e-d16c-40a6-88e6-e35444a7b850",
   "metadata": {},
   "source": [
    "## Single hidden layer "
   ]
  },
  {
   "cell_type": "code",
   "execution_count": 1,
   "id": "709bd1b7-174f-4f01-8e28-659261fecf30",
   "metadata": {},
   "outputs": [],
   "source": [
    "import nnfs\n",
    "import numpy as np\n",
    "from nnfs.datasets import sine_data"
   ]
  },
  {
   "cell_type": "code",
   "execution_count": 2,
   "id": "3a7431fe-81f4-4d5f-bfc0-e111af99cf57",
   "metadata": {},
   "outputs": [],
   "source": [
    "nnfs.init()"
   ]
  },
  {
   "cell_type": "code",
   "execution_count": 3,
   "id": "8a242714-2ed8-44ff-a36f-1c832ca2560c",
   "metadata": {},
   "outputs": [],
   "source": [
    "import os\n",
    "import sys\n",
    "\n",
    "module = os.path.abspath(os.path.join(\"..\"))\n",
    "if module not in sys.path:\n",
    "    sys.path.append(module)"
   ]
  },
  {
   "cell_type": "code",
   "execution_count": 4,
   "id": "1fb70ca9-7d14-44a0-88f2-d593ddc509a5",
   "metadata": {},
   "outputs": [],
   "source": [
    "from Chpt_14.Updated_Classes import *"
   ]
  },
  {
   "cell_type": "code",
   "execution_count": 5,
   "id": "9b22c912-7adc-491e-9d1f-c56f7df710b1",
   "metadata": {},
   "outputs": [],
   "source": [
    "%run Linear_Activation.ipynb"
   ]
  },
  {
   "cell_type": "code",
   "execution_count": 6,
   "id": "cd81ea2a-0a84-4e66-aaea-9bfadf14c1d1",
   "metadata": {},
   "outputs": [],
   "source": [
    "%run MSE_Loss.ipynb"
   ]
  },
  {
   "cell_type": "code",
   "execution_count": 7,
   "id": "9e1a5a00-22e1-406e-851a-7546eb23a2b2",
   "metadata": {},
   "outputs": [],
   "source": [
    "X, y = sine_data()"
   ]
  },
  {
   "cell_type": "code",
   "execution_count": 8,
   "id": "3ff00631-9791-43a6-9817-a4784887a484",
   "metadata": {},
   "outputs": [],
   "source": [
    "dense1 = Layer_Dense(1, 64)\n",
    "activation1 = Activation_ReLU()\n",
    "dense2 = Layer_Dense(64, 1)\n",
    "activation2 = Activation_Linear()"
   ]
  },
  {
   "cell_type": "code",
   "execution_count": 9,
   "id": "5eb9c028-41e3-4e24-a880-544a38fe6051",
   "metadata": {},
   "outputs": [],
   "source": [
    "loss_activation = MeanSquaredError_Loss()"
   ]
  },
  {
   "cell_type": "code",
   "execution_count": 10,
   "id": "b0a592d5-f4da-47eb-b32c-64dca9c82b95",
   "metadata": {},
   "outputs": [],
   "source": [
    "from Chpt_10.Optimizers import Optimizer_Adam"
   ]
  },
  {
   "cell_type": "code",
   "execution_count": 11,
   "id": "02c6ef90-8b4d-4bfd-a306-a60f58922bbd",
   "metadata": {},
   "outputs": [],
   "source": [
    "optimizer = Optimizer_Adam()"
   ]
  },
  {
   "cell_type": "code",
   "execution_count": 12,
   "id": "ca3bc65e-ce96-49af-8359-b5f5d88e7204",
   "metadata": {},
   "outputs": [],
   "source": [
    "accuracy_precision = np.std(y) / 250"
   ]
  },
  {
   "cell_type": "code",
   "execution_count": 13,
   "id": "cce6489f-6b56-46fb-8487-0b787639b876",
   "metadata": {},
   "outputs": [
    {
     "name": "stdout",
     "output_type": "stream",
     "text": [
      "epoch: 0, acc: 0.002, loss: 0.500 (data_loss: 0.500, reg_loss: 0.000), lr: 0.001\n",
      "epoch: 100, acc: 0.003, loss: 0.346 (data_loss: 0.346, reg_loss: 0.000), lr: 0.001\n",
      "epoch: 200, acc: 0.004, loss: 0.163 (data_loss: 0.163, reg_loss: 0.000), lr: 0.001\n",
      "epoch: 300, acc: 0.003, loss: 0.147 (data_loss: 0.147, reg_loss: 0.000), lr: 0.001\n",
      "epoch: 400, acc: 0.003, loss: 0.146 (data_loss: 0.146, reg_loss: 0.000), lr: 0.001\n",
      "epoch: 500, acc: 0.003, loss: 0.146 (data_loss: 0.146, reg_loss: 0.000), lr: 0.001\n",
      "epoch: 600, acc: 0.004, loss: 0.146 (data_loss: 0.146, reg_loss: 0.000), lr: 0.001\n",
      "epoch: 700, acc: 0.003, loss: 0.146 (data_loss: 0.146, reg_loss: 0.000), lr: 0.001\n",
      "epoch: 800, acc: 0.004, loss: 0.146 (data_loss: 0.146, reg_loss: 0.000), lr: 0.001\n",
      "epoch: 900, acc: 0.004, loss: 0.146 (data_loss: 0.146, reg_loss: 0.000), lr: 0.001\n",
      "epoch: 1000, acc: 0.004, loss: 0.146 (data_loss: 0.146, reg_loss: 0.000), lr: 0.001\n",
      "epoch: 1100, acc: 0.003, loss: 0.145 (data_loss: 0.145, reg_loss: 0.000), lr: 0.001\n",
      "epoch: 1200, acc: 0.004, loss: 0.145 (data_loss: 0.145, reg_loss: 0.000), lr: 0.001\n",
      "epoch: 1300, acc: 0.004, loss: 0.145 (data_loss: 0.145, reg_loss: 0.000), lr: 0.001\n",
      "epoch: 1400, acc: 0.004, loss: 0.145 (data_loss: 0.145, reg_loss: 0.000), lr: 0.001\n",
      "epoch: 1500, acc: 0.004, loss: 0.145 (data_loss: 0.145, reg_loss: 0.000), lr: 0.001\n",
      "epoch: 1600, acc: 0.004, loss: 0.145 (data_loss: 0.145, reg_loss: 0.000), lr: 0.001\n",
      "epoch: 1700, acc: 0.004, loss: 0.145 (data_loss: 0.145, reg_loss: 0.000), lr: 0.001\n",
      "epoch: 1800, acc: 0.004, loss: 0.145 (data_loss: 0.145, reg_loss: 0.000), lr: 0.001\n",
      "epoch: 1900, acc: 0.004, loss: 0.145 (data_loss: 0.145, reg_loss: 0.000), lr: 0.001\n",
      "epoch: 2000, acc: 0.003, loss: 0.145 (data_loss: 0.145, reg_loss: 0.000), lr: 0.001\n",
      "epoch: 2100, acc: 0.004, loss: 0.145 (data_loss: 0.145, reg_loss: 0.000), lr: 0.001\n",
      "epoch: 2200, acc: 0.004, loss: 0.145 (data_loss: 0.145, reg_loss: 0.000), lr: 0.001\n",
      "epoch: 2300, acc: 0.003, loss: 0.145 (data_loss: 0.145, reg_loss: 0.000), lr: 0.001\n",
      "epoch: 2400, acc: 0.004, loss: 0.145 (data_loss: 0.145, reg_loss: 0.000), lr: 0.001\n",
      "epoch: 2500, acc: 0.003, loss: 0.145 (data_loss: 0.145, reg_loss: 0.000), lr: 0.001\n",
      "epoch: 2600, acc: 0.004, loss: 0.145 (data_loss: 0.145, reg_loss: 0.000), lr: 0.001\n",
      "epoch: 2700, acc: 0.004, loss: 0.145 (data_loss: 0.145, reg_loss: 0.000), lr: 0.001\n",
      "epoch: 2800, acc: 0.003, loss: 0.145 (data_loss: 0.145, reg_loss: 0.000), lr: 0.001\n",
      "epoch: 2900, acc: 0.003, loss: 0.145 (data_loss: 0.145, reg_loss: 0.000), lr: 0.001\n",
      "epoch: 3000, acc: 0.004, loss: 0.145 (data_loss: 0.145, reg_loss: 0.000), lr: 0.001\n",
      "epoch: 3100, acc: 0.003, loss: 0.145 (data_loss: 0.145, reg_loss: 0.000), lr: 0.001\n",
      "epoch: 3200, acc: 0.004, loss: 0.145 (data_loss: 0.145, reg_loss: 0.000), lr: 0.001\n",
      "epoch: 3300, acc: 0.004, loss: 0.145 (data_loss: 0.145, reg_loss: 0.000), lr: 0.001\n",
      "epoch: 3400, acc: 0.003, loss: 0.145 (data_loss: 0.145, reg_loss: 0.000), lr: 0.001\n",
      "epoch: 3500, acc: 0.003, loss: 0.145 (data_loss: 0.145, reg_loss: 0.000), lr: 0.001\n",
      "epoch: 3600, acc: 0.004, loss: 0.145 (data_loss: 0.145, reg_loss: 0.000), lr: 0.001\n",
      "epoch: 3700, acc: 0.003, loss: 0.145 (data_loss: 0.145, reg_loss: 0.000), lr: 0.001\n",
      "epoch: 3800, acc: 0.004, loss: 0.145 (data_loss: 0.145, reg_loss: 0.000), lr: 0.001\n",
      "epoch: 3900, acc: 0.003, loss: 0.145 (data_loss: 0.145, reg_loss: 0.000), lr: 0.001\n",
      "epoch: 4000, acc: 0.004, loss: 0.145 (data_loss: 0.145, reg_loss: 0.000), lr: 0.001\n",
      "epoch: 4100, acc: 0.003, loss: 0.145 (data_loss: 0.145, reg_loss: 0.000), lr: 0.001\n",
      "epoch: 4200, acc: 0.003, loss: 0.145 (data_loss: 0.145, reg_loss: 0.000), lr: 0.001\n",
      "epoch: 4300, acc: 0.003, loss: 0.145 (data_loss: 0.145, reg_loss: 0.000), lr: 0.001\n",
      "epoch: 4400, acc: 0.003, loss: 0.145 (data_loss: 0.145, reg_loss: 0.000), lr: 0.001\n",
      "epoch: 4500, acc: 0.004, loss: 0.145 (data_loss: 0.145, reg_loss: 0.000), lr: 0.001\n",
      "epoch: 4600, acc: 0.004, loss: 0.145 (data_loss: 0.145, reg_loss: 0.000), lr: 0.001\n",
      "epoch: 4700, acc: 0.004, loss: 0.145 (data_loss: 0.145, reg_loss: 0.000), lr: 0.001\n",
      "epoch: 4800, acc: 0.003, loss: 0.145 (data_loss: 0.145, reg_loss: 0.000), lr: 0.001\n",
      "epoch: 4900, acc: 0.003, loss: 0.145 (data_loss: 0.145, reg_loss: 0.000), lr: 0.001\n",
      "epoch: 5000, acc: 0.003, loss: 0.145 (data_loss: 0.145, reg_loss: 0.000), lr: 0.001\n",
      "epoch: 5100, acc: 0.004, loss: 0.145 (data_loss: 0.145, reg_loss: 0.000), lr: 0.001\n",
      "epoch: 5200, acc: 0.004, loss: 0.145 (data_loss: 0.145, reg_loss: 0.000), lr: 0.001\n",
      "epoch: 5300, acc: 0.004, loss: 0.145 (data_loss: 0.145, reg_loss: 0.000), lr: 0.001\n",
      "epoch: 5400, acc: 0.003, loss: 0.145 (data_loss: 0.145, reg_loss: 0.000), lr: 0.001\n",
      "epoch: 5500, acc: 0.004, loss: 0.145 (data_loss: 0.145, reg_loss: 0.000), lr: 0.001\n",
      "epoch: 5600, acc: 0.004, loss: 0.145 (data_loss: 0.145, reg_loss: 0.000), lr: 0.001\n",
      "epoch: 5700, acc: 0.003, loss: 0.145 (data_loss: 0.145, reg_loss: 0.000), lr: 0.001\n",
      "epoch: 5800, acc: 0.004, loss: 0.145 (data_loss: 0.145, reg_loss: 0.000), lr: 0.001\n",
      "epoch: 5900, acc: 0.004, loss: 0.145 (data_loss: 0.145, reg_loss: 0.000), lr: 0.001\n",
      "epoch: 6000, acc: 0.003, loss: 0.145 (data_loss: 0.145, reg_loss: 0.000), lr: 0.001\n",
      "epoch: 6100, acc: 0.004, loss: 0.145 (data_loss: 0.145, reg_loss: 0.000), lr: 0.001\n",
      "epoch: 6200, acc: 0.003, loss: 0.145 (data_loss: 0.145, reg_loss: 0.000), lr: 0.001\n",
      "epoch: 6300, acc: 0.003, loss: 0.145 (data_loss: 0.145, reg_loss: 0.000), lr: 0.001\n",
      "epoch: 6400, acc: 0.003, loss: 0.145 (data_loss: 0.145, reg_loss: 0.000), lr: 0.001\n",
      "epoch: 6500, acc: 0.003, loss: 0.145 (data_loss: 0.145, reg_loss: 0.000), lr: 0.001\n",
      "epoch: 6600, acc: 0.003, loss: 0.145 (data_loss: 0.145, reg_loss: 0.000), lr: 0.001\n",
      "epoch: 6700, acc: 0.004, loss: 0.145 (data_loss: 0.145, reg_loss: 0.000), lr: 0.001\n",
      "epoch: 6800, acc: 0.004, loss: 0.145 (data_loss: 0.145, reg_loss: 0.000), lr: 0.001\n",
      "epoch: 6900, acc: 0.003, loss: 0.145 (data_loss: 0.145, reg_loss: 0.000), lr: 0.001\n",
      "epoch: 7000, acc: 0.003, loss: 0.145 (data_loss: 0.145, reg_loss: 0.000), lr: 0.001\n",
      "epoch: 7100, acc: 0.004, loss: 0.145 (data_loss: 0.145, reg_loss: 0.000), lr: 0.001\n",
      "epoch: 7200, acc: 0.004, loss: 0.145 (data_loss: 0.145, reg_loss: 0.000), lr: 0.001\n",
      "epoch: 7300, acc: 0.003, loss: 0.145 (data_loss: 0.145, reg_loss: 0.000), lr: 0.001\n",
      "epoch: 7400, acc: 0.004, loss: 0.145 (data_loss: 0.145, reg_loss: 0.000), lr: 0.001\n",
      "epoch: 7500, acc: 0.004, loss: 0.145 (data_loss: 0.145, reg_loss: 0.000), lr: 0.001\n",
      "epoch: 7600, acc: 0.003, loss: 0.145 (data_loss: 0.145, reg_loss: 0.000), lr: 0.001\n",
      "epoch: 7700, acc: 0.003, loss: 0.145 (data_loss: 0.145, reg_loss: 0.000), lr: 0.001\n",
      "epoch: 7800, acc: 0.004, loss: 0.145 (data_loss: 0.145, reg_loss: 0.000), lr: 0.001\n",
      "epoch: 7900, acc: 0.003, loss: 0.145 (data_loss: 0.145, reg_loss: 0.000), lr: 0.001\n",
      "epoch: 8000, acc: 0.004, loss: 0.145 (data_loss: 0.145, reg_loss: 0.000), lr: 0.001\n",
      "epoch: 8100, acc: 0.004, loss: 0.145 (data_loss: 0.145, reg_loss: 0.000), lr: 0.001\n",
      "epoch: 8200, acc: 0.003, loss: 0.145 (data_loss: 0.145, reg_loss: 0.000), lr: 0.001\n",
      "epoch: 8300, acc: 0.003, loss: 0.145 (data_loss: 0.145, reg_loss: 0.000), lr: 0.001\n",
      "epoch: 8400, acc: 0.004, loss: 0.145 (data_loss: 0.145, reg_loss: 0.000), lr: 0.001\n",
      "epoch: 8500, acc: 0.004, loss: 0.145 (data_loss: 0.145, reg_loss: 0.000), lr: 0.001\n",
      "epoch: 8600, acc: 0.003, loss: 0.145 (data_loss: 0.145, reg_loss: 0.000), lr: 0.001\n",
      "epoch: 8700, acc: 0.004, loss: 0.145 (data_loss: 0.145, reg_loss: 0.000), lr: 0.001\n",
      "epoch: 8800, acc: 0.004, loss: 0.145 (data_loss: 0.145, reg_loss: 0.000), lr: 0.001\n",
      "epoch: 8900, acc: 0.003, loss: 0.145 (data_loss: 0.145, reg_loss: 0.000), lr: 0.001\n",
      "epoch: 9000, acc: 0.004, loss: 0.145 (data_loss: 0.145, reg_loss: 0.000), lr: 0.001\n",
      "epoch: 9100, acc: 0.003, loss: 0.145 (data_loss: 0.145, reg_loss: 0.000), lr: 0.001\n",
      "epoch: 9200, acc: 0.003, loss: 0.145 (data_loss: 0.145, reg_loss: 0.000), lr: 0.001\n",
      "epoch: 9300, acc: 0.003, loss: 0.145 (data_loss: 0.145, reg_loss: 0.000), lr: 0.001\n",
      "epoch: 9400, acc: 0.003, loss: 0.145 (data_loss: 0.145, reg_loss: 0.000), lr: 0.001\n",
      "epoch: 9500, acc: 0.003, loss: 0.145 (data_loss: 0.145, reg_loss: 0.000), lr: 0.001\n",
      "epoch: 9600, acc: 0.004, loss: 0.145 (data_loss: 0.145, reg_loss: 0.000), lr: 0.001\n",
      "epoch: 9700, acc: 0.004, loss: 0.145 (data_loss: 0.145, reg_loss: 0.000), lr: 0.001\n",
      "epoch: 9800, acc: 0.003, loss: 0.145 (data_loss: 0.145, reg_loss: 0.000), lr: 0.001\n",
      "epoch: 9900, acc: 0.003, loss: 0.145 (data_loss: 0.145, reg_loss: 0.000), lr: 0.001\n",
      "epoch: 10000, acc: 0.004, loss: 0.145 (data_loss: 0.145, reg_loss: 0.000), lr: 0.001\n"
     ]
    }
   ],
   "source": [
    "for epoch in range(10001):\n",
    "\n",
    "    dense1.forward(X)\n",
    "    activation1.forward(dense1.output)\n",
    "    \n",
    "    dense2.forward(activation1.output)\n",
    "    activation2.forward(dense2.output)\n",
    "    \n",
    "    data_loss = loss_activation.calculate(activation2.output, y)\n",
    "\n",
    "    regularization_loss = loss_activation.regularization_loss(\n",
    "        dense1\n",
    "    ) + loss_activation.regularization_loss(dense2)\n",
    "\n",
    "    loss = data_loss + regularization_loss\n",
    "\n",
    "    predictions = activation2.output\n",
    "    accuracy = np.mean(np.abs(predictions - y) < accuracy_precision)\n",
    "\n",
    "    if not epoch % 100:\n",
    "        print(\n",
    "            f\"epoch: {epoch}, \"\n",
    "            + f\"acc: {accuracy:.3f}, \"\n",
    "            + f\"loss: {loss:.3f} (\"\n",
    "            + f\"data_loss: {data_loss:.3f}, \"\n",
    "            + f\"reg_loss: {regularization_loss:.3f}), \"\n",
    "            + f\"lr: {optimizer.current_learning_rate}\"\n",
    "        )\n",
    "\n",
    "    loss_activation.backward(activation2.output, y)\n",
    "    activation2.backward(loss_activation.dinputs)\n",
    "    dense2.backward(activation2.dinputs)\n",
    "    activation1.backward(dense2.dinputs)\n",
    "    dense1.backward(activation1.dinputs)\n",
    "\n",
    "    optimizer.pre_update_params()\n",
    "    optimizer.update_params(dense1)\n",
    "    optimizer.update_params(dense2)\n",
    "    optimizer.post_update_params()"
   ]
  },
  {
   "cell_type": "markdown",
   "id": "3584380a-2a96-45ec-aaff-244b55a179f5",
   "metadata": {},
   "source": [
    "## Validation "
   ]
  },
  {
   "cell_type": "markdown",
   "id": "26794ffd-1adf-44ce-9f74-1a5226b0fb6a",
   "metadata": {},
   "source": [
    "### Visualization "
   ]
  },
  {
   "cell_type": "code",
   "execution_count": 17,
   "id": "3e35bbae-bda5-4f9e-bf96-1d82defb7fbb",
   "metadata": {},
   "outputs": [],
   "source": [
    "import matplotlib.pyplot as plt"
   ]
  },
  {
   "cell_type": "code",
   "execution_count": 18,
   "id": "c98b213d-953a-46da-98dd-e35a72710725",
   "metadata": {},
   "outputs": [],
   "source": [
    "X_test, y_test = sine_data()"
   ]
  },
  {
   "cell_type": "code",
   "execution_count": 19,
   "id": "823c67c7-0ea1-41ab-b8ba-4e51776ffe01",
   "metadata": {},
   "outputs": [],
   "source": [
    "dense1.forward(X_test)\n",
    "activation1.forward(dense1.output)\n",
    "dense2.forward(activation1.output)\n",
    "activation2.forward(dense2.output)"
   ]
  },
  {
   "cell_type": "code",
   "execution_count": 20,
   "id": "a26b2e51-e98f-402d-b10d-683c74279485",
   "metadata": {},
   "outputs": [
    {
     "data": {
      "image/png": "[encoded data removed]",
      "text/plain": [
       "<Figure size 432x288 with 1 Axes>"
      ]
     },
     "metadata": {
      "needs_background": "light"
     },
     "output_type": "display_data"
    }
   ],
   "source": [
    "plt.plot(X_test, y_test)\n",
    "plt.plot(X_test, activation2.output)\n",
    "plt.show()"
   ]
  }
 ],
 "metadata": {
  "kernelspec": {
   "display_name": "Python 3",
   "language": "python",
   "name": "python3"
  },
  "language_info": {
   "codemirror_mode": {
    "name": "ipython",
    "version": 3
   },
   "file_extension": ".py",
   "mimetype": "text/x-python",
   "name": "python",
   "nbconvert_exporter": "python",
   "pygments_lexer": "ipython3",
   "version": "3.8.5"
  }
 },
 "nbformat": 4,
 "nbformat_minor": 5
}
