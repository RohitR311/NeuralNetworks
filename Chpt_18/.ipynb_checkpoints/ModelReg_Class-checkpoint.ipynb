{
 "cells": [
  {
   "cell_type": "code",
   "execution_count": 1,
   "id": "0173cd05-b1f6-46bf-8aff-e833bb685dfb",
   "metadata": {},
   "outputs": [],
   "source": [
    "import numpy as np"
   ]
  },
  {
   "cell_type": "markdown",
   "id": "4bd746f8-ff50-49d8-9061-06c4c59384c0",
   "metadata": {},
   "source": [
    "## Input layer class"
   ]
  },
  {
   "cell_type": "code",
   "execution_count": 2,
   "id": "481ca13b-281d-4216-a1cf-7703bf22d5f1",
   "metadata": {},
   "outputs": [],
   "source": [
    "class Layer_Input:\n",
    "    def forward(self, inputs):\n",
    "        self.output = inputs"
   ]
  },
  {
   "cell_type": "markdown",
   "id": "95672e5c-721f-4ad6-8ad1-b76b6f5dd1bc",
   "metadata": {},
   "source": [
    "## Updated Common Loss class"
   ]
  },
  {
   "cell_type": "code",
   "execution_count": 3,
   "id": "7d266e3f-9dc8-4e42-a997-fcd95c8041f6",
   "metadata": {},
   "outputs": [],
   "source": [
    "class Loss:\n",
    "    def regularization_loss(self):\n",
    "        regularization_loss = 0\n",
    "\n",
    "        for layer in self.trainable_layers:\n",
    "\n",
    "            if layer.weight_regularizer_l1 > 0:\n",
    "                regularization_loss += layer.weight_regularizer_l1 * np.sum(\n",
    "                    np.abs(layer.weights)\n",
    "                )\n",
    "\n",
    "            if layer.weight_regularizer_l2 > 0:\n",
    "                regularization_loss += layer.weight_regularizer_l2 * np.sum(\n",
    "                    layer.weights * layer.weights\n",
    "                )\n",
    "\n",
    "            if layer.bias_regularizer_l1 > 0:\n",
    "                regularization_loss += layer.bias_regularizer_l1 * np.sum(\n",
    "                    np.abs(layer.biases)\n",
    "                )\n",
    "\n",
    "            if layer.bias_regularizer_l2 > 0:\n",
    "                regularization_loss += layer.bias_regularizer_l2 * np.sum(\n",
    "                    layer.biases * layer.biases\n",
    "                )\n",
    "\n",
    "        return regularization_loss\n",
    "\n",
    "    def remember_trainable_layers(self, trainable_layers):\n",
    "        self.trainable_layers = trainable_layers\n",
    "\n",
    "    def calculate(self, output, y):\n",
    "        sample_losses = self.forward(output, y)\n",
    "        data_loss = np.mean(sample_losses)\n",
    "        return data_loss, self.regularization_loss()"
   ]
  },
  {
   "cell_type": "markdown",
   "id": "ecd56f16-703d-4a91-9b8c-b0f76f8e0e6c",
   "metadata": {},
   "source": [
    "## Common Accuracy class "
   ]
  },
  {
   "cell_type": "code",
   "execution_count": 4,
   "id": "d480a63a-b0ec-4c81-bc26-3e69d58ac094",
   "metadata": {},
   "outputs": [],
   "source": [
    "class Accuracy:\n",
    "    def calculate(self, predictions, y):\n",
    "        comparisons = self.compare(predictions, y)\n",
    "\n",
    "        accuracy = np.mean(comparisons)\n",
    "\n",
    "        return accuracy"
   ]
  },
  {
   "cell_type": "markdown",
   "id": "1e0ac283-830c-4e33-8ff4-23265876e863",
   "metadata": {},
   "source": [
    "## Regression Accuracy class "
   ]
  },
  {
   "cell_type": "code",
   "execution_count": 5,
   "id": "436fdfcc-6364-4448-a301-02fdf6430197",
   "metadata": {},
   "outputs": [],
   "source": [
    "class Accuracy_Regression(Accuracy):\n",
    "    def __init__(self):\n",
    "        self.precision = None\n",
    "\n",
    "    def init(self, y, reinit=False):\n",
    "        if self.precision is None or reinit:\n",
    "            self.precision = np.std(y) / 250\n",
    "\n",
    "    def compare(self, predicitons, y):\n",
    "        return np.absolute(predicitons - y) < self.precision"
   ]
  },
  {
   "cell_type": "markdown",
   "id": "a1ffda0c-d92f-4ee3-a4e4-7cbe502f7f07",
   "metadata": {},
   "source": [
    "## Mean Absolute Error Loss"
   ]
  },
  {
   "cell_type": "code",
   "execution_count": 6,
   "id": "daad6282-1135-4bce-ac92-8b91b6c93e5d",
   "metadata": {},
   "outputs": [],
   "source": [
    "class MeanAbsoluteError_Loss(Loss):\n",
    "    def forward(self, y_pred, y_true):\n",
    "        sample_losses = np.mean(np.abs(y_true - y_pred), axis=-1)\n",
    "\n",
    "        return sample_losses\n",
    "\n",
    "    def backward(self, dvalues, y_true):\n",
    "        samples = len(dvalues)\n",
    "\n",
    "        outputs = len(dvalues[0])\n",
    "\n",
    "        self.dinputs = np.sign(y_true - dvalues) / outputs\n",
    "\n",
    "        self.dinputs = self.dinputs / samples"
   ]
  },
  {
   "cell_type": "markdown",
   "id": "cd83cdbb-28c7-4cad-86b3-06fc1e074d93",
   "metadata": {
    "tags": []
   },
   "source": [
    "## Mean Squared Error Loss"
   ]
  },
  {
   "cell_type": "code",
   "execution_count": 7,
   "id": "4b170b50-d417-4087-8cc1-5fe22078d784",
   "metadata": {},
   "outputs": [],
   "source": [
    "class MeanSquaredError_Loss(Loss):\n",
    "    def forward(self, y_pred, y_true):\n",
    "        sample_losses = np.mean((y_true - y_pred) ** 2, axis=-1)\n",
    "\n",
    "        return sample_losses\n",
    "\n",
    "    def backward(self, dvalues, y_true):\n",
    "        samples = len(dvalues)\n",
    "\n",
    "        outputs = len(dvalues[0])\n",
    "\n",
    "        self.dinputs = -2 * (y_true - dvalues) / outputs\n",
    "\n",
    "        self.dinputs = self.dinputs / samples"
   ]
  },
  {
   "cell_type": "markdown",
   "id": "9cd23faa-98be-4da0-93bd-a3cac31343f9",
   "metadata": {},
   "source": [
    "# Model Class for Regression"
   ]
  },
  {
   "cell_type": "code",
   "execution_count": 8,
   "id": "6290f23e-6c45-4506-8eb7-5618a314317a",
   "metadata": {},
   "outputs": [],
   "source": [
    "class Model:\n",
    "    def __init__(self):\n",
    "        self.layers = []\n",
    "\n",
    "    def add(self, layer):\n",
    "        self.layers.append(layer)\n",
    "\n",
    "    def set(self, *, loss, optimizer, accuracy):\n",
    "        self.loss = loss\n",
    "        self.optimizer = optimizer\n",
    "        self.accuracy = accuracy\n",
    "\n",
    "    def finalize(self):\n",
    "        self.input_layer = Layer_Input()\n",
    "\n",
    "        layer_count = len(self.layers)\n",
    "\n",
    "        self.trainable_layers = []\n",
    "\n",
    "        for i in range(layer_count):\n",
    "\n",
    "            if i == 0:\n",
    "                self.layers[i].prev = self.input_layer\n",
    "                self.layers[i].next = self.layers[i + 1]\n",
    "            elif i < layer_count - 1:\n",
    "                self.layers[i].prev = self.layers[i - 1]\n",
    "                self.layers[i].next = self.layers[i + 1]\n",
    "            else:\n",
    "                self.layers[i].prev = self.layers[i - 1]\n",
    "                self.layers[i].next = self.loss\n",
    "                self.output_layer_activation = self.layers[i]\n",
    "\n",
    "            if hasattr(self.layers[i], \"weights\"):\n",
    "                self.trainable_layers.append(self.layers[i])\n",
    "\n",
    "        self.loss.remember_trainable_layers(self.trainable_layers)\n",
    "\n",
    "    def forward(self, X):\n",
    "        self.input_layer.forward(X)\n",
    "\n",
    "        for layer in self.layers:\n",
    "            layer.forward(layer.prev.output)\n",
    "\n",
    "        return layer.output\n",
    "\n",
    "    def backward(self, output, y):\n",
    "        self.loss.backward(output, y)\n",
    "\n",
    "        for layer in reversed(self.layers):\n",
    "            layer.backward(layer.next.dinputs)\n",
    "\n",
    "    def train(self, X, y, *, epochs=1, print_every=1):\n",
    "\n",
    "        self.accuracy.init(y)\n",
    "\n",
    "        for epoch in range(1, epochs + 1):\n",
    "\n",
    "            output = self.forward(X)\n",
    "\n",
    "            data_loss, regularization_loss = self.loss.calculate(output, y)\n",
    "            loss = data_loss + regularization_loss\n",
    "\n",
    "            predictions = self.output_layer_activation.predictions(output)\n",
    "            accuracy = self.accuracy.calculate(predictions, y)\n",
    "\n",
    "            self.backward(output, y)\n",
    "\n",
    "            self.optimizer.pre_update_params()\n",
    "            for layer in self.trainable_layers:\n",
    "                self.optimizer.update_params(layer)\n",
    "            self.optimizer.post_update_params()\n",
    "\n",
    "            if not epoch % print_every:\n",
    "                print(\n",
    "                    f\"epoch: {epoch}, \"\n",
    "                    + f\"acc: {accuracy:.3f}, \"\n",
    "                    + f\"loss: {loss:.3f} (\"\n",
    "                    + f\"data_loss: {data_loss:.3f}, \"\n",
    "                    + f\"reg_loss: {regularization_loss:.3f}), \"\n",
    "                    + f\"lr: {self.optimizer.current_learning_rate}\"\n",
    "                )"
   ]
  }
 ],
 "metadata": {
  "kernelspec": {
   "display_name": "Python 3",
   "language": "python",
   "name": "python3"
  },
  "language_info": {
   "codemirror_mode": {
    "name": "ipython",
    "version": 3
   },
   "file_extension": ".py",
   "mimetype": "text/x-python",
   "name": "python",
   "nbconvert_exporter": "python",
   "pygments_lexer": "ipython3",
   "version": "3.8.5"
  }
 },
 "nbformat": 4,
 "nbformat_minor": 5
}
