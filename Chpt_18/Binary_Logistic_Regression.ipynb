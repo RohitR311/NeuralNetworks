{
 "cells": [
  {
   "cell_type": "markdown",
   "id": "092b92b5-4326-45f0-8678-f8373fdeaf10",
   "metadata": {},
   "source": [
    "# Binary Logistic Regression"
   ]
  },
  {
   "cell_type": "markdown",
   "id": "cad7a6df-ba33-491d-8482-00190f96cbc6",
   "metadata": {
    "tags": []
   },
   "source": [
    "## Implementation using model object"
   ]
  },
  {
   "cell_type": "code",
   "execution_count": 1,
   "id": "ea33fc8c-f325-4c87-88e1-4b27236b7061",
   "metadata": {},
   "outputs": [],
   "source": [
    "import nnfs\n",
    "import numpy as np\n",
    "from nnfs.datasets import spiral_data"
   ]
  },
  {
   "cell_type": "code",
   "execution_count": 2,
   "id": "0168d672-db23-4423-885c-17c2f5f06319",
   "metadata": {},
   "outputs": [],
   "source": [
    "nnfs.init()"
   ]
  },
  {
   "cell_type": "code",
   "execution_count": 3,
   "id": "4131f514-fab9-4853-9b58-c45f713d4f6b",
   "metadata": {},
   "outputs": [],
   "source": [
    "import os\n",
    "import sys\n",
    "\n",
    "module = os.path.abspath(os.path.join(\"..\"))\n",
    "if module not in sys.path:\n",
    "    sys.path.append(module)"
   ]
  },
  {
   "cell_type": "code",
   "execution_count": 4,
   "id": "75382c29-764d-42ae-9729-9e96ad075ad2",
   "metadata": {},
   "outputs": [],
   "source": [
    "from Chpt_10.Optimizers import Optimizer_Adam"
   ]
  },
  {
   "cell_type": "code",
   "execution_count": 5,
   "id": "7565bb96-e326-4c8c-a4b1-44f42f0119f3",
   "metadata": {},
   "outputs": [],
   "source": [
    "from Chpt_14.Updated_Classes import Layer_Dense"
   ]
  },
  {
   "cell_type": "code",
   "execution_count": 6,
   "id": "0765f26e-669d-43e0-a8c7-89aa9234beda",
   "metadata": {},
   "outputs": [],
   "source": [
    "from Activation_Functions import Activation_ReLU, Activation_Sigmoid"
   ]
  },
  {
   "cell_type": "code",
   "execution_count": 7,
   "id": "6c5ab046-ec5c-44e3-9d89-8e2861fe8740",
   "metadata": {},
   "outputs": [],
   "source": [
    "%run Model_Class.ipynb"
   ]
  },
  {
   "cell_type": "code",
   "execution_count": 8,
   "id": "bbee822c-c68f-4984-b871-1ccbe6355a26",
   "metadata": {},
   "outputs": [],
   "source": [
    "X, y = spiral_data(samples=100, classes=2)\n",
    "X_test, y_test = spiral_data(samples=100, classes=2)"
   ]
  },
  {
   "cell_type": "code",
   "execution_count": 9,
   "id": "8879844b-27a8-4d7c-98d8-ca686ce2596f",
   "metadata": {},
   "outputs": [],
   "source": [
    "y = y.reshape(-1, 1)\n",
    "y_test = y_test.reshape(-1, 1)"
   ]
  },
  {
   "cell_type": "code",
   "execution_count": 10,
   "id": "535dc1d8-d3c6-404f-aeed-8dc2a7e5609f",
   "metadata": {},
   "outputs": [],
   "source": [
    "model = Model()"
   ]
  },
  {
   "cell_type": "code",
   "execution_count": 11,
   "id": "04d62794-c739-4bac-ae2d-ac6c16b87c3b",
   "metadata": {},
   "outputs": [],
   "source": [
    "model.add(Layer_Dense(2, 64, weight_regularizer_l2=5e-4, bias_regularizer_l2=5e-4))\n",
    "model.add(Activation_ReLU())\n",
    "model.add(Layer_Dense(64, 1))\n",
    "model.add(Activation_Sigmoid())"
   ]
  },
  {
   "cell_type": "code",
   "execution_count": 12,
   "id": "a89aba54-cc69-4126-bb62-545cfc5c580f",
   "metadata": {},
   "outputs": [],
   "source": [
    "model.set(\n",
    "    loss=BinaryCrossentropy_Loss(),\n",
    "    optimizer=Optimizer_Adam(decay=5e-7),\n",
    "    accuracy=Accuracy_Categorical(),\n",
    ")"
   ]
  },
  {
   "cell_type": "code",
   "execution_count": 13,
   "id": "1a6b96d1-c44f-4e5c-bab9-e443eb64572f",
   "metadata": {},
   "outputs": [],
   "source": [
    "model.finalize()"
   ]
  },
  {
   "cell_type": "code",
   "execution_count": 14,
   "id": "a18918e3-9b29-4a5e-a973-c0f98825f48b",
   "metadata": {},
   "outputs": [
    {
     "name": "stdout",
     "output_type": "stream",
     "text": [
      "epoch: 100, acc: 0.625, loss: 0.675 (data_loss: 0.674, reg_loss: 0.001), lr: 0.0009999505024501287\n",
      "epoch: 200, acc: 0.630, loss: 0.669 (data_loss: 0.668, reg_loss: 0.001), lr: 0.0009999005098992651\n",
      "epoch: 300, acc: 0.645, loss: 0.665 (data_loss: 0.663, reg_loss: 0.002), lr: 0.000999850522346909\n",
      "epoch: 400, acc: 0.640, loss: 0.657 (data_loss: 0.654, reg_loss: 0.003), lr: 0.0009998005397923115\n",
      "epoch: 500, acc: 0.670, loss: 0.641 (data_loss: 0.637, reg_loss: 0.004), lr: 0.0009997505622347225\n",
      "epoch: 600, acc: 0.715, loss: 0.623 (data_loss: 0.616, reg_loss: 0.008), lr: 0.0009997005896733929\n",
      "epoch: 700, acc: 0.755, loss: 0.604 (data_loss: 0.592, reg_loss: 0.012), lr: 0.0009996506221075735\n",
      "epoch: 800, acc: 0.805, loss: 0.582 (data_loss: 0.565, reg_loss: 0.017), lr: 0.000999600659536515\n",
      "epoch: 900, acc: 0.780, loss: 0.562 (data_loss: 0.541, reg_loss: 0.022), lr: 0.0009995507019594694\n",
      "epoch: 1000, acc: 0.795, loss: 0.545 (data_loss: 0.519, reg_loss: 0.026), lr: 0.000999500749375687\n",
      "epoch: 1100, acc: 0.805, loss: 0.532 (data_loss: 0.501, reg_loss: 0.031), lr: 0.0009994508017844195\n",
      "epoch: 1200, acc: 0.820, loss: 0.518 (data_loss: 0.483, reg_loss: 0.035), lr: 0.0009994008591849186\n",
      "epoch: 1300, acc: 0.825, loss: 0.506 (data_loss: 0.467, reg_loss: 0.038), lr: 0.0009993509215764362\n",
      "epoch: 1400, acc: 0.825, loss: 0.496 (data_loss: 0.455, reg_loss: 0.041), lr: 0.0009993009889582235\n",
      "epoch: 1500, acc: 0.830, loss: 0.484 (data_loss: 0.440, reg_loss: 0.044), lr: 0.0009992510613295335\n",
      "epoch: 1600, acc: 0.835, loss: 0.475 (data_loss: 0.429, reg_loss: 0.046), lr: 0.0009992011386896176\n",
      "epoch: 1700, acc: 0.845, loss: 0.467 (data_loss: 0.420, reg_loss: 0.048), lr: 0.0009991512210377285\n",
      "epoch: 1800, acc: 0.845, loss: 0.460 (data_loss: 0.411, reg_loss: 0.049), lr: 0.0009991013083731183\n",
      "epoch: 1900, acc: 0.845, loss: 0.455 (data_loss: 0.405, reg_loss: 0.050), lr: 0.0009990514006950402\n",
      "epoch: 2000, acc: 0.850, loss: 0.450 (data_loss: 0.399, reg_loss: 0.050), lr: 0.0009990014980027463\n",
      "epoch: 2100, acc: 0.855, loss: 0.445 (data_loss: 0.394, reg_loss: 0.051), lr: 0.0009989516002954898\n",
      "epoch: 2200, acc: 0.855, loss: 0.440 (data_loss: 0.389, reg_loss: 0.051), lr: 0.000998901707572524\n",
      "epoch: 2300, acc: 0.860, loss: 0.436 (data_loss: 0.385, reg_loss: 0.051), lr: 0.0009988518198331018\n",
      "epoch: 2400, acc: 0.860, loss: 0.432 (data_loss: 0.381, reg_loss: 0.051), lr: 0.0009988019370764769\n",
      "epoch: 2500, acc: 0.865, loss: 0.429 (data_loss: 0.377, reg_loss: 0.051), lr: 0.0009987520593019025\n",
      "epoch: 2600, acc: 0.860, loss: 0.425 (data_loss: 0.374, reg_loss: 0.051), lr: 0.000998702186508632\n",
      "epoch: 2700, acc: 0.865, loss: 0.422 (data_loss: 0.371, reg_loss: 0.051), lr: 0.00099865231869592\n",
      "epoch: 2800, acc: 0.870, loss: 0.419 (data_loss: 0.368, reg_loss: 0.051), lr: 0.0009986024558630198\n",
      "epoch: 2900, acc: 0.870, loss: 0.416 (data_loss: 0.365, reg_loss: 0.051), lr: 0.0009985525980091856\n",
      "epoch: 3000, acc: 0.870, loss: 0.413 (data_loss: 0.362, reg_loss: 0.051), lr: 0.000998502745133672\n",
      "epoch: 3100, acc: 0.870, loss: 0.410 (data_loss: 0.360, reg_loss: 0.050), lr: 0.0009984528972357331\n",
      "epoch: 3200, acc: 0.870, loss: 0.407 (data_loss: 0.357, reg_loss: 0.050), lr: 0.0009984030543146237\n",
      "epoch: 3300, acc: 0.870, loss: 0.405 (data_loss: 0.355, reg_loss: 0.050), lr: 0.0009983532163695982\n",
      "epoch: 3400, acc: 0.875, loss: 0.403 (data_loss: 0.353, reg_loss: 0.050), lr: 0.000998303383399912\n",
      "epoch: 3500, acc: 0.875, loss: 0.400 (data_loss: 0.351, reg_loss: 0.049), lr: 0.0009982535554048193\n",
      "epoch: 3600, acc: 0.875, loss: 0.398 (data_loss: 0.349, reg_loss: 0.049), lr: 0.000998203732383576\n",
      "epoch: 3700, acc: 0.875, loss: 0.396 (data_loss: 0.347, reg_loss: 0.049), lr: 0.0009981539143354365\n",
      "epoch: 3800, acc: 0.875, loss: 0.394 (data_loss: 0.345, reg_loss: 0.049), lr: 0.0009981041012596574\n",
      "epoch: 3900, acc: 0.870, loss: 0.392 (data_loss: 0.343, reg_loss: 0.048), lr: 0.0009980542931554933\n",
      "epoch: 4000, acc: 0.870, loss: 0.390 (data_loss: 0.342, reg_loss: 0.048), lr: 0.0009980044900222008\n",
      "epoch: 4100, acc: 0.875, loss: 0.388 (data_loss: 0.340, reg_loss: 0.048), lr: 0.0009979546918590348\n",
      "epoch: 4200, acc: 0.875, loss: 0.386 (data_loss: 0.338, reg_loss: 0.048), lr: 0.0009979048986652524\n",
      "epoch: 4300, acc: 0.875, loss: 0.384 (data_loss: 0.337, reg_loss: 0.047), lr: 0.000997855110440109\n",
      "epoch: 4400, acc: 0.875, loss: 0.382 (data_loss: 0.335, reg_loss: 0.047), lr: 0.0009978053271828614\n",
      "epoch: 4500, acc: 0.880, loss: 0.380 (data_loss: 0.334, reg_loss: 0.047), lr: 0.0009977555488927658\n",
      "epoch: 4600, acc: 0.880, loss: 0.379 (data_loss: 0.332, reg_loss: 0.046), lr: 0.000997705775569079\n",
      "epoch: 4700, acc: 0.880, loss: 0.376 (data_loss: 0.330, reg_loss: 0.046), lr: 0.0009976560072110577\n",
      "epoch: 4800, acc: 0.880, loss: 0.369 (data_loss: 0.323, reg_loss: 0.047), lr: 0.0009976062438179587\n",
      "epoch: 4900, acc: 0.880, loss: 0.366 (data_loss: 0.320, reg_loss: 0.047), lr: 0.0009975564853890394\n",
      "epoch: 5000, acc: 0.885, loss: 0.364 (data_loss: 0.317, reg_loss: 0.047), lr: 0.000997506731923557\n",
      "epoch: 5100, acc: 0.885, loss: 0.361 (data_loss: 0.315, reg_loss: 0.046), lr: 0.0009974569834207687\n",
      "epoch: 5200, acc: 0.890, loss: 0.359 (data_loss: 0.313, reg_loss: 0.046), lr: 0.0009974072398799322\n",
      "epoch: 5300, acc: 0.900, loss: 0.357 (data_loss: 0.311, reg_loss: 0.046), lr: 0.0009973575013003048\n",
      "epoch: 5400, acc: 0.905, loss: 0.355 (data_loss: 0.309, reg_loss: 0.046), lr: 0.0009973077676811448\n",
      "epoch: 5500, acc: 0.900, loss: 0.353 (data_loss: 0.307, reg_loss: 0.046), lr: 0.00099725803902171\n",
      "epoch: 5600, acc: 0.900, loss: 0.351 (data_loss: 0.306, reg_loss: 0.046), lr: 0.0009972083153212581\n",
      "epoch: 5700, acc: 0.900, loss: 0.350 (data_loss: 0.304, reg_loss: 0.045), lr: 0.000997158596579048\n",
      "epoch: 5800, acc: 0.905, loss: 0.348 (data_loss: 0.303, reg_loss: 0.045), lr: 0.0009971088827943377\n",
      "epoch: 5900, acc: 0.905, loss: 0.346 (data_loss: 0.301, reg_loss: 0.045), lr: 0.0009970591739663862\n",
      "epoch: 6000, acc: 0.910, loss: 0.345 (data_loss: 0.300, reg_loss: 0.045), lr: 0.0009970094700944517\n",
      "epoch: 6100, acc: 0.910, loss: 0.344 (data_loss: 0.299, reg_loss: 0.045), lr: 0.0009969597711777935\n",
      "epoch: 6200, acc: 0.910, loss: 0.342 (data_loss: 0.298, reg_loss: 0.045), lr: 0.00099691007721567\n",
      "epoch: 6300, acc: 0.910, loss: 0.341 (data_loss: 0.296, reg_loss: 0.044), lr: 0.000996860388207341\n",
      "epoch: 6400, acc: 0.910, loss: 0.340 (data_loss: 0.295, reg_loss: 0.044), lr: 0.0009968107041520655\n",
      "epoch: 6500, acc: 0.910, loss: 0.338 (data_loss: 0.294, reg_loss: 0.044), lr: 0.000996761025049103\n",
      "epoch: 6600, acc: 0.910, loss: 0.337 (data_loss: 0.293, reg_loss: 0.044), lr: 0.000996711350897713\n",
      "epoch: 6700, acc: 0.910, loss: 0.336 (data_loss: 0.292, reg_loss: 0.044), lr: 0.0009966616816971556\n",
      "epoch: 6800, acc: 0.910, loss: 0.335 (data_loss: 0.292, reg_loss: 0.043), lr: 0.00099661201744669\n",
      "epoch: 6900, acc: 0.910, loss: 0.334 (data_loss: 0.291, reg_loss: 0.043), lr: 0.0009965623581455767\n",
      "epoch: 7000, acc: 0.910, loss: 0.333 (data_loss: 0.290, reg_loss: 0.043), lr: 0.000996512703793076\n",
      "epoch: 7100, acc: 0.905, loss: 0.332 (data_loss: 0.289, reg_loss: 0.043), lr: 0.0009964630543884481\n",
      "epoch: 7200, acc: 0.905, loss: 0.331 (data_loss: 0.289, reg_loss: 0.043), lr: 0.0009964134099309536\n",
      "epoch: 7300, acc: 0.905, loss: 0.330 (data_loss: 0.288, reg_loss: 0.042), lr: 0.0009963637704198528\n",
      "epoch: 7400, acc: 0.905, loss: 0.329 (data_loss: 0.287, reg_loss: 0.042), lr: 0.0009963141358544066\n",
      "epoch: 7500, acc: 0.905, loss: 0.328 (data_loss: 0.287, reg_loss: 0.042), lr: 0.000996264506233876\n",
      "epoch: 7600, acc: 0.905, loss: 0.328 (data_loss: 0.286, reg_loss: 0.042), lr: 0.0009962148815575223\n",
      "epoch: 7700, acc: 0.905, loss: 0.327 (data_loss: 0.285, reg_loss: 0.041), lr: 0.000996165261824606\n",
      "epoch: 7800, acc: 0.905, loss: 0.326 (data_loss: 0.285, reg_loss: 0.041), lr: 0.0009961156470343895\n",
      "epoch: 7900, acc: 0.905, loss: 0.325 (data_loss: 0.284, reg_loss: 0.041), lr: 0.0009960660371861334\n",
      "epoch: 8000, acc: 0.905, loss: 0.324 (data_loss: 0.284, reg_loss: 0.041), lr: 0.0009960164322790998\n",
      "epoch: 8100, acc: 0.905, loss: 0.324 (data_loss: 0.283, reg_loss: 0.040), lr: 0.0009959668323125503\n",
      "epoch: 8200, acc: 0.905, loss: 0.323 (data_loss: 0.283, reg_loss: 0.040), lr: 0.000995917237285747\n",
      "epoch: 8300, acc: 0.905, loss: 0.322 (data_loss: 0.282, reg_loss: 0.040), lr: 0.000995867647197952\n",
      "epoch: 8400, acc: 0.905, loss: 0.321 (data_loss: 0.282, reg_loss: 0.040), lr: 0.0009958180620484277\n",
      "epoch: 8500, acc: 0.905, loss: 0.321 (data_loss: 0.281, reg_loss: 0.040), lr: 0.0009957684818364362\n",
      "epoch: 8600, acc: 0.905, loss: 0.320 (data_loss: 0.281, reg_loss: 0.039), lr: 0.0009957189065612402\n",
      "epoch: 8700, acc: 0.905, loss: 0.319 (data_loss: 0.280, reg_loss: 0.039), lr: 0.000995669336222102\n",
      "epoch: 8800, acc: 0.905, loss: 0.319 (data_loss: 0.280, reg_loss: 0.039), lr: 0.000995619770818285\n",
      "epoch: 8900, acc: 0.905, loss: 0.318 (data_loss: 0.279, reg_loss: 0.039), lr: 0.0009955702103490519\n",
      "epoch: 9000, acc: 0.905, loss: 0.317 (data_loss: 0.279, reg_loss: 0.038), lr: 0.000995520654813666\n",
      "epoch: 9100, acc: 0.905, loss: 0.317 (data_loss: 0.279, reg_loss: 0.038), lr: 0.0009954711042113903\n",
      "epoch: 9200, acc: 0.905, loss: 0.316 (data_loss: 0.278, reg_loss: 0.038), lr: 0.0009954215585414883\n",
      "epoch: 9300, acc: 0.905, loss: 0.316 (data_loss: 0.278, reg_loss: 0.038), lr: 0.000995372017803224\n",
      "epoch: 9400, acc: 0.905, loss: 0.315 (data_loss: 0.277, reg_loss: 0.038), lr: 0.0009953224819958604\n",
      "epoch: 9500, acc: 0.905, loss: 0.314 (data_loss: 0.277, reg_loss: 0.037), lr: 0.000995272951118662\n",
      "epoch: 9600, acc: 0.905, loss: 0.314 (data_loss: 0.277, reg_loss: 0.037), lr: 0.0009952234251708924\n",
      "epoch: 9700, acc: 0.905, loss: 0.313 (data_loss: 0.276, reg_loss: 0.037), lr: 0.000995173904151816\n",
      "epoch: 9800, acc: 0.905, loss: 0.313 (data_loss: 0.276, reg_loss: 0.037), lr: 0.0009951243880606966\n",
      "epoch: 9900, acc: 0.905, loss: 0.312 (data_loss: 0.276, reg_loss: 0.037), lr: 0.0009950748768967994\n",
      "epoch: 10000, acc: 0.905, loss: 0.312 (data_loss: 0.275, reg_loss: 0.036), lr: 0.0009950253706593885\n",
      "validation, acc: 0.775, loss: 0.423\n"
     ]
    }
   ],
   "source": [
    "model.train(X, y, validation_data=(X_test, y_test) , epochs=10000, print_every=100)"
   ]
  }
 ],
 "metadata": {
  "kernelspec": {
   "display_name": "Python 3",
   "language": "python",
   "name": "python3"
  },
  "language_info": {
   "codemirror_mode": {
    "name": "ipython",
    "version": 3
   },
   "file_extension": ".py",
   "mimetype": "text/x-python",
   "name": "python",
   "nbconvert_exporter": "python",
   "pygments_lexer": "ipython3",
   "version": "3.8.5"
  }
 },
 "nbformat": 4,
 "nbformat_minor": 5
}
