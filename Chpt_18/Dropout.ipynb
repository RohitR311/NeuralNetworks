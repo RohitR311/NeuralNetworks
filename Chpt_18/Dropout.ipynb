{
 "cells": [
  {
   "cell_type": "markdown",
   "id": "092b92b5-4326-45f0-8678-f8373fdeaf10",
   "metadata": {},
   "source": [
    "# Binary Logistic Regression"
   ]
  },
  {
   "cell_type": "markdown",
   "id": "cad7a6df-ba33-491d-8482-00190f96cbc6",
   "metadata": {
    "tags": []
   },
   "source": [
    "## Implementation using model object"
   ]
  },
  {
   "cell_type": "code",
   "execution_count": 1,
   "id": "ea33fc8c-f325-4c87-88e1-4b27236b7061",
   "metadata": {},
   "outputs": [],
   "source": [
    "import nnfs\n",
    "import numpy as np\n",
    "from nnfs.datasets import spiral_data"
   ]
  },
  {
   "cell_type": "code",
   "execution_count": 2,
   "id": "0168d672-db23-4423-885c-17c2f5f06319",
   "metadata": {},
   "outputs": [],
   "source": [
    "nnfs.init()"
   ]
  },
  {
   "cell_type": "code",
   "execution_count": 3,
   "id": "4131f514-fab9-4853-9b58-c45f713d4f6b",
   "metadata": {},
   "outputs": [],
   "source": [
    "import os\n",
    "import sys\n",
    "\n",
    "module = os.path.abspath(os.path.join(\"..\"))\n",
    "if module not in sys.path:\n",
    "    sys.path.append(module)"
   ]
  },
  {
   "cell_type": "code",
   "execution_count": 4,
   "id": "75382c29-764d-42ae-9729-9e96ad075ad2",
   "metadata": {},
   "outputs": [],
   "source": [
    "from Chpt_10.Optimizers import Optimizer_Adam"
   ]
  },
  {
   "cell_type": "code",
   "execution_count": 5,
   "id": "0765f26e-669d-43e0-a8c7-89aa9234beda",
   "metadata": {},
   "outputs": [],
   "source": [
    "from Activation_Functions import Activation_ReLU, Activation_Softmax"
   ]
  },
  {
   "cell_type": "code",
   "execution_count": 6,
   "id": "6c5ab046-ec5c-44e3-9d89-8e2861fe8740",
   "metadata": {},
   "outputs": [],
   "source": [
    "%run Model_Class.ipynb"
   ]
  },
  {
   "cell_type": "code",
   "execution_count": 7,
   "id": "bbee822c-c68f-4984-b871-1ccbe6355a26",
   "metadata": {},
   "outputs": [],
   "source": [
    "X, y = spiral_data(samples=1000, classes=3)\n",
    "X_test, y_test = spiral_data(samples=100, classes=3)"
   ]
  },
  {
   "cell_type": "code",
   "execution_count": 8,
   "id": "535dc1d8-d3c6-404f-aeed-8dc2a7e5609f",
   "metadata": {},
   "outputs": [],
   "source": [
    "model = Model()"
   ]
  },
  {
   "cell_type": "code",
   "execution_count": 9,
   "id": "04d62794-c739-4bac-ae2d-ac6c16b87c3b",
   "metadata": {},
   "outputs": [],
   "source": [
    "model.add(Layer_Dense(2, 512, weight_regularizer_l2=5e-4, bias_regularizer_l2=5e-4))\n",
    "model.add(Activation_ReLU())\n",
    "model.add(Layer_Dropout(0.1))\n",
    "model.add(Layer_Dense(512, 3))\n",
    "model.add(Activation_Softmax())"
   ]
  },
  {
   "cell_type": "code",
   "execution_count": 10,
   "id": "a89aba54-cc69-4126-bb62-545cfc5c580f",
   "metadata": {},
   "outputs": [],
   "source": [
    "model.set(\n",
    "    loss=CategoricalCrossentropy_Loss(),\n",
    "    optimizer=Optimizer_Adam(learning_rate=0.05, decay=5e-5),\n",
    "    accuracy=Accuracy_Categorical(),\n",
    ")"
   ]
  },
  {
   "cell_type": "code",
   "execution_count": 11,
   "id": "1a6b96d1-c44f-4e5c-bab9-e443eb64572f",
   "metadata": {},
   "outputs": [],
   "source": [
    "model.finalize()"
   ]
  },
  {
   "cell_type": "code",
   "execution_count": 12,
   "id": "a18918e3-9b29-4a5e-a973-c0f98825f48b",
   "metadata": {},
   "outputs": [
    {
     "name": "stdout",
     "output_type": "stream",
     "text": [
      "epoch: 100, acc: 0.716, loss: 0.726 (data_loss: 0.666, reg_loss: 0.060), lr: 0.04975371909050202\n",
      "epoch: 200, acc: 0.787, loss: 0.615 (data_loss: 0.538, reg_loss: 0.077), lr: 0.049507401356502806\n",
      "epoch: 300, acc: 0.803, loss: 0.596 (data_loss: 0.517, reg_loss: 0.079), lr: 0.0492635105177595\n",
      "epoch: 400, acc: 0.819, loss: 0.552 (data_loss: 0.473, reg_loss: 0.079), lr: 0.04902201088288642\n",
      "epoch: 500, acc: 0.823, loss: 0.536 (data_loss: 0.457, reg_loss: 0.079), lr: 0.048782867456949125\n",
      "epoch: 600, acc: 0.839, loss: 0.518 (data_loss: 0.441, reg_loss: 0.077), lr: 0.04854604592455945\n",
      "epoch: 700, acc: 0.841, loss: 0.504 (data_loss: 0.431, reg_loss: 0.074), lr: 0.048311512633460556\n",
      "epoch: 800, acc: 0.848, loss: 0.499 (data_loss: 0.425, reg_loss: 0.074), lr: 0.04807923457858551\n",
      "epoch: 900, acc: 0.848, loss: 0.477 (data_loss: 0.406, reg_loss: 0.071), lr: 0.04784917938657352\n",
      "epoch: 1000, acc: 0.854, loss: 0.475 (data_loss: 0.405, reg_loss: 0.070), lr: 0.04762131530072861\n",
      "epoch: 1100, acc: 0.869, loss: 0.484 (data_loss: 0.415, reg_loss: 0.069), lr: 0.04739561116640599\n",
      "epoch: 1200, acc: 0.854, loss: 0.483 (data_loss: 0.414, reg_loss: 0.069), lr: 0.04717203641681212\n",
      "epoch: 1300, acc: 0.826, loss: 0.503 (data_loss: 0.436, reg_loss: 0.067), lr: 0.04695056105920466\n",
      "epoch: 1400, acc: 0.859, loss: 0.449 (data_loss: 0.384, reg_loss: 0.065), lr: 0.04673115566147951\n",
      "epoch: 1500, acc: 0.863, loss: 0.484 (data_loss: 0.417, reg_loss: 0.067), lr: 0.046513791339132055\n",
      "epoch: 1600, acc: 0.861, loss: 0.477 (data_loss: 0.411, reg_loss: 0.066), lr: 0.04629843974258068\n",
      "epoch: 1700, acc: 0.859, loss: 0.451 (data_loss: 0.387, reg_loss: 0.064), lr: 0.046085073044840774\n",
      "epoch: 1800, acc: 0.855, loss: 0.450 (data_loss: 0.386, reg_loss: 0.064), lr: 0.04587366392953806\n",
      "epoch: 1900, acc: 0.851, loss: 0.457 (data_loss: 0.393, reg_loss: 0.064), lr: 0.04566418557925019\n",
      "epoch: 2000, acc: 0.857, loss: 0.462 (data_loss: 0.398, reg_loss: 0.063), lr: 0.045456611664166556\n",
      "epoch: 2100, acc: 0.865, loss: 0.451 (data_loss: 0.388, reg_loss: 0.063), lr: 0.045250916331055706\n",
      "epoch: 2200, acc: 0.852, loss: 0.457 (data_loss: 0.396, reg_loss: 0.061), lr: 0.0450470741925312\n",
      "epoch: 2300, acc: 0.855, loss: 0.448 (data_loss: 0.384, reg_loss: 0.064), lr: 0.04484506031660612\n",
      "epoch: 2400, acc: 0.871, loss: 0.440 (data_loss: 0.379, reg_loss: 0.061), lr: 0.04464485021652753\n",
      "epoch: 2500, acc: 0.858, loss: 0.433 (data_loss: 0.372, reg_loss: 0.062), lr: 0.044446419840881816\n",
      "epoch: 2600, acc: 0.866, loss: 0.433 (data_loss: 0.371, reg_loss: 0.061), lr: 0.04424974556396301\n",
      "epoch: 2700, acc: 0.858, loss: 0.432 (data_loss: 0.372, reg_loss: 0.060), lr: 0.04405480417639544\n",
      "epoch: 2800, acc: 0.861, loss: 0.434 (data_loss: 0.374, reg_loss: 0.060), lr: 0.04386157287600334\n",
      "epoch: 2900, acc: 0.843, loss: 0.474 (data_loss: 0.415, reg_loss: 0.059), lr: 0.04367002925891961\n",
      "epoch: 3000, acc: 0.867, loss: 0.440 (data_loss: 0.380, reg_loss: 0.060), lr: 0.043480151310926564\n",
      "epoch: 3100, acc: 0.872, loss: 0.429 (data_loss: 0.370, reg_loss: 0.059), lr: 0.04329191739902161\n",
      "epoch: 3200, acc: 0.855, loss: 0.446 (data_loss: 0.388, reg_loss: 0.058), lr: 0.043105306263201\n",
      "epoch: 3300, acc: 0.860, loss: 0.440 (data_loss: 0.381, reg_loss: 0.059), lr: 0.0429202970084553\n",
      "epoch: 3400, acc: 0.867, loss: 0.426 (data_loss: 0.369, reg_loss: 0.058), lr: 0.04273686909696996\n",
      "epoch: 3500, acc: 0.864, loss: 0.425 (data_loss: 0.368, reg_loss: 0.057), lr: 0.04255500234052514\n",
      "epoch: 3600, acc: 0.876, loss: 0.422 (data_loss: 0.366, reg_loss: 0.057), lr: 0.042374676893088686\n",
      "epoch: 3700, acc: 0.868, loss: 0.438 (data_loss: 0.382, reg_loss: 0.057), lr: 0.042195873243596776\n",
      "epoch: 3800, acc: 0.878, loss: 0.416 (data_loss: 0.360, reg_loss: 0.056), lr: 0.04201857220891634\n",
      "epoch: 3900, acc: 0.867, loss: 0.442 (data_loss: 0.386, reg_loss: 0.056), lr: 0.041842754926984395\n",
      "epoch: 4000, acc: 0.875, loss: 0.430 (data_loss: 0.374, reg_loss: 0.056), lr: 0.04166840285011875\n",
      "epoch: 4100, acc: 0.850, loss: 0.493 (data_loss: 0.436, reg_loss: 0.057), lr: 0.041495497738495375\n",
      "epoch: 4200, acc: 0.876, loss: 0.430 (data_loss: 0.373, reg_loss: 0.057), lr: 0.041324021653787346\n",
      "epoch: 4300, acc: 0.858, loss: 0.435 (data_loss: 0.380, reg_loss: 0.055), lr: 0.041153956952961035\n",
      "epoch: 4400, acc: 0.874, loss: 0.420 (data_loss: 0.365, reg_loss: 0.055), lr: 0.040985286282224684\n",
      "epoch: 4500, acc: 0.870, loss: 0.418 (data_loss: 0.360, reg_loss: 0.058), lr: 0.04081799257112535\n",
      "epoch: 4600, acc: 0.873, loss: 0.416 (data_loss: 0.360, reg_loss: 0.056), lr: 0.04065205902678971\n",
      "epoch: 4700, acc: 0.872, loss: 0.423 (data_loss: 0.368, reg_loss: 0.055), lr: 0.04048746912830479\n",
      "epoch: 4800, acc: 0.874, loss: 0.433 (data_loss: 0.379, reg_loss: 0.054), lr: 0.04032420662123473\n",
      "epoch: 4900, acc: 0.865, loss: 0.427 (data_loss: 0.372, reg_loss: 0.054), lr: 0.04016225551226957\n",
      "epoch: 5000, acc: 0.847, loss: 0.467 (data_loss: 0.413, reg_loss: 0.054), lr: 0.04000160006400256\n",
      "epoch: 5100, acc: 0.879, loss: 0.412 (data_loss: 0.356, reg_loss: 0.055), lr: 0.039842224789832265\n",
      "epoch: 5200, acc: 0.867, loss: 0.424 (data_loss: 0.371, reg_loss: 0.053), lr: 0.03968411444898608\n",
      "epoch: 5300, acc: 0.868, loss: 0.425 (data_loss: 0.373, reg_loss: 0.052), lr: 0.03952725404166173\n",
      "epoch: 5400, acc: 0.865, loss: 0.415 (data_loss: 0.362, reg_loss: 0.052), lr: 0.03937162880428363\n",
      "epoch: 5500, acc: 0.883, loss: 0.416 (data_loss: 0.364, reg_loss: 0.052), lr: 0.03921722420487078\n",
      "epoch: 5600, acc: 0.834, loss: 0.437 (data_loss: 0.385, reg_loss: 0.053), lr: 0.03906402593851323\n",
      "epoch: 5700, acc: 0.880, loss: 0.396 (data_loss: 0.343, reg_loss: 0.053), lr: 0.038912019922954205\n",
      "epoch: 5800, acc: 0.847, loss: 0.493 (data_loss: 0.440, reg_loss: 0.053), lr: 0.038761192294274965\n",
      "epoch: 5900, acc: 0.857, loss: 0.418 (data_loss: 0.361, reg_loss: 0.057), lr: 0.038611529402679645\n",
      "epoch: 6000, acc: 0.878, loss: 0.410 (data_loss: 0.356, reg_loss: 0.054), lr: 0.03846301780837725\n",
      "epoch: 6100, acc: 0.871, loss: 0.396 (data_loss: 0.343, reg_loss: 0.053), lr: 0.03831564427755853\n",
      "epoch: 6200, acc: 0.845, loss: 0.440 (data_loss: 0.387, reg_loss: 0.053), lr: 0.03816939577846483\n",
      "epoch: 6300, acc: 0.873, loss: 0.415 (data_loss: 0.362, reg_loss: 0.053), lr: 0.038024259477546674\n",
      "epoch: 6400, acc: 0.857, loss: 0.447 (data_loss: 0.394, reg_loss: 0.052), lr: 0.03788022273570969\n",
      "epoch: 6500, acc: 0.875, loss: 0.404 (data_loss: 0.351, reg_loss: 0.053), lr: 0.03773727310464546\n",
      "epoch: 6600, acc: 0.887, loss: 0.385 (data_loss: 0.335, reg_loss: 0.051), lr: 0.03759539832324524\n",
      "epoch: 6700, acc: 0.865, loss: 0.421 (data_loss: 0.371, reg_loss: 0.051), lr: 0.03745458631409416\n",
      "epoch: 6800, acc: 0.871, loss: 0.415 (data_loss: 0.364, reg_loss: 0.051), lr: 0.03731482518004403\n",
      "epoch: 6900, acc: 0.876, loss: 0.408 (data_loss: 0.358, reg_loss: 0.050), lr: 0.03717610320086248\n",
      "epoch: 7000, acc: 0.880, loss: 0.393 (data_loss: 0.343, reg_loss: 0.049), lr: 0.03703840882995667\n",
      "epoch: 7100, acc: 0.861, loss: 0.433 (data_loss: 0.383, reg_loss: 0.050), lr: 0.036901730691169414\n",
      "epoch: 7200, acc: 0.875, loss: 0.402 (data_loss: 0.352, reg_loss: 0.050), lr: 0.03676605757564617\n",
      "epoch: 7300, acc: 0.870, loss: 0.405 (data_loss: 0.355, reg_loss: 0.050), lr: 0.03663137843877066\n",
      "epoch: 7400, acc: 0.873, loss: 0.452 (data_loss: 0.402, reg_loss: 0.050), lr: 0.03649768239716778\n",
      "epoch: 7500, acc: 0.865, loss: 0.448 (data_loss: 0.398, reg_loss: 0.050), lr: 0.03636495872577185\n",
      "epoch: 7600, acc: 0.883, loss: 0.404 (data_loss: 0.355, reg_loss: 0.049), lr: 0.03623319685495851\n",
      "epoch: 7700, acc: 0.871, loss: 0.412 (data_loss: 0.363, reg_loss: 0.049), lr: 0.03610238636773891\n",
      "epoch: 7800, acc: 0.881, loss: 0.396 (data_loss: 0.346, reg_loss: 0.051), lr: 0.03597251699701428\n",
      "epoch: 7900, acc: 0.868, loss: 0.442 (data_loss: 0.392, reg_loss: 0.050), lr: 0.035843578622889706\n",
      "epoch: 8000, acc: 0.875, loss: 0.397 (data_loss: 0.343, reg_loss: 0.055), lr: 0.03571556127004536\n",
      "epoch: 8100, acc: 0.870, loss: 0.418 (data_loss: 0.366, reg_loss: 0.052), lr: 0.03558845510516389\n",
      "epoch: 8200, acc: 0.875, loss: 0.418 (data_loss: 0.367, reg_loss: 0.051), lr: 0.03546225043441257\n",
      "epoch: 8300, acc: 0.872, loss: 0.408 (data_loss: 0.358, reg_loss: 0.050), lr: 0.035336937700978836\n",
      "epoch: 8400, acc: 0.875, loss: 0.406 (data_loss: 0.357, reg_loss: 0.049), lr: 0.03521250748265784\n",
      "epoch: 8500, acc: 0.865, loss: 0.405 (data_loss: 0.357, reg_loss: 0.049), lr: 0.035088950489490865\n",
      "epoch: 8600, acc: 0.879, loss: 0.392 (data_loss: 0.343, reg_loss: 0.049), lr: 0.0349662575614532\n",
      "epoch: 8700, acc: 0.862, loss: 0.432 (data_loss: 0.384, reg_loss: 0.049), lr: 0.034844419666190465\n",
      "epoch: 8800, acc: 0.870, loss: 0.415 (data_loss: 0.367, reg_loss: 0.049), lr: 0.034723427896801974\n",
      "epoch: 8900, acc: 0.863, loss: 0.419 (data_loss: 0.371, reg_loss: 0.047), lr: 0.03460327346967023\n",
      "epoch: 9000, acc: 0.874, loss: 0.414 (data_loss: 0.366, reg_loss: 0.047), lr: 0.034483947722335255\n",
      "epoch: 9100, acc: 0.866, loss: 0.399 (data_loss: 0.352, reg_loss: 0.047), lr: 0.034365442111412764\n",
      "epoch: 9200, acc: 0.868, loss: 0.403 (data_loss: 0.357, reg_loss: 0.046), lr: 0.03424774821055516\n",
      "epoch: 9300, acc: 0.878, loss: 0.400 (data_loss: 0.352, reg_loss: 0.048), lr: 0.03413085770845422\n",
      "epoch: 9400, acc: 0.860, loss: 0.422 (data_loss: 0.375, reg_loss: 0.047), lr: 0.034014762406884586\n",
      "epoch: 9500, acc: 0.863, loss: 0.421 (data_loss: 0.374, reg_loss: 0.047), lr: 0.03389945421878708\n",
      "epoch: 9600, acc: 0.877, loss: 0.391 (data_loss: 0.344, reg_loss: 0.047), lr: 0.033784925166390756\n",
      "epoch: 9700, acc: 0.869, loss: 0.415 (data_loss: 0.368, reg_loss: 0.047), lr: 0.03367116737937304\n",
      "epoch: 9800, acc: 0.871, loss: 0.414 (data_loss: 0.367, reg_loss: 0.047), lr: 0.033558173093056816\n",
      "epoch: 9900, acc: 0.861, loss: 0.436 (data_loss: 0.389, reg_loss: 0.046), lr: 0.0334459346466437\n",
      "epoch: 10000, acc: 0.880, loss: 0.394 (data_loss: 0.347, reg_loss: 0.047), lr: 0.03333444448148271\n",
      "validation, acc: 0.867, loss: 0.379\n"
     ]
    }
   ],
   "source": [
    "model.train(X, y, validation_data=(X_test, y_test), epochs=10000, print_every=100)"
   ]
  }
 ],
 "metadata": {
  "kernelspec": {
   "display_name": "Python 3",
   "language": "python",
   "name": "python3"
  },
  "language_info": {
   "codemirror_mode": {
    "name": "ipython",
    "version": 3
   },
   "file_extension": ".py",
   "mimetype": "text/x-python",
   "name": "python",
   "nbconvert_exporter": "python",
   "pygments_lexer": "ipython3",
   "version": "3.8.5"
  }
 },
 "nbformat": 4,
 "nbformat_minor": 5
}
