{
 "cells": [
  {
   "cell_type": "markdown",
   "id": "a2820087-fdc2-4804-90cc-724ca7ec03d0",
   "metadata": {},
   "source": [
    "# Set Parameters"
   ]
  },
  {
   "cell_type": "markdown",
   "id": "9fb225d0-8e0e-4d8e-b803-4f6f1ef0dc46",
   "metadata": {},
   "source": [
    "## Setting optimized parameters to a new model"
   ]
  },
  {
   "cell_type": "code",
   "execution_count": 1,
   "id": "eb2bf610-b404-4944-83b8-b86595f5d3fb",
   "metadata": {},
   "outputs": [
    {
     "name": "stdout",
     "output_type": "stream",
     "text": [
      "['0', '1', '2', '3', '4', '5', '6', '7', '8', '9']\n",
      "['0000.png', '0001.png', '0002.png', '0003.png', '0004.png', '0005.png', '0006.png', '0007.png', '0008.png', '0009.png']\n",
      "6000\n",
      "[[  0   0   0   0   0   0   0   0   0   0  90 156 177 182 196 176 117   0   0   0   0   0   0   0   0   0   0   0]\n",
      " [  0   0   0   0   0   0   2   0   0 239 253 239 214 226 214 231 245 248   0   0   1   0   0   0   0   0   0   0]\n",
      " [  0   0   0   0   0   0   0   0  36 241 203 219 192 190 193 207 200 232 135   0   0   2   0   0   0   0   0   0]\n",
      " [  0   0   0   0   1   0   0  33 167 227 229 234 228 234 244 215 211 214 208 120   0   0   2   0   0   0   0   0]\n",
      " [  0   0   0   0   0   0 157 227 207 207 229 229 232 207 241 227 235 224 203 221 176   0   0   2   0   0   0   0]\n",
      " [  0   0   0   0   0  65 218 189 192 187 196 189 188 202 181 195 222 219 190 180 217 125   0   0   0   0   0   0]\n",
      " [  0   0   0   0   0 158 213 196 196 191 188 186 179 192 177 192 126 155 193 189 200 166   0   0   0   0   0   0]\n",
      " [  0   0   0   0   0 163 217 211 176 188 188 186 183 196 180 191 165 170 216 204 200 195   0   0   0   0   0   0]\n",
      " [  0   0   0   0   0 183 215 234 185 182 186 183 184 198 181 185 195 188 203 245 207 209  37   0   0   0   0   0]\n",
      " [  0   0   0   0   0 196 215 240 209 188 183 186 186 190 186 188 188 183 212 253 205 217  64   0   0   0   0   0]\n",
      " [  0   0   0   0   0 235 213 246 209 190 190 195 194 192 192 192 196 189 209 252 206 217 109   0   0   0   0   0]\n",
      " [  0   0   0   0  18 246 209 253 212 201 209 195 202 204 203 206 207 201 214 251 205 216 160   0   0   0   0   0]\n",
      " [  0   0   0   0  48 249 208 253 217 196 197 191 195 193 194 196 196 194 214 247 206 216 189   0   0   0   0   0]\n",
      " [  0   0   0   0  71 244 206 255 216 195 196 194 197 196 196 195 203 197 197 238 216 215 184   0   0   0   0   0]\n",
      " [  0   0   0   0  91 248 206 255 211 194 197 193 196 195 195 195 199 201 191 247 217 214 198   0   0   0   0   0]\n",
      " [  0   0   0   0 109 224 206 237 187 195 198 193 197 195 194 194 197 203 197 193 211 217 215   0   0   0   0   0]\n",
      " [  0   0   0   0 118 230 205 222 166 204 195 195 198 196 193 192 196 200 206 161 207 219 220   0   0   0   0   0]\n",
      " [  0   0   0   0 110 234 210 183 147 217 189 193 197 197 194 191 194 198 212 136 213 221 220   5   0   0   0   0]\n",
      " [  0   0   0   0 109 239 209 167 146 219 186 192 196 198 194 191 192 195 223 117 206 227 219  31   0   0   0   0]\n",
      " [  0   0   0   0 105 241 212 142 146 218 182 191 193 196 196 192 190 190 232 100 166 238 218  48   0   0   0   0]\n",
      " [  0   0   0   0  99 240 219 115 152 212 180 190 191 192 198 195 187 185 235  99 133 244 216  63   0   0   0   0]\n",
      " [  0   0   0   0  95 238 225  86 163 203 181 188 190 191 195 195 189 181 226 112 133 245 216  83   0   0   0   0]\n",
      " [  0   0   0   0 102 238 228  79 165 198 182 186 189 192 192 191 191 182 217 113 131 250 209  95   0   0   0   0]\n",
      " [  0   0   0   0 113 234 239 103 155 199 182 187 191 192 191 190 191 183 212 130 128 243 203 103   0   0   0   0]\n",
      " [  0   0   0   0 114 220 251 106 144 187 180 184 187 188 187 186 185 183 190 144 103 236 202 110   0   0   0   0]\n",
      " [  0   0   0   0 114 208 252  71 176 202 195 198 202 202 201 201 201 197 202 178  81 233 205 116   0   0   0   0]\n",
      " [  0   0   0   0 109 238 255  38 105 166 156 159 161 162 159 156 156 155 170 112  44 241 224 136   0   0   0   0]\n",
      " [  0   0   0   0  33 177 179  16   0   0   0   0   0   0   0   0   0   0   0   0   0 163 165  53   0   0   0   0]]\n"
     ]
    },
    {
     "data": {
      "image/png": "[encoded data removed]",
      "text/plain": [
       "<Figure size 432x288 with 1 Axes>"
      ]
     },
     "metadata": {
      "needs_background": "light"
     },
     "output_type": "display_data"
    },
    {
     "data": {
      "image/png": "[encoded data removed]",
      "text/plain": [
       "<Figure size 432x288 with 1 Axes>"
      ]
     },
     "metadata": {
      "needs_background": "light"
     },
     "output_type": "display_data"
    },
    {
     "name": "stdout",
     "output_type": "stream",
     "text": [
      "epoch: 1\n",
      "step: 0, acc: 0.031, loss: 2.303 (data_loss: 2.303, reg_loss: 0.000), lr: 0.001\n",
      "step: 100, acc: 0.750, loss: 0.594 (data_loss: 0.594, reg_loss: 0.000), lr: 0.0009090909090909091\n",
      "step: 200, acc: 0.742, loss: 0.543 (data_loss: 0.543, reg_loss: 0.000), lr: 0.0008333333333333334\n",
      "step: 300, acc: 0.820, loss: 0.480 (data_loss: 0.480, reg_loss: 0.000), lr: 0.0007692307692307692\n",
      "step: 400, acc: 0.852, loss: 0.523 (data_loss: 0.523, reg_loss: 0.000), lr: 0.0007142857142857143\n",
      "step: 468, acc: 0.812, loss: 0.554 (data_loss: 0.554, reg_loss: 0.000), lr: 0.000681198910081744\n",
      "training, acc: 0.759, loss: 0.656 (data_loss: 0.656, reg_loss: 0.000), lr: 0.000681198910081744\n",
      "validation, acc: 0.824, loss: 0.488\n",
      "epoch: 2\n",
      "step: 0, acc: 0.836, loss: 0.457 (data_loss: 0.457, reg_loss: 0.000), lr: 0.0006807351940095304\n",
      "step: 100, acc: 0.867, loss: 0.354 (data_loss: 0.354, reg_loss: 0.000), lr: 0.0006373486297004461\n",
      "step: 200, acc: 0.852, loss: 0.400 (data_loss: 0.400, reg_loss: 0.000), lr: 0.0005991611743559018\n",
      "step: 300, acc: 0.859, loss: 0.420 (data_loss: 0.420, reg_loss: 0.000), lr: 0.0005652911249293386\n",
      "step: 400, acc: 0.852, loss: 0.453 (data_loss: 0.453, reg_loss: 0.000), lr: 0.0005350454788657037\n",
      "step: 468, acc: 0.812, loss: 0.500 (data_loss: 0.500, reg_loss: 0.000), lr: 0.0005162622612287042\n",
      "training, acc: 0.843, loss: 0.431 (data_loss: 0.431, reg_loss: 0.000), lr: 0.0005162622612287042\n",
      "validation, acc: 0.840, loss: 0.441\n",
      "epoch: 3\n",
      "step: 0, acc: 0.836, loss: 0.427 (data_loss: 0.427, reg_loss: 0.000), lr: 0.0005159958720330237\n",
      "step: 100, acc: 0.922, loss: 0.294 (data_loss: 0.294, reg_loss: 0.000), lr: 0.0004906771344455348\n",
      "step: 200, acc: 0.867, loss: 0.358 (data_loss: 0.358, reg_loss: 0.000), lr: 0.0004677268475210477\n",
      "step: 300, acc: 0.844, loss: 0.401 (data_loss: 0.401, reg_loss: 0.000), lr: 0.00044682752457551384\n",
      "step: 400, acc: 0.867, loss: 0.413 (data_loss: 0.413, reg_loss: 0.000), lr: 0.00042771599657827206\n",
      "step: 468, acc: 0.844, loss: 0.464 (data_loss: 0.464, reg_loss: 0.000), lr: 0.0004156275976724854\n",
      "training, acc: 0.859, loss: 0.386 (data_loss: 0.386, reg_loss: 0.000), lr: 0.0004156275976724854\n",
      "validation, acc: 0.848, loss: 0.421\n",
      "epoch: 4\n",
      "step: 0, acc: 0.844, loss: 0.411 (data_loss: 0.411, reg_loss: 0.000), lr: 0.0004154549231408392\n",
      "step: 100, acc: 0.914, loss: 0.260 (data_loss: 0.260, reg_loss: 0.000), lr: 0.00039888312724371757\n",
      "step: 200, acc: 0.867, loss: 0.333 (data_loss: 0.333, reg_loss: 0.000), lr: 0.0003835826620636747\n",
      "step: 300, acc: 0.867, loss: 0.373 (data_loss: 0.373, reg_loss: 0.000), lr: 0.0003694126339120798\n",
      "step: 400, acc: 0.883, loss: 0.385 (data_loss: 0.385, reg_loss: 0.000), lr: 0.0003562522265764161\n",
      "step: 468, acc: 0.844, loss: 0.449 (data_loss: 0.449, reg_loss: 0.000), lr: 0.00034782608695652176\n",
      "training, acc: 0.869, loss: 0.359 (data_loss: 0.359, reg_loss: 0.000), lr: 0.00034782608695652176\n",
      "validation, acc: 0.855, loss: 0.407\n",
      "epoch: 5\n",
      "step: 0, acc: 0.875, loss: 0.393 (data_loss: 0.393, reg_loss: 0.000), lr: 0.0003477051460361613\n",
      "step: 100, acc: 0.914, loss: 0.241 (data_loss: 0.241, reg_loss: 0.000), lr: 0.00033602150537634406\n",
      "step: 200, acc: 0.867, loss: 0.313 (data_loss: 0.313, reg_loss: 0.000), lr: 0.00032509752925877764\n",
      "step: 300, acc: 0.875, loss: 0.341 (data_loss: 0.341, reg_loss: 0.000), lr: 0.00031486146095717883\n",
      "step: 400, acc: 0.883, loss: 0.372 (data_loss: 0.372, reg_loss: 0.000), lr: 0.00030525030525030525\n",
      "step: 468, acc: 0.854, loss: 0.435 (data_loss: 0.435, reg_loss: 0.000), lr: 0.0002990430622009569\n",
      "training, acc: 0.875, loss: 0.341 (data_loss: 0.341, reg_loss: 0.000), lr: 0.0002990430622009569\n",
      "validation, acc: 0.860, loss: 0.393\n",
      "epoch: 6\n",
      "step: 0, acc: 0.898, loss: 0.367 (data_loss: 0.367, reg_loss: 0.000), lr: 0.0002989536621823617\n",
      "step: 100, acc: 0.914, loss: 0.223 (data_loss: 0.223, reg_loss: 0.000), lr: 0.00029027576197387516\n",
      "step: 200, acc: 0.883, loss: 0.297 (data_loss: 0.297, reg_loss: 0.000), lr: 0.0002820874471086037\n",
      "step: 300, acc: 0.875, loss: 0.320 (data_loss: 0.320, reg_loss: 0.000), lr: 0.00027434842249657066\n",
      "step: 400, acc: 0.883, loss: 0.363 (data_loss: 0.363, reg_loss: 0.000), lr: 0.000267022696929239\n",
      "step: 468, acc: 0.854, loss: 0.418 (data_loss: 0.418, reg_loss: 0.000), lr: 0.00026226068712300026\n",
      "training, acc: 0.880, loss: 0.327 (data_loss: 0.327, reg_loss: 0.000), lr: 0.00026226068712300026\n",
      "validation, acc: 0.864, loss: 0.383\n",
      "epoch: 7\n",
      "step: 0, acc: 0.898, loss: 0.346 (data_loss: 0.346, reg_loss: 0.000), lr: 0.00026219192448872575\n",
      "step: 100, acc: 0.914, loss: 0.211 (data_loss: 0.211, reg_loss: 0.000), lr: 0.00025549310168625444\n",
      "step: 200, acc: 0.891, loss: 0.284 (data_loss: 0.284, reg_loss: 0.000), lr: 0.00024912805181863477\n",
      "step: 300, acc: 0.875, loss: 0.308 (data_loss: 0.308, reg_loss: 0.000), lr: 0.0002430724355858046\n",
      "step: 400, acc: 0.891, loss: 0.354 (data_loss: 0.354, reg_loss: 0.000), lr: 0.00023730422401518745\n",
      "step: 468, acc: 0.854, loss: 0.405 (data_loss: 0.405, reg_loss: 0.000), lr: 0.00023353573096683791\n",
      "training, acc: 0.884, loss: 0.315 (data_loss: 0.315, reg_loss: 0.000), lr: 0.00023353573096683791\n",
      "validation, acc: 0.866, loss: 0.374\n",
      "epoch: 8\n",
      "step: 0, acc: 0.898, loss: 0.331 (data_loss: 0.331, reg_loss: 0.000), lr: 0.00023348120476301658\n",
      "step: 100, acc: 0.914, loss: 0.200 (data_loss: 0.200, reg_loss: 0.000), lr: 0.00022815423226100847\n",
      "step: 200, acc: 0.898, loss: 0.275 (data_loss: 0.275, reg_loss: 0.000), lr: 0.0002230649118893598\n",
      "step: 300, acc: 0.883, loss: 0.297 (data_loss: 0.297, reg_loss: 0.000), lr: 0.00021819768710451667\n",
      "step: 400, acc: 0.891, loss: 0.344 (data_loss: 0.344, reg_loss: 0.000), lr: 0.00021353833013025838\n",
      "step: 468, acc: 0.865, loss: 0.392 (data_loss: 0.392, reg_loss: 0.000), lr: 0.00021048200378867611\n",
      "training, acc: 0.888, loss: 0.306 (data_loss: 0.306, reg_loss: 0.000), lr: 0.00021048200378867611\n",
      "validation, acc: 0.869, loss: 0.368\n",
      "epoch: 9\n",
      "step: 0, acc: 0.898, loss: 0.318 (data_loss: 0.318, reg_loss: 0.000), lr: 0.0002104377104377104\n",
      "step: 100, acc: 0.930, loss: 0.192 (data_loss: 0.192, reg_loss: 0.000), lr: 0.0002061005770816158\n",
      "step: 200, acc: 0.898, loss: 0.268 (data_loss: 0.268, reg_loss: 0.000), lr: 0.00020193861066235866\n",
      "step: 300, acc: 0.883, loss: 0.287 (data_loss: 0.287, reg_loss: 0.000), lr: 0.0001979414093428345\n",
      "step: 400, acc: 0.898, loss: 0.334 (data_loss: 0.334, reg_loss: 0.000), lr: 0.0001940993788819876\n",
      "step: 468, acc: 0.875, loss: 0.383 (data_loss: 0.383, reg_loss: 0.000), lr: 0.00019157088122605365\n",
      "training, acc: 0.891, loss: 0.298 (data_loss: 0.298, reg_loss: 0.000), lr: 0.00019157088122605365\n",
      "validation, acc: 0.871, loss: 0.362\n",
      "epoch: 10\n",
      "step: 0, acc: 0.914, loss: 0.307 (data_loss: 0.307, reg_loss: 0.000), lr: 0.0001915341888527102\n",
      "step: 100, acc: 0.930, loss: 0.188 (data_loss: 0.188, reg_loss: 0.000), lr: 0.00018793459875963167\n",
      "step: 200, acc: 0.898, loss: 0.261 (data_loss: 0.261, reg_loss: 0.000), lr: 0.00018446781036709093\n",
      "step: 300, acc: 0.883, loss: 0.278 (data_loss: 0.278, reg_loss: 0.000), lr: 0.00018112660749864155\n",
      "step: 400, acc: 0.906, loss: 0.325 (data_loss: 0.325, reg_loss: 0.000), lr: 0.00017790428749332856\n",
      "step: 468, acc: 0.875, loss: 0.374 (data_loss: 0.374, reg_loss: 0.000), lr: 0.00017577781683951485\n",
      "training, acc: 0.894, loss: 0.292 (data_loss: 0.292, reg_loss: 0.000), lr: 0.00017577781683951485\n",
      "validation, acc: 0.872, loss: 0.358\n",
      "validation, acc: 0.872, loss: 0.358\n",
      "[(array([[-8.35552790e-03,  2.51798917e-02,  1.05013881e-02, ...,  8.05759635e-03,  2.09646786e-02,  5.99751179e-02],\n",
      "       [-2.34745176e-02,  2.14999742e-02,  2.23668640e-02, ...,  6.07170996e-03,  2.15020897e-02,  4.39964272e-02],\n",
      "       [-1.02040642e-05,  1.34437326e-02,  2.61054992e-03, ...,  3.07017672e-03,  1.00551520e-02,  2.49765967e-02],\n",
      "       ...,\n",
      "       [ 5.38925269e-03,  5.04016164e-02,  7.45809855e-04, ...,  4.19931776e-03,  2.66454936e-02,  2.41684359e-02],\n",
      "       [-1.82581865e-02,  3.30125828e-02,  1.11368622e-03, ...,  1.12951159e-02,  2.19526408e-02,  3.30371788e-02],\n",
      "       [-9.69000986e-03,  2.31915533e-02,  2.64133625e-02, ..., -1.77542574e-02,  4.13002426e-02,  4.47241233e-02]]), array([[ 1.39393751e-02, -1.68222225e-02, -1.02467588e-02,  1.19630555e-03, -6.76431332e-03,  4.32144887e-02, -2.14313107e-02,  2.21862181e-02,  9.99339134e-03,  3.13536546e-02, -1.14573799e-02,\n",
      "         1.90053948e-02, -2.34592363e-02, -1.46851954e-02,  2.54520874e-02,  2.30981918e-02, -7.25417697e-03,  1.75968439e-02,  1.74975897e-02, -8.60971333e-03, -2.63091614e-02, -3.41406571e-03,\n",
      "         2.03065233e-02, -1.05106062e-02, -1.02321993e-02,  1.27000052e-03, -3.53072289e-03,  1.79188329e-02, -4.06470616e-03,  2.18755434e-02,  3.47715439e-02,  3.72981768e-03, -1.35157404e-02,\n",
      "         1.07424860e-01,  1.42608924e-02, -2.46474108e-02,  5.10228040e-03, -1.99650239e-02, -2.10169697e-02,  1.62354693e-02,  1.06289905e-02,  3.14168759e-02,  2.29502973e-02,  3.49117203e-02,\n",
      "         1.31548807e-02,  6.22581678e-02, -3.94832094e-03,  1.98458759e-02, -2.45203064e-03, -7.34445179e-03, -2.07114436e-02, -1.12041814e-02, -1.30000845e-02,  2.26439656e-02, -1.75450534e-02,\n",
      "        -1.60938383e-02, -5.18408762e-03, -1.02801044e-02,  1.55817597e-02, -4.44496940e-03, -1.21450772e-02,  4.22917724e-02, -1.72427999e-02, -2.15135510e-02,  1.03322230e-02, -3.02910545e-02,\n",
      "        -3.54490193e-03, -5.57329736e-03, -2.87693965e-02, -6.52696394e-03, -2.38952150e-02,  2.33650997e-02, -8.52461759e-03,  3.27464146e-02, -3.19495206e-02, -3.20480995e-02,  1.07099749e-02,\n",
      "        -9.59418867e-03, -1.80775276e-02, -1.16628536e-02,  5.00668901e-03,  2.93311637e-02,  1.46881616e-02,  3.71000531e-02,  7.74090528e-03,  4.65538121e-03,  2.60999864e-02,  2.81338136e-02,\n",
      "        -1.92419678e-02, -1.65821940e-02,  3.07874014e-02,  5.07333689e-03,  2.27199803e-02,  1.15242662e-02, -7.53480977e-03, -1.76749602e-02, -1.23072737e-02,  5.91847139e-04,  6.05833068e-05,\n",
      "        -7.72704718e-03, -1.64592468e-02,  7.76869991e-03,  2.97084879e-02,  5.20897180e-03, -2.49468095e-03,  2.56756383e-02, -1.22705327e-02,  1.25527095e-02,  1.22446392e-03,  1.04994179e-03,\n",
      "        -1.77509649e-02, -1.08592278e-02,  1.23757671e-02,  8.74170181e-03, -1.39776857e-02,  5.12563966e-03,  2.32793738e-03,  2.06672693e-02,  2.08348165e-02,  2.72308819e-02, -1.46316394e-02,\n",
      "         2.44001262e-02, -1.92871530e-02,  2.79974638e-02,  2.27508698e-02,  7.15309783e-04, -2.35737133e-02, -4.25187318e-02]])), (array([[-0.02300798,  0.03885667, -0.03130721, ...,  0.06598926, -0.00263684,  0.06254673],\n",
      "       [ 0.04771585,  0.00031512,  0.08855654, ...,  0.00684272,  0.09202754,  0.08706253],\n",
      "       [-0.01160817, -0.01542547,  0.0878862 , ..., -0.06170815,  0.06089172, -0.13951639],\n",
      "       ...,\n",
      "       [-0.00423514,  0.00122564,  0.03425283, ...,  0.02770568,  0.02130016,  0.0178904 ],\n",
      "       [ 0.07075947,  0.03986413,  0.02835458, ..., -0.01933143,  0.01031433,  0.02617698],\n",
      "       [ 0.00339803, -0.02178038, -0.03494149, ..., -0.0554496 , -0.00808535, -0.07961643]]), array([[-0.00565166,  0.03353409,  0.00564238, -0.0057734 ,  0.00200055,  0.00285384,  0.03891251,  0.00070528, -0.01540332, -0.00595303, -0.0143171 ,  0.03934571,  0.01589715,  0.03351072,\n",
      "         0.03002887, -0.00595622, -0.00599056,  0.03210291,  0.01524716, -0.01270365, -0.01019906, -0.00328152, -0.02040521,  0.03599575, -0.01062414, -0.01313481, -0.00595665,  0.05037225,\n",
      "         0.01008036,  0.02691066,  0.00903055,  0.01839463,  0.0254594 , -0.00798927,  0.00515909, -0.00924805,  0.03919982, -0.01234456,  0.01432881,  0.03266238,  0.02839339,  0.02978805,\n",
      "        -0.00252081,  0.04848485,  0.06097875, -0.00758567,  0.05412672,  0.01049778,  0.00029204,  0.04320356,  0.05443059, -0.00376035,  0.03237321,  0.02938017, -0.00852216,  0.02524861,\n",
      "        -0.00815809, -0.00435927, -0.01141059,  0.01130903,  0.00433591, -0.00594951,  0.01695386,  0.03013838, -0.00907361,  0.0376644 ,  0.00591136,  0.02525862,  0.01899183, -0.00752978,\n",
      "         0.02752441,  0.03132331, -0.00595688, -0.01229137,  0.04533141,  0.00543151, -0.01837308,  0.0182021 ,  0.02078961,  0.02622768, -0.02348038, -0.00605863, -0.00127958,  0.01733748,\n",
      "         0.00936114,  0.03509167, -0.00734023,  0.01134054,  0.01644559, -0.01856957, -0.00420562, -0.02427762, -0.00405658,  0.00117557,  0.02540899,  0.01593111,  0.03906317,  0.04208309,\n",
      "         0.014307  ,  0.04741335,  0.03999107, -0.00816418,  0.03309017,  0.01776307, -0.01658371, -0.00595241, -0.00935546,  0.04186105,  0.00668756,  0.03521652,  0.05048566,  0.00690941,\n",
      "         0.00873711,  0.01977598, -0.01443708,  0.02490029, -0.01792634,  0.03571155,  0.00459887, -0.0010434 , -0.01123723, -0.00752342,  0.02279241, -0.00603303, -0.00595466,  0.04019579,\n",
      "        -0.00216748,  0.01717366]])), (array([[ 0.01684645,  0.06614959, -0.00493407, ..., -0.17885586, -0.10259218, -0.088222  ],\n",
      "       [ 0.02653379, -0.05541406,  0.04198158, ..., -0.09412728,  0.04276954, -0.14059898],\n",
      "       [-0.06172179,  0.03193842,  0.01777128, ..., -0.00934027, -0.10188797,  0.03658772],\n",
      "       ...,\n",
      "       [-0.04079762, -0.07609069, -0.01626405, ..., -0.01619034,  0.05504951,  0.04278798],\n",
      "       [-0.1131244 ,  0.04970784, -0.04117677, ...,  0.04513295, -0.08587971,  0.00309805],\n",
      "       [-0.02625538,  0.01031585,  0.05146696, ..., -0.16440407, -0.09441495, -0.02855777]]), array([[-0.00411323,  0.00048393,  0.01932347, -0.01294344, -0.02069964, -0.02024768,  0.02156815, -0.0144308 ,  0.06183894, -0.01725635]]))]\n"
     ]
    }
   ],
   "source": [
    "%run Training.ipynb"
   ]
  },
  {
   "cell_type": "code",
   "execution_count": 2,
   "id": "59b868b0-d779-421c-8606-2ec922c85a1a",
   "metadata": {},
   "outputs": [],
   "source": [
    "model1 = Model()"
   ]
  },
  {
   "cell_type": "code",
   "execution_count": 3,
   "id": "3bfc633b-2557-4561-ae9a-3aff284dd9a3",
   "metadata": {},
   "outputs": [],
   "source": [
    "model1.add(Layer_Dense(X.shape[1], 128))\n",
    "model1.add(Activation_ReLU())\n",
    "model1.add(Layer_Dense(128, 128))\n",
    "model1.add(Activation_ReLU())\n",
    "model1.add(Layer_Dense(128, 10))\n",
    "model1.add(Activation_Softmax())"
   ]
  },
  {
   "cell_type": "code",
   "execution_count": 4,
   "id": "15bd0bef-4b31-4f2b-8603-673eb582034a",
   "metadata": {},
   "outputs": [],
   "source": [
    "model1.set(\n",
    "    loss=CategoricalCrossentropy_Loss(),\n",
    "    accuracy=Accuracy_Categorical(),\n",
    ")"
   ]
  },
  {
   "cell_type": "code",
   "execution_count": 5,
   "id": "c27ad952-561a-4d90-b354-c7554a71a9f3",
   "metadata": {},
   "outputs": [],
   "source": [
    "model1.finalize()"
   ]
  },
  {
   "cell_type": "code",
   "execution_count": 6,
   "id": "399ba16e-2775-42e3-91e5-5c88c6d3830c",
   "metadata": {},
   "outputs": [],
   "source": [
    "model1.set_parameters(parameters)"
   ]
  },
  {
   "cell_type": "code",
   "execution_count": 7,
   "id": "507256b4-a921-4fb0-b918-77605f2b9386",
   "metadata": {},
   "outputs": [
    {
     "name": "stdout",
     "output_type": "stream",
     "text": [
      "validation, acc: 0.872, loss: 0.358\n"
     ]
    }
   ],
   "source": [
    "model1.evaluate(X_test, y_test)"
   ]
  }
 ],
 "metadata": {
  "kernelspec": {
   "display_name": "Python 3",
   "language": "python",
   "name": "python3"
  },
  "language_info": {
   "codemirror_mode": {
    "name": "ipython",
    "version": 3
   },
   "file_extension": ".py",
   "mimetype": "text/x-python",
   "name": "python",
   "nbconvert_exporter": "python",
   "pygments_lexer": "ipython3",
   "version": "3.8.5"
  }
 },
 "nbformat": 4,
 "nbformat_minor": 5
}
