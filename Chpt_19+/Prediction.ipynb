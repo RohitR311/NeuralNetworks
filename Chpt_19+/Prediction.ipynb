{
 "cells": [
  {
   "cell_type": "markdown",
   "id": "e2e7918a-b626-4bfc-91ba-056d9e5b538f",
   "metadata": {
    "tags": []
   },
   "source": [
    "# Prediction"
   ]
  },
  {
   "cell_type": "code",
   "execution_count": 1,
   "id": "1724ab23-09a6-48a7-9b38-247e36fb94aa",
   "metadata": {},
   "outputs": [],
   "source": [
    "import os\n",
    "import sys\n",
    "\n",
    "module = os.path.abspath(os.path.join(\"..\"))\n",
    "if module not in sys.path:\n",
    "    sys.path.append(module)"
   ]
  },
  {
   "cell_type": "code",
   "execution_count": 2,
   "id": "56c2fcdb-31d5-403b-8fe7-11e1f8ffcdda",
   "metadata": {},
   "outputs": [],
   "source": [
    "from Code_Sets.Model_Object import Model"
   ]
  },
  {
   "cell_type": "code",
   "execution_count": 3,
   "id": "83b72fa8-ed47-4be6-8dd3-8606a744328f",
   "metadata": {},
   "outputs": [],
   "source": [
    "import cv2\n",
    "import matplotlib.pyplot as plt\n",
    "import numpy as np"
   ]
  },
  {
   "cell_type": "code",
   "execution_count": 4,
   "id": "81441f17-410f-4d26-9bb7-80bae698dfad",
   "metadata": {},
   "outputs": [],
   "source": [
    "sample_img = cv2.imread('sample_imgs/tshirt.png', cv2.IMREAD_UNCHANGED)"
   ]
  },
  {
   "cell_type": "code",
   "execution_count": 5,
   "id": "ca4484de-f71a-43d7-b8c4-bb865243873b",
   "metadata": {},
   "outputs": [
    {
     "data": {
      "image/png": "[encoded data removed]",
      "text/plain": [
       "<Figure size 432x288 with 1 Axes>"
      ]
     },
     "metadata": {
      "needs_background": "light"
     },
     "output_type": "display_data"
    }
   ],
   "source": [
    "plt.imshow(cv2.cvtColor(sample_img, cv2.COLOR_BGR2RGB))\n",
    "plt.show()"
   ]
  },
  {
   "cell_type": "code",
   "execution_count": 6,
   "id": "8682105e-d35c-4056-9181-e1b1f4e26316",
   "metadata": {},
   "outputs": [],
   "source": [
    "fashion_mnist_labels = {\n",
    "    0: 'T-shirt/top',\n",
    "    1: 'Trouser',\n",
    "    2: 'Pullover',\n",
    "    3: 'Dress',\n",
    "    4: 'Coat',\n",
    "    5: 'Sandal',\n",
    "    6: 'Shirt',\n",
    "    7: 'Sneaker',\n",
    "    8: 'Bag',\n",
    "    9: 'Ankle boot'\n",
    "}"
   ]
  },
  {
   "cell_type": "code",
   "execution_count": 7,
   "id": "f7123727-f639-4f2a-867d-062b4b5d6a3b",
   "metadata": {},
   "outputs": [],
   "source": [
    "image_data = cv2.imread('sample_imgs/tshirt.png', cv2.IMREAD_GRAYSCALE)"
   ]
  },
  {
   "cell_type": "code",
   "execution_count": 8,
   "id": "841ab5f3-c81b-412a-9968-62a059c35c1f",
   "metadata": {},
   "outputs": [],
   "source": [
    "image_data = cv2.resize(image_data, (28, 28))"
   ]
  },
  {
   "cell_type": "code",
   "execution_count": 9,
   "id": "4a0a3834-e134-4d64-bce7-b2ff99b16fb3",
   "metadata": {},
   "outputs": [],
   "source": [
    "image_data = 255 - image_data"
   ]
  },
  {
   "cell_type": "code",
   "execution_count": 10,
   "id": "5baca8f5-8bcd-4f6a-a28a-4e03b81e08d5",
   "metadata": {},
   "outputs": [
    {
     "data": {
      "image/png": "[encoded data removed]",
      "text/plain": [
       "<Figure size 432x288 with 1 Axes>"
      ]
     },
     "metadata": {
      "needs_background": "light"
     },
     "output_type": "display_data"
    }
   ],
   "source": [
    "plt.imshow(image_data, cmap='gray')\n",
    "plt.show()"
   ]
  },
  {
   "cell_type": "code",
   "execution_count": 11,
   "id": "54896e86-b51d-4421-8e51-212d3f6905e8",
   "metadata": {},
   "outputs": [],
   "source": [
    "image_data = (image_data.reshape(1, -1).astype(np.float32) - 127.5) / 127.5"
   ]
  },
  {
   "cell_type": "code",
   "execution_count": 12,
   "id": "06bf4905-9bcc-4386-827a-4fa189eb4840",
   "metadata": {},
   "outputs": [],
   "source": [
    "model = Model.load('fashion_mnist.model')"
   ]
  },
  {
   "cell_type": "code",
   "execution_count": 13,
   "id": "b9ed3307-fb17-467c-8f8a-3b202f976e7e",
   "metadata": {},
   "outputs": [],
   "source": [
    "confidences = model.predict(image_data)"
   ]
  },
  {
   "cell_type": "code",
   "execution_count": 14,
   "id": "67f2e928-8b9a-4ea3-a963-782d78728c96",
   "metadata": {},
   "outputs": [],
   "source": [
    "predictions = model.output_layer_activation.predictions(confidences)"
   ]
  },
  {
   "cell_type": "code",
   "execution_count": 15,
   "id": "6927ced9-fe1a-45f8-851f-cfe954e03a43",
   "metadata": {},
   "outputs": [],
   "source": [
    "predictions = fashion_mnist_labels[predictions[0]]"
   ]
  },
  {
   "cell_type": "code",
   "execution_count": 16,
   "id": "e7d32e37-e900-4e40-ad8e-df95a78dc642",
   "metadata": {},
   "outputs": [
    {
     "name": "stdout",
     "output_type": "stream",
     "text": [
      "T-shirt/top\n"
     ]
    }
   ],
   "source": [
    "print(predictions)"
   ]
  },
  {
   "cell_type": "code",
   "execution_count": null,
   "id": "d9b7b4a6-8c24-4f4e-a87f-a0869191c383",
   "metadata": {},
   "outputs": [],
   "source": []
  }
 ],
 "metadata": {
  "kernelspec": {
   "display_name": "Python 3",
   "language": "python",
   "name": "python3"
  },
  "language_info": {
   "codemirror_mode": {
    "name": "ipython",
    "version": 3
   },
   "file_extension": ".py",
   "mimetype": "text/x-python",
   "name": "python",
   "nbconvert_exporter": "python",
   "pygments_lexer": "ipython3",
   "version": "3.8.5"
  }
 },
 "nbformat": 4,
 "nbformat_minor": 5
}
