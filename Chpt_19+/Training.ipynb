{
 "cells": [
  {
   "cell_type": "markdown",
   "id": "0bbf5e1d-d46d-4251-981e-55729589c5e6",
   "metadata": {},
   "source": [
    "# Training"
   ]
  },
  {
   "cell_type": "code",
   "execution_count": 1,
   "id": "aff2af67-1a28-4c35-bdec-eeb5e99fbc98",
   "metadata": {},
   "outputs": [
    {
     "name": "stdout",
     "output_type": "stream",
     "text": [
      "['0', '1', '2', '3', '4', '5', '6', '7', '8', '9']\n",
      "['0000.png', '0001.png', '0002.png', '0003.png', '0004.png', '0005.png', '0006.png', '0007.png', '0008.png', '0009.png']\n",
      "6000\n",
      "[[  0   0   0   0   0   0   0   0   0   0  90 156 177 182 196 176 117   0   0   0   0   0   0   0   0   0   0   0]\n",
      " [  0   0   0   0   0   0   2   0   0 239 253 239 214 226 214 231 245 248   0   0   1   0   0   0   0   0   0   0]\n",
      " [  0   0   0   0   0   0   0   0  36 241 203 219 192 190 193 207 200 232 135   0   0   2   0   0   0   0   0   0]\n",
      " [  0   0   0   0   1   0   0  33 167 227 229 234 228 234 244 215 211 214 208 120   0   0   2   0   0   0   0   0]\n",
      " [  0   0   0   0   0   0 157 227 207 207 229 229 232 207 241 227 235 224 203 221 176   0   0   2   0   0   0   0]\n",
      " [  0   0   0   0   0  65 218 189 192 187 196 189 188 202 181 195 222 219 190 180 217 125   0   0   0   0   0   0]\n",
      " [  0   0   0   0   0 158 213 196 196 191 188 186 179 192 177 192 126 155 193 189 200 166   0   0   0   0   0   0]\n",
      " [  0   0   0   0   0 163 217 211 176 188 188 186 183 196 180 191 165 170 216 204 200 195   0   0   0   0   0   0]\n",
      " [  0   0   0   0   0 183 215 234 185 182 186 183 184 198 181 185 195 188 203 245 207 209  37   0   0   0   0   0]\n",
      " [  0   0   0   0   0 196 215 240 209 188 183 186 186 190 186 188 188 183 212 253 205 217  64   0   0   0   0   0]\n",
      " [  0   0   0   0   0 235 213 246 209 190 190 195 194 192 192 192 196 189 209 252 206 217 109   0   0   0   0   0]\n",
      " [  0   0   0   0  18 246 209 253 212 201 209 195 202 204 203 206 207 201 214 251 205 216 160   0   0   0   0   0]\n",
      " [  0   0   0   0  48 249 208 253 217 196 197 191 195 193 194 196 196 194 214 247 206 216 189   0   0   0   0   0]\n",
      " [  0   0   0   0  71 244 206 255 216 195 196 194 197 196 196 195 203 197 197 238 216 215 184   0   0   0   0   0]\n",
      " [  0   0   0   0  91 248 206 255 211 194 197 193 196 195 195 195 199 201 191 247 217 214 198   0   0   0   0   0]\n",
      " [  0   0   0   0 109 224 206 237 187 195 198 193 197 195 194 194 197 203 197 193 211 217 215   0   0   0   0   0]\n",
      " [  0   0   0   0 118 230 205 222 166 204 195 195 198 196 193 192 196 200 206 161 207 219 220   0   0   0   0   0]\n",
      " [  0   0   0   0 110 234 210 183 147 217 189 193 197 197 194 191 194 198 212 136 213 221 220   5   0   0   0   0]\n",
      " [  0   0   0   0 109 239 209 167 146 219 186 192 196 198 194 191 192 195 223 117 206 227 219  31   0   0   0   0]\n",
      " [  0   0   0   0 105 241 212 142 146 218 182 191 193 196 196 192 190 190 232 100 166 238 218  48   0   0   0   0]\n",
      " [  0   0   0   0  99 240 219 115 152 212 180 190 191 192 198 195 187 185 235  99 133 244 216  63   0   0   0   0]\n",
      " [  0   0   0   0  95 238 225  86 163 203 181 188 190 191 195 195 189 181 226 112 133 245 216  83   0   0   0   0]\n",
      " [  0   0   0   0 102 238 228  79 165 198 182 186 189 192 192 191 191 182 217 113 131 250 209  95   0   0   0   0]\n",
      " [  0   0   0   0 113 234 239 103 155 199 182 187 191 192 191 190 191 183 212 130 128 243 203 103   0   0   0   0]\n",
      " [  0   0   0   0 114 220 251 106 144 187 180 184 187 188 187 186 185 183 190 144 103 236 202 110   0   0   0   0]\n",
      " [  0   0   0   0 114 208 252  71 176 202 195 198 202 202 201 201 201 197 202 178  81 233 205 116   0   0   0   0]\n",
      " [  0   0   0   0 109 238 255  38 105 166 156 159 161 162 159 156 156 155 170 112  44 241 224 136   0   0   0   0]\n",
      " [  0   0   0   0  33 177 179  16   0   0   0   0   0   0   0   0   0   0   0   0   0 163 165  53   0   0   0   0]]\n"
     ]
    },
    {
     "data": {
      "image/png": "[encoded data removed]",
      "text/plain": [
       "<Figure size 432x288 with 1 Axes>"
      ]
     },
     "metadata": {
      "needs_background": "light"
     },
     "output_type": "display_data"
    },
    {
     "data": {
      "image/png": "[encoded data removed]",
      "text/plain": [
       "<Figure size 432x288 with 1 Axes>"
      ]
     },
     "metadata": {
      "needs_background": "light"
     },
     "output_type": "display_data"
    }
   ],
   "source": [
    "%run Data_Loading.ipynb"
   ]
  },
  {
   "cell_type": "code",
   "execution_count": 2,
   "id": "70f7cf6c-51f2-4234-a104-3b0018e436f6",
   "metadata": {},
   "outputs": [],
   "source": [
    "import os\n",
    "import sys\n",
    "\n",
    "module = os.path.abspath(os.path.join(\"..\"))\n",
    "if module not in sys.path:\n",
    "    sys.path.append(module)"
   ]
  },
  {
   "cell_type": "code",
   "execution_count": 3,
   "id": "5689723b-fb21-4292-a1f3-ea6481e451e4",
   "metadata": {},
   "outputs": [],
   "source": [
    "from Code_Sets.Accuracies import Accuracy_Categorical\n",
    "from Code_Sets.Activation_Functions import Activation_ReLU, Activation_Softmax\n",
    "from Code_Sets.Layers import Layer_Dense\n",
    "from Code_Sets.Losses import CategoricalCrossentropy_Loss\n",
    "from Code_Sets.Model_Object import Model\n",
    "from Code_Sets.Optimizers import Optimizer_Adam"
   ]
  },
  {
   "cell_type": "code",
   "execution_count": 4,
   "id": "1b9a378c-2655-4c72-a4d1-68466275586b",
   "metadata": {},
   "outputs": [],
   "source": [
    "keys = np.array(range(X.shape[0]))\n",
    "np.random.shuffle(keys)\n",
    "X = X[keys]\n",
    "y = y[keys]"
   ]
  },
  {
   "cell_type": "code",
   "execution_count": 5,
   "id": "eb077b6f-a693-41e3-9db8-e5d79e49f72c",
   "metadata": {},
   "outputs": [],
   "source": [
    "X = (X.reshape(X.shape[0], -1).astype(np.float32) - 127.5) / 127.5\n",
    "X_test = (X_test.reshape(X_test.shape[0], -1).astype(np.float32) - 127.5) / 127.5"
   ]
  },
  {
   "cell_type": "code",
   "execution_count": 6,
   "id": "6cf07b05-bb37-42af-a904-0f42ad30abae",
   "metadata": {},
   "outputs": [],
   "source": [
    "model = Model()"
   ]
  },
  {
   "cell_type": "code",
   "execution_count": 7,
   "id": "93cc662a-27d6-4497-b9db-2d5922f4206b",
   "metadata": {},
   "outputs": [],
   "source": [
    "model.add(Layer_Dense(X.shape[1], 128))\n",
    "model.add(Activation_ReLU())\n",
    "model.add(Layer_Dense(128, 128))\n",
    "model.add(Activation_ReLU())\n",
    "model.add(Layer_Dense(128, 10))\n",
    "model.add(Activation_Softmax())"
   ]
  },
  {
   "cell_type": "code",
   "execution_count": 8,
   "id": "0f121806-4344-48e7-9cdb-e20984d98918",
   "metadata": {},
   "outputs": [],
   "source": [
    "model.set(\n",
    "    loss=CategoricalCrossentropy_Loss(),\n",
    "    optimizer=Optimizer_Adam(decay=1e-3),\n",
    "    accuracy=Accuracy_Categorical(),\n",
    ")"
   ]
  },
  {
   "cell_type": "code",
   "execution_count": 9,
   "id": "7c1b7eac-622e-4b7c-867d-962d3b27208b",
   "metadata": {},
   "outputs": [],
   "source": [
    "model.finalize()"
   ]
  },
  {
   "cell_type": "code",
   "execution_count": 10,
   "id": "c32832ae-aec7-45d9-8972-a28e344dd3d8",
   "metadata": {},
   "outputs": [
    {
     "name": "stdout",
     "output_type": "stream",
     "text": [
      "epoch: 1\n",
      "step: 0, acc: 0.086, loss: 2.303 (data_loss: 2.303, reg_loss: 0.000), lr: 0.001\n",
      "step: 100, acc: 0.758, loss: 0.581 (data_loss: 0.581, reg_loss: 0.000), lr: 0.0009090909090909091\n",
      "step: 200, acc: 0.750, loss: 0.583 (data_loss: 0.583, reg_loss: 0.000), lr: 0.0008333333333333334\n",
      "step: 300, acc: 0.828, loss: 0.497 (data_loss: 0.497, reg_loss: 0.000), lr: 0.0007692307692307692\n",
      "step: 400, acc: 0.820, loss: 0.454 (data_loss: 0.454, reg_loss: 0.000), lr: 0.0007142857142857143\n",
      "step: 468, acc: 0.812, loss: 0.412 (data_loss: 0.412, reg_loss: 0.000), lr: 0.000681198910081744\n",
      "training, acc: 0.759, loss: 0.650 (data_loss: 0.650, reg_loss: 0.000), lr: 0.000681198910081744\n",
      "validation, acc: 0.828, loss: 0.471\n",
      "epoch: 2\n",
      "step: 0, acc: 0.852, loss: 0.484 (data_loss: 0.484, reg_loss: 0.000), lr: 0.0006807351940095304\n",
      "step: 100, acc: 0.844, loss: 0.413 (data_loss: 0.413, reg_loss: 0.000), lr: 0.0006373486297004461\n",
      "step: 200, acc: 0.828, loss: 0.430 (data_loss: 0.430, reg_loss: 0.000), lr: 0.0005991611743559018\n",
      "step: 300, acc: 0.844, loss: 0.391 (data_loss: 0.391, reg_loss: 0.000), lr: 0.0005652911249293386\n",
      "step: 400, acc: 0.844, loss: 0.373 (data_loss: 0.373, reg_loss: 0.000), lr: 0.0005350454788657037\n",
      "step: 468, acc: 0.885, loss: 0.336 (data_loss: 0.336, reg_loss: 0.000), lr: 0.0005162622612287042\n",
      "training, acc: 0.845, loss: 0.425 (data_loss: 0.425, reg_loss: 0.000), lr: 0.0005162622612287042\n",
      "validation, acc: 0.847, loss: 0.427\n",
      "epoch: 3\n",
      "step: 0, acc: 0.844, loss: 0.465 (data_loss: 0.465, reg_loss: 0.000), lr: 0.0005159958720330237\n",
      "step: 100, acc: 0.875, loss: 0.339 (data_loss: 0.339, reg_loss: 0.000), lr: 0.0004906771344455348\n",
      "step: 200, acc: 0.859, loss: 0.362 (data_loss: 0.362, reg_loss: 0.000), lr: 0.0004677268475210477\n",
      "step: 300, acc: 0.852, loss: 0.369 (data_loss: 0.369, reg_loss: 0.000), lr: 0.00044682752457551384\n",
      "step: 400, acc: 0.844, loss: 0.339 (data_loss: 0.339, reg_loss: 0.000), lr: 0.00042771599657827206\n",
      "step: 468, acc: 0.896, loss: 0.299 (data_loss: 0.299, reg_loss: 0.000), lr: 0.0004156275976724854\n",
      "training, acc: 0.860, loss: 0.382 (data_loss: 0.382, reg_loss: 0.000), lr: 0.0004156275976724854\n",
      "validation, acc: 0.852, loss: 0.414\n",
      "epoch: 4\n",
      "step: 0, acc: 0.820, loss: 0.456 (data_loss: 0.456, reg_loss: 0.000), lr: 0.0004154549231408392\n",
      "step: 100, acc: 0.891, loss: 0.305 (data_loss: 0.305, reg_loss: 0.000), lr: 0.00039888312724371757\n",
      "step: 200, acc: 0.852, loss: 0.333 (data_loss: 0.333, reg_loss: 0.000), lr: 0.0003835826620636747\n",
      "step: 300, acc: 0.852, loss: 0.352 (data_loss: 0.352, reg_loss: 0.000), lr: 0.0003694126339120798\n",
      "step: 400, acc: 0.875, loss: 0.309 (data_loss: 0.309, reg_loss: 0.000), lr: 0.0003562522265764161\n",
      "step: 468, acc: 0.875, loss: 0.273 (data_loss: 0.273, reg_loss: 0.000), lr: 0.00034782608695652176\n",
      "training, acc: 0.869, loss: 0.358 (data_loss: 0.358, reg_loss: 0.000), lr: 0.00034782608695652176\n",
      "validation, acc: 0.856, loss: 0.398\n",
      "epoch: 5\n",
      "step: 0, acc: 0.820, loss: 0.433 (data_loss: 0.433, reg_loss: 0.000), lr: 0.0003477051460361613\n",
      "step: 100, acc: 0.898, loss: 0.290 (data_loss: 0.290, reg_loss: 0.000), lr: 0.00033602150537634406\n",
      "step: 200, acc: 0.867, loss: 0.321 (data_loss: 0.321, reg_loss: 0.000), lr: 0.00032509752925877764\n",
      "step: 300, acc: 0.859, loss: 0.340 (data_loss: 0.340, reg_loss: 0.000), lr: 0.00031486146095717883\n",
      "step: 400, acc: 0.883, loss: 0.288 (data_loss: 0.288, reg_loss: 0.000), lr: 0.00030525030525030525\n",
      "step: 468, acc: 0.906, loss: 0.257 (data_loss: 0.257, reg_loss: 0.000), lr: 0.0002990430622009569\n",
      "training, acc: 0.876, loss: 0.341 (data_loss: 0.341, reg_loss: 0.000), lr: 0.0002990430622009569\n",
      "validation, acc: 0.861, loss: 0.387\n",
      "epoch: 6\n",
      "step: 0, acc: 0.836, loss: 0.417 (data_loss: 0.417, reg_loss: 0.000), lr: 0.0002989536621823617\n",
      "step: 100, acc: 0.898, loss: 0.279 (data_loss: 0.279, reg_loss: 0.000), lr: 0.00029027576197387516\n",
      "step: 200, acc: 0.867, loss: 0.315 (data_loss: 0.315, reg_loss: 0.000), lr: 0.0002820874471086037\n",
      "step: 300, acc: 0.867, loss: 0.327 (data_loss: 0.327, reg_loss: 0.000), lr: 0.00027434842249657066\n",
      "step: 400, acc: 0.906, loss: 0.271 (data_loss: 0.271, reg_loss: 0.000), lr: 0.000267022696929239\n",
      "step: 468, acc: 0.906, loss: 0.247 (data_loss: 0.247, reg_loss: 0.000), lr: 0.00026226068712300026\n",
      "training, acc: 0.881, loss: 0.328 (data_loss: 0.328, reg_loss: 0.000), lr: 0.00026226068712300026\n",
      "validation, acc: 0.863, loss: 0.377\n",
      "epoch: 7\n",
      "step: 0, acc: 0.836, loss: 0.401 (data_loss: 0.401, reg_loss: 0.000), lr: 0.00026219192448872575\n",
      "step: 100, acc: 0.898, loss: 0.271 (data_loss: 0.271, reg_loss: 0.000), lr: 0.00025549310168625444\n",
      "step: 200, acc: 0.883, loss: 0.308 (data_loss: 0.308, reg_loss: 0.000), lr: 0.00024912805181863477\n",
      "step: 300, acc: 0.867, loss: 0.317 (data_loss: 0.317, reg_loss: 0.000), lr: 0.0002430724355858046\n",
      "step: 400, acc: 0.906, loss: 0.254 (data_loss: 0.254, reg_loss: 0.000), lr: 0.00023730422401518745\n",
      "step: 468, acc: 0.917, loss: 0.239 (data_loss: 0.239, reg_loss: 0.000), lr: 0.00023353573096683791\n",
      "training, acc: 0.884, loss: 0.317 (data_loss: 0.317, reg_loss: 0.000), lr: 0.00023353573096683791\n",
      "validation, acc: 0.865, loss: 0.369\n",
      "epoch: 8\n",
      "step: 0, acc: 0.836, loss: 0.386 (data_loss: 0.386, reg_loss: 0.000), lr: 0.00023348120476301658\n",
      "step: 100, acc: 0.898, loss: 0.267 (data_loss: 0.267, reg_loss: 0.000), lr: 0.00022815423226100847\n",
      "step: 200, acc: 0.883, loss: 0.301 (data_loss: 0.301, reg_loss: 0.000), lr: 0.0002230649118893598\n",
      "step: 300, acc: 0.883, loss: 0.307 (data_loss: 0.307, reg_loss: 0.000), lr: 0.00021819768710451667\n",
      "step: 400, acc: 0.906, loss: 0.237 (data_loss: 0.237, reg_loss: 0.000), lr: 0.00021353833013025838\n",
      "step: 468, acc: 0.906, loss: 0.233 (data_loss: 0.233, reg_loss: 0.000), lr: 0.00021048200378867611\n",
      "training, acc: 0.887, loss: 0.308 (data_loss: 0.308, reg_loss: 0.000), lr: 0.00021048200378867611\n",
      "validation, acc: 0.870, loss: 0.363\n",
      "epoch: 9\n",
      "step: 0, acc: 0.844, loss: 0.375 (data_loss: 0.375, reg_loss: 0.000), lr: 0.0002104377104377104\n",
      "step: 100, acc: 0.898, loss: 0.262 (data_loss: 0.262, reg_loss: 0.000), lr: 0.0002061005770816158\n",
      "step: 200, acc: 0.883, loss: 0.293 (data_loss: 0.293, reg_loss: 0.000), lr: 0.00020193861066235866\n",
      "step: 300, acc: 0.883, loss: 0.298 (data_loss: 0.298, reg_loss: 0.000), lr: 0.0001979414093428345\n",
      "step: 400, acc: 0.922, loss: 0.222 (data_loss: 0.222, reg_loss: 0.000), lr: 0.0001940993788819876\n",
      "step: 468, acc: 0.906, loss: 0.229 (data_loss: 0.229, reg_loss: 0.000), lr: 0.00019157088122605365\n",
      "training, acc: 0.890, loss: 0.301 (data_loss: 0.301, reg_loss: 0.000), lr: 0.00019157088122605365\n",
      "validation, acc: 0.872, loss: 0.359\n",
      "epoch: 10\n",
      "step: 0, acc: 0.836, loss: 0.364 (data_loss: 0.364, reg_loss: 0.000), lr: 0.0001915341888527102\n",
      "step: 100, acc: 0.898, loss: 0.258 (data_loss: 0.258, reg_loss: 0.000), lr: 0.00018793459875963167\n",
      "step: 200, acc: 0.883, loss: 0.285 (data_loss: 0.285, reg_loss: 0.000), lr: 0.00018446781036709093\n",
      "step: 300, acc: 0.891, loss: 0.292 (data_loss: 0.292, reg_loss: 0.000), lr: 0.00018112660749864155\n",
      "step: 400, acc: 0.922, loss: 0.212 (data_loss: 0.212, reg_loss: 0.000), lr: 0.00017790428749332856\n",
      "step: 468, acc: 0.906, loss: 0.227 (data_loss: 0.227, reg_loss: 0.000), lr: 0.00017577781683951485\n",
      "training, acc: 0.892, loss: 0.294 (data_loss: 0.294, reg_loss: 0.000), lr: 0.00017577781683951485\n",
      "validation, acc: 0.872, loss: 0.356\n"
     ]
    }
   ],
   "source": [
    "model.train(\n",
    "    X, y, validation_data=(X_test, y_test), epochs=10, batch_size=128, print_every=100\n",
    ")"
   ]
  },
  {
   "cell_type": "markdown",
   "id": "fadd9d5f-9df8-4a7a-bbe5-b788bcca4ef3",
   "metadata": {},
   "source": [
    "## Evaluation"
   ]
  },
  {
   "cell_type": "code",
   "execution_count": 11,
   "id": "d3643919-ea17-42ef-b3d8-ad7634d29ccd",
   "metadata": {},
   "outputs": [
    {
     "name": "stdout",
     "output_type": "stream",
     "text": [
      "validation, acc: 0.872, loss: 0.356\n"
     ]
    }
   ],
   "source": [
    "model.evaluate(X_test, y_test)"
   ]
  },
  {
   "cell_type": "markdown",
   "id": "10e59321-ea5c-4592-b76e-b486b373a740",
   "metadata": {},
   "source": [
    "## Getting Parameters"
   ]
  },
  {
   "cell_type": "code",
   "execution_count": 12,
   "id": "ffd878d2-6087-4f31-b6a2-d593e78ce3c8",
   "metadata": {},
   "outputs": [
    {
     "name": "stdout",
     "output_type": "stream",
     "text": [
      "[(array([[ 2.33032366e-02,  6.28711415e-03, -2.04672231e-02, ..., -3.76801659e-02, -1.77019952e-02,  1.18917964e-02],\n",
      "       [ 3.54314252e-02,  6.32818040e-03, -1.51248829e-02, ..., -2.81497714e-02, -1.51610188e-02,  4.26608616e-03],\n",
      "       [ 1.78997448e-02, -1.50203286e-03, -1.59792557e-02, ..., -1.62717890e-02, -3.55747132e-02, -2.67449856e-02],\n",
      "       ...,\n",
      "       [ 1.28962375e-02,  4.09278519e-04, -1.97413228e-02, ..., -2.62287796e-02,  7.07063137e-05,  7.72786500e-03],\n",
      "       [ 1.97747044e-02,  1.83812611e-02, -3.46817632e-02, ..., -1.95109175e-02, -1.22683249e-02, -1.50102711e-02],\n",
      "       [ 3.40762462e-02,  1.57782800e-02, -1.83214624e-02, ..., -8.42374902e-03,  9.33861066e-04, -1.87950956e-02]]), array([[-0.02036029, -0.0061649 ,  0.0182626 ,  0.00110122, -0.02971895,  0.01944598,  0.00373412, -0.02866656,  0.01381344,  0.03257947,  0.01297109,  0.01626314,  0.03546448, -0.01204464,\n",
      "         0.0191888 , -0.01645802, -0.00712098, -0.00216704,  0.01546289, -0.02495594,  0.02384233, -0.02535452, -0.00469537,  0.01956648, -0.02540578,  0.01963104,  0.00695627,  0.01733235,\n",
      "        -0.00069987,  0.02709241,  0.01774145,  0.00714537,  0.00142772,  0.0068611 ,  0.00502676,  0.01923551, -0.0065354 ,  0.06200481, -0.01273131, -0.02563479,  0.01840488, -0.01772733,\n",
      "         0.01839867, -0.020995  ,  0.01508337,  0.01755136,  0.01832659,  0.0070474 , -0.03146745, -0.01674923, -0.00642364, -0.02827943, -0.00548594,  0.01076235, -0.0049541 , -0.00262503,\n",
      "        -0.00699243, -0.02484838,  0.02141008,  0.009435  ,  0.01481179,  0.01359661,  0.00733287,  0.05793583, -0.02362826,  0.01652829, -0.00846885,  0.01552547, -0.02365563,  0.05311458,\n",
      "        -0.01775393,  0.00979437,  0.00370507, -0.00992476,  0.02820167, -0.02117822,  0.00810574, -0.01783089, -0.014551  , -0.00022277,  0.02312786,  0.02262255, -0.02475565, -0.01385589,\n",
      "         0.01844662,  0.02224085, -0.00929266, -0.0041385 , -0.01102866,  0.00224526, -0.00093038,  0.01717013, -0.00335144,  0.0689017 , -0.01401858, -0.01482313, -0.00162722, -0.0203999 ,\n",
      "         0.04789423, -0.02191604, -0.00995514, -0.02706776, -0.02135038,  0.01601845,  0.01617849,  0.02294887,  0.00042372,  0.00866843, -0.01425095,  0.00039006, -0.005818  ,  0.01493769,\n",
      "         0.03160752,  0.02429442,  0.01938927, -0.00866152,  0.07531856,  0.00277321,  0.01780906,  0.01535528,  0.00300241, -0.02403998,  0.02077084,  0.03249295,  0.0066792 ,  0.02657263,\n",
      "         0.01609876,  0.00289627]])), (array([[ 0.00317146, -0.01829829,  0.01625027, ...,  0.04360438,  0.04785574, -0.07387518],\n",
      "       [ 0.05221648,  0.00203549,  0.00308463, ...,  0.02188377,  0.02378759, -0.07269953],\n",
      "       [-0.01442988, -0.01394756,  0.03906329, ..., -0.05072565, -0.04630263,  0.05120635],\n",
      "       ...,\n",
      "       [ 0.02183865,  0.00650364, -0.01834709, ..., -0.04382301,  0.03193354, -0.04027774],\n",
      "       [-0.0229938 , -0.00897374,  0.00604822, ..., -0.0392531 ,  0.05787706, -0.05706941],\n",
      "       [ 0.07068274, -0.00678489,  0.02938132, ...,  0.00672801,  0.05045938,  0.08132484]]), array([[ 4.14306495e-02, -5.95373428e-03,  7.09622877e-03,  1.03349518e-02,  2.14095769e-02,  3.75457861e-02,  5.05096539e-02,  3.17177188e-02,  3.46182599e-02,  1.01043496e-02, -1.76494894e-03,\n",
      "        -7.23767839e-04,  1.75604855e-02,  4.74609945e-03, -7.25116741e-03,  2.93444797e-02,  2.03115923e-02, -4.25129496e-03, -7.30524748e-03,  2.15846045e-02,  1.52753263e-02,  5.13042237e-02,\n",
      "         2.59237548e-02,  8.20019034e-03,  2.36758783e-02,  9.80765807e-03,  2.86736856e-02,  1.59102842e-02, -8.20985240e-03,  6.97946848e-03,  4.06172165e-02,  3.89929709e-02, -6.33920973e-03,\n",
      "         8.11452034e-03, -3.36067321e-03, -5.27245629e-03, -6.97726526e-03, -8.87251577e-03,  3.28052629e-03,  6.59295995e-03,  1.49895858e-02,  2.64526972e-02, -4.25069051e-04,  3.63176018e-02,\n",
      "         1.35264310e-02,  3.71455487e-03,  1.91938151e-02,  5.60124529e-03, -2.12014563e-03, -1.33823060e-03, -6.00074691e-03, -8.10034850e-03,  1.88169668e-02,  2.15031351e-02, -1.55385442e-03,\n",
      "         2.92884808e-03,  1.42008596e-03,  2.03137622e-02, -1.72066762e-02,  4.81734515e-02,  4.88499691e-02, -6.78228745e-03, -5.95195267e-03,  3.77989928e-02,  2.98612035e-02,  2.64385432e-02,\n",
      "         7.40952624e-03,  1.62073401e-02,  2.81636923e-02,  6.54769052e-03,  7.74942747e-03,  3.61632882e-02,  1.08356233e-02,  3.61414460e-02, -1.04504463e-02,  2.20109288e-02,  2.45475119e-02,\n",
      "         6.94556802e-03,  3.12919739e-02, -4.15807888e-03,  6.56265817e-03, -9.17539490e-04, -7.68176639e-03,  2.38023109e-02,  8.20552102e-03,  2.75442905e-02,  1.41200859e-02,  1.03731120e-02,\n",
      "        -1.78412516e-04,  7.78225233e-03, -5.95660418e-03,  1.75245843e-02,  1.75376658e-02,  2.80134659e-02,  1.62908413e-02,  1.27216392e-02,  1.65574061e-02, -5.91795359e-03, -5.93140819e-03,\n",
      "        -1.43244390e-02,  2.95307187e-02, -5.84193446e-03,  2.86932561e-02,  2.81672180e-02,  4.91295689e-03, -8.00302389e-03,  6.72589742e-05, -5.94198334e-03,  4.06536584e-02, -5.95375083e-03,\n",
      "        -2.04163001e-02,  2.89310105e-02,  2.05097637e-02,  2.66985749e-02,  2.95197937e-05,  3.97093710e-02,  4.04712007e-02, -1.40720760e-02, -1.66654999e-03, -1.49032340e-02, -1.15462384e-02,\n",
      "         1.29123888e-02,  1.70042266e-02, -6.94191946e-03, -5.97367899e-03, -1.11935983e-03,  9.28905246e-03,  2.86640004e-02]])), (array([[ 3.93225991e-02, -4.94472428e-03,  3.88957402e-02, ..., -9.47753161e-02,  3.46761327e-02, -1.65896134e-01],\n",
      "       [ 6.77682159e-04,  9.42084136e-03, -2.25443070e-02, ...,  4.06121291e-03, -4.95330878e-04, -1.53696192e-02],\n",
      "       [-2.35425137e-02,  6.90927589e-02,  4.32126422e-02, ..., -1.63839987e-01,  8.91006479e-02, -3.56415581e-02],\n",
      "       ...,\n",
      "       [ 3.18245231e-02,  4.64692211e-02, -1.14160399e-01, ..., -1.60712209e-01,  3.66447717e-02, -5.24637248e-02],\n",
      "       [ 5.22673413e-02, -1.19453661e-04,  1.41630722e-02, ..., -1.03697536e-01, -1.43330903e-01, -5.84908717e-02],\n",
      "       [-3.31591767e-02, -1.47254886e-01, -9.21812273e-02, ...,  5.29709680e-02,  9.98562731e-02, -2.00789391e-02]]), array([[-0.00475368, -0.0093859 ,  0.0248246 , -0.01642345, -0.01473556, -0.01199204,  0.00039673,  0.00139283,  0.06163333, -0.01379453]]))]\n"
     ]
    }
   ],
   "source": [
    "parameters = model.get_parameters()\n",
    "print(parameters)"
   ]
  },
  {
   "cell_type": "markdown",
   "id": "ef9a36a1-65b2-40d4-a36d-37fbacef55a8",
   "metadata": {},
   "source": [
    "## Save Parameters "
   ]
  },
  {
   "cell_type": "code",
   "execution_count": 13,
   "id": "7b79c3a9-99ed-43f9-b1c8-2181060f3a5c",
   "metadata": {},
   "outputs": [],
   "source": [
    "model.save_parameters(\"fashion_mnist.parms\")"
   ]
  },
  {
   "cell_type": "markdown",
   "id": "7d1e3b9d-92de-461f-b5fc-c1f1b79ddfae",
   "metadata": {},
   "source": [
    "## Save Model"
   ]
  },
  {
   "cell_type": "code",
   "execution_count": 14,
   "id": "96473648-ce3c-4315-969a-5514cf0b51cd",
   "metadata": {},
   "outputs": [],
   "source": [
    "model.save(\"fashion_mnist.model\")"
   ]
  }
 ],
 "metadata": {
  "kernelspec": {
   "display_name": "Python 3",
   "language": "python",
   "name": "python3"
  },
  "language_info": {
   "codemirror_mode": {
    "name": "ipython",
    "version": 3
   },
   "file_extension": ".py",
   "mimetype": "text/x-python",
   "name": "python",
   "nbconvert_exporter": "python",
   "pygments_lexer": "ipython3",
   "version": "3.8.5"
  }
 },
 "nbformat": 4,
 "nbformat_minor": 5
}
