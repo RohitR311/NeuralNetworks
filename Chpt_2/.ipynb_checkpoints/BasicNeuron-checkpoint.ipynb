{
 "cells": [
  {
   "cell_type": "markdown",
   "id": "4b9323e3-bd41-4bc5-8b0e-7b30ad4eb3da",
   "metadata": {},
   "source": [
    "# A Single Neuron with basic python loops"
   ]
  },
  {
   "cell_type": "code",
   "execution_count": 1,
   "id": "9b5e36f3-03c9-46cd-a0b3-bbb9024b7499",
   "metadata": {},
   "outputs": [],
   "source": [
    "inputs = [5, 3, 8, 1.2]\n",
    "weights = [[0.5, 0.8, -0.2, 1], [0.42, 0.36, 0.89, -0.76], [-0.72, -0.83, 0.66, -0.59]]\n",
    "biases = [2, 5, 0.8]"
   ]
  },
  {
   "cell_type": "code",
   "execution_count": 2,
   "id": "5ae2a013-52a6-4912-bb9e-73ee4ba263bd",
   "metadata": {},
   "outputs": [],
   "source": [
    "layer_outputs = []"
   ]
  },
  {
   "cell_type": "code",
   "execution_count": 3,
   "id": "3ade9ebe-1925-4814-b44c-a35a32c17b85",
   "metadata": {},
   "outputs": [],
   "source": [
    "for neuron_weights, neuron_bias in zip(weights, biases):\n",
    "    neuron_output = 0\n",
    "    for n_input, weight in zip(inputs, neuron_weights):\n",
    "        neuron_output += n_input * weight\n",
    "    neuron_output += neuron_bias\n",
    "    layer_outputs.append(neuron_output)"
   ]
  },
  {
   "cell_type": "code",
   "execution_count": 4,
   "id": "5731dc5e-75a1-40e3-a6da-d44bb9bd71f2",
   "metadata": {},
   "outputs": [
    {
     "name": "stdout",
     "output_type": "stream",
     "text": [
      "[6.5, 14.388000000000002, -0.7179999999999995]\n"
     ]
    }
   ],
   "source": [
    "print(layer_outputs)"
   ]
  }
 ],
 "metadata": {
  "kernelspec": {
   "display_name": "Python 3",
   "language": "python",
   "name": "python3"
  },
  "language_info": {
   "codemirror_mode": {
    "name": "ipython",
    "version": 3
   },
   "file_extension": ".py",
   "mimetype": "text/x-python",
   "name": "python",
   "nbconvert_exporter": "python",
   "pygments_lexer": "ipython3",
   "version": "3.8.5"
  }
 },
 "nbformat": 4,
 "nbformat_minor": 5
}
