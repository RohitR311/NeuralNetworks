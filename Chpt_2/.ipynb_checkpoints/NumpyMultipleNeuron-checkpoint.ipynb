{
 "cells": [
  {
   "cell_type": "markdown",
   "id": "91e8c376-2e56-4012-9863-a79103fa9846",
   "metadata": {},
   "source": [
    "# A Layer of Neurons with Numpy "
   ]
  },
  {
   "cell_type": "code",
   "execution_count": 1,
   "id": "a958d401-3397-495d-b942-a663ee148947",
   "metadata": {},
   "outputs": [],
   "source": [
    "import numpy as np"
   ]
  },
  {
   "cell_type": "code",
   "execution_count": 2,
   "id": "8c22a6df-8794-4de6-a554-75b79f8759f7",
   "metadata": {},
   "outputs": [],
   "source": [
    "inputs = [5, 3, 8, 1.2]\n",
    "weights = [[0.5, 0.8, -0.2, 1], [0.42, 0.36, 0.89, -0.76], [-0.72, -0.83, 0.66, -0.59]]\n",
    "biases = [2, 5, 0.8]"
   ]
  },
  {
   "cell_type": "code",
   "execution_count": 3,
   "id": "28658425-b54a-47c6-a0d1-6c89b95f05f5",
   "metadata": {},
   "outputs": [],
   "source": [
    "layer_outputs = np.dot(weights, inputs) + biases"
   ]
  },
  {
   "cell_type": "code",
   "execution_count": 4,
   "id": "3bfc9a75-23c0-4d6e-a04b-5c6fba0b80bf",
   "metadata": {},
   "outputs": [
    {
     "name": "stdout",
     "output_type": "stream",
     "text": [
      "[ 6.5   14.388 -0.718]\n"
     ]
    }
   ],
   "source": [
    "print(layer_outputs)"
   ]
  }
 ],
 "metadata": {
  "kernelspec": {
   "display_name": "Python 3",
   "language": "python",
   "name": "python3"
  },
  "language_info": {
   "codemirror_mode": {
    "name": "ipython",
    "version": 3
   },
   "file_extension": ".py",
   "mimetype": "text/x-python",
   "name": "python",
   "nbconvert_exporter": "python",
   "pygments_lexer": "ipython3",
   "version": "3.8.5"
  }
 },
 "nbformat": 4,
 "nbformat_minor": 5
}
