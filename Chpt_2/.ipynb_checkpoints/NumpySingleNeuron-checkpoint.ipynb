{
 "cells": [
  {
   "cell_type": "markdown",
   "id": "2fe5fb38-1aa8-4c2a-8ce5-f0b9bb307eb6",
   "metadata": {},
   "source": [
    "# A Single Neuron with Numpy"
   ]
  },
  {
   "cell_type": "code",
   "execution_count": 1,
   "id": "b1f63815-ac51-48b7-b1bf-4acb791ffecb",
   "metadata": {},
   "outputs": [],
   "source": [
    "import numpy as np"
   ]
  },
  {
   "cell_type": "code",
   "execution_count": 2,
   "id": "2ae35253-d84f-44c1-baa1-e29979d70712",
   "metadata": {},
   "outputs": [],
   "source": [
    "inputs = [5, 3, 8, 1.2, 2.6]\n",
    "weights = [0.42, 0.36, 0.89, -0.76, 0.99]\n",
    "bias = 5"
   ]
  },
  {
   "cell_type": "code",
   "execution_count": 3,
   "id": "29be491b-2325-4211-8f3d-008b34313f7b",
   "metadata": {},
   "outputs": [],
   "source": [
    "outputs = np.dot(weights, inputs) + bias"
   ]
  },
  {
   "cell_type": "code",
   "execution_count": 4,
   "id": "e553334e-1d11-4d8f-8aaf-1669ca68f22b",
   "metadata": {},
   "outputs": [
    {
     "name": "stdout",
     "output_type": "stream",
     "text": [
      "16.962\n"
     ]
    }
   ],
   "source": [
    "print(outputs)"
   ]
  }
 ],
 "metadata": {
  "kernelspec": {
   "display_name": "Python 3",
   "language": "python",
   "name": "python3"
  },
  "language_info": {
   "codemirror_mode": {
    "name": "ipython",
    "version": 3
   },
   "file_extension": ".py",
   "mimetype": "text/x-python",
   "name": "python",
   "nbconvert_exporter": "python",
   "pygments_lexer": "ipython3",
   "version": "3.8.5"
  }
 },
 "nbformat": 4,
 "nbformat_minor": 5
}
