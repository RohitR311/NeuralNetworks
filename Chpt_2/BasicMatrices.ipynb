{
 "cells": [
  {
   "cell_type": "markdown",
   "id": "74a36476-7366-4748-a93a-4524d071cbd8",
   "metadata": {},
   "source": [
    "# Vector Multiplication"
   ]
  },
  {
   "cell_type": "code",
   "execution_count": 1,
   "id": "28e528f7-a1da-4b61-8f34-d82a1afa77a1",
   "metadata": {},
   "outputs": [],
   "source": [
    "import numpy as np"
   ]
  },
  {
   "cell_type": "code",
   "execution_count": 2,
   "id": "cee85326-ec5a-4993-80be-4ff83f1a035d",
   "metadata": {},
   "outputs": [],
   "source": [
    "a = [1, 2, 3]\n",
    "b = [6, 8, -2]"
   ]
  },
  {
   "cell_type": "code",
   "execution_count": 3,
   "id": "56c423bd-56d2-48c8-a410-dc8bf0473ab8",
   "metadata": {},
   "outputs": [],
   "source": [
    "a = np.array([a])\n",
    "b = np.array([b]).T"
   ]
  },
  {
   "cell_type": "code",
   "execution_count": 4,
   "id": "010661ce-6024-450c-bb00-3f46b6165cba",
   "metadata": {},
   "outputs": [
    {
     "data": {
      "text/plain": [
       "array([[16]])"
      ]
     },
     "execution_count": 4,
     "metadata": {},
     "output_type": "execute_result"
    }
   ],
   "source": [
    "np.dot(a, b)"
   ]
  }
 ],
 "metadata": {
  "kernelspec": {
   "display_name": "Python 3",
   "language": "python",
   "name": "python3"
  },
  "language_info": {
   "codemirror_mode": {
    "name": "ipython",
    "version": 3
   },
   "file_extension": ".py",
   "mimetype": "text/x-python",
   "name": "python",
   "nbconvert_exporter": "python",
   "pygments_lexer": "ipython3",
   "version": "3.8.5"
  }
 },
 "nbformat": 4,
 "nbformat_minor": 5
}
