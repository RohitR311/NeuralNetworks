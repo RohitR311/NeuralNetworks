{
 "cells": [
  {
   "cell_type": "markdown",
   "id": "4864040e-2a9f-48dc-b203-7c0b56789aa9",
   "metadata": {},
   "source": [
    "# Matrix Multiplication"
   ]
  },
  {
   "cell_type": "code",
   "execution_count": 1,
   "id": "823f1ca4-c4b5-4171-96b4-25535f729896",
   "metadata": {},
   "outputs": [],
   "source": [
    "import numpy as np"
   ]
  },
  {
   "cell_type": "code",
   "execution_count": 2,
   "id": "df5c6445-8e2b-405b-ba34-7cac671ecf5d",
   "metadata": {},
   "outputs": [],
   "source": [
    "inputs = np.random.randint(-5, 5, size=(3, 4))\n",
    "weights = np.random.randint(-5, 5, size=(5, 4))\n",
    "biases = [2, 5, 0.8, 2.3, 6]"
   ]
  },
  {
   "cell_type": "code",
   "execution_count": 3,
   "id": "44ae61bc-1de5-4349-8d4b-480a60e5694b",
   "metadata": {},
   "outputs": [
    {
     "name": "stdout",
     "output_type": "stream",
     "text": [
      "[[ 3  1 -1 -2]\n",
      " [-5 -1  4 -4]\n",
      " [-5  3  0  1]] [[-5 -3 -5  4]\n",
      " [ 4 -1  2 -1]\n",
      " [-1 -5  4 -4]\n",
      " [-4  1  1  0]\n",
      " [-5  3 -5  1]]\n"
     ]
    }
   ],
   "source": [
    "print(inputs, weights)"
   ]
  },
  {
   "cell_type": "code",
   "execution_count": 4,
   "id": "872eeaa2-8239-42b9-b380-791fe73c22ee",
   "metadata": {},
   "outputs": [],
   "source": [
    "outputs = np.dot(inputs, weights.T) + biases"
   ]
  },
  {
   "cell_type": "code",
   "execution_count": 5,
   "id": "87e53abd-7030-436a-9a48-5e93fa784283",
   "metadata": {},
   "outputs": [
    {
     "name": "stdout",
     "output_type": "stream",
     "text": [
      "[[-19.   16.   -3.2  -9.7  -3. ]\n",
      " [ -6.   -2.   42.8  25.3   4. ]\n",
      " [ 22.  -19.  -13.2  25.3  41. ]]\n"
     ]
    }
   ],
   "source": [
    "print(outputs)"
   ]
  }
 ],
 "metadata": {
  "kernelspec": {
   "display_name": "Python 3",
   "language": "python",
   "name": "python3"
  },
  "language_info": {
   "codemirror_mode": {
    "name": "ipython",
    "version": 3
   },
   "file_extension": ".py",
   "mimetype": "text/x-python",
   "name": "python",
   "nbconvert_exporter": "python",
   "pygments_lexer": "ipython3",
   "version": "3.8.5"
  }
 },
 "nbformat": 4,
 "nbformat_minor": 5
}
