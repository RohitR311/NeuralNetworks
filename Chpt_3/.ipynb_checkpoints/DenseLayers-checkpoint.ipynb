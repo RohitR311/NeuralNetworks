{
 "cells": [
  {
   "cell_type": "markdown",
   "id": "bff81b78-17b6-410e-a4e7-4db20467ec8f",
   "metadata": {},
   "source": [
    "# Dense Layer Class"
   ]
  },
  {
   "cell_type": "code",
   "execution_count": 1,
   "id": "b13e1b9b-a62c-49f3-822a-a9084aa8a78b",
   "metadata": {},
   "outputs": [],
   "source": [
    "import nnfs\n",
    "import numpy as np\n",
    "from nnfs.datasets import spiral_data"
   ]
  },
  {
   "cell_type": "code",
   "execution_count": 2,
   "id": "0a4189d6-1494-4509-b687-d14a6e426f24",
   "metadata": {},
   "outputs": [],
   "source": [
    "nnfs.init()"
   ]
  },
  {
   "cell_type": "code",
   "execution_count": 3,
   "id": "8ad40368-dcde-4113-8a74-1f5f46be1ab9",
   "metadata": {},
   "outputs": [],
   "source": [
    "class Layer_Dense:\n",
    "    def __init__(self, n_inputs, n_neurons):\n",
    "        self.weights = 0.01 * np.random.randn(n_inputs, n_neurons)\n",
    "        self.biases = np.zeros((1, n_neurons))\n",
    "\n",
    "    def forward(self, inputs):\n",
    "        self.output = np.dot(inputs, self.weights) + self.biases"
   ]
  },
  {
   "cell_type": "code",
   "execution_count": 4,
   "id": "850d2ac4-cf0e-421b-8655-5b3ca715949b",
   "metadata": {},
   "outputs": [],
   "source": [
    "X, y = spiral_data(samples=100, classes=2)"
   ]
  },
  {
   "cell_type": "code",
   "execution_count": 5,
   "id": "9a134e47-9367-43be-aee5-a16851c9e10a",
   "metadata": {},
   "outputs": [],
   "source": [
    "dense = Layer_Dense(2, 4)"
   ]
  },
  {
   "cell_type": "code",
   "execution_count": 6,
   "id": "3aa48310-c8c7-48b7-997e-7521c1edb6c8",
   "metadata": {},
   "outputs": [],
   "source": [
    "dense.forward(X)"
   ]
  },
  {
   "cell_type": "code",
   "execution_count": 7,
   "id": "db3a0653-26b4-4fc2-a12c-70368e2ecd29",
   "metadata": {},
   "outputs": [
    {
     "name": "stdout",
     "output_type": "stream",
     "text": [
      "[[ 0.0000000e+00  0.0000000e+00  0.0000000e+00  0.0000000e+00]\n",
      " [ 5.0691924e-05 -1.6315213e-04  3.0594281e-05 -5.1566149e-05]\n",
      " [ 5.2068499e-05 -2.8247875e-04  1.3786097e-04 -3.0454308e-05]\n",
      " [-8.2187813e-05 -1.4367716e-04  3.2853859e-04  1.6358560e-04]\n",
      " [-8.5421176e-05 -2.4494008e-04  4.3003398e-04  1.8875467e-04]]\n"
     ]
    }
   ],
   "source": [
    "print(dense.output[:5])"
   ]
  }
 ],
 "metadata": {
  "kernelspec": {
   "display_name": "Python 3",
   "language": "python",
   "name": "python3"
  },
  "language_info": {
   "codemirror_mode": {
    "name": "ipython",
    "version": 3
   },
   "file_extension": ".py",
   "mimetype": "text/x-python",
   "name": "python",
   "nbconvert_exporter": "python",
   "pygments_lexer": "ipython3",
   "version": "3.8.5"
  }
 },
 "nbformat": 4,
 "nbformat_minor": 5
}
