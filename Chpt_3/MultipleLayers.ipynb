{
 "cells": [
  {
   "cell_type": "markdown",
   "id": "de14147d-4201-4ca6-84ac-68f26cf7ae9c",
   "metadata": {},
   "source": [
    "# Adding Multiple Layers of Neurons"
   ]
  },
  {
   "cell_type": "code",
   "execution_count": 1,
   "id": "e8b7645f-2743-4803-a610-10dbb1623d13",
   "metadata": {},
   "outputs": [],
   "source": [
    "import numpy as np"
   ]
  },
  {
   "cell_type": "code",
   "execution_count": 2,
   "id": "b4906270-9a0b-4ecc-9e15-e1f4dec0b870",
   "metadata": {},
   "outputs": [],
   "source": [
    "inputs = np.random.randint(-5, 5, size=(3, 4))\n",
    "weights = np.random.randint(-5, 5, size=(5, 4))\n",
    "biases = [2, 5, 0.8, 2.3, 6]"
   ]
  },
  {
   "cell_type": "code",
   "execution_count": 3,
   "id": "cc25c1d2-5f17-4350-8b40-71cba7ce3211",
   "metadata": {},
   "outputs": [],
   "source": [
    "weights2 = np.random.randint(-5, 5, size=(3, 5))\n",
    "biases2 = [-9, 2, 3.8]"
   ]
  },
  {
   "cell_type": "code",
   "execution_count": 4,
   "id": "9b3a72c1-54e2-4d9f-8a9a-9dfacc1075d1",
   "metadata": {},
   "outputs": [],
   "source": [
    "layer1_outputs = np.dot(inputs, weights.T) + biases\n",
    "layer2_outputs = np.dot(layer1_outputs, weights2.T) + biases2"
   ]
  },
  {
   "cell_type": "code",
   "execution_count": 5,
   "id": "c4fa689e-50b8-4478-ba64-db49c285a245",
   "metadata": {},
   "outputs": [
    {
     "name": "stdout",
     "output_type": "stream",
     "text": [
      "[[ 234.9 -218.7 -245.9]\n",
      " [ -59.1  -21.7  133.1]\n",
      " [ 176.9 -124.7 -283.9]]\n"
     ]
    }
   ],
   "source": [
    "print(layer2_outputs)"
   ]
  }
 ],
 "metadata": {
  "kernelspec": {
   "display_name": "Python 3",
   "language": "python",
   "name": "python3"
  },
  "language_info": {
   "codemirror_mode": {
    "name": "ipython",
    "version": 3
   },
   "file_extension": ".py",
   "mimetype": "text/x-python",
   "name": "python",
   "nbconvert_exporter": "python",
   "pygments_lexer": "ipython3",
   "version": "3.8.5"
  }
 },
 "nbformat": 4,
 "nbformat_minor": 5
}
