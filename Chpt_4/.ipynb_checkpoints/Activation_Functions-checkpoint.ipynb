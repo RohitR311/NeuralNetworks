{
 "cells": [
  {
   "cell_type": "markdown",
   "id": "27ea04f3-ef9c-4571-9f54-99360206b210",
   "metadata": {},
   "source": [
    "# Activation Functions"
   ]
  },
  {
   "cell_type": "markdown",
   "id": "fc4d515b-584d-4ce9-b0a0-0e4ec7647edc",
   "metadata": {},
   "source": [
    "## Binary Step Function"
   ]
  },
  {
   "cell_type": "code",
   "execution_count": 1,
   "id": "3c9176e5-e19f-4ba2-b3bd-dd9cbe118479",
   "metadata": {},
   "outputs": [],
   "source": [
    "def binary_step(x):\n",
    "    if x > 0: \n",
    "        return 1 \n",
    "    else:\n",
    "        return 0"
   ]
  },
  {
   "cell_type": "code",
   "execution_count": 2,
   "id": "6cc81116-5c5d-46bd-a69d-758b69107f16",
   "metadata": {},
   "outputs": [
    {
     "data": {
      "text/plain": [
       "1"
      ]
     },
     "execution_count": 2,
     "metadata": {},
     "output_type": "execute_result"
    }
   ],
   "source": [
    "binary_step(10)"
   ]
  },
  {
   "cell_type": "code",
   "execution_count": 3,
   "id": "23611aec-3adc-4a01-9c20-7e11e3bb407e",
   "metadata": {},
   "outputs": [
    {
     "data": {
      "text/plain": [
       "0"
      ]
     },
     "execution_count": 3,
     "metadata": {},
     "output_type": "execute_result"
    }
   ],
   "source": [
    "binary_step(-86)"
   ]
  },
  {
   "cell_type": "markdown",
   "id": "edc0a648-b82d-4b00-8c74-5fde285771c1",
   "metadata": {},
   "source": [
    "## Linear Function"
   ]
  },
  {
   "cell_type": "markdown",
   "id": "01cb4737-4eb9-4f8f-8d51-b68c83750fa2",
   "metadata": {},
   "source": [
    "### y = mx + c  where m=5 and c=0 in this case"
   ]
  },
  {
   "cell_type": "code",
   "execution_count": 4,
   "id": "8592c7a1-4a63-4e5d-9b22-55669621cee5",
   "metadata": {},
   "outputs": [],
   "source": [
    "def linear_function(x):\n",
    "    return 5*x"
   ]
  },
  {
   "cell_type": "code",
   "execution_count": 5,
   "id": "fee66d90-8c4d-4eda-b15d-8fb84c6c91bd",
   "metadata": {},
   "outputs": [
    {
     "data": {
      "text/plain": [
       "-30"
      ]
     },
     "execution_count": 5,
     "metadata": {},
     "output_type": "execute_result"
    }
   ],
   "source": [
    "linear_function(-6)"
   ]
  },
  {
   "cell_type": "markdown",
   "id": "8b5fa18b-c0c6-4c68-8a2a-2b0d40e75cff",
   "metadata": {},
   "source": [
    "## Sigmoid Function (0 to 1)"
   ]
  },
  {
   "cell_type": "code",
   "execution_count": 6,
   "id": "0b9dcaa8-5d24-42fc-ad7c-54fd46785973",
   "metadata": {},
   "outputs": [],
   "source": [
    "import numpy as np\n",
    "def sigmoid_function(x):\n",
    "    z = 1 / (1 + np.exp(-x))\n",
    "    return z"
   ]
  },
  {
   "cell_type": "code",
   "execution_count": 7,
   "id": "876b3753-8d0a-4dbf-a751-38bfa7b3cee4",
   "metadata": {},
   "outputs": [
    {
     "data": {
      "text/plain": [
       "0.0066928509242848554"
      ]
     },
     "execution_count": 7,
     "metadata": {},
     "output_type": "execute_result"
    }
   ],
   "source": [
    "sigmoid_function(-5)"
   ]
  },
  {
   "cell_type": "code",
   "execution_count": 8,
   "id": "186feef5-09b0-42f1-ac66-0c9287231b0f",
   "metadata": {},
   "outputs": [
    {
     "data": {
      "text/plain": [
       "0.9999546021312976"
      ]
     },
     "execution_count": 8,
     "metadata": {},
     "output_type": "execute_result"
    }
   ],
   "source": [
    "sigmoid_function(10)"
   ]
  },
  {
   "cell_type": "markdown",
   "id": "ba08630c-a309-496e-9d12-135e8b5c43c3",
   "metadata": {},
   "source": [
    "## TanH (-1 to 1)"
   ]
  },
  {
   "cell_type": "code",
   "execution_count": 9,
   "id": "f49fb08e-c561-4f5e-ae9a-acc228dc0345",
   "metadata": {},
   "outputs": [],
   "source": [
    "def tanh_function(x):\n",
    "    z = (2 / (1 + np.exp(-2 * x))) - 1\n",
    "    return z"
   ]
  },
  {
   "cell_type": "code",
   "execution_count": 10,
   "id": "be31ce8f-ea42-4fa6-91a9-4d00e0ae1d6d",
   "metadata": {},
   "outputs": [
    {
     "data": {
      "text/plain": [
       "-0.9999877116507956"
      ]
     },
     "execution_count": 10,
     "metadata": {},
     "output_type": "execute_result"
    }
   ],
   "source": [
    "tanh_function(-6)"
   ]
  },
  {
   "cell_type": "code",
   "execution_count": 11,
   "id": "1eb123a8-6f99-4732-acb5-41d32094f339",
   "metadata": {},
   "outputs": [
    {
     "data": {
      "text/plain": [
       "0.9999997749296758"
      ]
     },
     "execution_count": 11,
     "metadata": {},
     "output_type": "execute_result"
    }
   ],
   "source": [
    "tanh_function(8)"
   ]
  },
  {
   "cell_type": "markdown",
   "id": "828e8493-7987-4b3d-bab2-20a54634df62",
   "metadata": {},
   "source": [
    "## ReLU (Rectified Linear Unit)"
   ]
  },
  {
   "cell_type": "code",
   "execution_count": 12,
   "id": "5540e965-e8ea-4cf7-aa5c-3b7edbde0437",
   "metadata": {},
   "outputs": [],
   "source": [
    "def relu_function(x):\n",
    "    if x < 0: \n",
    "        return 0 \n",
    "    else:\n",
    "        return x"
   ]
  },
  {
   "cell_type": "code",
   "execution_count": 13,
   "id": "0b0db98e-cf8e-4c13-966d-0601cce311bb",
   "metadata": {},
   "outputs": [
    {
     "data": {
      "text/plain": [
       "0"
      ]
     },
     "execution_count": 13,
     "metadata": {},
     "output_type": "execute_result"
    }
   ],
   "source": [
    "relu_function(-6)"
   ]
  },
  {
   "cell_type": "code",
   "execution_count": 14,
   "id": "9c7e2e25-0b30-412b-ab3d-9fac2e9245ea",
   "metadata": {},
   "outputs": [
    {
     "data": {
      "text/plain": [
       "8"
      ]
     },
     "execution_count": 14,
     "metadata": {},
     "output_type": "execute_result"
    }
   ],
   "source": [
    "relu_function(8)"
   ]
  },
  {
   "cell_type": "markdown",
   "id": "590fca55-8d3a-4c24-82de-2ae5aec76ab2",
   "metadata": {},
   "source": [
    "## Leaky ReLU"
   ]
  },
  {
   "cell_type": "code",
   "execution_count": 15,
   "id": "099a1c74-80ac-4c55-af8c-6d0fa61a4c89",
   "metadata": {},
   "outputs": [],
   "source": [
    "def leaky_relu_function(x):\n",
    "    if x < 0: \n",
    "        return 0.01 * x \n",
    "    else:\n",
    "        return x"
   ]
  },
  {
   "cell_type": "code",
   "execution_count": 17,
   "id": "d416a30c-9492-4f88-81be-a298c7571f06",
   "metadata": {},
   "outputs": [
    {
     "data": {
      "text/plain": [
       "-0.06"
      ]
     },
     "execution_count": 17,
     "metadata": {},
     "output_type": "execute_result"
    }
   ],
   "source": [
    "leaky_relu_function(-6)"
   ]
  },
  {
   "cell_type": "code",
   "execution_count": 18,
   "id": "42ed348a-21d4-43b4-9acf-7135ad6b67d5",
   "metadata": {},
   "outputs": [
    {
     "data": {
      "text/plain": [
       "9"
      ]
     },
     "execution_count": 18,
     "metadata": {},
     "output_type": "execute_result"
    }
   ],
   "source": [
    "leaky_relu_function(9)"
   ]
  },
  {
   "cell_type": "markdown",
   "id": "e68f3768-cd07-47da-80ff-c3e4c774841c",
   "metadata": {},
   "source": [
    "## ELU (Exponential Linear Unit)"
   ]
  },
  {
   "cell_type": "code",
   "execution_count": 19,
   "id": "71b61d37-ff6c-4099-a872-f7c048eb5747",
   "metadata": {},
   "outputs": [],
   "source": [
    "def elu_function(x, a):\n",
    "    if x < 0: \n",
    "        return a * (np.exp(x) - 1) \n",
    "    else:\n",
    "        return x"
   ]
  },
  {
   "cell_type": "code",
   "execution_count": 20,
   "id": "0e8f548e-3c75-42a8-8ddc-c86edae394b8",
   "metadata": {},
   "outputs": [
    {
     "data": {
      "text/plain": [
       "3"
      ]
     },
     "execution_count": 20,
     "metadata": {},
     "output_type": "execute_result"
    }
   ],
   "source": [
    "elu_function(3, 0.1)"
   ]
  },
  {
   "cell_type": "code",
   "execution_count": 21,
   "id": "b6c01413-12e8-42d8-bef1-45418dd94c6a",
   "metadata": {},
   "outputs": [
    {
     "data": {
      "text/plain": [
       "-0.09996645373720975"
      ]
     },
     "execution_count": 21,
     "metadata": {},
     "output_type": "execute_result"
    }
   ],
   "source": [
    "elu_function(-8, 0.1)"
   ]
  },
  {
   "cell_type": "markdown",
   "id": "d8a7e654-abc1-49be-bb60-9daba13d14a9",
   "metadata": {},
   "source": [
    "## Swish"
   ]
  },
  {
   "cell_type": "code",
   "execution_count": 22,
   "id": "7ca681ad-500b-48bf-baf2-2b27763774b8",
   "metadata": {},
   "outputs": [],
   "source": [
    "def swish_function(x):\n",
    "    return x / (1 - np.exp(-x))"
   ]
  },
  {
   "cell_type": "code",
   "execution_count": 23,
   "id": "7828fba6-5f4c-4ccc-831a-7c471dbea23e",
   "metadata": {},
   "outputs": [
    {
     "data": {
      "text/plain": [
       "0.014909469941067514"
      ]
     },
     "execution_count": 23,
     "metadata": {},
     "output_type": "execute_result"
    }
   ],
   "source": [
    "swish_function(-6)"
   ]
  },
  {
   "cell_type": "code",
   "execution_count": 24,
   "id": "27bd5924-bd5e-40b8-9444-f4dc3ceeec31",
   "metadata": {},
   "outputs": [
    {
     "data": {
      "text/plain": [
       "2.3130352854993315"
      ]
     },
     "execution_count": 24,
     "metadata": {},
     "output_type": "execute_result"
    }
   ],
   "source": [
    "swish_function(2)"
   ]
  },
  {
   "cell_type": "markdown",
   "id": "26ecaaf0-3778-45b9-890a-0fec661650bd",
   "metadata": {},
   "source": [
    "## Softmax (Classifier)"
   ]
  },
  {
   "cell_type": "code",
   "execution_count": 25,
   "id": "1094ce1c-82d8-4f49-9726-fccdf4162ac1",
   "metadata": {},
   "outputs": [],
   "source": [
    "def softmax_function(x):\n",
    "    z = np.exp(x)\n",
    "    soft_z = z / z.sum()\n",
    "    return soft_z"
   ]
  },
  {
   "cell_type": "code",
   "execution_count": 26,
   "id": "0aed492b-94a4-4164-8a51-75ff3439c02c",
   "metadata": {},
   "outputs": [
    {
     "data": {
      "text/plain": [
       "array([0.24472847, 0.09003057, 0.66524096])"
      ]
     },
     "execution_count": 26,
     "metadata": {},
     "output_type": "execute_result"
    }
   ],
   "source": [
    "softmax_function([2.0, 1.0, 3.0])"
   ]
  }
 ],
 "metadata": {
  "kernelspec": {
   "display_name": "Python 3",
   "language": "python",
   "name": "python3"
  },
  "language_info": {
   "codemirror_mode": {
    "name": "ipython",
    "version": 3
   },
   "file_extension": ".py",
   "mimetype": "text/x-python",
   "name": "python",
   "nbconvert_exporter": "python",
   "pygments_lexer": "ipython3",
   "version": "3.8.5"
  }
 },
 "nbformat": 4,
 "nbformat_minor": 5
}
