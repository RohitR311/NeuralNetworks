{
 "cells": [
  {
   "cell_type": "markdown",
   "id": "094436c9-5d2a-4d60-808e-1e14396543cf",
   "metadata": {},
   "source": [
    "# Exponentiation"
   ]
  },
  {
   "cell_type": "code",
   "execution_count": 1,
   "id": "69bf8005-05e6-4a4c-a513-b9ba851d8143",
   "metadata": {},
   "outputs": [],
   "source": [
    "import math\n",
    "\n",
    "import numpy as np"
   ]
  },
  {
   "cell_type": "code",
   "execution_count": 2,
   "id": "9e680507-59e6-45b0-aa04-6d6177581d75",
   "metadata": {},
   "outputs": [],
   "source": [
    "layer_outputs = 8 * np.random.rand(3,)"
   ]
  },
  {
   "cell_type": "code",
   "execution_count": 3,
   "id": "9f7d5120-73e1-4e3c-a0d0-74b7779cea9c",
   "metadata": {},
   "outputs": [
    {
     "name": "stdout",
     "output_type": "stream",
     "text": [
      "[7.80758867 5.01932609 2.04907415]\n"
     ]
    }
   ],
   "source": [
    "print(layer_outputs)"
   ]
  },
  {
   "cell_type": "code",
   "execution_count": 4,
   "id": "b725bf0e-5968-4037-808b-0d48dd0e6b76",
   "metadata": {},
   "outputs": [],
   "source": [
    "E = math.e"
   ]
  },
  {
   "cell_type": "code",
   "execution_count": 5,
   "id": "3eba4d86-a0b4-476a-8d01-166bdd7cdfb2",
   "metadata": {},
   "outputs": [],
   "source": [
    "exp_values = []\n",
    "for output in layer_outputs:\n",
    "    exp_values.append(E ** output)"
   ]
  },
  {
   "cell_type": "code",
   "execution_count": 6,
   "id": "8acf123a-cba9-4376-944b-68ff6d069585",
   "metadata": {},
   "outputs": [
    {
     "name": "stdout",
     "output_type": "stream",
     "text": [
      "[2459.193361334652, 151.309300634461, 7.760712485986836]\n"
     ]
    }
   ],
   "source": [
    "print(exp_values)"
   ]
  }
 ],
 "metadata": {
  "kernelspec": {
   "display_name": "Python 3",
   "language": "python",
   "name": "python3"
  },
  "language_info": {
   "codemirror_mode": {
    "name": "ipython",
    "version": 3
   },
   "file_extension": ".py",
   "mimetype": "text/x-python",
   "name": "python",
   "nbconvert_exporter": "python",
   "pygments_lexer": "ipython3",
   "version": "3.8.5"
  }
 },
 "nbformat": 4,
 "nbformat_minor": 5
}
