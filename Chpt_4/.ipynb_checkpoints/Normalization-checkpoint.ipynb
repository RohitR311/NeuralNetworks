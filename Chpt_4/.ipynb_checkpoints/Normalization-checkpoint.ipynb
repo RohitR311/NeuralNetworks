{
 "cells": [
  {
   "cell_type": "markdown",
   "id": "f3c2e560-f0e0-4177-94db-facfccab310c",
   "metadata": {},
   "source": [
    "# Normalization"
   ]
  },
  {
   "cell_type": "markdown",
   "id": "a64a99cf-22f6-416e-9783-651ac95b9403",
   "metadata": {},
   "source": [
    "### Importing exponential values"
   ]
  },
  {
   "cell_type": "code",
   "execution_count": 1,
   "id": "ebd7dc10-8f97-4228-acf2-7dec13035459",
   "metadata": {},
   "outputs": [
    {
     "name": "stdout",
     "output_type": "stream",
     "text": [
      "[6.4990904  6.62313526 4.55733636]\n",
      "[664.5368979647608, 752.3000620866515, 95.32921816184431]\n"
     ]
    }
   ],
   "source": [
    "%run Exponentiation.ipynb"
   ]
  },
  {
   "cell_type": "markdown",
   "id": "2dc1b980-2c0b-43cd-ac57-addbcd862815",
   "metadata": {},
   "source": [
    "## Without Numpy "
   ]
  },
  {
   "cell_type": "code",
   "execution_count": 2,
   "id": "21ba389c-3043-4d67-a959-575b1fe571c0",
   "metadata": {},
   "outputs": [],
   "source": [
    "norm_base = sum(exp_values)\n",
    "norm_values = []"
   ]
  },
  {
   "cell_type": "code",
   "execution_count": 3,
   "id": "f1dab289-0a4a-4ccb-92bf-62a4d78a7391",
   "metadata": {},
   "outputs": [],
   "source": [
    "for value in exp_values:\n",
    "    norm_values.append(value / norm_base)"
   ]
  },
  {
   "cell_type": "code",
   "execution_count": 4,
   "id": "a1a0533f-1352-455e-a5e4-78533279a859",
   "metadata": {},
   "outputs": [
    {
     "name": "stdout",
     "output_type": "stream",
     "text": [
      "Normalized exponentiated values:\n",
      "[0.4394602309846419, 0.4974982729580378, 0.06304149605732043]\n"
     ]
    }
   ],
   "source": [
    "print(\"Normalized exponentiated values:\")\n",
    "print(norm_values)"
   ]
  },
  {
   "cell_type": "code",
   "execution_count": 5,
   "id": "6ecc9121-2005-4286-9400-11a331a3ee18",
   "metadata": {},
   "outputs": [
    {
     "name": "stdout",
     "output_type": "stream",
     "text": [
      "Sum of normalized values: 1.0\n"
     ]
    }
   ],
   "source": [
    "print(\"Sum of normalized values:\", sum(norm_values))"
   ]
  },
  {
   "cell_type": "markdown",
   "id": "cf836549-0f66-4209-8cbb-a9f466e1aa8f",
   "metadata": {},
   "source": [
    "## With Numpy "
   ]
  },
  {
   "cell_type": "code",
   "execution_count": 6,
   "id": "0f7fade3-1f37-41d4-9330-3cd1114b43a3",
   "metadata": {},
   "outputs": [],
   "source": [
    "import numpy as np"
   ]
  },
  {
   "cell_type": "code",
   "execution_count": 7,
   "id": "0f5a2d95-fa9e-4f68-b387-e8d6b2657589",
   "metadata": {},
   "outputs": [
    {
     "name": "stdout",
     "output_type": "stream",
     "text": [
      "Exponentiated values:\n",
      "[664.53689796 752.30006209  95.32921816]\n"
     ]
    }
   ],
   "source": [
    "exp_values2 = np.exp(layer_outputs)\n",
    "print(\"Exponentiated values:\")\n",
    "print(exp_values2)"
   ]
  },
  {
   "cell_type": "code",
   "execution_count": 8,
   "id": "5044958e-45fd-4dc5-9334-d5f33fcc7c57",
   "metadata": {},
   "outputs": [
    {
     "name": "stdout",
     "output_type": "stream",
     "text": [
      "Normalized exponentiated values:\n",
      "[0.43946023 0.49749827 0.0630415 ]\n"
     ]
    }
   ],
   "source": [
    "norm_values2 = exp_values2 / np.sum(exp_values2)\n",
    "print(\"Normalized exponentiated values:\")\n",
    "print(norm_values2)"
   ]
  },
  {
   "cell_type": "code",
   "execution_count": 9,
   "id": "f1d2103c-2db4-40a2-8cab-9d045f24623c",
   "metadata": {},
   "outputs": [
    {
     "name": "stdout",
     "output_type": "stream",
     "text": [
      "Sum of normalized values: 1.0\n"
     ]
    }
   ],
   "source": [
    "print(\"Sum of normalized values:\", np.sum(norm_values2))"
   ]
  },
  {
   "cell_type": "code",
   "execution_count": null,
   "id": "134dceab-7ff5-4ef7-a902-56cf9cb9c9dd",
   "metadata": {},
   "outputs": [],
   "source": []
  }
 ],
 "metadata": {
  "kernelspec": {
   "display_name": "Python 3",
   "language": "python",
   "name": "python3"
  },
  "language_info": {
   "codemirror_mode": {
    "name": "ipython",
    "version": 3
   },
   "file_extension": ".py",
   "mimetype": "text/x-python",
   "name": "python",
   "nbconvert_exporter": "python",
   "pygments_lexer": "ipython3",
   "version": "3.8.5"
  }
 },
 "nbformat": 4,
 "nbformat_minor": 5
}
