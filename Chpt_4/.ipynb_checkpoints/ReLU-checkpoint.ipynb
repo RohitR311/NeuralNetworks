{
 "cells": [
  {
   "cell_type": "markdown",
   "id": "df1d5e1c-9e5c-4d64-99e9-12d6e2da508a",
   "metadata": {},
   "source": [
    "# ReLU Activation Function"
   ]
  },
  {
   "cell_type": "markdown",
   "id": "3cd4863d-7287-4b16-8384-1964e1512130",
   "metadata": {},
   "source": [
    "## Using loops:"
   ]
  },
  {
   "cell_type": "code",
   "execution_count": 1,
   "id": "b2ec4703-044c-4b53-b1ef-c76d562e1471",
   "metadata": {},
   "outputs": [],
   "source": [
    "inputs = [0, -4, 8, 5, -6, 0, 19, 23, -1000]\n",
    "\n",
    "output = []"
   ]
  },
  {
   "cell_type": "code",
   "execution_count": 2,
   "id": "117ef79d-f158-400e-882e-60b338f94bb7",
   "metadata": {},
   "outputs": [
    {
     "name": "stdout",
     "output_type": "stream",
     "text": [
      "[0, 0, 8, 5, 0, 0, 19, 23, 0]\n"
     ]
    }
   ],
   "source": [
    "for i in inputs:\n",
    "    if i > 0:\n",
    "        output.append(i)\n",
    "    else:\n",
    "        output.append(0)\n",
    "\n",
    "print(output)"
   ]
  },
  {
   "cell_type": "markdown",
   "id": "a42c244e-4bed-4bf8-8b92-3899f1f4e1d1",
   "metadata": {},
   "source": [
    "## Using max function:"
   ]
  },
  {
   "cell_type": "code",
   "execution_count": 3,
   "id": "42bd46a2-8eae-4c14-9884-da486f486fe7",
   "metadata": {},
   "outputs": [],
   "source": [
    "output2 = []"
   ]
  },
  {
   "cell_type": "code",
   "execution_count": 4,
   "id": "b849c551-c332-4544-b90a-7e2988fc95ed",
   "metadata": {},
   "outputs": [
    {
     "name": "stdout",
     "output_type": "stream",
     "text": [
      "[0, 0, 8, 5, 0, 0, 19, 23, 0]\n"
     ]
    }
   ],
   "source": [
    "for i in inputs:\n",
    "    output2.append(max(0, i))\n",
    "\n",
    "print(output2)"
   ]
  },
  {
   "cell_type": "markdown",
   "id": "7d7cdd79-f8f9-4c42-a425-cbdb1354fe3b",
   "metadata": {},
   "source": [
    "## Using Numpy method:"
   ]
  },
  {
   "cell_type": "code",
   "execution_count": 5,
   "id": "b9c1837a-15b2-4d1c-840e-238feaa7e2e3",
   "metadata": {},
   "outputs": [],
   "source": [
    "import numpy as np"
   ]
  },
  {
   "cell_type": "code",
   "execution_count": 6,
   "id": "7cea603a-dea7-488b-ae7a-6b36efc07fd2",
   "metadata": {},
   "outputs": [
    {
     "name": "stdout",
     "output_type": "stream",
     "text": [
      "[ 0  0  8  5  0  0 19 23  0]\n"
     ]
    }
   ],
   "source": [
    "output3 = np.maximum(0, inputs)\n",
    "print(output3)"
   ]
  }
 ],
 "metadata": {
  "kernelspec": {
   "display_name": "Python 3",
   "language": "python",
   "name": "python3"
  },
  "language_info": {
   "codemirror_mode": {
    "name": "ipython",
    "version": 3
   },
   "file_extension": ".py",
   "mimetype": "text/x-python",
   "name": "python",
   "nbconvert_exporter": "python",
   "pygments_lexer": "ipython3",
   "version": "3.8.5"
  }
 },
 "nbformat": 4,
 "nbformat_minor": 5
}
