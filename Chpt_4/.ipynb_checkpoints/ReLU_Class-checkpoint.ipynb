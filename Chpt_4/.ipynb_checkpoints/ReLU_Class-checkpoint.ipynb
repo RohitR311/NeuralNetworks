{
 "cells": [
  {
   "cell_type": "markdown",
   "id": "7962b480-1e65-486e-acde-ed410031faec",
   "metadata": {},
   "source": [
    "## ReLU Activation function class:"
   ]
  },
  {
   "cell_type": "markdown",
   "id": "4216d4ce-94c4-490c-9c3b-31dfe532f1bc",
   "metadata": {},
   "source": [
    "## f(x)=0 for x<0 f(x)=x for x>=0"
   ]
  },
  {
   "cell_type": "code",
   "execution_count": 1,
   "id": "82cba23b-8bf2-4bf6-a435-78d6fade0196",
   "metadata": {},
   "outputs": [],
   "source": [
    "import nnfs\n",
    "import numpy as np\n",
    "from nnfs.datasets import spiral_data"
   ]
  },
  {
   "cell_type": "code",
   "execution_count": 2,
   "id": "bf96f58e-0b08-4a70-9bf9-26e3ab62431d",
   "metadata": {},
   "outputs": [],
   "source": [
    "import os\n",
    "import sys\n",
    "\n",
    "module = os.path.abspath(os.path.join(\"..\"))\n",
    "if module not in sys.path:\n",
    "    sys.path.append(module)"
   ]
  },
  {
   "cell_type": "code",
   "execution_count": 3,
   "id": "caf4e888-04d0-4620-92fe-f54de54219cd",
   "metadata": {},
   "outputs": [],
   "source": [
    "from Chpt_3.DenseLayers import Layer_Dense"
   ]
  },
  {
   "cell_type": "code",
   "execution_count": 4,
   "id": "633d6d33-3723-4eb9-ac37-76a7464d2ed6",
   "metadata": {
    "tags": []
   },
   "outputs": [],
   "source": [
    "nnfs.init()"
   ]
  },
  {
   "cell_type": "code",
   "execution_count": 5,
   "id": "82ceca21-0554-409b-8e95-af013e21e3cb",
   "metadata": {},
   "outputs": [],
   "source": [
    "class Activation_ReLU:\n",
    "    def forward(self, inputs):\n",
    "        self.output = np.maximum(0, inputs)"
   ]
  },
  {
   "cell_type": "code",
   "execution_count": 6,
   "id": "08c23b73-c3ef-4f6d-9023-4d4bc92e6356",
   "metadata": {},
   "outputs": [],
   "source": [
    "X, y = spiral_data(samples=100, classes=2)"
   ]
  },
  {
   "cell_type": "code",
   "execution_count": 7,
   "id": "9094f2b9-480a-42b6-9571-fe95998a3ed3",
   "metadata": {},
   "outputs": [],
   "source": [
    "dense1 = Layer_Dense(2, 3)"
   ]
  },
  {
   "cell_type": "code",
   "execution_count": 8,
   "id": "3b906419-3f1a-4950-a77b-f1900b1d59f9",
   "metadata": {},
   "outputs": [],
   "source": [
    "activation1 = Activation_ReLU()"
   ]
  },
  {
   "cell_type": "code",
   "execution_count": 9,
   "id": "375d3c77-8e99-43e9-bcc0-8835c4a24b8d",
   "metadata": {},
   "outputs": [],
   "source": [
    "dense1.forward(X)"
   ]
  },
  {
   "cell_type": "code",
   "execution_count": 10,
   "id": "b06a408f-7fcc-48e3-b3c5-6dce3792fe84",
   "metadata": {},
   "outputs": [],
   "source": [
    "activation1.forward(dense1.outputs)"
   ]
  },
  {
   "cell_type": "code",
   "execution_count": 11,
   "id": "5395c4c1-aaad-4c98-9233-91d8e1c46fab",
   "metadata": {},
   "outputs": [
    {
     "name": "stdout",
     "output_type": "stream",
     "text": [
      "[[0.0000000e+00 0.0000000e+00 0.0000000e+00]\n",
      " [5.2151667e-05 5.4580236e-05 0.0000000e+00]\n",
      " [5.4423497e-05 6.8788344e-05 0.0000000e+00]\n",
      " [0.0000000e+00 0.0000000e+00 2.5769687e-04]\n",
      " [0.0000000e+00 0.0000000e+00 2.8146897e-04]]\n"
     ]
    }
   ],
   "source": [
    "print(activation1.output[:5])"
   ]
  }
 ],
 "metadata": {
  "kernelspec": {
   "display_name": "Python 3",
   "language": "python",
   "name": "python3"
  },
  "language_info": {
   "codemirror_mode": {
    "name": "ipython",
    "version": 3
   },
   "file_extension": ".py",
   "mimetype": "text/x-python",
   "name": "python",
   "nbconvert_exporter": "python",
   "pygments_lexer": "ipython3",
   "version": "3.8.5"
  }
 },
 "nbformat": 4,
 "nbformat_minor": 5
}
