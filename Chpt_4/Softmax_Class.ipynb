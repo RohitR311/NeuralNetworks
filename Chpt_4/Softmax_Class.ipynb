{
 "cells": [
  {
   "cell_type": "markdown",
   "id": "3e6c9488-1037-4d50-aeb7-db0bf2ab4a4b",
   "metadata": {},
   "source": [
    "# Softmax Activation function Class"
   ]
  },
  {
   "cell_type": "markdown",
   "id": "c16f8386-5975-4640-b305-9ffc987d4ae4",
   "metadata": {
    "tags": []
   },
   "source": [
    "## $\\text{Softmax}(x_{i}) = \\frac{\\exp(x_i)}{\\sum_j \\exp(x_j)}$"
   ]
  },
  {
   "cell_type": "code",
   "execution_count": 1,
   "id": "0f479ade-9aeb-42a0-9756-60ff944c0346",
   "metadata": {},
   "outputs": [],
   "source": [
    "import nnfs\n",
    "import numpy as np\n",
    "from nnfs.datasets import spiral_data"
   ]
  },
  {
   "cell_type": "code",
   "execution_count": 2,
   "id": "51392aeb-d6aa-4d15-bbd8-cb8769b6d08d",
   "metadata": {},
   "outputs": [
    {
     "name": "stdout",
     "output_type": "stream",
     "text": [
      "[[0.0000000e+00 0.0000000e+00 0.0000000e+00]\n",
      " [5.2151667e-05 5.4580236e-05 0.0000000e+00]\n",
      " [5.4423497e-05 6.8788344e-05 0.0000000e+00]\n",
      " [0.0000000e+00 0.0000000e+00 2.5769687e-04]\n",
      " [0.0000000e+00 0.0000000e+00 2.8146897e-04]]\n"
     ]
    }
   ],
   "source": [
    "%run ReLU_Class.ipynb"
   ]
  },
  {
   "cell_type": "code",
   "execution_count": 3,
   "id": "c85302ae-4255-414f-9571-4de52bb3f5bb",
   "metadata": {},
   "outputs": [],
   "source": [
    "nnfs.init()"
   ]
  },
  {
   "cell_type": "code",
   "execution_count": 4,
   "id": "90be8741-ca21-4c34-ab66-627520ba46d8",
   "metadata": {},
   "outputs": [],
   "source": [
    "class Activation_Softmax:\n",
    "    def forward(self, inputs):\n",
    "        exp_values = np.exp(inputs - np.max(inputs, axis=1, keepdims=True))\n",
    "        probabilties = exp_values / np.sum(exp_values, axis=1, keepdims=True)\n",
    "        self.output = probabilties"
   ]
  },
  {
   "cell_type": "code",
   "execution_count": 5,
   "id": "c08ff71a-ae4c-4634-bf3c-749499ebd38f",
   "metadata": {},
   "outputs": [],
   "source": [
    "X, y = spiral_data(samples=100, classes=3)"
   ]
  },
  {
   "cell_type": "code",
   "execution_count": 6,
   "id": "fdc40fc7-b262-41da-86cf-69ed09ca2a7b",
   "metadata": {},
   "outputs": [],
   "source": [
    "dense1 = Layer_Dense(2, 3)"
   ]
  },
  {
   "cell_type": "code",
   "execution_count": 7,
   "id": "9261bbaa-379c-498c-9653-19e69e1558a2",
   "metadata": {},
   "outputs": [],
   "source": [
    "activation1 = Activation_ReLU()"
   ]
  },
  {
   "cell_type": "code",
   "execution_count": 8,
   "id": "ecf1f262-2e55-49ba-bcd1-02e5ee68e7e1",
   "metadata": {},
   "outputs": [],
   "source": [
    "dense2 = Layer_Dense(3, 3)"
   ]
  },
  {
   "cell_type": "code",
   "execution_count": 9,
   "id": "19944262-f359-43d6-84f4-2ae5c2ae8809",
   "metadata": {},
   "outputs": [],
   "source": [
    "activation2 = Activation_Softmax()"
   ]
  },
  {
   "cell_type": "code",
   "execution_count": 10,
   "id": "a1ecbcc3-4073-4e52-a7be-c19888ace1b2",
   "metadata": {},
   "outputs": [],
   "source": [
    "dense1.forward(X)"
   ]
  },
  {
   "cell_type": "code",
   "execution_count": 11,
   "id": "1245b7bd-aad0-4b42-beaa-29302d52cede",
   "metadata": {},
   "outputs": [],
   "source": [
    "activation1.forward(dense1.output)"
   ]
  },
  {
   "cell_type": "code",
   "execution_count": 12,
   "id": "970b96b0-7e96-4894-8b06-06c1a2a620aa",
   "metadata": {},
   "outputs": [],
   "source": [
    "dense2.forward(activation1.output)"
   ]
  },
  {
   "cell_type": "code",
   "execution_count": 13,
   "id": "b2fcdcf8-1c5d-4b27-adb8-c4e6b2ac024c",
   "metadata": {},
   "outputs": [],
   "source": [
    "activation2.forward(dense2.output)"
   ]
  },
  {
   "cell_type": "code",
   "execution_count": 14,
   "id": "7972c660-75cb-4952-b5b3-187bab0b22e3",
   "metadata": {},
   "outputs": [
    {
     "name": "stdout",
     "output_type": "stream",
     "text": [
      "[[0.33333334 0.33333334 0.33333334]\n",
      " [0.33333316 0.3333332  0.33333364]\n",
      " [0.33333287 0.3333329  0.33333418]\n",
      " [0.3333326  0.33333263 0.33333477]\n",
      " [0.33333233 0.3333324  0.33333528]]\n"
     ]
    }
   ],
   "source": [
    "print(activation2.output[:5])"
   ]
  }
 ],
 "metadata": {
  "kernelspec": {
   "display_name": "Python 3",
   "language": "python",
   "name": "python3"
  },
  "language_info": {
   "codemirror_mode": {
    "name": "ipython",
    "version": 3
   },
   "file_extension": ".py",
   "mimetype": "text/x-python",
   "name": "python",
   "nbconvert_exporter": "python",
   "pygments_lexer": "ipython3",
   "version": "3.8.5"
  }
 },
 "nbformat": 4,
 "nbformat_minor": 5
}
