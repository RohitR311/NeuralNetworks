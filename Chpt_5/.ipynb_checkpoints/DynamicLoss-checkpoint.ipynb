{
 "cells": [
  {
   "cell_type": "markdown",
   "id": "b0be122f-a3c6-4faa-acdb-52030f0ed175",
   "metadata": {},
   "source": [
    "# Dynamic Loss Calculation "
   ]
  },
  {
   "cell_type": "markdown",
   "id": "eb49ee97-16c7-4630-b5a5-163cf9833f34",
   "metadata": {},
   "source": [
    "## Targets are 1-D (Sparse) "
   ]
  },
  {
   "cell_type": "markdown",
   "id": "b705b1ed-9d11-4c90-9e4a-e34cd5539dd0",
   "metadata": {},
   "source": [
    "## Using Loops "
   ]
  },
  {
   "cell_type": "code",
   "execution_count": 1,
   "id": "927f7240-3b74-4b1d-857c-cdab0bf48881",
   "metadata": {},
   "outputs": [],
   "source": [
    "import math"
   ]
  },
  {
   "cell_type": "code",
   "execution_count": 2,
   "id": "d2732aef-7244-4274-aef9-946c50e1b19f",
   "metadata": {},
   "outputs": [],
   "source": [
    "softmax_outputs = [[0.7, 0.1, 0.2], [0.1, 0.5, 0.4], [0.02, 0.9, 0.08]]\n",
    "\n",
    "class_targets = [0, 1, 1]\n",
    "\n",
    "loss_outputs1 = []"
   ]
  },
  {
   "cell_type": "code",
   "execution_count": 3,
   "id": "e0d7af08-3e10-40d9-96f3-c9ea4ab1879a",
   "metadata": {},
   "outputs": [],
   "source": [
    "for target_idx, distribution in zip(class_targets, softmax_outputs):\n",
    "    loss_outputs1.append(-math.log(distribution[target_idx]))"
   ]
  },
  {
   "cell_type": "code",
   "execution_count": 4,
   "id": "be856316-36c9-4e4e-b4ea-07e8afc38165",
   "metadata": {},
   "outputs": [
    {
     "name": "stdout",
     "output_type": "stream",
     "text": [
      "[0.35667494393873245, 0.6931471805599453, 0.10536051565782628]\n"
     ]
    }
   ],
   "source": [
    "print(loss_outputs1)"
   ]
  },
  {
   "cell_type": "markdown",
   "id": "4c5d8a61-8762-4400-941a-f6b20da7c987",
   "metadata": {},
   "source": [
    "## Using Numpy "
   ]
  },
  {
   "cell_type": "code",
   "execution_count": 5,
   "id": "39a67401-f22e-4555-bfaa-1e4f3ab48b31",
   "metadata": {},
   "outputs": [],
   "source": [
    "import numpy as np"
   ]
  },
  {
   "cell_type": "code",
   "execution_count": 6,
   "id": "ff29e7f6-1084-416d-96dd-0e3eb56db7ee",
   "metadata": {},
   "outputs": [],
   "source": [
    "softmax_outputs = np.array(softmax_outputs)\n",
    "loss_outputs2 = []"
   ]
  },
  {
   "cell_type": "code",
   "execution_count": 7,
   "id": "b5fcc0c8-faa8-46ed-a7dc-17c680f59a12",
   "metadata": {},
   "outputs": [],
   "source": [
    "loss_outputs2 = -np.log(softmax_outputs[range(len(softmax_outputs)), class_targets])"
   ]
  },
  {
   "cell_type": "code",
   "execution_count": 8,
   "id": "47070891-2b7c-44b1-b252-cda4693d77cc",
   "metadata": {},
   "outputs": [
    {
     "name": "stdout",
     "output_type": "stream",
     "text": [
      "[0.35667494 0.69314718 0.10536052]\n"
     ]
    }
   ],
   "source": [
    "print(loss_outputs2)"
   ]
  },
  {
   "cell_type": "markdown",
   "id": "12737f01-1d29-435b-a65e-8198e18cbf4c",
   "metadata": {},
   "source": [
    "#### Average loss per batch"
   ]
  },
  {
   "cell_type": "code",
   "execution_count": 9,
   "id": "29df3a41-4f38-4b18-ad88-553174724725",
   "metadata": {},
   "outputs": [],
   "source": [
    "average_loss = np.mean(loss_outputs2)"
   ]
  },
  {
   "cell_type": "code",
   "execution_count": 10,
   "id": "efd427f6-92cd-4445-bade-f382c96d1c3e",
   "metadata": {},
   "outputs": [
    {
     "name": "stdout",
     "output_type": "stream",
     "text": [
      "0.38506088005216804\n"
     ]
    }
   ],
   "source": [
    "print(average_loss)"
   ]
  },
  {
   "cell_type": "markdown",
   "id": "f6d173cf-d1d3-4e32-a73f-d3587c90d3d2",
   "metadata": {},
   "source": [
    "## Targets are 2-D (One-hot encoded vectors)"
   ]
  },
  {
   "cell_type": "code",
   "execution_count": 11,
   "id": "f45895a3-10e3-46f5-8440-ec31b66e7658",
   "metadata": {},
   "outputs": [],
   "source": [
    "class_targets2 = np.array([[1, 0, 0], [0, 1, 0], [0, 1, 0]])"
   ]
  },
  {
   "cell_type": "code",
   "execution_count": 12,
   "id": "2544f75e-c89a-498c-af4a-5d886f9761c4",
   "metadata": {},
   "outputs": [],
   "source": [
    "if len(class_targets2.shape) == 1:\n",
    "    correct_confidences = softmax_outputs[range(len(softmax_outputs)), class_targets2]\n",
    "\n",
    "elif len(class_targets2.shape) == 2:\n",
    "    correct_confidences = np.sum(softmax_outputs * class_targets2, axis=1)"
   ]
  },
  {
   "cell_type": "code",
   "execution_count": 13,
   "id": "22af4dbb-435e-4e7a-b527-2cac079a3e87",
   "metadata": {},
   "outputs": [],
   "source": [
    "loss_outputs3 = -np.log(correct_confidences)"
   ]
  },
  {
   "cell_type": "code",
   "execution_count": 14,
   "id": "fb9e5795-be3b-4203-8710-8e88ea5d815b",
   "metadata": {},
   "outputs": [],
   "source": [
    "average_loss2 = np.mean(loss_outputs3)"
   ]
  },
  {
   "cell_type": "code",
   "execution_count": 15,
   "id": "ca38fd6a-398e-4aa6-a15e-1e1822385074",
   "metadata": {},
   "outputs": [
    {
     "name": "stdout",
     "output_type": "stream",
     "text": [
      "0.38506088005216804\n"
     ]
    }
   ],
   "source": [
    "print(average_loss2)"
   ]
  }
 ],
 "metadata": {
  "kernelspec": {
   "display_name": "Python 3",
   "language": "python",
   "name": "python3"
  },
  "language_info": {
   "codemirror_mode": {
    "name": "ipython",
    "version": 3
   },
   "file_extension": ".py",
   "mimetype": "text/x-python",
   "name": "python",
   "nbconvert_exporter": "python",
   "pygments_lexer": "ipython3",
   "version": "3.8.5"
  }
 },
 "nbformat": 4,
 "nbformat_minor": 5
}
