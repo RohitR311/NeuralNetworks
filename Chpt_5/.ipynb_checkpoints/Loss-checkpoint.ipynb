{
 "cells": [
  {
   "cell_type": "markdown",
   "id": "73cf0d62-e426-4b87-889e-354f8b22f860",
   "metadata": {},
   "source": [
    "# Categorical Cross-Entropy Loss \n",
    "### -------------------------------------------------------"
   ]
  },
  {
   "cell_type": "markdown",
   "id": "e04897bb-5de9-4478-b98a-a299dee5a406",
   "metadata": {
    "tags": []
   },
   "source": [
    "## $\\mathrm{Loss} = -\\sum_{i=1}^{\\mathrm{output \\atop size}} y_i \\cdot \\mathrm{log}\\; {\\hat{y}}_i$ \n",
    "## $y_i =>$  target values\n",
    "## ${\\hat{y}}_i =>$  predicted values\n",
    "### -------------------------------------------------------"
   ]
  },
  {
   "cell_type": "markdown",
   "id": "03e726ea-81da-44e3-9378-a67a4d5060e9",
   "metadata": {
    "tags": []
   },
   "source": [
    "### Using Math"
   ]
  },
  {
   "cell_type": "code",
   "execution_count": 1,
   "id": "55bfe181-b06f-407d-b2cf-3e2d707db5be",
   "metadata": {},
   "outputs": [],
   "source": [
    "import math"
   ]
  },
  {
   "cell_type": "code",
   "execution_count": 2,
   "id": "f8e08cd6-6ca2-470b-ab3a-98c2e29bed15",
   "metadata": {},
   "outputs": [],
   "source": [
    "softmax_output = [0.6, 0.2, 0.2]\n",
    "target_output = [1, 0, 0]"
   ]
  },
  {
   "cell_type": "code",
   "execution_count": 3,
   "id": "b0874951-3c0a-448f-9283-f7ccb683ddd5",
   "metadata": {},
   "outputs": [],
   "source": [
    "loss1 = -(\n",
    "    math.log(softmax_output[0]) * target_output[0]\n",
    "    + math.log(softmax_output[1]) * target_output[1]\n",
    "    + math.log(softmax_output[2]) * target_output[2]\n",
    ")"
   ]
  },
  {
   "cell_type": "code",
   "execution_count": 4,
   "id": "89a97fb2-ff4b-43ff-b10e-ef085473e5ec",
   "metadata": {},
   "outputs": [
    {
     "name": "stdout",
     "output_type": "stream",
     "text": [
      "0.5108256237659907\n"
     ]
    }
   ],
   "source": [
    "print(loss1)"
   ]
  },
  {
   "cell_type": "markdown",
   "id": "8988755d-73c7-4948-8226-19b767e397b8",
   "metadata": {},
   "source": [
    "##### OR"
   ]
  },
  {
   "cell_type": "code",
   "execution_count": 5,
   "id": "2809c4f4-b6c7-473b-b3e5-7f8e5ff2a468",
   "metadata": {},
   "outputs": [],
   "source": [
    "loss2 = -(math.log(softmax_output[0]))"
   ]
  },
  {
   "cell_type": "code",
   "execution_count": 6,
   "id": "61abb890-74fd-40d0-b178-18ebe9c32b30",
   "metadata": {},
   "outputs": [
    {
     "name": "stdout",
     "output_type": "stream",
     "text": [
      "0.5108256237659907\n"
     ]
    }
   ],
   "source": [
    "print(loss2)"
   ]
  },
  {
   "cell_type": "markdown",
   "id": "ad487a19-4890-4e36-9bfc-b03a4bbeff00",
   "metadata": {},
   "source": [
    "### Using Numpy"
   ]
  },
  {
   "cell_type": "code",
   "execution_count": 7,
   "id": "18295d67-f017-4764-b0e9-a1b5995d5a5b",
   "metadata": {},
   "outputs": [],
   "source": [
    "import numpy as np"
   ]
  },
  {
   "cell_type": "code",
   "execution_count": 8,
   "id": "408ed4b7-8fa8-4bfe-85f0-dbdfd81e0212",
   "metadata": {},
   "outputs": [],
   "source": [
    "loss3 = -(\n",
    "    np.log(softmax_output[0]) * target_output[0]\n",
    "    + np.log(softmax_output[1]) * target_output[1]\n",
    "    + np.log(softmax_output[2]) * target_output[2]\n",
    ")"
   ]
  },
  {
   "cell_type": "code",
   "execution_count": 9,
   "id": "9fc137b0-cfb3-47c3-a9a5-88ad6721da8e",
   "metadata": {},
   "outputs": [
    {
     "name": "stdout",
     "output_type": "stream",
     "text": [
      "0.5108256237659907\n"
     ]
    }
   ],
   "source": [
    "print(loss3)"
   ]
  },
  {
   "cell_type": "code",
   "execution_count": 10,
   "id": "6259ca0c-c6f6-4d20-ad1c-784f510302c2",
   "metadata": {},
   "outputs": [],
   "source": [
    "loss4 = -(np.log(softmax_output[0]))"
   ]
  },
  {
   "cell_type": "code",
   "execution_count": 11,
   "id": "cf65af09-f341-45ae-9d5e-9531af091391",
   "metadata": {},
   "outputs": [
    {
     "name": "stdout",
     "output_type": "stream",
     "text": [
      "0.5108256237659907\n"
     ]
    }
   ],
   "source": [
    "print(loss4)"
   ]
  }
 ],
 "metadata": {
  "kernelspec": {
   "display_name": "Python 3",
   "language": "python",
   "name": "python3"
  },
  "language_info": {
   "codemirror_mode": {
    "name": "ipython",
    "version": 3
   },
   "file_extension": ".py",
   "mimetype": "text/x-python",
   "name": "python",
   "nbconvert_exporter": "python",
   "pygments_lexer": "ipython3",
   "version": "3.8.5"
  },
  "toc-autonumbering": false,
  "toc-showcode": false
 },
 "nbformat": 4,
 "nbformat_minor": 5
}
