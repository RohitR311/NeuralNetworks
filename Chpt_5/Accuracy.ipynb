{
 "cells": [
  {
   "cell_type": "markdown",
   "id": "b6248beb-a6e0-499f-b7c0-c4306308136d",
   "metadata": {},
   "source": [
    "# Accuracy Calculation "
   ]
  },
  {
   "cell_type": "code",
   "execution_count": 1,
   "id": "b2e91df7-3da8-42a3-8d41-f9ca97cb1640",
   "metadata": {},
   "outputs": [],
   "source": [
    "import numpy as np"
   ]
  },
  {
   "cell_type": "code",
   "execution_count": 2,
   "id": "a7650466-ca04-46b4-8d83-848cc890d5bd",
   "metadata": {},
   "outputs": [],
   "source": [
    "softmax_outputs = np.array([[0.7, 0.1, 0.2], [0.1, 0.5, 0.4], [0.02, 0.08, 0.9]])\n",
    "\n",
    "class_targets = np.array([0, 1, 1])\n",
    "# class_targets = np.array([[1, 0, 0], [0, 1, 0], [0, 1, 0]])"
   ]
  },
  {
   "cell_type": "code",
   "execution_count": 3,
   "id": "53a88d78-cd36-48c9-901b-33a90865d7a7",
   "metadata": {},
   "outputs": [],
   "source": [
    "predictions = np.argmax(softmax_outputs, axis=1)"
   ]
  },
  {
   "cell_type": "code",
   "execution_count": 4,
   "id": "e65f6559-adf3-4fa9-b67b-4910bfc6ec55",
   "metadata": {},
   "outputs": [],
   "source": [
    "if len(class_targets.shape) == 2:\n",
    "    class_targets = np.argmax(class_targets, axis=1)"
   ]
  },
  {
   "cell_type": "code",
   "execution_count": 5,
   "id": "be8e487e-fee8-4341-a0d6-ed5bfba7ec34",
   "metadata": {},
   "outputs": [],
   "source": [
    "accuracy = np.mean(predictions == class_targets)"
   ]
  },
  {
   "cell_type": "code",
   "execution_count": 6,
   "id": "f3e0a13e-60f6-48d6-8beb-e4b0a172368e",
   "metadata": {},
   "outputs": [
    {
     "name": "stdout",
     "output_type": "stream",
     "text": [
      "Accuracy:  0.6666666666666666\n"
     ]
    }
   ],
   "source": [
    "print('Accuracy: ', accuracy)"
   ]
  }
 ],
 "metadata": {
  "kernelspec": {
   "display_name": "Python 3",
   "language": "python",
   "name": "python3"
  },
  "language_info": {
   "codemirror_mode": {
    "name": "ipython",
    "version": 3
   },
   "file_extension": ".py",
   "mimetype": "text/x-python",
   "name": "python",
   "nbconvert_exporter": "python",
   "pygments_lexer": "ipython3",
   "version": "3.8.5"
  }
 },
 "nbformat": 4,
 "nbformat_minor": 5
}
