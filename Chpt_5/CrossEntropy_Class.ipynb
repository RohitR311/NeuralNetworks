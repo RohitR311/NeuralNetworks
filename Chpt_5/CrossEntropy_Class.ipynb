{
 "cells": [
  {
   "cell_type": "markdown",
   "id": "f33a70dc-c409-4711-b228-1c6528109d0e",
   "metadata": {
    "tags": []
   },
   "source": [
    "# Categorical Cross-Entropy Loss Class"
   ]
  },
  {
   "cell_type": "code",
   "execution_count": 1,
   "id": "f843f8c0-190c-4e76-ad3d-4fce12083352",
   "metadata": {
    "tags": []
   },
   "outputs": [],
   "source": [
    "import nnfs\n",
    "import numpy as np\n",
    "from nnfs.datasets import spiral_data"
   ]
  },
  {
   "cell_type": "code",
   "execution_count": 2,
   "id": "89095e7c-63c1-4710-85f1-229487895ec5",
   "metadata": {},
   "outputs": [],
   "source": [
    "%run Common_Loss.ipynb"
   ]
  },
  {
   "cell_type": "code",
   "execution_count": 3,
   "id": "8dcde3bc-38e0-46f5-af40-791b4a63a6fb",
   "metadata": {},
   "outputs": [],
   "source": [
    "import os\n",
    "import sys\n",
    "\n",
    "module = os.path.abspath(os.path.join(\"..\"))\n",
    "if module not in sys.path:\n",
    "    sys.path.append(module)"
   ]
  },
  {
   "cell_type": "code",
   "execution_count": 4,
   "id": "afaba96f-561f-4afd-aa0d-9aee67cf8ed8",
   "metadata": {},
   "outputs": [],
   "source": [
    "from Chpt_4.ReLU_Softmax import *"
   ]
  },
  {
   "cell_type": "code",
   "execution_count": 5,
   "id": "4342c0f2-d1b8-4063-abac-39930a6cee47",
   "metadata": {},
   "outputs": [],
   "source": [
    "class CategoricalCrossentropy_Loss(Loss):\n",
    "    def forward(self, y_pred, y_true):\n",
    "        samples = len(y_pred)\n",
    "        y_pred_clipped = np.clip(y_pred, 1e-7, 1 - 1e-7)\n",
    "\n",
    "        if len(y_true.shape) == 1:\n",
    "            correct_confidences = y_pred_clipped[range(samples), y_true]\n",
    "\n",
    "        elif len(y_true.shape) == 2:\n",
    "            correct_confidences = np.sum(y_pred_clipped * y_true, axis=1)\n",
    "\n",
    "        negative_log_likelihoods = -np.log(correct_confidences)\n",
    "        return negative_log_likelihoods"
   ]
  },
  {
   "cell_type": "code",
   "execution_count": 6,
   "id": "3b54696f-de33-40fb-a082-d392943c2812",
   "metadata": {},
   "outputs": [],
   "source": [
    "X, y = spiral_data(samples=100, classes=3)"
   ]
  },
  {
   "cell_type": "code",
   "execution_count": 7,
   "id": "0be65ebd-2979-4f1c-8377-b2afd7dfc9a6",
   "metadata": {},
   "outputs": [],
   "source": [
    "dense1 = Layer_Dense(2, 3)"
   ]
  },
  {
   "cell_type": "code",
   "execution_count": 8,
   "id": "7132a2b4-e5ac-4f3e-ac64-3c9100e7371d",
   "metadata": {},
   "outputs": [],
   "source": [
    "activation1 = Activation_ReLU()"
   ]
  },
  {
   "cell_type": "code",
   "execution_count": 9,
   "id": "a3f3f24f-96bf-4f97-887a-8836c18dd6cd",
   "metadata": {},
   "outputs": [],
   "source": [
    "dense2 = Layer_Dense(3, 3)"
   ]
  },
  {
   "cell_type": "code",
   "execution_count": 10,
   "id": "09684c67-92fe-4d21-b0c4-618516e7edfc",
   "metadata": {},
   "outputs": [],
   "source": [
    "activation2 = Activation_Softmax()"
   ]
  },
  {
   "cell_type": "code",
   "execution_count": 11,
   "id": "ed01022e-0b50-4b00-9e83-fcee6c12ef46",
   "metadata": {},
   "outputs": [],
   "source": [
    "dense1.forward(X)"
   ]
  },
  {
   "cell_type": "code",
   "execution_count": 12,
   "id": "154a7244-7236-45b1-bb7a-6f4748d382fd",
   "metadata": {},
   "outputs": [],
   "source": [
    "activation1.forward(dense1.outputs)"
   ]
  },
  {
   "cell_type": "code",
   "execution_count": 13,
   "id": "cb421575-7122-497b-87a5-19933e157a3e",
   "metadata": {},
   "outputs": [],
   "source": [
    "dense2.forward(activation1.output)"
   ]
  },
  {
   "cell_type": "code",
   "execution_count": 14,
   "id": "9a08f7f9-e6c6-4c7d-8b07-d3ed7f566041",
   "metadata": {},
   "outputs": [],
   "source": [
    "activation2.forward(dense2.outputs)"
   ]
  },
  {
   "cell_type": "code",
   "execution_count": 15,
   "id": "d31cc048-9966-4f65-8ff1-c2d04cce1977",
   "metadata": {},
   "outputs": [
    {
     "name": "stdout",
     "output_type": "stream",
     "text": [
      "[[0.33333333 0.33333333 0.33333333]\n",
      " [0.33333351 0.33333332 0.33333317]\n",
      " [0.33333324 0.33333312 0.33333364]\n",
      " [0.33333333 0.33333333 0.33333333]\n",
      " [0.3333332  0.33333302 0.33333379]]\n"
     ]
    }
   ],
   "source": [
    "print(activation2.output[:5])"
   ]
  },
  {
   "cell_type": "code",
   "execution_count": 16,
   "id": "ea39bd98-b7b0-4db8-a21b-d82af9671ae4",
   "metadata": {},
   "outputs": [],
   "source": [
    "loss_function = CategoricalCrossentropy_Loss()\n",
    "loss = loss_function.calculate(activation2.output, y)"
   ]
  },
  {
   "cell_type": "code",
   "execution_count": 17,
   "id": "46c2a1bc-cec5-412b-a4e3-f07a0e87f9f0",
   "metadata": {},
   "outputs": [
    {
     "name": "stdout",
     "output_type": "stream",
     "text": [
      "Loss:  1.0986187134594085\n"
     ]
    }
   ],
   "source": [
    "print(\"Loss: \", loss)"
   ]
  },
  {
   "cell_type": "code",
   "execution_count": 18,
   "id": "899cd879-1b69-4ccb-b62c-fa9abc94cbb9",
   "metadata": {},
   "outputs": [],
   "source": [
    "predictions = np.argmax(activation2.output, axis=1)"
   ]
  },
  {
   "cell_type": "code",
   "execution_count": 19,
   "id": "147d20d8-7ae0-4458-bd23-173f6b394f68",
   "metadata": {},
   "outputs": [],
   "source": [
    "if len(y.shape) == 2:\n",
    "    y = np.argmax(y, axis=1)"
   ]
  },
  {
   "cell_type": "code",
   "execution_count": 20,
   "id": "2a76dc11-a2ad-44b7-970a-99a50531752f",
   "metadata": {},
   "outputs": [],
   "source": [
    "accuracy = np.mean(predictions == y)"
   ]
  },
  {
   "cell_type": "code",
   "execution_count": 21,
   "id": "4ad92bbb-af45-459a-8d0b-98f075d4d1d0",
   "metadata": {},
   "outputs": [
    {
     "name": "stdout",
     "output_type": "stream",
     "text": [
      "Accuracy:  0.30666666666666664\n"
     ]
    }
   ],
   "source": [
    "print('Accuracy: ', accuracy)"
   ]
  }
 ],
 "metadata": {
  "kernelspec": {
   "display_name": "Python 3",
   "language": "python",
   "name": "python3"
  },
  "language_info": {
   "codemirror_mode": {
    "name": "ipython",
    "version": 3
   },
   "file_extension": ".py",
   "mimetype": "text/x-python",
   "name": "python",
   "nbconvert_exporter": "python",
   "pygments_lexer": "ipython3",
   "version": "3.8.5"
  },
  "toc-autonumbering": false
 },
 "nbformat": 4,
 "nbformat_minor": 5
}
