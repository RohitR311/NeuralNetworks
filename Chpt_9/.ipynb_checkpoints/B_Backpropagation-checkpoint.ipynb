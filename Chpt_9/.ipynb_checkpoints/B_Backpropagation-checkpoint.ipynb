{
 "cells": [
  {
   "cell_type": "markdown",
   "id": "f1c39621-c4ba-4f02-92ff-24ec7d9ce8df",
   "metadata": {},
   "source": [
    "# Basic Backpropagation (Chain Rule)"
   ]
  },
  {
   "cell_type": "markdown",
   "id": "1493db03-0b7e-4783-9a29-aa731c2bfd39",
   "metadata": {},
   "source": [
    "# Single Neuron "
   ]
  },
  {
   "cell_type": "code",
   "execution_count": 1,
   "id": "edf8d8c7-f1cf-41ab-b512-4735aad09dad",
   "metadata": {},
   "outputs": [],
   "source": [
    "x = [-1.0, 2.0, -3.0]\n",
    "w = [6.0, 8.0, -2.0]\n",
    "b = 1.0"
   ]
  },
  {
   "cell_type": "code",
   "execution_count": 2,
   "id": "79a2c5e3-f247-4191-ab2f-209de4d26c69",
   "metadata": {},
   "outputs": [],
   "source": [
    "xw0 = x[0] * w[0]\n",
    "xw1 = x[1] * w[1]\n",
    "xw2 = x[2] * w[2]"
   ]
  },
  {
   "cell_type": "code",
   "execution_count": 3,
   "id": "d9eb3f9b-8713-46b6-803c-9b17d5acc93f",
   "metadata": {},
   "outputs": [],
   "source": [
    "z = xw0 + xw1 + xw2 + b"
   ]
  },
  {
   "cell_type": "code",
   "execution_count": 4,
   "id": "eb36f3fa-d5eb-45c2-9e15-b3e25c530e49",
   "metadata": {},
   "outputs": [
    {
     "name": "stdout",
     "output_type": "stream",
     "text": [
      "17.0\n"
     ]
    }
   ],
   "source": [
    "y = max(z, 0)\n",
    "print(y)"
   ]
  },
  {
   "cell_type": "code",
   "execution_count": 5,
   "id": "bd1588dc-ba2b-403e-a461-b4208ab0d11c",
   "metadata": {},
   "outputs": [],
   "source": [
    "dvalue = 1.0  # derivative of further layers"
   ]
  },
  {
   "cell_type": "code",
   "execution_count": 6,
   "id": "fe9f4792-7386-4ebb-8501-e516f17be2bb",
   "metadata": {},
   "outputs": [
    {
     "name": "stdout",
     "output_type": "stream",
     "text": [
      "1.0\n"
     ]
    }
   ],
   "source": [
    "drelu_dz = dvalue * (1.0 if z > 0 else 0)\n",
    "print(drelu_dz)"
   ]
  },
  {
   "cell_type": "markdown",
   "id": "d81641f5-857c-4b41-955a-c55f1826c6c5",
   "metadata": {},
   "source": [
    "## Summation:\n",
    "### f(x, y) = x + y --> $\\frac{\\partial \\mathbf{f(x,y)}}{\\partial x}$ = $\\frac{\\partial \\mathbf{f(x,y)}}{\\partial y}$ = 1"
   ]
  },
  {
   "cell_type": "markdown",
   "id": "c0e34c92-5ace-4f1b-903a-9ab64d8c09c1",
   "metadata": {},
   "source": [
    "## Multiplication\n",
    "### f(x, y) = x.y --> $\\frac{\\partial \\mathbf{f(x,y)}}{\\partial x}$ = x\n",
    "### &emsp; &emsp; &emsp; &emsp; &emsp; &ensp; $\\frac{\\partial \\mathbf{f(x,y)}}{\\partial y}$ = y"
   ]
  },
  {
   "cell_type": "code",
   "execution_count": 7,
   "id": "6d0a6086-4446-40aa-afb3-f3a90ec0f777",
   "metadata": {},
   "outputs": [
    {
     "name": "stdout",
     "output_type": "stream",
     "text": [
      "1.0 1.0 1.0 1.0\n"
     ]
    }
   ],
   "source": [
    "dsum_dxw0 = 1\n",
    "dsum_dxw1 = 1\n",
    "dsum_dxw2 = 1\n",
    "dsum_db = 1\n",
    "drelu_dxw0 = drelu_dz * dsum_dxw0\n",
    "drelu_dxw1 = drelu_dz * dsum_dxw1\n",
    "drelu_dxw2 = drelu_dz * dsum_dxw2\n",
    "drelu_db = drelu_dz * dsum_db\n",
    "print(drelu_dxw0, drelu_dxw1, drelu_dxw2, drelu_db)"
   ]
  },
  {
   "cell_type": "code",
   "execution_count": 8,
   "id": "9c58a169-288a-4d68-b7b9-987d90776712",
   "metadata": {},
   "outputs": [
    {
     "name": "stdout",
     "output_type": "stream",
     "text": [
      "6.0 -1.0 8.0 2.0 -2.0 -3.0\n"
     ]
    }
   ],
   "source": [
    "dmul_dx0 = w[0]\n",
    "dmul_dx1 = w[1]\n",
    "dmul_dx2 = w[2]\n",
    "dmul_dw0 = x[0]\n",
    "dmul_dw1 = x[1]\n",
    "dmul_dw2 = x[2]\n",
    "drelu_dx0 = drelu_dxw0 * dmul_dx0\n",
    "drelu_dw0 = drelu_dxw0 * dmul_dw0\n",
    "drelu_dx1 = drelu_dxw1 * dmul_dx1\n",
    "drelu_dw1 = drelu_dxw1 * dmul_dw1\n",
    "drelu_dx2 = drelu_dxw2 * dmul_dx2\n",
    "drelu_dw2 = drelu_dxw2 * dmul_dw2\n",
    "print(drelu_dx0, drelu_dw0, drelu_dx1, drelu_dw1, drelu_dx2, drelu_dw2)"
   ]
  },
  {
   "cell_type": "markdown",
   "id": "92e125ad-fae6-43f9-9bae-1e9819d40276",
   "metadata": {},
   "source": [
    "## Simplification"
   ]
  },
  {
   "cell_type": "code",
   "execution_count": 9,
   "id": "45a0df74-783d-484a-8cc6-b0c0ddfc5b07",
   "metadata": {},
   "outputs": [
    {
     "name": "stdout",
     "output_type": "stream",
     "text": [
      "6.0 -1.0 8.0 2.0 -2.0 -3.0\n"
     ]
    }
   ],
   "source": [
    "drelu_dx0 = dvalue * (1.0 if z > 0 else 0) * w[0]\n",
    "drelu_dx1 = dvalue * (1.0 if z > 0 else 0) * w[1]\n",
    "drelu_dx2 = dvalue * (1.0 if z > 0 else 0) * w[2]\n",
    "drelu_dw0 = dvalue * (1.0 if z > 0 else 0) * x[0]\n",
    "drelu_dw1 = dvalue * (1.0 if z > 0 else 0) * x[1]\n",
    "drelu_dw2 = dvalue * (1.0 if z > 0 else 0) * x[2]\n",
    "print(drelu_dx0, drelu_dw0, drelu_dx1, drelu_dw1, drelu_dx2, drelu_dw2)"
   ]
  },
  {
   "cell_type": "markdown",
   "id": "3ac29979-ed1a-42bd-af93-c7749ee51433",
   "metadata": {},
   "source": [
    "## Gradients "
   ]
  },
  {
   "cell_type": "code",
   "execution_count": 10,
   "id": "e0357c07-a61e-44e8-9380-ef8f1f88f5ea",
   "metadata": {},
   "outputs": [],
   "source": [
    "dx = [drelu_dx0, drelu_dx1, drelu_dx2]\n",
    "dw = [drelu_dw0, drelu_dw1, drelu_dw2]\n",
    "db = drelu_db"
   ]
  },
  {
   "cell_type": "code",
   "execution_count": 11,
   "id": "f984d51d-004e-46a5-b81d-f3e58319d363",
   "metadata": {},
   "outputs": [
    {
     "name": "stdout",
     "output_type": "stream",
     "text": [
      "[6.0, 8.0, -2.0] [-1.0, 2.0, -3.0] 1.0\n"
     ]
    }
   ],
   "source": [
    "print(dx, dw, db)"
   ]
  },
  {
   "cell_type": "markdown",
   "id": "8c94d96f-cf8b-49cf-afcc-2105b2d12b9d",
   "metadata": {},
   "source": [
    "## Optimization Demo "
   ]
  },
  {
   "cell_type": "code",
   "execution_count": 12,
   "id": "7eed2e4a-4cea-45eb-8aef-facecf1794b8",
   "metadata": {},
   "outputs": [
    {
     "name": "stdout",
     "output_type": "stream",
     "text": [
      "[6.0, 8.0, -2.0] 1.0\n"
     ]
    }
   ],
   "source": [
    "print(w, b)"
   ]
  },
  {
   "cell_type": "code",
   "execution_count": 13,
   "id": "c1aee176-11fc-4d63-9bf7-548d9d9da6c7",
   "metadata": {},
   "outputs": [],
   "source": [
    "w[0] += -0.001 * dw[0]\n",
    "w[1] += -0.001 * dw[1]\n",
    "w[2] += -0.001 * dw[2]\n",
    "b += -0.001 * db"
   ]
  },
  {
   "cell_type": "code",
   "execution_count": 14,
   "id": "2baace65-6c15-4d88-9993-25d8dccba07d",
   "metadata": {},
   "outputs": [
    {
     "name": "stdout",
     "output_type": "stream",
     "text": [
      "[6.001, 7.998, -1.997] 0.999\n"
     ]
    }
   ],
   "source": [
    "print(w, b)"
   ]
  },
  {
   "cell_type": "markdown",
   "id": "b2c0eca1-188e-48b6-bd2f-c9541e7277c2",
   "metadata": {},
   "source": [
    "### forward pass (updated weights and biases)"
   ]
  },
  {
   "cell_type": "code",
   "execution_count": 15,
   "id": "8fdf5ebd-4400-42d0-a9bd-0e701949bbdf",
   "metadata": {},
   "outputs": [],
   "source": [
    "xw0 = x[0] * w[0]\n",
    "xw1 = x[1] * w[1]\n",
    "xw2 = x[2] * w[2]"
   ]
  },
  {
   "cell_type": "code",
   "execution_count": 16,
   "id": "27fa67f4-d71d-48ec-bafb-fec6fd32c9db",
   "metadata": {},
   "outputs": [],
   "source": [
    "z = xw0 +xw1 +xw2 + b"
   ]
  },
  {
   "cell_type": "code",
   "execution_count": 17,
   "id": "738b792f-6f3b-4331-a4ec-f34cfa1ba848",
   "metadata": {},
   "outputs": [
    {
     "name": "stdout",
     "output_type": "stream",
     "text": [
      "16.985\n"
     ]
    }
   ],
   "source": [
    "y = max(z, 0)\n",
    "print(y)"
   ]
  }
 ],
 "metadata": {
  "kernelspec": {
   "display_name": "Python 3",
   "language": "python",
   "name": "python3"
  },
  "language_info": {
   "codemirror_mode": {
    "name": "ipython",
    "version": 3
   },
   "file_extension": ".py",
   "mimetype": "text/x-python",
   "name": "python",
   "nbconvert_exporter": "python",
   "pygments_lexer": "ipython3",
   "version": "3.8.5"
  }
 },
 "nbformat": 4,
 "nbformat_minor": 5
}
