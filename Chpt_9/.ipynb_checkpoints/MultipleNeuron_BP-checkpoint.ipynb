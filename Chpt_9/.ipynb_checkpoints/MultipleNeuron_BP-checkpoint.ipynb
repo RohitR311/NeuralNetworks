{
 "cells": [
  {
   "cell_type": "markdown",
   "id": "8e674ae3-2111-4ef9-a7b2-5a19d63f1b7b",
   "metadata": {},
   "source": [
    "# Basic Backpropagation (Chain rule) "
   ]
  },
  {
   "cell_type": "markdown",
   "id": "0d5f0e3d-08b4-405e-9627-f2aa1dc483ac",
   "metadata": {},
   "source": [
    "## Multiple Neurons (Full Code)"
   ]
  },
  {
   "cell_type": "markdown",
   "id": "140103a1-365d-441f-9a45-8590558e42f9",
   "metadata": {},
   "source": [
    "### Batch of samples "
   ]
  },
  {
   "cell_type": "code",
   "execution_count": 1,
   "id": "9bca4fd4-ec0e-47d1-92b1-8aa41de7a41c",
   "metadata": {},
   "outputs": [],
   "source": [
    "import numpy as np"
   ]
  },
  {
   "cell_type": "code",
   "execution_count": 2,
   "id": "625d8e1f-1e27-469f-bb4b-1403981fa0e0",
   "metadata": {},
   "outputs": [],
   "source": [
    "dvalues = np.array([[1.0, 1.0, 1.0], [2.0, 2.0, 2.0], [3.0, 3.0, 3.0]])"
   ]
  },
  {
   "cell_type": "code",
   "execution_count": 3,
   "id": "ed35b670-b3a7-44a3-814d-18c49675c82f",
   "metadata": {},
   "outputs": [
    {
     "name": "stdout",
     "output_type": "stream",
     "text": [
      "[[-0.06659001  1.11261673  0.52279547  1.87151526]\n",
      " [ 1.47547598  0.10325425  0.997464   -1.17027453]\n",
      " [-3.17980051  0.65398006 -0.28901811  0.52079917]]\n"
     ]
    }
   ],
   "source": [
    "inputs = np.random.randn(3, 4)\n",
    "print(inputs)"
   ]
  },
  {
   "cell_type": "code",
   "execution_count": 4,
   "id": "6a6c9a13-79d6-4bfc-8c29-dc986cb67f0a",
   "metadata": {},
   "outputs": [
    {
     "name": "stdout",
     "output_type": "stream",
     "text": [
      "[-0.61206289  1.19032697 -0.2982999 ]\n"
     ]
    }
   ],
   "source": [
    "weights = np.random.randn(3, 4).T\n",
    "print(weights[0])"
   ]
  },
  {
   "cell_type": "code",
   "execution_count": 5,
   "id": "a24e7ad1-5ee3-4ee6-82ad-c1d2b095fbd8",
   "metadata": {},
   "outputs": [],
   "source": [
    "biases = np.array([[2, 3, 0.5]])"
   ]
  },
  {
   "cell_type": "markdown",
   "id": "c070b4c4-0331-4577-b9a8-8eba87c329d5",
   "metadata": {},
   "source": [
    "#### Forward pass "
   ]
  },
  {
   "cell_type": "code",
   "execution_count": 6,
   "id": "bce4ee5f-8113-4fa8-8176-fcf117d462c2",
   "metadata": {},
   "outputs": [],
   "source": [
    "layer_outputs = np.dot(inputs, weights) + biases\n",
    "relu_outputs = np.maximum(0, layer_outputs)"
   ]
  },
  {
   "cell_type": "markdown",
   "id": "afa5eabb-1280-452f-9a16-f0545bac82b6",
   "metadata": {},
   "source": [
    "#### Backward pass"
   ]
  },
  {
   "cell_type": "code",
   "execution_count": 7,
   "id": "81445975-16e8-43bb-ba4d-8b4f1efe8aef",
   "metadata": {},
   "outputs": [],
   "source": [
    "drelu = relu_outputs.copy()\n",
    "drelu[layer_outputs <= 0] = 0"
   ]
  },
  {
   "cell_type": "markdown",
   "id": "103508e4-a521-42b2-a8a4-a2847d6a7236",
   "metadata": {},
   "source": [
    "#### Derivatives"
   ]
  },
  {
   "cell_type": "code",
   "execution_count": 8,
   "id": "e3c02c85-0820-44ce-826f-97cb9bfe32dd",
   "metadata": {},
   "outputs": [],
   "source": [
    "dinputs = np.dot(drelu, weights.T)\n",
    "dweights = np.dot(inputs.T, drelu)\n",
    "dbiases = np.sum(drelu, axis=0, keepdims=True)"
   ]
  },
  {
   "cell_type": "markdown",
   "id": "ce17fb8e-a83a-4273-b154-a2d0c39be070",
   "metadata": {},
   "source": [
    "#### Update parameters"
   ]
  },
  {
   "cell_type": "code",
   "execution_count": 9,
   "id": "f570f997-8d5d-440f-914e-5ee94823903a",
   "metadata": {},
   "outputs": [],
   "source": [
    "weights += -0.001 * dweights\n",
    "biases += -0.001 * dbiases"
   ]
  },
  {
   "cell_type": "code",
   "execution_count": 10,
   "id": "0f63d5c8-9fb5-418b-8caf-5960a46b4144",
   "metadata": {},
   "outputs": [
    {
     "name": "stdout",
     "output_type": "stream",
     "text": [
      "[[-0.59765453  1.18130449 -0.29925353]\n",
      " [-0.26218328 -0.53607461 -0.03115349]\n",
      " [-1.70819412  1.2706868   1.22802498]\n",
      " [ 0.42569946 -0.21581957 -0.72865013]]\n",
      "[[1.99383566 2.99118026 0.49716869]]\n"
     ]
    }
   ],
   "source": [
    "print(weights)\n",
    "print(biases)"
   ]
  }
 ],
 "metadata": {
  "kernelspec": {
   "display_name": "Python 3",
   "language": "python",
   "name": "python3"
  },
  "language_info": {
   "codemirror_mode": {
    "name": "ipython",
    "version": 3
   },
   "file_extension": ".py",
   "mimetype": "text/x-python",
   "name": "python",
   "nbconvert_exporter": "python",
   "pygments_lexer": "ipython3",
   "version": "3.8.5"
  }
 },
 "nbformat": 4,
 "nbformat_minor": 5
}
