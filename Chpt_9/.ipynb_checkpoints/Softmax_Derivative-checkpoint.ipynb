{
 "cells": [
  {
   "cell_type": "markdown",
   "id": "9a678e65-0f14-48cc-818b-071d85f5db1a",
   "metadata": {
    "tags": []
   },
   "source": [
    "# Softmax activation derivative"
   ]
  },
  {
   "cell_type": "code",
   "execution_count": 1,
   "id": "e510b7c4-17ec-4ffa-9c17-40f709515525",
   "metadata": {},
   "outputs": [],
   "source": [
    "import numpy as np"
   ]
  },
  {
   "cell_type": "code",
   "execution_count": 2,
   "id": "c01c4dc0-f07a-4104-9828-4a72401f4002",
   "metadata": {},
   "outputs": [],
   "source": [
    "softmax_output = [0.7, 0.1, 0.2]"
   ]
  },
  {
   "cell_type": "code",
   "execution_count": 3,
   "id": "acefe0c3-fbc3-486c-8e31-252eba121697",
   "metadata": {},
   "outputs": [
    {
     "name": "stdout",
     "output_type": "stream",
     "text": [
      "[[0.7]\n",
      " [0.1]\n",
      " [0.2]]\n"
     ]
    }
   ],
   "source": [
    "softmax_output = np.array(softmax_output).reshape(-1, 1)\n",
    "print(softmax_output)"
   ]
  },
  {
   "cell_type": "code",
   "execution_count": 4,
   "id": "95cfe283-8fdb-4226-99e5-3658e514bea4",
   "metadata": {},
   "outputs": [
    {
     "name": "stdout",
     "output_type": "stream",
     "text": [
      "[[0.7 0.  0. ]\n",
      " [0.  0.1 0. ]\n",
      " [0.  0.  0.2]]\n"
     ]
    }
   ],
   "source": [
    "print(softmax_output * np.eye(softmax_output.shape[0]))"
   ]
  },
  {
   "cell_type": "markdown",
   "id": "9e90ea1f-4ce2-4a55-a867-497689e32a25",
   "metadata": {},
   "source": [
    "## OR"
   ]
  },
  {
   "cell_type": "code",
   "execution_count": 5,
   "id": "32c62877-5a06-4efe-918b-681863d11d87",
   "metadata": {},
   "outputs": [
    {
     "name": "stdout",
     "output_type": "stream",
     "text": [
      "[[0.7 0.  0. ]\n",
      " [0.  0.1 0. ]\n",
      " [0.  0.  0.2]]\n"
     ]
    }
   ],
   "source": [
    "print(np.diagflat(softmax_output))"
   ]
  },
  {
   "cell_type": "code",
   "execution_count": 6,
   "id": "aaa90af9-d8ba-4837-9e30-94743c4a4534",
   "metadata": {},
   "outputs": [
    {
     "name": "stdout",
     "output_type": "stream",
     "text": [
      "[[0.49 0.07 0.14]\n",
      " [0.07 0.01 0.02]\n",
      " [0.14 0.02 0.04]]\n"
     ]
    }
   ],
   "source": [
    "print(np.dot(softmax_output, softmax_output.T))"
   ]
  },
  {
   "cell_type": "code",
   "execution_count": 7,
   "id": "03e5af10-e9fc-4153-87a7-262f73d62964",
   "metadata": {},
   "outputs": [
    {
     "name": "stdout",
     "output_type": "stream",
     "text": [
      "[[ 0.21 -0.07 -0.14]\n",
      " [-0.07  0.09 -0.02]\n",
      " [-0.14 -0.02  0.16]]\n"
     ]
    }
   ],
   "source": [
    "print(np.diagflat(softmax_output) - np.dot(softmax_output, softmax_output.T))"
   ]
  }
 ],
 "metadata": {
  "kernelspec": {
   "display_name": "Python 3",
   "language": "python",
   "name": "python3"
  },
  "language_info": {
   "codemirror_mode": {
    "name": "ipython",
    "version": 3
   },
   "file_extension": ".py",
   "mimetype": "text/x-python",
   "name": "python",
   "nbconvert_exporter": "python",
   "pygments_lexer": "ipython3",
   "version": "3.8.5"
  }
 },
 "nbformat": 4,
 "nbformat_minor": 5
}
