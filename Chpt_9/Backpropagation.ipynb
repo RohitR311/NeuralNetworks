{
 "cells": [
  {
   "cell_type": "markdown",
   "id": "8e846cec-58dd-46c0-96c3-342008e822fb",
   "metadata": {},
   "source": [
    "# Backpropagation (Full Code)"
   ]
  },
  {
   "cell_type": "code",
   "execution_count": 2,
   "id": "cc0a5f88-8fde-4869-bcbf-6737ce6f5a1d",
   "metadata": {},
   "outputs": [],
   "source": [
    "import numpy as np\n",
    "import nnfs\n",
    "from nnfs.datasets import spiral_data"
   ]
  },
  {
   "cell_type": "code",
   "execution_count": 3,
   "id": "5cb25d69-5cb8-4625-86dc-3c46afe3be33",
   "metadata": {},
   "outputs": [],
   "source": [
    "nnfs.init()"
   ]
  },
  {
   "cell_type": "code",
   "execution_count": 5,
   "id": "d3eda6b8-c621-4132-afd8-e07925b70f97",
   "metadata": {},
   "outputs": [],
   "source": [
    "%run Backpropagation_Class.ipynb"
   ]
  },
  {
   "cell_type": "code",
   "execution_count": 6,
   "id": "f9afca57-ae4b-4e01-b515-3312cc32c5ee",
   "metadata": {},
   "outputs": [],
   "source": [
    "%run Softmax_Loss.ipynb"
   ]
  },
  {
   "cell_type": "code",
   "execution_count": 7,
   "id": "7bf18eec-6f62-4551-8577-051b9ee26357",
   "metadata": {},
   "outputs": [],
   "source": [
    "X, y = spiral_data(samples=100, classes=3)"
   ]
  },
  {
   "cell_type": "code",
   "execution_count": 8,
   "id": "e35cc91d-3e98-4f9d-a9f9-4b018f34816d",
   "metadata": {},
   "outputs": [],
   "source": [
    "dense1 = Layer_Dense(2, 3)\n",
    "activation1 = Activation_ReLU()\n",
    "dense2 = Layer_Dense(3, 3)\n",
    "loss_activation = Activation_Softmax_Loss_CategoricalCrossentropy()"
   ]
  },
  {
   "cell_type": "code",
   "execution_count": 10,
   "id": "6b2d44f9-0e86-402b-ab63-36b3b7ab5591",
   "metadata": {},
   "outputs": [],
   "source": [
    "dense1.forward(X)\n",
    "activation1.forward(dense1.outputs)\n",
    "dense2.forward(activation1.output)"
   ]
  },
  {
   "cell_type": "code",
   "execution_count": 11,
   "id": "716e8725-585e-47a3-af3f-862456cafa9e",
   "metadata": {},
   "outputs": [],
   "source": [
    "loss = loss_activation.forward(dense2.outputs, y)"
   ]
  },
  {
   "cell_type": "code",
   "execution_count": 12,
   "id": "eab630bb-8a3a-41c3-a43e-d8cf387ce874",
   "metadata": {},
   "outputs": [
    {
     "name": "stdout",
     "output_type": "stream",
     "text": [
      "[[0.33333334 0.33333334 0.33333334]\n",
      " [0.33333316 0.3333332  0.33333364]\n",
      " [0.33333287 0.3333329  0.33333418]\n",
      " [0.3333326  0.33333263 0.33333477]\n",
      " [0.33333233 0.3333324  0.33333528]]\n",
      "loss: 1.0986104\n"
     ]
    }
   ],
   "source": [
    "print(loss_activation.output[:5])\n",
    "print('loss:', loss)"
   ]
  },
  {
   "cell_type": "code",
   "execution_count": 13,
   "id": "fd39d896-f41e-4dea-a7bc-33c0f7da7d55",
   "metadata": {},
   "outputs": [],
   "source": [
    "predictions = np.argmax(loss_activation.output, axis=1)\n",
    "if len(y.shape) == 2:\n",
    "    y = np.argmax(y, axis=1)\n",
    "accuracy = np.mean(predictions == y)"
   ]
  },
  {
   "cell_type": "code",
   "execution_count": 14,
   "id": "711fad4e-e3c7-4297-b40b-fee615018494",
   "metadata": {},
   "outputs": [
    {
     "name": "stdout",
     "output_type": "stream",
     "text": [
      "acc: 0.34\n"
     ]
    }
   ],
   "source": [
    "print('acc:', accuracy)"
   ]
  },
  {
   "cell_type": "code",
   "execution_count": 15,
   "id": "f5dabeb5-53e1-4c05-8a4e-dd3f0fce34f5",
   "metadata": {},
   "outputs": [],
   "source": [
    "loss_activation.backward(loss_activation.output, y)\n",
    "dense2.backward(loss_activation.dinputs)\n",
    "activation1.backward(dense2.dinputs)\n",
    "dense1.backward(activation1.dinputs)"
   ]
  },
  {
   "cell_type": "code",
   "execution_count": 16,
   "id": "3abf602a-2b25-4129-bdd6-fa9a239d8ac8",
   "metadata": {},
   "outputs": [
    {
     "name": "stdout",
     "output_type": "stream",
     "text": [
      "[[ 1.5766358e-04  7.8368575e-05  4.7324404e-05]\n",
      " [ 1.8161036e-04  1.1045571e-05 -3.3096316e-05]]\n",
      "[[-3.6055347e-04  9.6611722e-05 -1.0367142e-04]]\n",
      "[[ 5.4410957e-05  1.0741142e-04 -1.6182236e-04]\n",
      " [-4.0791339e-05 -7.1678100e-05  1.1246944e-04]\n",
      " [-5.3011299e-05  8.5817286e-05 -3.2805994e-05]]\n",
      "[[-1.0732794e-05 -9.4590941e-06  2.0027626e-05]]\n"
     ]
    }
   ],
   "source": [
    "print(dense1.dweights)\n",
    "print(dense1.dbiases)\n",
    "print(dense2.dweights)\n",
    "print(dense2.dbiases)"
   ]
  }
 ],
 "metadata": {
  "kernelspec": {
   "display_name": "Python 3",
   "language": "python",
   "name": "python3"
  },
  "language_info": {
   "codemirror_mode": {
    "name": "ipython",
    "version": 3
   },
   "file_extension": ".py",
   "mimetype": "text/x-python",
   "name": "python",
   "nbconvert_exporter": "python",
   "pygments_lexer": "ipython3",
   "version": "3.8.5"
  }
 },
 "nbformat": 4,
 "nbformat_minor": 5
}
