{
 "cells": [
  {
   "cell_type": "markdown",
   "id": "fa56123d-aa61-4e1a-91e2-ae245bf53e07",
   "metadata": {},
   "source": [
    "# Basic Backpropagation (Chain rule) "
   ]
  },
  {
   "cell_type": "markdown",
   "id": "f04fca4d-73d2-4cec-bf7d-6715d2ea6cfe",
   "metadata": {},
   "source": [
    "# Multiple Neurons "
   ]
  },
  {
   "cell_type": "markdown",
   "id": "46591e64-2fb8-45be-8c41-1d31738d3ec8",
   "metadata": {},
   "source": [
    "### Single Sample "
   ]
  },
  {
   "cell_type": "code",
   "execution_count": 1,
   "id": "ae37879a-f5d4-4a75-98d4-a72a978d0469",
   "metadata": {},
   "outputs": [],
   "source": [
    "import numpy as np"
   ]
  },
  {
   "cell_type": "code",
   "execution_count": 2,
   "id": "6403cfc9-3310-4411-b953-0ef9f894bd71",
   "metadata": {},
   "outputs": [],
   "source": [
    "dvalues = np.ones((1, 3))"
   ]
  },
  {
   "cell_type": "code",
   "execution_count": 3,
   "id": "fdb2bdfb-f90f-489b-8498-93bb60f8771b",
   "metadata": {},
   "outputs": [
    {
     "name": "stdout",
     "output_type": "stream",
     "text": [
      "[ 1.04481078 -1.72122044 -1.0619461 ]\n"
     ]
    }
   ],
   "source": [
    "weights = np.random.randn(3, 4).T\n",
    "print(weights[0])"
   ]
  },
  {
   "cell_type": "code",
   "execution_count": 4,
   "id": "a8a5dacc-9416-476f-99fb-2f477173ecf4",
   "metadata": {},
   "outputs": [
    {
     "name": "stdout",
     "output_type": "stream",
     "text": [
      "(3,) (4, 3)\n"
     ]
    }
   ],
   "source": [
    "dx0 = sum(weights[0] * dvalues[0])\n",
    "dx1 = sum(weights[1] * dvalues[0])\n",
    "dx2 = sum(weights[2] * dvalues[0])\n",
    "dx3 = sum(weights[3] * dvalues[0])\n",
    "\n",
    "print(dvalues[0].shape, weights.shape)"
   ]
  },
  {
   "cell_type": "markdown",
   "id": "2941db7d-77a1-4486-a768-927bb4580995",
   "metadata": {},
   "source": [
    "#### Derivatives w.r.t Inputs  "
   ]
  },
  {
   "cell_type": "code",
   "execution_count": 5,
   "id": "24146567-0619-4218-ae97-89f16b2a8a86",
   "metadata": {},
   "outputs": [
    {
     "name": "stdout",
     "output_type": "stream",
     "text": [
      "[-1.73835576 -1.26031036 -3.07298364 -1.8827701 ]\n"
     ]
    }
   ],
   "source": [
    "dinputs = np.dot(dvalues[0], weights.T)\n",
    "\n",
    "print(dinputs)"
   ]
  },
  {
   "cell_type": "markdown",
   "id": "f87bb9d8-455e-4e4d-bdec-1d7b299fe4df",
   "metadata": {},
   "source": [
    "### Batch of Samples "
   ]
  },
  {
   "cell_type": "code",
   "execution_count": 6,
   "id": "1d72b7e2-5358-4f99-97ee-727ea5b6498e",
   "metadata": {},
   "outputs": [
    {
     "name": "stdout",
     "output_type": "stream",
     "text": [
      "[[1. 1. 1.]\n",
      " [2. 2. 2.]\n",
      " [3. 3. 3.]]\n"
     ]
    }
   ],
   "source": [
    "dvalues = np.random.randint(-5, 5, (3, 3))\n",
    "dvalues = np.array([[1.0, 1.0, 1.0], [2.0, 2.0, 2.0], [3.0, 3.0, 3.0]])\n",
    "print(dvalues)"
   ]
  },
  {
   "cell_type": "markdown",
   "id": "b101d1f4-12d1-4326-b5c6-186284a0ef93",
   "metadata": {},
   "source": [
    "#### Derivatives w.r.t Inputs "
   ]
  },
  {
   "cell_type": "code",
   "execution_count": 7,
   "id": "fe370d1b-bbf2-4adf-a716-07517f9657db",
   "metadata": {},
   "outputs": [
    {
     "name": "stdout",
     "output_type": "stream",
     "text": [
      "[[-1.73835576 -1.26031036 -3.07298364 -1.8827701 ]\n",
      " [-3.47671151 -2.52062073 -6.14596728 -3.7655402 ]\n",
      " [-5.21506727 -3.78093109 -9.21895092 -5.6483103 ]]\n"
     ]
    }
   ],
   "source": [
    "dinputs = np.dot(dvalues, weights.T)\n",
    "print(dinputs)"
   ]
  },
  {
   "cell_type": "code",
   "execution_count": 8,
   "id": "a25ed6bd-3c05-4923-aae2-175f7f075264",
   "metadata": {},
   "outputs": [
    {
     "name": "stdout",
     "output_type": "stream",
     "text": [
      "[[ 0.13379076 -0.54080681  1.36572556  1.43359551]\n",
      " [ 0.55574981  1.20787588  0.6849298  -1.83143634]\n",
      " [ 0.6653529  -1.06750454  0.074401   -1.11193225]]\n"
     ]
    }
   ],
   "source": [
    "inputs = np.random.randn(3, 4)\n",
    "print(inputs)"
   ]
  },
  {
   "cell_type": "markdown",
   "id": "23d795a1-c320-482d-a840-c6d1937c0140",
   "metadata": {},
   "source": [
    "#### Derivatives w.r.t Weights "
   ]
  },
  {
   "cell_type": "code",
   "execution_count": 9,
   "id": "55d2b256-906c-462b-bc35-43f25f1b5656",
   "metadata": {},
   "outputs": [],
   "source": [
    "dweights = np.dot(inputs.T, dvalues)"
   ]
  },
  {
   "cell_type": "code",
   "execution_count": 10,
   "id": "aaf45d61-c1e8-44ae-8e2c-a3c5cf94753b",
   "metadata": {},
   "outputs": [
    {
     "name": "stdout",
     "output_type": "stream",
     "text": [
      "[[ 3.2413491   3.2413491   3.2413491 ]\n",
      " [-1.32756868 -1.32756868 -1.32756868]\n",
      " [ 2.95878815  2.95878815  2.95878815]\n",
      " [-5.5650739  -5.5650739  -5.5650739 ]]\n"
     ]
    }
   ],
   "source": [
    "print(dweights)"
   ]
  },
  {
   "cell_type": "markdown",
   "id": "73d170d2-d4ef-4a9c-8595-40c5f0f4a668",
   "metadata": {},
   "source": [
    "#### Derivatives w.r.t Biases "
   ]
  },
  {
   "cell_type": "code",
   "execution_count": 11,
   "id": "f43265f0-042c-443b-a404-e270d894a57f",
   "metadata": {},
   "outputs": [],
   "source": [
    "biases = np.array([[2, 3, 0.5]])"
   ]
  },
  {
   "cell_type": "code",
   "execution_count": 12,
   "id": "cc3d93c6-0a3e-4dea-9dc5-fab009cd229c",
   "metadata": {},
   "outputs": [
    {
     "name": "stdout",
     "output_type": "stream",
     "text": [
      "[[6. 6. 6.]]\n"
     ]
    }
   ],
   "source": [
    "dbiases = np.sum(dvalues, axis=0, keepdims=True)\n",
    "print(dbiases)"
   ]
  },
  {
   "cell_type": "markdown",
   "id": "eca05bc0-089d-483d-8fd2-ffe9b4cf95e0",
   "metadata": {},
   "source": [
    "#### Derivatives w.r.t ReLU() "
   ]
  },
  {
   "cell_type": "code",
   "execution_count": 13,
   "id": "1ffe0229-b2af-4a4b-a520-32db19afe8e5",
   "metadata": {},
   "outputs": [
    {
     "name": "stdout",
     "output_type": "stream",
     "text": [
      "[[ 4  4  0  4]\n",
      " [-4 -7 -2 -6]\n",
      " [ 2 -2 -6  1]]\n"
     ]
    }
   ],
   "source": [
    "z = np.random.randint(-8, 5, (3, 4))\n",
    "print(z)"
   ]
  },
  {
   "cell_type": "code",
   "execution_count": 14,
   "id": "278c35f6-396d-4632-b85e-9a30ed659bde",
   "metadata": {},
   "outputs": [
    {
     "name": "stdout",
     "output_type": "stream",
     "text": [
      "[[1 4 0 1]\n",
      " [3 3 4 4]\n",
      " [3 5 2 8]]\n"
     ]
    }
   ],
   "source": [
    "dvalues = np.random.randint(0, 10, (3, 4))\n",
    "print(dvalues)"
   ]
  },
  {
   "cell_type": "code",
   "execution_count": 15,
   "id": "4ec17f0f-8be7-4eab-99bd-e529d6243299",
   "metadata": {},
   "outputs": [
    {
     "name": "stdout",
     "output_type": "stream",
     "text": [
      "[[1 4 0 1]\n",
      " [0 0 0 0]\n",
      " [3 0 0 8]]\n"
     ]
    }
   ],
   "source": [
    "drelu = dvalues.copy()\n",
    "drelu[z <= 0] = 0\n",
    "\n",
    "print(drelu)"
   ]
  }
 ],
 "metadata": {
  "kernelspec": {
   "display_name": "Python 3",
   "language": "python",
   "name": "python3"
  },
  "language_info": {
   "codemirror_mode": {
    "name": "ipython",
    "version": 3
   },
   "file_extension": ".py",
   "mimetype": "text/x-python",
   "name": "python",
   "nbconvert_exporter": "python",
   "pygments_lexer": "ipython3",
   "version": "3.8.5"
  }
 },
 "nbformat": 4,
 "nbformat_minor": 5
}
