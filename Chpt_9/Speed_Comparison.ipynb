{
 "cells": [
  {
   "cell_type": "markdown",
   "id": "dca52908-aac8-4158-94d7-920db31bc7ee",
   "metadata": {},
   "source": [
    "# Speed comparison"
   ]
  },
  {
   "cell_type": "code",
   "execution_count": 1,
   "id": "84d5a25f-27c1-4929-adcd-d5de2b874f00",
   "metadata": {},
   "outputs": [],
   "source": [
    "from timeit import timeit\n",
    "\n",
    "import nnfs\n",
    "import numpy as np"
   ]
  },
  {
   "cell_type": "code",
   "execution_count": 2,
   "id": "0d8ae219-2934-433b-a5cf-8cc586fc82e0",
   "metadata": {},
   "outputs": [],
   "source": [
    "nnfs.init()"
   ]
  },
  {
   "cell_type": "code",
   "execution_count": 3,
   "id": "75543f5a-2da8-48e9-8d20-a7550ffc2f01",
   "metadata": {},
   "outputs": [],
   "source": [
    "%run Softmax_Loss.ipynb"
   ]
  },
  {
   "cell_type": "code",
   "execution_count": 4,
   "id": "f3b64765-c9bf-4611-998b-efc62ae4d607",
   "metadata": {},
   "outputs": [],
   "source": [
    "softmax_outputs = np.array([[0.7, 0.1, 0.2], [0.1, 0.5, 0.4], [0.02, 0.9, 0.08]])\n",
    "class_targets = np.array([0, 1, 1])"
   ]
  },
  {
   "cell_type": "code",
   "execution_count": 5,
   "id": "f699ff32-1edc-433d-9c60-24465e969cda",
   "metadata": {},
   "outputs": [],
   "source": [
    "def f1():\n",
    "    softmax_loss = Activation_Softmax_Loss_CategoricalCrossentropy()\n",
    "    softmax_loss.backward(softmax_outputs, class_targets)\n",
    "    dvalues1 = softmax_loss.dinputs"
   ]
  },
  {
   "cell_type": "code",
   "execution_count": 6,
   "id": "20beb9c4-0e69-433e-bf8e-6a15658f4680",
   "metadata": {},
   "outputs": [],
   "source": [
    "def f2():\n",
    "    activation = Activation_Softmax()\n",
    "    activation.output = softmax_outputs\n",
    "    loss = CategoricalCrossentropy_Loss()\n",
    "    loss.backward(softmax_outputs, class_targets)\n",
    "    activation.backward(loss.dinputs)\n",
    "    dvalues2 = activation.dinputs"
   ]
  },
  {
   "cell_type": "code",
   "execution_count": 8,
   "id": "cb903f30-ea10-41d5-b123-8dd063c6d893",
   "metadata": {},
   "outputs": [
    {
     "name": "stdout",
     "output_type": "stream",
     "text": [
      "4.875994491455498\n"
     ]
    }
   ],
   "source": [
    "t1 = timeit(lambda: f1(), number=10000)\n",
    "t2 = timeit(lambda: f2(), number=10000)\n",
    "print(t2 / t1)"
   ]
  }
 ],
 "metadata": {
  "kernelspec": {
   "display_name": "Python 3",
   "language": "python",
   "name": "python3"
  },
  "language_info": {
   "codemirror_mode": {
    "name": "ipython",
    "version": 3
   },
   "file_extension": ".py",
   "mimetype": "text/x-python",
   "name": "python",
   "nbconvert_exporter": "python",
   "pygments_lexer": "ipython3",
   "version": "3.8.5"
  }
 },
 "nbformat": 4,
 "nbformat_minor": 5
}
